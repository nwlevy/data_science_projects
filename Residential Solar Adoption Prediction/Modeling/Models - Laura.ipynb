{
 "cells": [
  {
   "cell_type": "markdown",
   "metadata": {},
   "source": [
    "# Predicting Solar Panel Adoption - Random Forest Two-Stage Model\n",
    "#### UC Berkeley MIDS\n",
    "`Team: Gabriel Hudson, Noah Levy, Laura Williams`"
   ]
  },
  {
   "cell_type": "markdown",
   "metadata": {},
   "source": [
    "Using the dataset defined in the Data Set Up notebook, train two Random Forest sequential models:\n",
    "* Random Forest Classifier to predict presence or absence of solar panels  \n",
    "* Random Forest Regressor to predict solar panel density and analyize most important predictive features."
   ]
  },
  {
   "cell_type": "code",
   "execution_count": 1,
   "metadata": {
    "collapsed": true
   },
   "outputs": [],
   "source": [
    "# imports\n",
    "import time\n",
    "import pandas as pd\n",
    "import numpy as np\n",
    "import seaborn as sns\n",
    "import matplotlib.pyplot as plt\n",
    "from sklearn.model_selection import KFold\n",
    "from sklearn.model_selection import train_test_split\n",
    "from sklearn.ensemble import RandomForestClassifier\n",
    "from sklearn.ensemble import RandomForestRegressor\n",
    "from sklearn.metrics import r2_score\n",
    "import rfpimp as rfp\n",
    "\n",
    "%matplotlib inline"
   ]
  },
  {
   "cell_type": "code",
   "execution_count": 2,
   "metadata": {
    "collapsed": true
   },
   "outputs": [],
   "source": [
    "# if necessary, install package for calculating feature importances\n",
    "#!pip install rfpimp"
   ]
  },
  {
   "cell_type": "code",
   "execution_count": 3,
   "metadata": {
    "collapsed": true
   },
   "outputs": [],
   "source": [
    "# load curated dataset\n",
    "deepsolar = pd.read_csv('../Datasets/SolarPrediction_Final_Dataset.csv', index_col=0)"
   ]
  },
  {
   "cell_type": "code",
   "execution_count": 4,
   "metadata": {},
   "outputs": [
    {
     "name": "stdout",
     "output_type": "stream",
     "text": [
      "Dataset rows and dimensions: (71305, 59)\n"
     ]
    }
   ],
   "source": [
    "print(\"Dataset rows and dimensions:\", deepsolar.shape)"
   ]
  },
  {
   "cell_type": "markdown",
   "metadata": {},
   "source": [
    "## Pre-process data\n",
    "\n",
    "* Define outcome variables\n",
    "* Split into test/train/dev"
   ]
  },
  {
   "cell_type": "code",
   "execution_count": 5,
   "metadata": {
    "collapsed": true
   },
   "outputs": [],
   "source": [
    "#outcome_var = 'number_of_solar_system_per_household'\n",
    "primary_outcome_variable = 'owner_occupied_solar_system_density'"
   ]
  },
  {
   "cell_type": "code",
   "execution_count": 6,
   "metadata": {
    "collapsed": true
   },
   "outputs": [],
   "source": [
    "# create binary outcome variable for stage 1 RF classifier\n",
    "deepsolar['solar_flag']=deepsolar[primary_outcome_variable].apply(lambda x: int(x>0))"
   ]
  },
  {
   "cell_type": "code",
   "execution_count": 7,
   "metadata": {},
   "outputs": [
    {
     "name": "stdout",
     "output_type": "stream",
     "text": [
      "New binary outcome variable for Stage 1 random forest classifier 'solar_flag' has 2 values: 0 and 1\n"
     ]
    }
   ],
   "source": [
    "# Confirm values in new outcome variable\n",
    "print(\"New binary outcome variable for Stage 1 random forest classifier 'solar_flag' has\", \n",
    "      deepsolar['solar_flag'].nunique(), \"values:\", deepsolar[\"solar_flag\"].min(),\n",
    "      \"and\", deepsolar[\"solar_flag\"].max())"
   ]
  },
  {
   "cell_type": "markdown",
   "metadata": {},
   "source": [
    "Split data into test, training and development sets. Test data will not be used until model and dataset has been optimized on the training and development datasets."
   ]
  },
  {
   "cell_type": "code",
   "execution_count": 8,
   "metadata": {},
   "outputs": [
    {
     "name": "stdout",
     "output_type": "stream",
     "text": [
      "Full featureset shape is (71305, 58)\n",
      "Classifier outcome variable shape: (71305,)\n",
      "Regressor outcome variable shape: (71305,)\n"
     ]
    }
   ],
   "source": [
    "# separate outcome variables and features\n",
    "X = deepsolar.drop(labels=['solar_flag', primary_outcome_variable], axis=1).values\n",
    "Y_classifier = deepsolar['solar_flag'].values\n",
    "Y_regressor = deepsolar[primary_outcome_variable].values\n",
    "print(\"Full featureset shape is\", X.shape)\n",
    "print(\"Classifier outcome variable shape:\", Y_classifier.shape)\n",
    "print(\"Regressor outcome variable shape:\", Y_regressor.shape)"
   ]
  },
  {
   "cell_type": "code",
   "execution_count": 9,
   "metadata": {
    "collapsed": true
   },
   "outputs": [],
   "source": [
    "# split into 80% training and 20% test set, using random shuffle\n",
    "# Keep random seed at 0 so the final test set is always the same\n",
    "X_train, X_test, Y_classifier_train,  Y_classifier_test, \\\n",
    "Y_regressor_train, Y_regressor_test = train_test_split(X, Y_classifier, Y_regressor, \n",
    "                                                       test_size=0.2, random_state=0, shuffle=True)"
   ]
  },
  {
   "cell_type": "code",
   "execution_count": 10,
   "metadata": {},
   "outputs": [
    {
     "name": "stdout",
     "output_type": "stream",
     "text": [
      "Training data shape:               \t(57044, 58)\n",
      "Training outcome variable - classifier:\t(57044,)\n",
      "Training outcome variable - regressor:\t(57044,)\n",
      "Test data shape:                   \t(14261, 58)\n",
      "Test outcome variable - classifier:\t(14261,)\n",
      "Test outcome variable - regressor: \t(14261,)\n"
     ]
    }
   ],
   "source": [
    "print(\"{:<35}\\t{}\".format(\"Training data shape:\", X_train.shape))\n",
    "print(\"{:<35}\\t{}\".format(\"Training outcome variable - classifier:\",Y_classifier_train.shape ))\n",
    "print(\"{:<35}\\t{}\".format(\"Training outcome variable - regressor:\",Y_regressor_train.shape ))\n",
    "print(\"{:<35}\\t{}\".format(\"Test data shape:\", X_test.shape))\n",
    "print(\"{:<35}\\t{}\".format(\"Test outcome variable - classifier:\",Y_classifier_test.shape ))\n",
    "print(\"{:<35}\\t{}\".format(\"Test outcome variable - regressor:\",Y_regressor_test.shape ))"
   ]
  },
  {
   "cell_type": "markdown",
   "metadata": {},
   "source": [
    "If not using cross-validation, create another training and development set from the 80% training set.\n",
    "\n",
    "If using cross-validation, skip ahead to the **Train the model using cross-validation** section."
   ]
  },
  {
   "cell_type": "code",
   "execution_count": 28,
   "metadata": {
    "collapsed": true
   },
   "outputs": [],
   "source": [
    "X_train2, X_dev, \\\n",
    "Y_classifier_train2,  Y_classifier_dev,  \\\n",
    "Y_regressor_train2, Y_regressor_dev = train_test_split(X_train, Y_classifier_train, Y_regressor_train, \n",
    "                                                       test_size=0.2, random_state=None, shuffle=True)"
   ]
  },
  {
   "cell_type": "code",
   "execution_count": 12,
   "metadata": {},
   "outputs": [
    {
     "name": "stdout",
     "output_type": "stream",
     "text": [
      "Training subset and development set created from 80% training set:\n",
      "Training subset data shape:        \t(45635, 105)\n",
      "Training subset outcome variable - classifier:\t(45635,)\n",
      "Training subset outcome variable - regressor:\t(45635,)\n",
      "Dev data shape:                    \t(11409, 105)\n",
      "Dev outcome variable - classifier: \t(11409,)\n",
      "Dev outcome variable - regressor:  \t(11409,)\n"
     ]
    }
   ],
   "source": [
    "# If create training/development subset:\n",
    "print(\"Training subset and development set created from 80% training set:\")\n",
    "print(\"{:<40}\\t{}\".format(\"Training subset data shape:\", X_train2.shape))\n",
    "print(\"{:<40}\\t{}\".format(\"Training subset outcome variable - classifier:\",Y_classifier_train2.shape ))\n",
    "print(\"{:<40}\\t{}\".format(\"Training subset outcome variable - regressor:\",Y_regressor_train2.shape ))\n",
    "print(\"{:<40}\\t{}\".format(\"Dev data shape:\", X_dev.shape))\n",
    "print(\"{:<40}\\t{}\".format(\"Dev outcome variable - classifier:\",Y_classifier_dev.shape ))\n",
    "print(\"{:<40}\\t{}\".format(\"Dev outcome variable - regressor:\",Y_regressor_dev.shape ))\n"
   ]
  },
  {
   "cell_type": "markdown",
   "metadata": {},
   "source": [
    "## Train the model  - no cross-validation\n",
    "This section uses only a single training/develpment data split from the 80% training data"
   ]
  },
  {
   "cell_type": "code",
   "execution_count": 13,
   "metadata": {
    "collapsed": true
   },
   "outputs": [],
   "source": [
    "def train_2stage_model(n, depth, features, \n",
    "                       n_R, depth_R, features_R,\n",
    "                       X_train, Y_classifier_train, Y_regressor_train,\n",
    "                       X_test, Y_classifier_test, Y_regressor_test):\n",
    "    \"\"\"Input: hyperparameters for Stage 1 classifier, hyperparameters for Stage 2 regressor,\n",
    "    training and test data, and training and test outcome variables for both the\n",
    "    classifier and regressor.\n",
    "    Output: classifer model and R squared score, regressor model and R squared score, \n",
    "    combined model R squared score\n",
    "    NOTE: this function takes only one training set and one test set, no cross-validation\"\"\"\n",
    "    # define and fit classifier\n",
    "    classifier = RandomForestClassifier(n_estimators=n, max_depth=depth, max_features=features, n_jobs=1)\n",
    "    classifier.fit(X_train, Y_classifier_train)  \n",
    "    # define and fit regressor\n",
    "    regressor = RandomForestRegressor(n_estimators=n_R, max_depth=depth_R, max_features=features_R, n_jobs=1)\n",
    "    regressor.fit(X_train, Y_regressor_train)\n",
    "    # calculate individual scores\n",
    "    classifier_score = classifier.score(X_test,Y_classifier_test)\n",
    "    regressor_score = regressor.score(X_test,Y_regressor_test)\n",
    "    # calculate combined model scores\n",
    "    classifier_preds=classifier.predict(X_test)\n",
    "    regressor_preds=regressor.predict(X_test)\n",
    "    final_preds=regressor_preds*classifier_preds\n",
    "    combined_score = r2_score(Y_regressor_test,final_preds)\n",
    "    \n",
    "    return classifier, regressor, classifier_score, regressor_score, combined_score\n",
    "    "
   ]
  },
  {
   "cell_type": "code",
   "execution_count": 12,
   "metadata": {
    "collapsed": true
   },
   "outputs": [],
   "source": [
    "# Classifier parameters\n",
    "n = 100\n",
    "depth = None\n",
    "features = 'auto'"
   ]
  },
  {
   "cell_type": "code",
   "execution_count": 13,
   "metadata": {
    "collapsed": true
   },
   "outputs": [],
   "source": [
    "# Regressor parameters\n",
    "n_R = 100\n",
    "depth_R = 15\n",
    "features_R = 'auto'"
   ]
  },
  {
   "cell_type": "code",
   "execution_count": 29,
   "metadata": {},
   "outputs": [
    {
     "name": "stdout",
     "output_type": "stream",
     "text": [
      "Processing time: 6.35 minutes\n"
     ]
    }
   ],
   "source": [
    "# train the full model and report scores using training set and development set\n",
    "start = time.time()\n",
    "classifier, \\\n",
    "regressor, \\\n",
    "classifier_score, \\\n",
    "regressor_score, \\\n",
    "combined_score = train_2stage_model(n, depth, features, \n",
    "                                    n_R, depth_R, features_R,\n",
    "                                    X_train2, Y_classifier_train2, Y_regressor_train2,\n",
    "                                    X_dev, Y_classifier_dev, Y_regressor_dev)\n",
    "print(\"Processing time: {} minutes\".format(round((time.time() - start)/60, 2)))"
   ]
  },
  {
   "cell_type": "code",
   "execution_count": 49,
   "metadata": {},
   "outputs": [
    {
     "name": "stdout",
     "output_type": "stream",
     "text": [
      "Individual classifier R squared is: 0.806819177842\n",
      "Individual regressor R squared is: 0.745984529397\n",
      "Combined final model R squared is: 0.747825123116\n"
     ]
    }
   ],
   "source": [
    "# base dataset (see Data Set Up notebook) - original NOT cross-validated\n",
    "print(\"Individual classifier R squared is:\", classifier_score)\n",
    "print(\"Individual regressor R squared is:\", regressor_score)\n",
    "print(\"Combined final model R squared is:\", combined_score)"
   ]
  },
  {
   "cell_type": "code",
   "execution_count": 67,
   "metadata": {},
   "outputs": [
    {
     "name": "stdout",
     "output_type": "stream",
     "text": [
      "Processing time: 4.2 minutes\n"
     ]
    }
   ],
   "source": [
    "# train the full model and report scores using training set and development set - no geographic features\n",
    "start = time.time()\n",
    "classifier_nogeo, \\\n",
    "regressor_nogeo, \\\n",
    "classifier_score_nogeo, \\\n",
    "regressor_score_nogeo, \\\n",
    "combined_score_nogeo = train_2stage_model(n, depth, features, \n",
    "                                    n_R, depth_R, features_R,\n",
    "                                    X_train, Y_classifier_train, Y_regressor_train,\n",
    "                                    X_dev, Y_classifier_dev, Y_regressor_dev)\n",
    "print(\"Processing time: {} minutes\".format(round((time.time() - start)/60, 2)))"
   ]
  },
  {
   "cell_type": "code",
   "execution_count": 68,
   "metadata": {},
   "outputs": [
    {
     "name": "stdout",
     "output_type": "stream",
     "text": [
      "Individual classifier R squared is: 0.800596020685\n",
      "Individual regressor R squared is: 0.714618183312\n",
      "Combined final model R squared is: 0.715420251887\n"
     ]
    }
   ],
   "source": [
    "# geographic variables removed - NOT cross-validated\n",
    "print(\"Individual classifier R squared is:\", classifier_score_nogeo)\n",
    "print(\"Individual regressor R squared is:\", regressor_score_nogeo)\n",
    "print(\"Combined final model R squared is:\", combined_score_nogeo)"
   ]
  },
  {
   "cell_type": "markdown",
   "metadata": {},
   "source": [
    "## Train the model using cross-validation"
   ]
  },
  {
   "cell_type": "markdown",
   "metadata": {},
   "source": [
    "Set up data splits from the 80% training set for cross-validation testing of models. Use 3 splits with smaller n-estimator hyperparameter for more quickly testing different datasets, use 10 splits for final dataset testing and reporting."
   ]
  },
  {
   "cell_type": "code",
   "execution_count": 68,
   "metadata": {
    "collapsed": true
   },
   "outputs": [],
   "source": [
    "# set up number of splits\n",
    "n_splits = 10\n",
    "# Set random state for testing different datasets against each other, set to None for final testing\n",
    "random_state = None"
   ]
  },
  {
   "cell_type": "code",
   "execution_count": 69,
   "metadata": {
    "collapsed": true
   },
   "outputs": [],
   "source": [
    "kf = KFold(n_splits=n_splits, shuffle=True, random_state=random_state)\n",
    "X_trains=[]\n",
    "X_devs=[]\n",
    "Y_classifier_trains=[]\n",
    "Y_classifier_devs=[]\n",
    "Y_regressor_trains=[]\n",
    "Y_regressor_devs=[]\n",
    "\n",
    "for train_index, test_index in kf.split(X_train):\n",
    "    X_trains.append(X_train[train_index])\n",
    "    X_devs.append(X_train[test_index])\n",
    "    Y_classifier_trains.append(Y_classifier_train[train_index])\n",
    "    Y_classifier_devs.append(Y_classifier_train[test_index])\n",
    "    Y_regressor_trains.append(Y_regressor_train[train_index])\n",
    "    Y_regressor_devs.append(Y_regressor_train[test_index])"
   ]
  },
  {
   "cell_type": "code",
   "execution_count": 70,
   "metadata": {},
   "outputs": [
    {
     "name": "stdout",
     "output_type": "stream",
     "text": [
      "Confirm there are the correct number of splits in each training/dev set:\n",
      "10 10 10 10 10 10\n",
      "Full training dataset size: (57044, 58) Full testing dataset size:\n",
      "Check shape of data subsets:\n",
      "Training set size: (51339, 58)\n",
      "Test set size: (5705, 58)\n",
      "Classifier outcome train size: (51339,)\n",
      "Regressor outcome train size: (51339,)\n",
      "Classifier outcome test size: (5705,)\n",
      "Regressor outcome test size: (5705,)\n"
     ]
    }
   ],
   "source": [
    "print(\"Confirm there are the correct number of splits in each training/dev set:\")\n",
    "print(len(X_trains), len(X_devs), len(Y_classifier_trains), len(Y_classifier_devs), \n",
    "      len(Y_regressor_trains), len(Y_regressor_devs))\n",
    "print(\"Full training dataset size:\", X_train.shape, \"Full testing dataset size:\")\n",
    "print(\"Check shape of data subsets:\")\n",
    "print(\"Training set size:\", X_trains[0].shape)\n",
    "print(\"Test set size:\", X_devs[0].shape)\n",
    "print(\"Classifier outcome train size:\", Y_classifier_trains[0].shape)\n",
    "print(\"Regressor outcome train size:\", Y_regressor_trains[0].shape)\n",
    "print(\"Classifier outcome test size:\", Y_classifier_devs[0].shape) \n",
    "print(\"Regressor outcome test size:\", Y_regressor_devs[0].shape)"
   ]
  },
  {
   "cell_type": "code",
   "execution_count": 71,
   "metadata": {
    "collapsed": true
   },
   "outputs": [],
   "source": [
    "def train_2stage_model_CV(n_splits, n, depth, features, \n",
    "                          n_R, depth_R, features_R,\n",
    "                          outcome_var_name_R, feature_cols,\n",
    "                          X_trains, Y_classifier_trains, Y_regressor_trains,\n",
    "                          X_tests, Y_classifier_tests, Y_regressor_tests):\n",
    "    \"\"\"Model is trained using cross-validation.    \n",
    "    Input: hyperparameters for Stage 1 classifier, hyperparameters for Stage 2 regressor,\n",
    "    dataset splits as created above\n",
    "    Output: classifer, regressor, combined R squared scores and feature importances for each datasplit\n",
    "    \"\"\"\n",
    "    \n",
    "    def important_features(model, feature_cols, outcome_var_name, X_test, Y_test):\n",
    "        \"\"\"Calculate important features from each model from within cross-validation model training\"\"\"\n",
    "        importances = rfp.importances(model, \n",
    "                                      pd.DataFrame(X_test,columns=feature_cols), \n",
    "                                      pd.DataFrame(Y_test,columns=[outcome_var_name]))\n",
    "        return importances\n",
    "    \n",
    "    # initialize variables\n",
    "    classifier_scores = []\n",
    "    regressor_scores = []\n",
    "    combined_scores = []\n",
    "    feature_importances_regressor = []\n",
    "    # train model and record output for each model\n",
    "    for i in range(n_splits):\n",
    "        # define and fit classifier\n",
    "        classifier = RandomForestClassifier(n_estimators=n, max_depth=depth, max_features=features, n_jobs=-1)\n",
    "        classifier.fit(X_trains[i], Y_classifier_trains[i])  \n",
    "        # define and fit regressor\n",
    "        regressor = RandomForestRegressor(n_estimators=n_R, max_depth=depth_R, max_features=features_R, n_jobs=-1)\n",
    "        regressor.fit(X_trains[i], Y_regressor_trains[i])\n",
    "        # calculate individual scores\n",
    "        classifier_score = classifier.score(X_tests[i],Y_classifier_tests[i])\n",
    "        regressor_score = regressor.score(X_tests[i],Y_regressor_tests[i])\n",
    "        # calculate combined model scores\n",
    "        classifier_preds=classifier.predict(X_tests[i])\n",
    "        regressor_preds=regressor.predict(X_tests[i])\n",
    "        final_preds=regressor_preds*classifier_preds\n",
    "        combined_score = r2_score(Y_regressor_tests[i],final_preds)\n",
    "        # add scores to lists\n",
    "        classifier_scores.append(classifier_score)\n",
    "        regressor_scores.append(regressor_score)\n",
    "        combined_scores.append(combined_score)\n",
    "        # calculate feature importance and add to list\n",
    "        importances_regressor = important_features(regressor, feature_cols, outcome_var_name_R, \n",
    "                                         X_tests[i], Y_regressor_tests[i])\n",
    "        feature_importances_regressor.append(importances)\n",
    "        print(\"Finished iteration\", i+1)\n",
    "        \n",
    "    return classifier_scores, regressor_scores, combined_scores, feature_importances_regressor"
   ]
  },
  {
   "cell_type": "markdown",
   "metadata": {},
   "source": [
    "Set hyperparameters"
   ]
  },
  {
   "cell_type": "code",
   "execution_count": 72,
   "metadata": {
    "collapsed": true
   },
   "outputs": [],
   "source": [
    "# Classifier parameters\n",
    "n = 100\n",
    "depth = None\n",
    "features = 'auto'\n",
    "# Regressor parameters\n",
    "n_R = 200\n",
    "depth_R = 30\n",
    "features_R = 'auto'"
   ]
  },
  {
   "cell_type": "code",
   "execution_count": 73,
   "metadata": {
    "collapsed": true
   },
   "outputs": [],
   "source": [
    "# identify regressor outcome variable name\n",
    "outcome_var_name_R = primary_outcome_variable\n",
    "# identify feature names\n",
    "feature_cols = deepsolar.drop(labels=[\"solar_flag\", primary_outcome_variable], axis=1).columns.values"
   ]
  },
  {
   "cell_type": "code",
   "execution_count": 74,
   "metadata": {},
   "outputs": [
    {
     "name": "stdout",
     "output_type": "stream",
     "text": [
      "Finished iteration 1\n",
      "Finished iteration 2\n",
      "Finished iteration 3\n",
      "Finished iteration 4\n",
      "Finished iteration 5\n",
      "Finished iteration 6\n",
      "Finished iteration 7\n",
      "Finished iteration 8\n",
      "Finished iteration 9\n",
      "Finished iteration 10\n",
      "Processing time: 37.48 minutes\n"
     ]
    }
   ],
   "source": [
    "# train the model with cross-validation\n",
    "start = time.time()\n",
    "classifier_scores, \\\n",
    "regressor_scores, \\\n",
    "combined_scores, \\\n",
    "feature_importances_regressor = train_2stage_model_CV(n_splits, \n",
    "                                                      n, depth, features, \n",
    "                                                      n_R, depth_R, features_R,\n",
    "                                                      outcome_var_name_R, feature_cols,\n",
    "                                                      X_trains, Y_classifier_trains, Y_regressor_trains,\n",
    "                                                      X_devs, Y_classifier_devs, Y_regressor_devs)\n",
    "print(\"Processing time: {} minutes\".format(round((time.time() - start)/60, 2)))"
   ]
  },
  {
   "cell_type": "code",
   "execution_count": 70,
   "metadata": {},
   "outputs": [
    {
     "name": "stdout",
     "output_type": "stream",
     "text": [
      "Average classifier R squared is 0.812916407241\n",
      "Average regressor R squared is 0.688336269827\n",
      "Average combined R squared is 0.68896875108\n"
     ]
    }
   ],
   "source": [
    "# 3 fold cross-validation on base dataset (county and state normalized)\n",
    "# parameters: n=100, max_depth = None/15, features=\"auto\"\n",
    "# random state = 5 for comparison with other dataset changes\n",
    "print(\"Average classifier R squared is\", np.array(classifier_scores).mean())\n",
    "print(\"Average regressor R squared is\", np.array(regressor_scores).mean())\n",
    "print(\"Average combined R squared is\", np.array(combined_scores).mean())"
   ]
  },
  {
   "cell_type": "code",
   "execution_count": 146,
   "metadata": {},
   "outputs": [
    {
     "name": "stdout",
     "output_type": "stream",
     "text": [
      "Average classifier R squared is 0.81282874792\n",
      "Average regressor R squared is 0.687007825374\n",
      "Average combined R squared is 0.687837902259\n"
     ]
    }
   ],
   "source": [
    "# 3 fold cross-validation on base dataset - no county or state\n",
    "# parameters: n=100, max_depth = None/15, features=\"auto\"\n",
    "# random state = 5 for comparison with other dataset changes\n",
    "print(\"Average classifier R squared is\", np.array(classifier_scores).mean())\n",
    "print(\"Average regressor R squared is\", np.array(regressor_scores).mean())\n",
    "print(\"Average combined R squared is\", np.array(combined_scores).mean())"
   ]
  },
  {
   "cell_type": "code",
   "execution_count": 133,
   "metadata": {},
   "outputs": [
    {
     "name": "stdout",
     "output_type": "stream",
     "text": [
      "Average classifier R squared is 0.810970533515\n",
      "Average regressor R squared is 0.66893569984\n",
      "Average combined R squared is 0.669840592765\n"
     ]
    }
   ],
   "source": [
    "# 3 fold cross-validation on base dataset - no lon and no lat (retained air temp instead)\n",
    "# parameters: n=100, max_depth = None/15, features=\"auto\"\n",
    "# random state = 5 for comparison with other dataset changes\n",
    "print(\"Average classifier R squared is\", np.array(classifier_scores).mean())\n",
    "print(\"Average regressor R squared is\", np.array(regressor_scores).mean())\n",
    "print(\"Average combined R squared is\", np.array(combined_scores).mean())"
   ]
  },
  {
   "cell_type": "code",
   "execution_count": 68,
   "metadata": {},
   "outputs": [
    {
     "name": "stdout",
     "output_type": "stream",
     "text": [
      "Average classifier R squared is 0.812951480188\n",
      "Average regressor R squared is 0.684629877157\n",
      "Average combined R squared is 0.685429955605\n"
     ]
    }
   ],
   "source": [
    "# 3 fold cross-validation on base dataset without county or state, less variables identified with L1 regularization\n",
    "# parameters: n=100, max_depth = None/15, features=\"auto\"\n",
    "# random state = 5 for comparison with other dataset changes\n",
    "print(\"Average classifier R squared is\", np.array(classifier_scores).mean())\n",
    "print(\"Average regressor R squared is\", np.array(regressor_scores).mean())\n",
    "print(\"Average combined R squared is\", np.array(combined_scores).mean())"
   ]
  },
  {
   "cell_type": "code",
   "execution_count": 56,
   "metadata": {},
   "outputs": [
    {
     "name": "stdout",
     "output_type": "stream",
     "text": [
      "Average classifier R squared is 0.807446873155\n",
      "Average regressor R squared is 0.679719912247\n",
      "Average combined R squared is 0.680918894745\n"
     ]
    }
   ],
   "source": [
    "# 3 fold cross-validation on LW2 with FIPS code used for missing data\n",
    "# tried both forward fill and backward fill on data sorted by fips code\n",
    "# parameters for both: n=100, max_depth = 15, features=\"auto\"\n",
    "# random state = 5 for comparison with other dataset changes\n",
    "print(\"Average classifier R squared is\", np.array(classifier_scores).mean())\n",
    "print(\"Average regressor R squared is\", np.array(regressor_scores).mean())\n",
    "print(\"Average combined R squared is\", np.array(combined_scores).mean())"
   ]
  },
  {
   "cell_type": "code",
   "execution_count": 91,
   "metadata": {},
   "outputs": [
    {
     "name": "stdout",
     "output_type": "stream",
     "text": [
      "Average classifier R squared is 0.808498752731\n",
      "Average regressor R squared is 0.711514828379\n",
      "Average combined R squared is 0.712875631935\n"
     ]
    }
   ],
   "source": [
    "# 3 fold cross-validation on LW2 with updated outcome variable\n",
    "# parameters for both: n=100, max_depth = 15, features=\"auto\"\n",
    "# random state = 5 for comparison with other dataset changes\n",
    "print(\"Average classifier R squared is\", np.array(classifier_scores).mean())\n",
    "print(\"Average regressor R squared is\", np.array(regressor_scores).mean())\n",
    "print(\"Average combined R squared is\", np.array(combined_scores).mean())"
   ]
  },
  {
   "cell_type": "code",
   "execution_count": 100,
   "metadata": {},
   "outputs": [
    {
     "name": "stdout",
     "output_type": "stream",
     "text": [
      "Average classifier R squared is 0.80921742824\n",
      "Average regressor R squared is 0.70844532354\n",
      "Average combined R squared is 0.708942463307\n"
     ]
    }
   ],
   "source": [
    "# 3 fold cross-validation on LW2 with updated outcome variable - test with changed random seed to confirm\n",
    "# parameters for both: n=100, max_depth = 15, features=\"auto\"\n",
    "# random state = None\n",
    "print(\"Average classifier R squared is\", np.array(classifier_scores).mean())\n",
    "print(\"Average regressor R squared is\", np.array(regressor_scores).mean())\n",
    "print(\"Average combined R squared is\", np.array(combined_scores).mean())"
   ]
  },
  {
   "cell_type": "code",
   "execution_count": 126,
   "metadata": {},
   "outputs": [
    {
     "name": "stdout",
     "output_type": "stream",
     "text": [
      "Average classifier R squared is 0.80122367912\n",
      "Average regressor R squared is 0.692052189582\n",
      "Average combined R squared is 0.692930614362\n"
     ]
    }
   ],
   "source": [
    "# 3 fold cross-validation\n",
    "# new outcome variable, old set of L1 feature selection - Stage 4 Experiment\n",
    "# random state = 5\n",
    "print(\"Average classifier R squared is\", np.array(classifier_scores).mean())\n",
    "print(\"Average regressor R squared is\", np.array(regressor_scores).mean())\n",
    "print(\"Average combined R squared is\", np.array(combined_scores).mean())"
   ]
  },
  {
   "cell_type": "code",
   "execution_count": 49,
   "metadata": {},
   "outputs": [
    {
     "name": "stdout",
     "output_type": "stream",
     "text": [
      "Average classifier R squared is 0.807990296405\n",
      "Average regressor R squared is 0.713143909797\n",
      "Average combined R squared is 0.713512879462\n"
     ]
    }
   ],
   "source": [
    "# 3 fold cross-validation on the final dataset  with new outcome variable and re-done L1 feature selection\n",
    "# parameters: n=100, max_depth = 15, features=\"auto\"\n",
    "# random state = None \n",
    "print(\"Average classifier R squared is\", np.array(classifier_scores).mean())\n",
    "print(\"Average regressor R squared is\", np.array(regressor_scores).mean())\n",
    "print(\"Average combined R squared is\", np.array(combined_scores).mean())"
   ]
  },
  {
   "cell_type": "code",
   "execution_count": 55,
   "metadata": {},
   "outputs": [
    {
     "name": "stdout",
     "output_type": "stream",
     "text": [
      "Average classifier R squared is 0.809112312656\n",
      "Average regressor R squared is 0.707829946981\n",
      "Average combined R squared is 0.714020775343\n"
     ]
    }
   ],
   "source": [
    "# 3 fold cross-validation on the final dataset  with new outcome variable and re-done L1 feature selection\n",
    "# parameters: n=100, max_depth = 15, features=\"auto\"\n",
    "# random state = None - second time with same dataset to compare results\n",
    "print(\"Average classifier R squared is\", np.array(classifier_scores).mean())\n",
    "print(\"Average regressor R squared is\", np.array(regressor_scores).mean())\n",
    "print(\"Average combined R squared is\", np.array(combined_scores).mean())"
   ]
  },
  {
   "cell_type": "code",
   "execution_count": 59,
   "metadata": {},
   "outputs": [
    {
     "name": "stdout",
     "output_type": "stream",
     "text": [
      "Individual classifier R squared list is: [0.8071866783523225, 0.80858895705521472, 0.8138475021910605, 0.81454864154250661, 0.81609396914445997, 0.80785413744740531, 0.81065918653576441, 0.8134642356241234, 0.81451612903225812, 0.81679523141654975]\n",
      "Individual regressor R squared list is: [0.60648258633749252, 0.69001530699385683, 0.7420825052523915, 0.73780086812340151, 0.74228606206722048, 0.70921004486187766, 0.73107804200300286, 0.73742803553151015, 0.78223470382946281, 0.60411520417337183]\n",
      "Combined final model R squared list is: [0.60668668317143215, 0.69035212214138042, 0.74194846868567099, 0.73818491442116629, 0.74520305123035047, 0.70971229732601815, 0.73195315886396217, 0.74177691289226999, 0.78248205314729957, 0.60455547234988538]\n"
     ]
    }
   ],
   "source": [
    "# 10-fold cross-validation on base dataset  - no additional feature removed yet\n",
    "# Parameters:  n=100/200, max_depth = None/30, features=\"auto\"\n",
    "print(\"Individual classifier R squared list is:\", classifier_scores)\n",
    "print(\"Individual regressor R squared list is:\", regressor_scores)\n",
    "print(\"Combined final model R squared list is:\", combined_scores)"
   ]
  },
  {
   "cell_type": "code",
   "execution_count": 40,
   "metadata": {},
   "outputs": [
    {
     "name": "stdout",
     "output_type": "stream",
     "text": [
      "Average classifier R squared is 0.812355466834\n",
      "Average regressor R squared is 0.708273335917\n",
      "Average combined R squared is 0.709285513423\n"
     ]
    }
   ],
   "source": [
    "# 10-fold cross-validation on base dataset - no additional features removed yet\n",
    "# Parameters:  n=100/200, max_depth = None/30, features=\"auto\"\n",
    "print(\"Average classifier R squared is\", np.array(classifier_scores).mean())\n",
    "print(\"Average regressor R squared is\", np.array(regressor_scores).mean())\n",
    "print(\"Average combined R squared is\", np.array(combined_scores).mean())"
   ]
  },
  {
   "cell_type": "code",
   "execution_count": 72,
   "metadata": {},
   "outputs": [
    {
     "name": "stdout",
     "output_type": "stream",
     "text": [
      "Individual classifier R squared list is: [0.80823838737949172, 0.80473269062226116, 0.80035056967572304, 0.81630148992112184, 0.82152875175315565, 0.80785413744740531, 0.81784712482468447, 0.80452314165497896, 0.80627629733520334, 0.81223702664796638]\n",
      "Individual regressor R squared list is: [0.76062384999174437, 0.68676174010770952, 0.69633519256160881, 0.74477519541329396, 0.70224510619807112, 0.7477157128142744, 0.65414126173218445, 0.74205820685777624, 0.77486754303857619, 0.7645370598690282]\n",
      "Combined final model R squared list is: [0.76118658402560968, 0.68765641731007343, 0.69973695994544682, 0.76949811840502358, 0.70431784264261887, 0.74803964900034114, 0.65469979190774086, 0.74360349013528149, 0.7752737362854738, 0.76587004144833248]\n"
     ]
    }
   ],
   "source": [
    "# 10-fold cross-validation on final dataset\n",
    "# Parameters for classifier/regressor:  n=100/200, max_depth = None/30, features=\"auto\"\n",
    "print(\"Individual classifier R squared list is:\", classifier_scores)\n",
    "print(\"Individual regressor R squared list is:\", regressor_scores)\n",
    "print(\"Combined final model R squared list is:\", combined_scores)"
   ]
  },
  {
   "cell_type": "code",
   "execution_count": 73,
   "metadata": {},
   "outputs": [
    {
     "name": "stdout",
     "output_type": "stream",
     "text": [
      "Average classifier R squared is 0.809988961726\n",
      "Average regressor R squared is 0.727406086858\n",
      "Average combined R squared is 0.730988263111\n"
     ]
    }
   ],
   "source": [
    "# 10-fold cross-validation on final dataset\n",
    "# Parameters for classifier/regressor:  n=100/200, max_depth = None/30, features=\"auto\"\n",
    "print(\"Average classifier R squared is\", np.array(classifier_scores).mean())\n",
    "print(\"Average regressor R squared is\", np.array(regressor_scores).mean())\n",
    "print(\"Average combined R squared is\", np.array(combined_scores).mean())"
   ]
  },
  {
   "cell_type": "markdown",
   "metadata": {},
   "source": [
    "## Feature Importances from cross-validated model"
   ]
  },
  {
   "cell_type": "markdown",
   "metadata": {},
   "source": [
    "Feature importances in this section are taken from a model trained on the final dataset, with the outcome varible modified by owner occupancy rate and feature selection using linear regression and gradient descent with L1 regularization.  The feature importances are calculated using permutation importance."
   ]
  },
  {
   "cell_type": "markdown",
   "metadata": {},
   "source": [
    "**Regressor feature importances**"
   ]
  },
  {
   "cell_type": "code",
   "execution_count": 78,
   "metadata": {},
   "outputs": [
    {
     "data": {
      "text/plain": [
       "(58, 10)"
      ]
     },
     "execution_count": 78,
     "metadata": {},
     "output_type": "execute_result"
    }
   ],
   "source": [
    "# concatenate feature importances from each split of cross_validation\n",
    "combined_importances = pd.concat(feature_importances_regressor, axis=1, join='inner')\n",
    "# confirm shape\n",
    "combined_importances.shape"
   ]
  },
  {
   "cell_type": "code",
   "execution_count": 66,
   "metadata": {
    "collapsed": true
   },
   "outputs": [],
   "source": [
    "#combined_importances[:5]"
   ]
  },
  {
   "cell_type": "code",
   "execution_count": 81,
   "metadata": {},
   "outputs": [
    {
     "data": {
      "text/plain": [
       "Feature\n",
       "incentive_count_residential            1.264431\n",
       "median_household_income                0.293018\n",
       "lon                                    0.217329\n",
       "voting_2016_dem_percentage             0.152512\n",
       "household_type_family_rate             0.147660\n",
       "population_density                     0.088370\n",
       "relative_humidity                      0.068428\n",
       "education_high_school_graduate_rate    0.059355\n",
       "daily_solar_radiation                  0.055006\n",
       "sales_tax                              0.050273\n",
       "dtype: float64"
      ]
     },
     "execution_count": 81,
     "metadata": {},
     "output_type": "execute_result"
    }
   ],
   "source": [
    "# calculate top 10 average feature importances from all cross-validated splits\n",
    "final_features_regressor = combined_importances.mean(axis=1).sort_values(ascending=False)\n",
    "# update this back to top 10, I wanted to see the bottom 20\n",
    "final_features_regressor[:10]"
   ]
  },
  {
   "cell_type": "markdown",
   "metadata": {},
   "source": [
    "**Plots**"
   ]
  },
  {
   "cell_type": "code",
   "execution_count": 116,
   "metadata": {
    "collapsed": true
   },
   "outputs": [],
   "source": [
    "# choose number of features to show in each plot\n",
    "feature_num = 9\n",
    "feature_index = np.arange(feature_num)"
   ]
  },
  {
   "cell_type": "code",
   "execution_count": 117,
   "metadata": {
    "collapsed": true
   },
   "outputs": [],
   "source": [
    "# set up plot values\n",
    "feature_values = final_features_regressor[:feature_num]\n",
    "feature_names = final_features_regressor[:feature_num].index"
   ]
  },
  {
   "cell_type": "code",
   "execution_count": 118,
   "metadata": {},
   "outputs": [
    {
     "data": {
      "image/png": "[encoded data removed]",
      "text/plain": [
       "<matplotlib.figure.Figure at 0x10ef25898>"
      ]
     },
     "metadata": {},
     "output_type": "display_data"
    }
   ],
   "source": [
    "fig,ax=plt.subplots(figsize=(20,6))\n",
    "ax.bar(feature_index, feature_values, color='sandybrown', width=.9)\n",
    "ax.set_facecolor('white')\n",
    "#ax.set_ylabel(\"Importance\")\n",
    "ax.set_title(\"Regressor Feature Importances Using Permutation Importance\")\n",
    "ax.set_xticks(feature_index)\n",
    "ax.set_xticklabels(feature_names, rotation=40)\n",
    "plt.axhline(0, xmin=.05, xmax=.95, color='sandybrown', linewidth=4)\n",
    "plt.show()"
   ]
  },
  {
   "cell_type": "markdown",
   "metadata": {},
   "source": [
    "## Feature Importances without cross-validation"
   ]
  },
  {
   "cell_type": "markdown",
   "metadata": {},
   "source": [
    "The feature importances in this section were calculated on a dataset with a different outcome variable and before feature selection using linear regression with L1 regularization."
   ]
  },
  {
   "cell_type": "markdown",
   "metadata": {},
   "source": [
    "### Classifier Feature Importances\n",
    "\n",
    "Permutation importances are expected to return more accurate feature importances due to its underlying calculations.  Standard sklearn feature importances are also calculated as a comparison"
   ]
  },
  {
   "cell_type": "markdown",
   "metadata": {},
   "source": [
    "Classifier permutation importances for base dataset (see Data Set Up notebook)"
   ]
  },
  {
   "cell_type": "code",
   "execution_count": 50,
   "metadata": {
    "collapsed": true
   },
   "outputs": [],
   "source": [
    "feature_cols = deepsolar.drop(labels=[\"solar_flag\", 'number_of_solar_system_per_household'], axis=1).columns.values"
   ]
  },
  {
   "cell_type": "code",
   "execution_count": 51,
   "metadata": {
    "collapsed": true
   },
   "outputs": [],
   "source": [
    "classifier_importances_permutation = rfp.importances(classifier, \n",
    "                                                     pd.DataFrame(X_dev,columns=feature_cols), \n",
    "                                                     pd.DataFrame(Y_classifier_dev,columns=['solar_flag']))"
   ]
  },
  {
   "cell_type": "code",
   "execution_count": 52,
   "metadata": {},
   "outputs": [
    {
     "name": "stdout",
     "output_type": "stream",
     "text": [
      "Classifier features importances by permutation importance\n",
      "\n",
      "                                     Importance\n",
      "Feature                                        \n",
      "population_density                       0.0214\n",
      "occupation_agriculture_rate              0.0062\n",
      "heating_fuel_coal_coke_rate              0.0040\n",
      "average_household_income                 0.0038\n",
      "transportation_car_alone_rate            0.0038\n",
      "travel_time_40_59_rate                   0.0038\n",
      "travel_time_average                      0.0030\n",
      "property_tax                             0.0030\n",
      "lat                                      0.0030\n",
      "education_high_school_graduate_rate      0.0028\n",
      "lon                                      0.0028\n",
      "incentive_residential_state_level        0.0028\n",
      "age_75_84_rate                           0.0028\n",
      "daily_solar_radiation                    0.0026\n",
      "frost_days                               0.0026\n",
      "education_professional_school_rate       0.0022\n",
      "occupancy_vacant_rate                    0.0022\n",
      "transportation_public_rate               0.0020\n",
      "travel_time_20_29_rate                   0.0020\n",
      "household_type_family_rate               0.0020\n"
     ]
    }
   ],
   "source": [
    "print(\"Classifier features importances by permutation importance\\n\")\n",
    "print(classifier_importances_permutation[:20])"
   ]
  },
  {
   "cell_type": "markdown",
   "metadata": {},
   "source": [
    "Classifier standard gini importances for base dataset"
   ]
  },
  {
   "cell_type": "code",
   "execution_count": 53,
   "metadata": {
    "collapsed": true
   },
   "outputs": [],
   "source": [
    "classifier_importances_standard=pd.DataFrame(classifier.feature_importances_, \n",
    "                                             index=feature_cols, \n",
    "                                             columns=[\"Importance\"]) \\\n",
    "                                  .sort_values(\"Importance\", ascending=False)"
   ]
  },
  {
   "cell_type": "code",
   "execution_count": 54,
   "metadata": {},
   "outputs": [
    {
     "name": "stdout",
     "output_type": "stream",
     "text": [
      "Classifier feature importances by sklearn's gini importance\n",
      "\n",
      "                                Importance\n",
      "population_density                0.064071\n",
      "heating_fuel_coal_coke_rate       0.028027\n",
      "occupancy_vacant_rate             0.021678\n",
      "lon                               0.020007\n",
      "housing_unit_median_value         0.019941\n",
      "race_asian_rate                   0.019636\n",
      "housing_unit_median_gross_rent    0.018014\n",
      "mortgage_with_rate                0.017547\n",
      "relative_humidity                 0.015892\n",
      "education_bachelor_rate           0.015736\n",
      "transportation_car_alone_rate     0.013150\n",
      "travel_time_less_than_10_rate     0.013010\n",
      "average_household_income          0.012693\n",
      "race_white_rate                   0.012612\n",
      "transportation_public_rate        0.012172\n",
      "travel_time_10_19_rate            0.012062\n",
      "number_of_years_of_education      0.011627\n",
      "per_capita_income                 0.011597\n",
      "education_master_rate             0.011419\n",
      "daily_solar_radiation             0.011265\n"
     ]
    }
   ],
   "source": [
    "print(\"Classifier feature importances by sklearn's gini importance\\n\")\n",
    "print(classifier_importances_standard[:20])"
   ]
  },
  {
   "cell_type": "markdown",
   "metadata": {},
   "source": [
    "### Regressor Feature Importances"
   ]
  },
  {
   "cell_type": "markdown",
   "metadata": {},
   "source": [
    "Regressor permutation importances for base dataset"
   ]
  },
  {
   "cell_type": "code",
   "execution_count": 55,
   "metadata": {
    "collapsed": true
   },
   "outputs": [],
   "source": [
    "regressor_importances_permutation = rfp.importances(regressor, \n",
    "                                                    pd.DataFrame(X_dev,columns=feature_cols), \n",
    "                                                    pd.DataFrame(Y_regressor_dev,\n",
    "                                                                 columns=['number_of_solar_system_per_household']))"
   ]
  },
  {
   "cell_type": "code",
   "execution_count": 56,
   "metadata": {},
   "outputs": [
    {
     "name": "stdout",
     "output_type": "stream",
     "text": [
      "Regressor feature importances by permutation importance\n",
      "\n",
      "                                   Importance\n",
      "Feature                                      \n",
      "incentive_count_residential          1.130405\n",
      "lon                                  0.277016\n",
      "daily_solar_radiation                0.166695\n",
      "occupancy_owner_rate                 0.147503\n",
      "voting_2016_dem_percentage           0.087474\n",
      "median_household_income              0.068278\n",
      "population_density                   0.048287\n",
      "household_type_family_rate           0.027957\n",
      "lat                                  0.025149\n",
      "relative_humidity                    0.020517\n",
      "incentive_residential_state_level    0.020043\n",
      "sales_tax                            0.015806\n",
      "heating_fuel_coal_coke_rate          0.013972\n",
      "housing_unit_median_gross_rent       0.013486\n",
      "occupation_agriculture_rate          0.011507\n",
      "housing_unit_median_value            0.009371\n",
      "county                               0.007275\n",
      "electricity_consume_residential      0.006794\n",
      "wind_speed                           0.006554\n",
      "transportation_public_rate           0.006413\n"
     ]
    }
   ],
   "source": [
    "print(\"Regressor feature importances by permutation importance\\n\")\n",
    "print(regressor_importances_permutation[:20])"
   ]
  },
  {
   "cell_type": "markdown",
   "metadata": {},
   "source": [
    "Regressor standard gini importances for base dataset"
   ]
  },
  {
   "cell_type": "code",
   "execution_count": 57,
   "metadata": {
    "collapsed": true
   },
   "outputs": [],
   "source": [
    "regressor_importances_standard=pd.DataFrame(regressor.feature_importances_, \n",
    "                                             index=feature_cols, \n",
    "                                             columns=[\"Importance\"]) \\\n",
    "                                  .sort_values(\"Importance\", ascending=False)"
   ]
  },
  {
   "cell_type": "code",
   "execution_count": 58,
   "metadata": {},
   "outputs": [
    {
     "name": "stdout",
     "output_type": "stream",
     "text": [
      "Regressor feature importances by sklearn's gini importance\n",
      "\n",
      "                                   Importance\n",
      "incentive_count_residential          0.172829\n",
      "occupancy_owner_rate                 0.118718\n",
      "daily_solar_radiation                0.090461\n",
      "median_household_income              0.053300\n",
      "lon                                  0.041521\n",
      "population_density                   0.027376\n",
      "education_college_rate               0.024851\n",
      "housing_unit_median_gross_rent       0.021020\n",
      "household_type_family_rate           0.019904\n",
      "lat                                  0.019698\n",
      "voting_2016_dem_percentage           0.019339\n",
      "occupation_manufacturing_rate        0.012147\n",
      "health_insurance_public_rate         0.011949\n",
      "relative_humidity                    0.010825\n",
      "heating_fuel_coal_coke_rate          0.010455\n",
      "housing_unit_median_value            0.009732\n",
      "health_insurance_none_rate           0.009612\n",
      "mortgage_with_rate                   0.009577\n",
      "sales_tax                            0.008904\n",
      "incentive_residential_state_level    0.008874\n"
     ]
    }
   ],
   "source": [
    "print(\"Regressor feature importances by sklearn's gini importance\\n\")\n",
    "print(regressor_importances_standard[:20])"
   ]
  },
  {
   "cell_type": "markdown",
   "metadata": {},
   "source": [
    "Permutation importances from regressor for base dataset **with geographic features removed**"
   ]
  },
  {
   "cell_type": "code",
   "execution_count": 16,
   "metadata": {
    "collapsed": true
   },
   "outputs": [],
   "source": [
    "features_cols_nogeo = deepsolar.drop(labels=[\"solar_flag\", 'number_of_solar_system_per_household'], axis=1) \\\n",
    "                               .columns.values"
   ]
  },
  {
   "cell_type": "code",
   "execution_count": 17,
   "metadata": {
    "collapsed": true
   },
   "outputs": [],
   "source": [
    "regressor_importances_permutation_no_geo = rfp.importances(regressor_nogeo, \n",
    "                                                           pd.DataFrame(X_dev,columns=features_cols_nogeo), \n",
    "                                                           pd.DataFrame(Y_regressor_dev,\n",
    "                                                              columns=['number_of_solar_system_per_household']))"
   ]
  },
  {
   "cell_type": "code",
   "execution_count": 18,
   "metadata": {},
   "outputs": [
    {
     "name": "stdout",
     "output_type": "stream",
     "text": [
      "Regressor feature importances for dataset without geographic features by permutation importance\n",
      "\n",
      "                                   Importance\n",
      "Feature                                      \n",
      "incentive_count_residential          0.520552\n",
      "daily_solar_radiation                0.153611\n",
      "occupancy_owner_rate                 0.128958\n",
      "population_density                   0.057664\n",
      "median_household_income              0.055961\n",
      "voting_2016_dem_percentage           0.053708\n",
      "household_type_family_rate           0.032130\n",
      "incentive_residential_state_level    0.026779\n",
      "housing_unit_median_gross_rent       0.022259\n",
      "sales_tax                            0.020740\n",
      "relative_humidity                    0.019263\n",
      "heating_fuel_coal_coke_rate          0.016197\n",
      "electricity_consume_residential      0.013934\n",
      "occupation_manufacturing_rate        0.013477\n",
      "education_college_rate               0.008820\n",
      "mortgage_with_rate                   0.008676\n",
      "air_temperature                      0.008052\n",
      "occupation_public_rate               0.008002\n",
      "earth_temperature_amplitude          0.007727\n",
      "elevation                            0.007601\n"
     ]
    }
   ],
   "source": [
    "print(\"Regressor feature importances for dataset without geographic features by permutation importance\\n\")\n",
    "print(regressor_importances_permutation_no_geo[:20])"
   ]
  },
  {
   "cell_type": "markdown",
   "metadata": {
    "collapsed": true
   },
   "source": [
    "### Plots of Important Features"
   ]
  },
  {
   "cell_type": "code",
   "execution_count": 21,
   "metadata": {
    "collapsed": true
   },
   "outputs": [],
   "source": [
    "# choose number of features to show in each plot\n",
    "feature_num = 9\n",
    "feature_index = np.arange(feature_num)"
   ]
  },
  {
   "cell_type": "markdown",
   "metadata": {},
   "source": [
    "First plot is from the base dataset "
   ]
  },
  {
   "cell_type": "code",
   "execution_count": 44,
   "metadata": {
    "collapsed": true
   },
   "outputs": [],
   "source": [
    "# set up plot values\n",
    "feature_values = regressor_importances_permutation[:feature_num][\"Importance\"]\n",
    "feature_names = regressor_importances_permutation[:feature_num].index"
   ]
  },
  {
   "cell_type": "code",
   "execution_count": 45,
   "metadata": {},
   "outputs": [
    {
     "data": {
      "image/png": "[encoded data removed]",
      "text/plain": [
       "<matplotlib.figure.Figure at 0x11c76f668>"
      ]
     },
     "metadata": {},
     "output_type": "display_data"
    }
   ],
   "source": [
    "fig,ax=plt.subplots(figsize=(20,6))\n",
    "ax.bar(feature_index, feature_values, color='darkorange')\n",
    "ax.set_facecolor('whitesmoke')\n",
    "ax.set_ylabel(\"Importance\")\n",
    "ax.set_title(\"Regressor Feature Importance Using Permutation Importance\")\n",
    "ax.set_xticks(feature_index)\n",
    "ax.set_xticklabels(feature_names, rotation=30)\n",
    "plt.show()"
   ]
  },
  {
   "cell_type": "markdown",
   "metadata": {},
   "source": [
    "Second plot is from the dataset **without geographic features**"
   ]
  },
  {
   "cell_type": "code",
   "execution_count": 22,
   "metadata": {
    "collapsed": true
   },
   "outputs": [],
   "source": [
    "# set up plot values\n",
    "feature_values_nogeo = regressor_importances_permutation_no_geo[:feature_num][\"Importance\"]\n",
    "feature_names_nogeo = regressor_importances_permutation_no_geo[:feature_num].index"
   ]
  },
  {
   "cell_type": "code",
   "execution_count": 23,
   "metadata": {},
   "outputs": [
    {
     "data": {
      "image/png": "[encoded data removed]",
      "text/plain": [
       "<matplotlib.figure.Figure at 0x11c71a908>"
      ]
     },
     "metadata": {},
     "output_type": "display_data"
    }
   ],
   "source": [
    "fig,ax=plt.subplots(figsize=(20,6))\n",
    "ax.bar(feature_index, feature_values_nogeo, color='darkorange')\n",
    "ax.set_facecolor('whitesmoke')\n",
    "ax.set_ylabel(\"Importance\")\n",
    "ax.set_title(\"Regressor Feature Importance Without Geographic Variables Using Permutation Importance\")\n",
    "ax.set_xticks(feature_index)\n",
    "ax.set_xticklabels(feature_names_nogeo, rotation=30)\n",
    "plt.show()"
   ]
  },
  {
   "cell_type": "markdown",
   "metadata": {},
   "source": [
    "For comparison, the standard gini importances from the regressor on the base dataset"
   ]
  },
  {
   "cell_type": "code",
   "execution_count": 143,
   "metadata": {
    "collapsed": true
   },
   "outputs": [],
   "source": [
    "# set up plot values\n",
    "feature_values_std = regressor_importances_standard[:feature_num][\"Importance\"]\n",
    "feature_names_std = regressor_importances_standard[:feature_num].index"
   ]
  },
  {
   "cell_type": "code",
   "execution_count": 144,
   "metadata": {},
   "outputs": [
    {
     "data": {
      "image/png": "[encoded data removed]",
      "text/plain": [
       "<matplotlib.figure.Figure at 0x12a940470>"
      ]
     },
     "metadata": {},
     "output_type": "display_data"
    }
   ],
   "source": [
    "fig,ax=plt.subplots(figsize=(20,6))\n",
    "ax.bar(feature_index, feature_values_std, color='darkorange')\n",
    "ax.set_facecolor('whitesmoke')\n",
    "ax.set_ylabel(\"Importance\")\n",
    "ax.set_title(\"Regressor Feature Importance Using Standard Gini Importance\")\n",
    "ax.set_xticks(feature_index)\n",
    "ax.set_xticklabels(feature_names_std, rotation=30)\n",
    "plt.show()"
   ]
  }
 ],
 "metadata": {
  "kernelspec": {
   "display_name": "Python 3",
   "language": "python",
   "name": "python3"
  },
  "language_info": {
   "codemirror_mode": {
    "name": "ipython",
    "version": 3
   },
   "file_extension": ".py",
   "mimetype": "text/x-python",
   "name": "python",
   "nbconvert_exporter": "python",
   "pygments_lexer": "ipython3",
   "version": "3.6.1"
  }
 },
 "nbformat": 4,
 "nbformat_minor": 2
}
