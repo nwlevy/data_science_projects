{
 "cells": [
  {
   "cell_type": "markdown",
   "metadata": {
    "collapsed": true
   },
   "source": [
    "# Try Again with Values from Supplemental Info Section"
   ]
  },
  {
   "cell_type": "markdown",
   "metadata": {},
   "source": [
    "## Load/Prep the Data"
   ]
  },
  {
   "cell_type": "code",
   "execution_count": 1,
   "metadata": {},
   "outputs": [
    {
     "name": "stderr",
     "output_type": "stream",
     "text": [
      "C:\\Users\\noahw\\Anaconda3\\envs\\ipykernel_py3\\lib\\site-packages\\sklearn\\ensemble\\weight_boosting.py:29: DeprecationWarning: numpy.core.umath_tests is an internal NumPy module and should not be imported. It will be removed in a future NumPy release.\n",
      "  from numpy.core.umath_tests import inner1d\n"
     ]
    }
   ],
   "source": [
    "import pandas as pd\n",
    "import numpy as np\n",
    "import matplotlib.pyplot as plt\n",
    "from sklearn.ensemble import RandomForestClassifier\n",
    "from sklearn.ensemble import RandomForestRegressor\n",
    "from sklearn.preprocessing import Imputer\n",
    "from sklearn.model_selection import train_test_split\n",
    "from sklearn.model_selection import GridSearchCV\n",
    "from sklearn.preprocessing import StandardScaler"
   ]
  },
  {
   "cell_type": "code",
   "execution_count": 7,
   "metadata": {},
   "outputs": [
    {
     "data": {
      "text/html": [
       "<div>\n",
       "<style scoped>\n",
       "    .dataframe tbody tr th:only-of-type {\n",
       "        vertical-align: middle;\n",
       "    }\n",
       "\n",
       "    .dataframe tbody tr th {\n",
       "        vertical-align: top;\n",
       "    }\n",
       "\n",
       "    .dataframe thead th {\n",
       "        text-align: right;\n",
       "    }\n",
       "</style>\n",
       "<table border=\"1\" class=\"dataframe\">\n",
       "  <thead>\n",
       "    <tr style=\"text-align: right;\">\n",
       "      <th></th>\n",
       "      <th>Field</th>\n",
       "      <th>Description</th>\n",
       "      <th>Unit</th>\n",
       "      <th>Data Type</th>\n",
       "      <th>Formula</th>\n",
       "      <th>Possible Values</th>\n",
       "      <th>Observed Max</th>\n",
       "      <th>Observed Min</th>\n",
       "      <th>Theoretical Min</th>\n",
       "      <th>Theoretical Max</th>\n",
       "      <th>Relevant Feature</th>\n",
       "      <th>Mentioned in Supplemental Info</th>\n",
       "      <th>API documentation</th>\n",
       "      <th>API Field Name</th>\n",
       "      <th>API In Line With Collected Data</th>\n",
       "    </tr>\n",
       "  </thead>\n",
       "  <tbody>\n",
       "    <tr>\n",
       "      <th>0</th>\n",
       "      <td>Unnamed: 0</td>\n",
       "      <td>Index</td>\n",
       "      <td>NaN</td>\n",
       "      <td>Numeric</td>\n",
       "      <td>NaN</td>\n",
       "      <td>NaN</td>\n",
       "      <td>72537.000</td>\n",
       "      <td>0</td>\n",
       "      <td>NaN</td>\n",
       "      <td>NaN</td>\n",
       "      <td>0</td>\n",
       "      <td>NaN</td>\n",
       "      <td>NaN</td>\n",
       "      <td>NaN</td>\n",
       "      <td>NaN</td>\n",
       "    </tr>\n",
       "    <tr>\n",
       "      <th>1</th>\n",
       "      <td>tile_count</td>\n",
       "      <td>total number of tiles in census tract</td>\n",
       "      <td>NaN</td>\n",
       "      <td>Numeric</td>\n",
       "      <td>NaN</td>\n",
       "      <td>NaN</td>\n",
       "      <td>4468.000</td>\n",
       "      <td>0</td>\n",
       "      <td>0.0</td>\n",
       "      <td>NaN</td>\n",
       "      <td>0</td>\n",
       "      <td>NaN</td>\n",
       "      <td>NaN</td>\n",
       "      <td>NaN</td>\n",
       "      <td>NaN</td>\n",
       "    </tr>\n",
       "    <tr>\n",
       "      <th>2</th>\n",
       "      <td>solar_system_count</td>\n",
       "      <td>Total number of solar systems in census tract</td>\n",
       "      <td>NaN</td>\n",
       "      <td>Numeric</td>\n",
       "      <td>NaN</td>\n",
       "      <td>NaN</td>\n",
       "      <td>1535.000</td>\n",
       "      <td>0</td>\n",
       "      <td>0.0</td>\n",
       "      <td>NaN</td>\n",
       "      <td>0</td>\n",
       "      <td>NaN</td>\n",
       "      <td>NaN</td>\n",
       "      <td>NaN</td>\n",
       "      <td>NaN</td>\n",
       "    </tr>\n",
       "    <tr>\n",
       "      <th>3</th>\n",
       "      <td>total_panel_area</td>\n",
       "      <td>NaN</td>\n",
       "      <td>NaN</td>\n",
       "      <td>Numeric</td>\n",
       "      <td>NaN</td>\n",
       "      <td>NaN</td>\n",
       "      <td>592031.075</td>\n",
       "      <td>0</td>\n",
       "      <td>0.0</td>\n",
       "      <td>NaN</td>\n",
       "      <td>0</td>\n",
       "      <td>NaN</td>\n",
       "      <td>NaN</td>\n",
       "      <td>NaN</td>\n",
       "      <td>NaN</td>\n",
       "    </tr>\n",
       "    <tr>\n",
       "      <th>4</th>\n",
       "      <td>fips</td>\n",
       "      <td>FIPS identifier for the census tract</td>\n",
       "      <td>NaN</td>\n",
       "      <td>String</td>\n",
       "      <td>NaN</td>\n",
       "      <td>NaN</td>\n",
       "      <td>NaN</td>\n",
       "      <td>NaN</td>\n",
       "      <td>NaN</td>\n",
       "      <td>NaN</td>\n",
       "      <td>0</td>\n",
       "      <td>NaN</td>\n",
       "      <td>NaN</td>\n",
       "      <td>NaN</td>\n",
       "      <td>NaN</td>\n",
       "    </tr>\n",
       "  </tbody>\n",
       "</table>\n",
       "</div>"
      ],
      "text/plain": [
       "                Field                                    Description Unit  \\\n",
       "0          Unnamed: 0                                          Index  NaN   \n",
       "1          tile_count          total number of tiles in census tract  NaN   \n",
       "2  solar_system_count  Total number of solar systems in census tract  NaN   \n",
       "3    total_panel_area                                            NaN  NaN   \n",
       "4                fips           FIPS identifier for the census tract  NaN   \n",
       "\n",
       "  Data Type Formula  Possible Values  Observed Max Observed Min  \\\n",
       "0   Numeric     NaN              NaN     72537.000            0   \n",
       "1   Numeric     NaN              NaN      4468.000            0   \n",
       "2   Numeric     NaN              NaN      1535.000            0   \n",
       "3   Numeric     NaN              NaN    592031.075            0   \n",
       "4    String     NaN              NaN           NaN          NaN   \n",
       "\n",
       "   Theoretical Min Theoretical Max  Relevant Feature  \\\n",
       "0              NaN             NaN                 0   \n",
       "1              0.0             NaN                 0   \n",
       "2              0.0             NaN                 0   \n",
       "3              0.0             NaN                 0   \n",
       "4              NaN             NaN                 0   \n",
       "\n",
       "   Mentioned in Supplemental Info API documentation API Field Name  \\\n",
       "0                             NaN               NaN            NaN   \n",
       "1                             NaN               NaN            NaN   \n",
       "2                             NaN               NaN            NaN   \n",
       "3                             NaN               NaN            NaN   \n",
       "4                             NaN               NaN            NaN   \n",
       "\n",
       "   API In Line With Collected Data  \n",
       "0                              NaN  \n",
       "1                              NaN  \n",
       "2                              NaN  \n",
       "3                              NaN  \n",
       "4                              NaN  "
      ]
     },
     "execution_count": 7,
     "metadata": {},
     "output_type": "execute_result"
    }
   ],
   "source": [
    "solar=pd.read_csv('../deepsolar_tract.csv',encoding = \"ISO-8859-1\")\n",
    "solar.head()\n",
    "solar_fields=pd.read_csv('../deepsolar fields.csv')\n",
    "solar_fields.head()"
   ]
  },
  {
   "cell_type": "markdown",
   "metadata": {},
   "source": [
    "## Pre-process data; impute missing values using median"
   ]
  },
  {
   "cell_type": "code",
   "execution_count": 8,
   "metadata": {},
   "outputs": [
    {
     "name": "stdout",
     "output_type": "stream",
     "text": [
      "training data shape:  (50037, 95)\n",
      "classifier train labels shape:  (50037,)\n",
      "regressor train labels shape:  (50037,)\n",
      "test data shape:  (21445, 95)\n",
      "classifier test labels shape:  (21445,)\n",
      "regressor test labels shape:  (21445,)\n"
     ]
    }
   ],
   "source": [
    "#define relevant features and dependent variable\n",
    "\n",
    "\n",
    "features=solar_fields.loc[(solar_fields['Mentioned in Supplemental Info']==1)]['Field'].tolist()\n",
    "all_variables=features+['number_of_solar_system_per_household']\n",
    "\n",
    "#all_variables=features+['number_of_solar_system_per_household']+['incentive_count_residential']+['incentive_residential_state_level']\n",
    "\n",
    "solar2=solar[all_variables].loc[(np.isfinite(solar['number_of_solar_system_per_household']))\n",
    "                                   & (solar['population']>100) & (solar['household_count']>=100)]\n",
    "\n",
    "#Create binary version of number_of_solar_system_per_household for RF classifier\n",
    "\n",
    "solar2['solar_flag']=solar2['number_of_solar_system_per_household'].apply(lambda x: int(x>0))\n",
    "#solar2=solar2.loc[np.isfinite(solar2['number_of_solar_system_per_household'])]\n",
    "\n",
    "#designate independent variable frame\n",
    "independent_vars=solar2.loc[:,~solar2.columns.isin(['number_of_solar_system_per_household','solar_flag'])]\n",
    "X=independent_vars.values\n",
    "yc=solar2['solar_flag'].values\n",
    "yr=solar2['number_of_solar_system_per_household'].values\n",
    "\n",
    "#impute missing values\n",
    "missing_val_imputer=Imputer(strategy='median')\n",
    "X=missing_val_imputer.fit_transform(X)\n",
    "\n",
    "#standardize the data\n",
    "scalar=StandardScaler(copy=True, with_mean=True, with_std=True)\n",
    "#X=scalar.fit_transform(X)\n",
    "#X = (X - X.mean())/(X.max() - X.min())\n",
    "\n",
    "X_train, X_test, yc_train, yc_test,yr_train,yr_test = train_test_split(X, yc,yr, test_size=0.3, random_state=42)\n",
    "\n",
    "\n",
    "\n",
    "print('training data shape: ',X_train.shape)\n",
    "print('classifier train labels shape: ',yc_train.shape)\n",
    "print('regressor train labels shape: ',yr_train.shape)\n",
    "print('test data shape: ',X_test.shape)\n",
    "print('classifier test labels shape: ',yc_test.shape)\n",
    "print('regressor test labels shape: ',yr_test.shape)\n"
   ]
  },
  {
   "cell_type": "markdown",
   "metadata": {},
   "source": [
    "## Alternatively, pre-process values using group median by state"
   ]
  },
  {
   "cell_type": "code",
   "execution_count": 9,
   "metadata": {},
   "outputs": [
    {
     "name": "stderr",
     "output_type": "stream",
     "text": [
      "/home/ec2-user/anaconda3/lib/python3.5/site-packages/ipykernel/__main__.py:8: SettingWithCopyWarning: \n",
      "A value is trying to be set on a copy of a slice from a DataFrame.\n",
      "Try using .loc[row_indexer,col_indexer] = value instead\n",
      "\n",
      "See the caveats in the documentation: http://pandas.pydata.org/pandas-docs/stable/indexing.html#indexing-view-versus-copy\n"
     ]
    },
    {
     "name": "stdout",
     "output_type": "stream",
     "text": [
      "training data shape:  (50236, 95)\n",
      "classifier train labels shape:  (50236,)\n",
      "regressor train labels shape:  (50236,)\n",
      "test data shape:  (21530, 95)\n",
      "classifier test labels shape:  (21530,)\n",
      "regressor test labels shape:  (21530,)\n"
     ]
    }
   ],
   "source": [
    "features=solar_fields.loc[(solar_fields['Mentioned in Supplemental Info']==1)]['Field'].tolist()\n",
    "#all_variables=features+['number_of_solar_system_per_household']+['state']\n",
    "all_variables=features+['number_of_solar_system_per_household']+['county']+['state']\n",
    "solar2=solar[all_variables]\n",
    "\n",
    "#Create binary version of number_of_solar_system_per_household for RF classifier\n",
    "\n",
    "solar2['solar_flag']=solar2['number_of_solar_system_per_household'].apply(lambda x: int(x>0))\n",
    "solar2=solar2.loc[np.isfinite(solar2['number_of_solar_system_per_household'])]\n",
    "\n",
    "#designate independent variable frame\n",
    "independent_vars=solar2.loc[:,~solar2.columns.isin(['number_of_solar_system_per_household','solar_flag'])].groupby('county').transform(lambda x: x.fillna(x.median()))\n",
    "independent_vars['state']=solar2['state']\n",
    "independent_vars=independent_vars.groupby('state').transform(lambda x: x.fillna(x.median()))\n",
    "\n",
    "#temperature_frame=solar2.loc[:,solar2.columns.isin(temperature_vars)].groupby('county').transform(lambda x: x.fillna(x.median()))\n",
    "#temperature_frame=solar2.loc[:,solar2.columns.isin(temperature_vars)].groupby('state').transform(lambda x: x.fillna(x.median()))\n",
    "\n",
    "\n",
    "X=independent_vars.values\n",
    "yc=solar2['solar_flag'].values\n",
    "yr=solar2['number_of_solar_system_per_household'].values\n",
    "\n",
    "X_train, X_test, yc_train, yc_test,yr_train,yr_test = train_test_split(X, yc,yr, test_size=0.3, random_state=42)\n",
    "\n",
    "\n",
    "\n",
    "print('training data shape: ',X_train.shape)\n",
    "print('classifier train labels shape: ',yc_train.shape)\n",
    "print('regressor train labels shape: ',yr_train.shape)\n",
    "print('test data shape: ',X_test.shape)\n",
    "print('classifier test labels shape: ',yc_test.shape)\n",
    "print('regressor test labels shape: ',yr_test.shape)"
   ]
  },
  {
   "cell_type": "markdown",
   "metadata": {},
   "source": [
    "## Train the Classifier"
   ]
  },
  {
   "cell_type": "code",
   "execution_count": 18,
   "metadata": {},
   "outputs": [
    {
     "data": {
      "text/plain": [
       "GridSearchCV(cv=3, error_score='raise',\n",
       "       estimator=RandomForestClassifier(bootstrap=True, class_weight=None, criterion='gini',\n",
       "            max_depth=None, max_features='auto', max_leaf_nodes=None,\n",
       "            min_impurity_decrease=0.0, min_impurity_split=None,\n",
       "            min_samples_leaf=1, min_samples_split=2,\n",
       "            min_weight_fraction_leaf=0.0, n_estimators=10, n_jobs=1,\n",
       "            oob_score=False, random_state=None, verbose=0,\n",
       "            warm_start=False),\n",
       "       fit_params=None, iid=True, n_jobs=-1,\n",
       "       param_grid={'max_depth': (15, 20, 30), 'n_estimators': [100, 150, 200]},\n",
       "       pre_dispatch='2*n_jobs', refit=True, return_train_score='warn',\n",
       "       scoring=None, verbose=0)"
      ]
     },
     "execution_count": 18,
     "metadata": {},
     "output_type": "execute_result"
    }
   ],
   "source": [
    "params_dict={'max_depth':(15, 20, 30), 'n_estimators':[100,150,200]}\n",
    "classifier=RandomForestClassifier()\n",
    "clf = GridSearchCV(classifier, params_dict, cv=3,n_jobs=-1)\n",
    "clf.fit(X,yc)"
   ]
  },
  {
   "cell_type": "code",
   "execution_count": 19,
   "metadata": {},
   "outputs": [
    {
     "name": "stderr",
     "output_type": "stream",
     "text": [
      "C:\\Users\\noahw\\Anaconda3\\envs\\ipykernel_py3\\lib\\site-packages\\sklearn\\utils\\deprecation.py:122: FutureWarning: You are accessing a training score ('mean_train_score'), which will not be available by default any more in 0.21. If you need training scores, please set return_train_score=True\n",
      "  warnings.warn(*warn_args, **warn_kwargs)\n",
      "C:\\Users\\noahw\\Anaconda3\\envs\\ipykernel_py3\\lib\\site-packages\\sklearn\\utils\\deprecation.py:122: FutureWarning: You are accessing a training score ('split0_train_score'), which will not be available by default any more in 0.21. If you need training scores, please set return_train_score=True\n",
      "  warnings.warn(*warn_args, **warn_kwargs)\n",
      "C:\\Users\\noahw\\Anaconda3\\envs\\ipykernel_py3\\lib\\site-packages\\sklearn\\utils\\deprecation.py:122: FutureWarning: You are accessing a training score ('split1_train_score'), which will not be available by default any more in 0.21. If you need training scores, please set return_train_score=True\n",
      "  warnings.warn(*warn_args, **warn_kwargs)\n",
      "C:\\Users\\noahw\\Anaconda3\\envs\\ipykernel_py3\\lib\\site-packages\\sklearn\\utils\\deprecation.py:122: FutureWarning: You are accessing a training score ('split2_train_score'), which will not be available by default any more in 0.21. If you need training scores, please set return_train_score=True\n",
      "  warnings.warn(*warn_args, **warn_kwargs)\n",
      "C:\\Users\\noahw\\Anaconda3\\envs\\ipykernel_py3\\lib\\site-packages\\sklearn\\utils\\deprecation.py:122: FutureWarning: You are accessing a training score ('std_train_score'), which will not be available by default any more in 0.21. If you need training scores, please set return_train_score=True\n",
      "  warnings.warn(*warn_args, **warn_kwargs)\n"
     ]
    },
    {
     "data": {
      "text/plain": [
       "{'mean_fit_time': array([  57.39886419,   86.70215297,  118.13012513,   66.8765223 ,\n",
       "         101.37996372,  133.39823429,   69.39873433,   94.48175327,\n",
       "         104.51939106]),\n",
       " 'mean_score_time': array([ 0.60033711,  0.94648743,  1.17688878,  0.7273314 ,  1.00923546,\n",
       "         1.37408272,  0.67787266,  0.87169433,  0.98681275]),\n",
       " 'mean_test_score': array([ 0.76888777,  0.76805172,  0.76876237,  0.7654739 ,  0.76532063,\n",
       "         0.76529276,  0.76268707,  0.76310509,  0.76292395]),\n",
       " 'mean_train_score': array([ 0.94787225,  0.94833905,  0.9480534 ,  0.99036452,  0.99044812,\n",
       "         0.99038542,  0.9999582 ,  0.99997213,  1.        ]),\n",
       " 'param_max_depth': masked_array(data = [15 15 15 20 20 20 30 30 30],\n",
       "              mask = [False False False False False False False False False],\n",
       "        fill_value = ?),\n",
       " 'param_n_estimators': masked_array(data = [100 150 200 100 150 200 100 150 200],\n",
       "              mask = [False False False False False False False False False],\n",
       "        fill_value = ?),\n",
       " 'params': [{'max_depth': 15, 'n_estimators': 100},\n",
       "  {'max_depth': 15, 'n_estimators': 150},\n",
       "  {'max_depth': 15, 'n_estimators': 200},\n",
       "  {'max_depth': 20, 'n_estimators': 100},\n",
       "  {'max_depth': 20, 'n_estimators': 150},\n",
       "  {'max_depth': 20, 'n_estimators': 200},\n",
       "  {'max_depth': 30, 'n_estimators': 100},\n",
       "  {'max_depth': 30, 'n_estimators': 150},\n",
       "  {'max_depth': 30, 'n_estimators': 200}],\n",
       " 'rank_test_score': array([1, 3, 2, 4, 5, 6, 9, 7, 8]),\n",
       " 'split0_test_score': array([ 0.76682552,  0.76594766,  0.76544603,  0.76937547,  0.76699273,\n",
       "         0.76724354,  0.76879023,  0.76728534,  0.76665831]),\n",
       " 'split0_train_score': array([ 0.94760054,  0.94726611,  0.94757963,  0.99071984,  0.99149319,\n",
       "         0.99153499,  1.        ,  1.        ,  1.        ]),\n",
       " 'split1_test_score': array([ 0.76782878,  0.76578045,  0.76778697,  0.76206003,  0.76185102,\n",
       "         0.76126578,  0.76059694,  0.76034612,  0.76105677]),\n",
       " 'split1_train_score': array([ 0.94615835,  0.94609564,  0.9469944 ,  0.98938216,  0.98823259,\n",
       "         0.98771006,  0.9999373 ,  0.9999373 ,  1.        ]),\n",
       " 'split2_test_score': array([ 0.77200903,  0.77242705,  0.77305409,  0.76498621,  0.76711813,\n",
       "         0.76736895,  0.75867402,  0.76168381,  0.76105677]),\n",
       " 'split2_train_score': array([ 0.94985787,  0.95165538,  0.94958616,  0.99099156,  0.99161859,\n",
       "         0.99191121,  0.9999373 ,  0.9999791 ,  1.        ]),\n",
       " 'std_fit_time': array([ 0.90486895,  1.14209179,  0.46805047,  2.25065039,  2.32491081,\n",
       "         1.75700701,  1.29245141,  2.15875334,  0.24362603]),\n",
       " 'std_score_time': array([ 0.04198143,  0.13223163,  0.0605032 ,  0.01899652,  0.06609462,\n",
       "         0.1379299 ,  0.04102133,  0.03071188,  0.04348877]),\n",
       " 'std_test_score': array([ 0.00224474,  0.00309458,  0.00318163,  0.00300636,  0.00245392,\n",
       "         0.00284796,  0.00438641,  0.00300591,  0.00264059]),\n",
       " 'std_train_score': array([  1.52249593e-03,   2.39319201e-03,   1.10984632e-03,\n",
       "          7.03434360e-04,   1.56745533e-03,   1.89799115e-03,\n",
       "          2.95588488e-05,   2.60684543e-05,   0.00000000e+00])}"
      ]
     },
     "execution_count": 19,
     "metadata": {},
     "output_type": "execute_result"
    }
   ],
   "source": [
    "clf.cv_results_"
   ]
  },
  {
   "cell_type": "code",
   "execution_count": 20,
   "metadata": {},
   "outputs": [
    {
     "data": {
      "text/plain": [
       "RandomForestClassifier(bootstrap=True, class_weight=None, criterion='gini',\n",
       "            max_depth=15, max_features='auto', max_leaf_nodes=None,\n",
       "            min_impurity_decrease=0.0, min_impurity_split=None,\n",
       "            min_samples_leaf=1, min_samples_split=2,\n",
       "            min_weight_fraction_leaf=0.0, n_estimators=100, n_jobs=1,\n",
       "            oob_score=False, random_state=None, verbose=0,\n",
       "            warm_start=False)"
      ]
     },
     "execution_count": 20,
     "metadata": {},
     "output_type": "execute_result"
    }
   ],
   "source": [
    "clf.best_estimator_"
   ]
  },
  {
   "cell_type": "code",
   "execution_count": 21,
   "metadata": {},
   "outputs": [
    {
     "data": {
      "text/plain": [
       "0.76888777415489229"
      ]
     },
     "execution_count": 21,
     "metadata": {},
     "output_type": "execute_result"
    }
   ],
   "source": [
    "clf.best_score_"
   ]
  },
  {
   "cell_type": "code",
   "execution_count": 9,
   "metadata": {},
   "outputs": [
    {
     "data": {
      "text/plain": [
       "RandomForestClassifier(bootstrap=True, class_weight=None, criterion='gini',\n",
       "            max_depth=None, max_features='auto', max_leaf_nodes=None,\n",
       "            min_impurity_decrease=0.0, min_impurity_split=None,\n",
       "            min_samples_leaf=1, min_samples_split=2,\n",
       "            min_weight_fraction_leaf=0.0, n_estimators=100, n_jobs=-1,\n",
       "            oob_score=False, random_state=None, verbose=0,\n",
       "            warm_start=False)"
      ]
     },
     "execution_count": 9,
     "metadata": {},
     "output_type": "execute_result"
    }
   ],
   "source": [
    "classifier=RandomForestClassifier(max_depth=None,n_estimators=100, n_jobs=-1)\n",
    "classifier.fit(X_train,yc_train)"
   ]
  },
  {
   "cell_type": "code",
   "execution_count": 10,
   "metadata": {},
   "outputs": [
    {
     "data": {
      "text/plain": [
       "0.8122639309862438"
      ]
     },
     "execution_count": 10,
     "metadata": {},
     "output_type": "execute_result"
    }
   ],
   "source": [
    "classifier.score(X_test,yc_test)"
   ]
  },
  {
   "cell_type": "code",
   "execution_count": 10,
   "metadata": {},
   "outputs": [
    {
     "name": "stdout",
     "output_type": "stream",
     "text": [
      "('population_density', 0.065391463575894926)\n",
      "('heating_fuel_coal_coke_rate', 0.024127720247286419)\n",
      "('race_asian_rate', 0.022728808205224625)\n",
      "('occupancy_vacant_rate', 0.022157965748267987)\n",
      "('housing_unit_median_value', 0.021444888654153057)\n",
      "('housing_unit_median_gross_rent', 0.018056820772702167)\n",
      "('relative_humidity', 0.017044493798203188)\n",
      "('education_bachelor_rate', 0.016958433032509799)\n",
      "('daily_solar_radiation', 0.015821180019586437)\n",
      "('race_white_rate', 0.015502984314183963)\n",
      "('education_high_school_graduate_rate', 0.01490745949854038)\n",
      "('average_household_income', 0.014678904584462592)\n",
      "('mortgage_with_rate', 0.014392871270293657)\n",
      "('travel_time_less_than_10_rate', 0.013808303155417569)\n",
      "('transportation_car_alone_rate', 0.013760933228662954)\n",
      "('occupation_agriculture_rate', 0.013142297340317572)\n",
      "('race_black_africa_rate', 0.012883132992469378)\n",
      "('number_of_years_of_education', 0.01261351199156022)\n",
      "('education_master_rate', 0.012461045950535097)\n",
      "('transportation_public_rate', 0.012379681771868833)\n"
     ]
    }
   ],
   "source": [
    "feature_importances=classifier.feature_importances_\n",
    "features=independent_vars.columns\n",
    "feature_tuples=[(features[i],feature_importances[i]) for i in range(len(features))]\n",
    "sorted_features=sorted(feature_tuples,reverse=True,key=lambda k: k[1])\n",
    "for i in range(0,20):\n",
    "    print(sorted_features[i])"
   ]
  },
  {
   "cell_type": "markdown",
   "metadata": {},
   "source": [
    "## Write Classifier Feature Importances to File"
   ]
  },
  {
   "cell_type": "code",
   "execution_count": 13,
   "metadata": {
    "collapsed": true
   },
   "outputs": [],
   "source": [
    "import csv\n",
    "\n",
    "with open('classifier_importances.csv','wt',newline='') as f:\n",
    "    writer=csv.writer(f,delimiter=',')\n",
    "    writer.writerow(['feature_name','importance_score'])\n",
    "    \n",
    "    for i in range(len(sorted_features)):\n",
    "        writer.writerow([sorted_features[i][0],sorted_features[i][1]])\n",
    "    \n",
    "    f.close()\n",
    "    "
   ]
  },
  {
   "cell_type": "markdown",
   "metadata": {},
   "source": [
    "### Feature Importances Using Permutation Importance"
   ]
  },
  {
   "cell_type": "code",
   "execution_count": 7,
   "metadata": {
    "collapsed": true
   },
   "outputs": [],
   "source": [
    "import rfpimp as rfp"
   ]
  },
  {
   "cell_type": "code",
   "execution_count": 8,
   "metadata": {},
   "outputs": [
    {
     "data": {
      "text/html": [
       "<div>\n",
       "<style>\n",
       "    .dataframe thead tr:only-child th {\n",
       "        text-align: right;\n",
       "    }\n",
       "\n",
       "    .dataframe thead th {\n",
       "        text-align: left;\n",
       "    }\n",
       "\n",
       "    .dataframe tbody tr th {\n",
       "        vertical-align: top;\n",
       "    }\n",
       "</style>\n",
       "<table border=\"1\" class=\"dataframe\">\n",
       "  <thead>\n",
       "    <tr style=\"text-align: right;\">\n",
       "      <th></th>\n",
       "      <th>Importance</th>\n",
       "    </tr>\n",
       "    <tr>\n",
       "      <th>Feature</th>\n",
       "      <th></th>\n",
       "    </tr>\n",
       "  </thead>\n",
       "  <tbody>\n",
       "    <tr>\n",
       "      <th>population_density</th>\n",
       "      <td>0.0216</td>\n",
       "    </tr>\n",
       "    <tr>\n",
       "      <th>housing_unit_median_value</th>\n",
       "      <td>0.0046</td>\n",
       "    </tr>\n",
       "    <tr>\n",
       "      <th>heating_fuel_coal_coke_rate</th>\n",
       "      <td>0.0034</td>\n",
       "    </tr>\n",
       "    <tr>\n",
       "      <th>average_household_income</th>\n",
       "      <td>0.0030</td>\n",
       "    </tr>\n",
       "    <tr>\n",
       "      <th>race_black_africa_rate</th>\n",
       "      <td>0.0030</td>\n",
       "    </tr>\n",
       "    <tr>\n",
       "      <th>relative_humidity</th>\n",
       "      <td>0.0022</td>\n",
       "    </tr>\n",
       "    <tr>\n",
       "      <th>race_white_rate</th>\n",
       "      <td>0.0020</td>\n",
       "    </tr>\n",
       "    <tr>\n",
       "      <th>voting_2016_gop_percentage</th>\n",
       "      <td>0.0020</td>\n",
       "    </tr>\n",
       "    <tr>\n",
       "      <th>travel_time_average</th>\n",
       "      <td>0.0016</td>\n",
       "    </tr>\n",
       "    <tr>\n",
       "      <th>transportation_public_rate</th>\n",
       "      <td>0.0014</td>\n",
       "    </tr>\n",
       "    <tr>\n",
       "      <th>occupancy_vacant_rate</th>\n",
       "      <td>0.0014</td>\n",
       "    </tr>\n",
       "    <tr>\n",
       "      <th>heating_fuel_gas_rate</th>\n",
       "      <td>0.0014</td>\n",
       "    </tr>\n",
       "    <tr>\n",
       "      <th>number_of_years_of_education</th>\n",
       "      <td>0.0012</td>\n",
       "    </tr>\n",
       "    <tr>\n",
       "      <th>occupation_agriculture_rate</th>\n",
       "      <td>0.0012</td>\n",
       "    </tr>\n",
       "    <tr>\n",
       "      <th>cooling_degree_days</th>\n",
       "      <td>0.0012</td>\n",
       "    </tr>\n",
       "    <tr>\n",
       "      <th>travel_time_20_29_rate</th>\n",
       "      <td>0.0012</td>\n",
       "    </tr>\n",
       "    <tr>\n",
       "      <th>elevation</th>\n",
       "      <td>0.0012</td>\n",
       "    </tr>\n",
       "    <tr>\n",
       "      <th>travel_time_less_than_10_rate</th>\n",
       "      <td>0.0010</td>\n",
       "    </tr>\n",
       "    <tr>\n",
       "      <th>age_5_9_rate</th>\n",
       "      <td>0.0010</td>\n",
       "    </tr>\n",
       "    <tr>\n",
       "      <th>household_type_family_rate</th>\n",
       "      <td>0.0010</td>\n",
       "    </tr>\n",
       "    <tr>\n",
       "      <th>age_more_than_85_rate</th>\n",
       "      <td>0.0008</td>\n",
       "    </tr>\n",
       "    <tr>\n",
       "      <th>earth_temperature_amplitude</th>\n",
       "      <td>0.0008</td>\n",
       "    </tr>\n",
       "    <tr>\n",
       "      <th>age_10_14_rate</th>\n",
       "      <td>0.0008</td>\n",
       "    </tr>\n",
       "    <tr>\n",
       "      <th>race_indian_alaska_rate</th>\n",
       "      <td>0.0008</td>\n",
       "    </tr>\n",
       "    <tr>\n",
       "      <th>education_high_school_graduate_rate</th>\n",
       "      <td>0.0008</td>\n",
       "    </tr>\n",
       "    <tr>\n",
       "      <th>occupation_retail_rate</th>\n",
       "      <td>0.0006</td>\n",
       "    </tr>\n",
       "    <tr>\n",
       "      <th>race_asian_rate</th>\n",
       "      <td>0.0006</td>\n",
       "    </tr>\n",
       "    <tr>\n",
       "      <th>employ_rate</th>\n",
       "      <td>0.0006</td>\n",
       "    </tr>\n",
       "    <tr>\n",
       "      <th>education_less_than_high_school_rate</th>\n",
       "      <td>0.0006</td>\n",
       "    </tr>\n",
       "    <tr>\n",
       "      <th>travel_time_30_39_rate</th>\n",
       "      <td>0.0004</td>\n",
       "    </tr>\n",
       "    <tr>\n",
       "      <th>...</th>\n",
       "      <td>...</td>\n",
       "    </tr>\n",
       "    <tr>\n",
       "      <th>age_75_84_rate</th>\n",
       "      <td>-0.0006</td>\n",
       "    </tr>\n",
       "    <tr>\n",
       "      <th>property_tax</th>\n",
       "      <td>-0.0006</td>\n",
       "    </tr>\n",
       "    <tr>\n",
       "      <th>air_temperature</th>\n",
       "      <td>-0.0006</td>\n",
       "    </tr>\n",
       "    <tr>\n",
       "      <th>diversity</th>\n",
       "      <td>-0.0006</td>\n",
       "    </tr>\n",
       "    <tr>\n",
       "      <th>travel_time_10_19_rate</th>\n",
       "      <td>-0.0008</td>\n",
       "    </tr>\n",
       "    <tr>\n",
       "      <th>occupation_administrative_rate</th>\n",
       "      <td>-0.0008</td>\n",
       "    </tr>\n",
       "    <tr>\n",
       "      <th>occupation_transportation_rate</th>\n",
       "      <td>-0.0008</td>\n",
       "    </tr>\n",
       "    <tr>\n",
       "      <th>occupation_wholesale_rate</th>\n",
       "      <td>-0.0010</td>\n",
       "    </tr>\n",
       "    <tr>\n",
       "      <th>age_15_17_rate</th>\n",
       "      <td>-0.0010</td>\n",
       "    </tr>\n",
       "    <tr>\n",
       "      <th>occupation_arts_rate</th>\n",
       "      <td>-0.0010</td>\n",
       "    </tr>\n",
       "    <tr>\n",
       "      <th>transportation_home_rate</th>\n",
       "      <td>-0.0010</td>\n",
       "    </tr>\n",
       "    <tr>\n",
       "      <th>dropout_16_19_inschool_rate</th>\n",
       "      <td>-0.0010</td>\n",
       "    </tr>\n",
       "    <tr>\n",
       "      <th>age_25_34_rate</th>\n",
       "      <td>-0.0010</td>\n",
       "    </tr>\n",
       "    <tr>\n",
       "      <th>age_18_24_rate</th>\n",
       "      <td>-0.0010</td>\n",
       "    </tr>\n",
       "    <tr>\n",
       "      <th>net_metering</th>\n",
       "      <td>-0.0010</td>\n",
       "    </tr>\n",
       "    <tr>\n",
       "      <th>race_other_rate</th>\n",
       "      <td>-0.0012</td>\n",
       "    </tr>\n",
       "    <tr>\n",
       "      <th>travel_time_60_89_rate</th>\n",
       "      <td>-0.0012</td>\n",
       "    </tr>\n",
       "    <tr>\n",
       "      <th>age_median</th>\n",
       "      <td>-0.0012</td>\n",
       "    </tr>\n",
       "    <tr>\n",
       "      <th>age_55_64_rate</th>\n",
       "      <td>-0.0012</td>\n",
       "    </tr>\n",
       "    <tr>\n",
       "      <th>wind_speed</th>\n",
       "      <td>-0.0012</td>\n",
       "    </tr>\n",
       "    <tr>\n",
       "      <th>earth_temperature</th>\n",
       "      <td>-0.0014</td>\n",
       "    </tr>\n",
       "    <tr>\n",
       "      <th>atmospheric_pressure</th>\n",
       "      <td>-0.0014</td>\n",
       "    </tr>\n",
       "    <tr>\n",
       "      <th>education_master_rate</th>\n",
       "      <td>-0.0014</td>\n",
       "    </tr>\n",
       "    <tr>\n",
       "      <th>occupation_finance_rate</th>\n",
       "      <td>-0.0016</td>\n",
       "    </tr>\n",
       "    <tr>\n",
       "      <th>daily_solar_radiation</th>\n",
       "      <td>-0.0018</td>\n",
       "    </tr>\n",
       "    <tr>\n",
       "      <th>education_professional_school_rate</th>\n",
       "      <td>-0.0020</td>\n",
       "    </tr>\n",
       "    <tr>\n",
       "      <th>heating_fuel_fuel_oil_kerosene_rate</th>\n",
       "      <td>-0.0020</td>\n",
       "    </tr>\n",
       "    <tr>\n",
       "      <th>transportation_walk_rate</th>\n",
       "      <td>-0.0020</td>\n",
       "    </tr>\n",
       "    <tr>\n",
       "      <th>race_two_more_rate</th>\n",
       "      <td>-0.0022</td>\n",
       "    </tr>\n",
       "    <tr>\n",
       "      <th>gini_index</th>\n",
       "      <td>-0.0032</td>\n",
       "    </tr>\n",
       "  </tbody>\n",
       "</table>\n",
       "<p>95 rows × 1 columns</p>\n",
       "</div>"
      ],
      "text/plain": [
       "                                      Importance\n",
       "Feature                                         \n",
       "population_density                        0.0216\n",
       "housing_unit_median_value                 0.0046\n",
       "heating_fuel_coal_coke_rate               0.0034\n",
       "average_household_income                  0.0030\n",
       "race_black_africa_rate                    0.0030\n",
       "relative_humidity                         0.0022\n",
       "race_white_rate                           0.0020\n",
       "voting_2016_gop_percentage                0.0020\n",
       "travel_time_average                       0.0016\n",
       "transportation_public_rate                0.0014\n",
       "occupancy_vacant_rate                     0.0014\n",
       "heating_fuel_gas_rate                     0.0014\n",
       "number_of_years_of_education              0.0012\n",
       "occupation_agriculture_rate               0.0012\n",
       "cooling_degree_days                       0.0012\n",
       "travel_time_20_29_rate                    0.0012\n",
       "elevation                                 0.0012\n",
       "travel_time_less_than_10_rate             0.0010\n",
       "age_5_9_rate                              0.0010\n",
       "household_type_family_rate                0.0010\n",
       "age_more_than_85_rate                     0.0008\n",
       "earth_temperature_amplitude               0.0008\n",
       "age_10_14_rate                            0.0008\n",
       "race_indian_alaska_rate                   0.0008\n",
       "education_high_school_graduate_rate       0.0008\n",
       "occupation_retail_rate                    0.0006\n",
       "race_asian_rate                           0.0006\n",
       "employ_rate                               0.0006\n",
       "education_less_than_high_school_rate      0.0006\n",
       "travel_time_30_39_rate                    0.0004\n",
       "...                                          ...\n",
       "age_75_84_rate                           -0.0006\n",
       "property_tax                             -0.0006\n",
       "air_temperature                          -0.0006\n",
       "diversity                                -0.0006\n",
       "travel_time_10_19_rate                   -0.0008\n",
       "occupation_administrative_rate           -0.0008\n",
       "occupation_transportation_rate           -0.0008\n",
       "occupation_wholesale_rate                -0.0010\n",
       "age_15_17_rate                           -0.0010\n",
       "occupation_arts_rate                     -0.0010\n",
       "transportation_home_rate                 -0.0010\n",
       "dropout_16_19_inschool_rate              -0.0010\n",
       "age_25_34_rate                           -0.0010\n",
       "age_18_24_rate                           -0.0010\n",
       "net_metering                             -0.0010\n",
       "race_other_rate                          -0.0012\n",
       "travel_time_60_89_rate                   -0.0012\n",
       "age_median                               -0.0012\n",
       "age_55_64_rate                           -0.0012\n",
       "wind_speed                               -0.0012\n",
       "earth_temperature                        -0.0014\n",
       "atmospheric_pressure                     -0.0014\n",
       "education_master_rate                    -0.0014\n",
       "occupation_finance_rate                  -0.0016\n",
       "daily_solar_radiation                    -0.0018\n",
       "education_professional_school_rate       -0.0020\n",
       "heating_fuel_fuel_oil_kerosene_rate      -0.0020\n",
       "transportation_walk_rate                 -0.0020\n",
       "race_two_more_rate                       -0.0022\n",
       "gini_index                               -0.0032\n",
       "\n",
       "[95 rows x 1 columns]"
      ]
     },
     "execution_count": 8,
     "metadata": {},
     "output_type": "execute_result"
    }
   ],
   "source": [
    "rfp.importances(classifier,pd.DataFrame(X_test,columns=features),pd.DataFrame(yc_test,columns=['solar_flag']))"
   ]
  },
  {
   "cell_type": "markdown",
   "metadata": {},
   "source": [
    "## Train the Regressor"
   ]
  },
  {
   "cell_type": "code",
   "execution_count": 26,
   "metadata": {},
   "outputs": [
    {
     "data": {
      "text/plain": [
       "GridSearchCV(cv=3, error_score='raise',\n",
       "       estimator=RandomForestRegressor(bootstrap=True, criterion='mse', max_depth=None,\n",
       "           max_features='auto', max_leaf_nodes=None,\n",
       "           min_impurity_decrease=0.0, min_impurity_split=None,\n",
       "           min_samples_leaf=1, min_samples_split=2,\n",
       "           min_weight_fraction_leaf=0.0, n_estimators=10, n_jobs=1,\n",
       "           oob_score=False, random_state=None, verbose=0, warm_start=False),\n",
       "       fit_params=None, iid=True, n_jobs=-1,\n",
       "       param_grid={'max_depth': (None, 10, 15, 20), 'n_estimators': [100, 150, 200]},\n",
       "       pre_dispatch='2*n_jobs', refit=True, return_train_score='warn',\n",
       "       scoring=None, verbose=0)"
      ]
     },
     "execution_count": 26,
     "metadata": {},
     "output_type": "execute_result"
    }
   ],
   "source": [
    "params_dict={'max_depth':(None, 10, 15,20), 'n_estimators':[100,150,200]}\n",
    "regressor=RandomForestRegressor()\n",
    "clf_r = GridSearchCV(regressor, params_dict, cv=3,n_jobs=-1)\n",
    "clf_r.fit(X,yr)"
   ]
  },
  {
   "cell_type": "code",
   "execution_count": 27,
   "metadata": {},
   "outputs": [
    {
     "data": {
      "text/plain": [
       "RandomForestRegressor(bootstrap=True, criterion='mse', max_depth=None,\n",
       "           max_features='auto', max_leaf_nodes=None,\n",
       "           min_impurity_decrease=0.0, min_impurity_split=None,\n",
       "           min_samples_leaf=1, min_samples_split=2,\n",
       "           min_weight_fraction_leaf=0.0, n_estimators=150, n_jobs=1,\n",
       "           oob_score=False, random_state=None, verbose=0, warm_start=False)"
      ]
     },
     "execution_count": 27,
     "metadata": {},
     "output_type": "execute_result"
    }
   ],
   "source": [
    "clf_r.best_estimator_"
   ]
  },
  {
   "cell_type": "code",
   "execution_count": 28,
   "metadata": {},
   "outputs": [
    {
     "data": {
      "text/plain": [
       "0.18329555143788012"
      ]
     },
     "execution_count": 28,
     "metadata": {},
     "output_type": "execute_result"
    }
   ],
   "source": [
    "clf_r.best_score_"
   ]
  },
  {
   "cell_type": "code",
   "execution_count": 14,
   "metadata": {},
   "outputs": [
    {
     "data": {
      "text/plain": [
       "RandomForestRegressor(bootstrap=True, criterion='mse', max_depth=None,\n",
       "           max_features='auto', max_leaf_nodes=None,\n",
       "           min_impurity_decrease=0.0, min_impurity_split=None,\n",
       "           min_samples_leaf=1, min_samples_split=2,\n",
       "           min_weight_fraction_leaf=0.0, n_estimators=200, n_jobs=-1,\n",
       "           oob_score=False, random_state=None, verbose=0, warm_start=False)"
      ]
     },
     "execution_count": 14,
     "metadata": {},
     "output_type": "execute_result"
    }
   ],
   "source": [
    "regressor=RandomForestRegressor(max_depth=None,n_estimators=200,n_jobs=-1)\n",
    "regressor.fit(X_train,yr_train)"
   ]
  },
  {
   "cell_type": "code",
   "execution_count": 15,
   "metadata": {},
   "outputs": [
    {
     "data": {
      "text/plain": [
       "0.44859603482886401"
      ]
     },
     "execution_count": 15,
     "metadata": {},
     "output_type": "execute_result"
    }
   ],
   "source": [
    "regressor.score(X_test,yr_test)"
   ]
  },
  {
   "cell_type": "markdown",
   "metadata": {},
   "source": [
    "## Feature Importances"
   ]
  },
  {
   "cell_type": "code",
   "execution_count": 16,
   "metadata": {},
   "outputs": [
    {
     "name": "stdout",
     "output_type": "stream",
     "text": [
      "('daily_solar_radiation', 0.18541645982775762)\n",
      "('occupancy_owner_rate', 0.09987392107531376)\n",
      "('household_type_family_rate', 0.087169373411405793)\n",
      "('education_high_school_graduate_rate', 0.037814413638030328)\n",
      "('population_density', 0.030886576582707791)\n",
      "('average_household_income', 0.03072465399151441)\n",
      "('health_insurance_public_rate', 0.025260615371615197)\n",
      "('net_metering', 0.018896759222462249)\n",
      "('frost_days', 0.017722700403588986)\n",
      "('average_household_size', 0.014954410329024061)\n",
      "('heating_fuel_gas_rate', 0.014562608994939141)\n",
      "('relative_humidity', 0.013887113425697973)\n",
      "('voting_2016_gop_percentage', 0.013703072821503631)\n",
      "('education_college_rate', 0.012768607086347276)\n",
      "('avg_electricity_retail_rate', 0.01255327709610126)\n",
      "('voting_2016_dem_percentage', 0.010110888201128513)\n",
      "('travel_time_60_89_rate', 0.010079766023860294)\n",
      "('housing_unit_median_gross_rent', 0.0097945550099977768)\n",
      "('transportation_carpool_rate', 0.0097689223907742803)\n",
      "('mortgage_with_rate', 0.0096454974822154024)\n"
     ]
    }
   ],
   "source": [
    "feature_importances=regressor.feature_importances_\n",
    "features=independent_vars.columns\n",
    "feature_tuples=[(features[i],feature_importances[i]) for i in range(len(features))]\n",
    "sorted_features=sorted(feature_tuples,reverse=True,key=lambda k: k[1])\n",
    "for i in range(0,20):\n",
    "    print(sorted_features[i])"
   ]
  },
  {
   "cell_type": "code",
   "execution_count": 13,
   "metadata": {},
   "outputs": [
    {
     "data": {
      "text/plain": [
       "array([0, 1, 2, 3, 4, 5, 6, 7])"
      ]
     },
     "execution_count": 13,
     "metadata": {},
     "output_type": "execute_result"
    }
   ],
   "source": [
    "index"
   ]
  },
  {
   "cell_type": "code",
   "execution_count": 43,
   "metadata": {},
   "outputs": [
    {
     "data": {
      "image/png": "[encoded data removed]",
      "text/plain": [
       "<matplotlib.figure.Figure at 0x29ab379c630>"
      ]
     },
     "metadata": {},
     "output_type": "display_data"
    }
   ],
   "source": [
    "index=np.arange(7)\n",
    "bar_width=0.35\n",
    "fig,ax=plt.subplots(figsize=(25,8))\n",
    "feature_importances=[i[1] for i in sorted_features[0:7]]\n",
    "feature_names=[i[0] for i in sorted_features[0:7]]\n",
    "ax.bar(index,feature_importances)\n",
    "ax.set_xlabel('Feature')\n",
    "ax.set_ylabel('Relative Importance in Random Forest')\n",
    "ax.set_title('Most Important Features in Random Forest')\n",
    "ax.set_xticks(index)\n",
    "ax.set_xticklabels(feature_names,wrap=True)\n",
    "\n",
    "\n",
    "plt.show()"
   ]
  },
  {
   "cell_type": "code",
   "execution_count": 17,
   "metadata": {
    "collapsed": true
   },
   "outputs": [],
   "source": [
    "import csv\n",
    "\n",
    "with open('regressor_importances.csv','wt',newline='') as f:\n",
    "    writer=csv.writer(f,delimiter=',')\n",
    "    writer.writerow(['feature_name','importance_score'])\n",
    "    \n",
    "    for i in range(len(sorted_features)):\n",
    "        writer.writerow([sorted_features[i][0],sorted_features[i][1]])\n",
    "    \n",
    "    f.close()"
   ]
  },
  {
   "cell_type": "markdown",
   "metadata": {},
   "source": [
    "### Feature Importances Using Permutation Importance Calculation"
   ]
  },
  {
   "cell_type": "code",
   "execution_count": 12,
   "metadata": {},
   "outputs": [
    {
     "data": {
      "text/html": [
       "<div>\n",
       "<style>\n",
       "    .dataframe thead tr:only-child th {\n",
       "        text-align: right;\n",
       "    }\n",
       "\n",
       "    .dataframe thead th {\n",
       "        text-align: left;\n",
       "    }\n",
       "\n",
       "    .dataframe tbody tr th {\n",
       "        vertical-align: top;\n",
       "    }\n",
       "</style>\n",
       "<table border=\"1\" class=\"dataframe\">\n",
       "  <thead>\n",
       "    <tr style=\"text-align: right;\">\n",
       "      <th></th>\n",
       "      <th>Importance</th>\n",
       "    </tr>\n",
       "    <tr>\n",
       "      <th>Feature</th>\n",
       "      <th></th>\n",
       "    </tr>\n",
       "  </thead>\n",
       "  <tbody>\n",
       "    <tr>\n",
       "      <th>daily_solar_radiation</th>\n",
       "      <td>0.415698</td>\n",
       "    </tr>\n",
       "    <tr>\n",
       "      <th>occupancy_owner_rate</th>\n",
       "      <td>0.183611</td>\n",
       "    </tr>\n",
       "    <tr>\n",
       "      <th>frost_days</th>\n",
       "      <td>0.103097</td>\n",
       "    </tr>\n",
       "    <tr>\n",
       "      <th>average_household_income</th>\n",
       "      <td>0.057242</td>\n",
       "    </tr>\n",
       "    <tr>\n",
       "      <th>population_density</th>\n",
       "      <td>0.050066</td>\n",
       "    </tr>\n",
       "    <tr>\n",
       "      <th>net_metering</th>\n",
       "      <td>0.034552</td>\n",
       "    </tr>\n",
       "    <tr>\n",
       "      <th>relative_humidity</th>\n",
       "      <td>0.033432</td>\n",
       "    </tr>\n",
       "    <tr>\n",
       "      <th>avg_electricity_retail_rate</th>\n",
       "      <td>0.031258</td>\n",
       "    </tr>\n",
       "    <tr>\n",
       "      <th>voting_2016_gop_percentage</th>\n",
       "      <td>0.027230</td>\n",
       "    </tr>\n",
       "    <tr>\n",
       "      <th>household_type_family_rate</th>\n",
       "      <td>0.026834</td>\n",
       "    </tr>\n",
       "    <tr>\n",
       "      <th>voting_2016_dem_percentage</th>\n",
       "      <td>0.016889</td>\n",
       "    </tr>\n",
       "    <tr>\n",
       "      <th>sales_tax</th>\n",
       "      <td>0.013226</td>\n",
       "    </tr>\n",
       "    <tr>\n",
       "      <th>housing_unit_median_value</th>\n",
       "      <td>0.012278</td>\n",
       "    </tr>\n",
       "    <tr>\n",
       "      <th>heating_fuel_gas_rate</th>\n",
       "      <td>0.011443</td>\n",
       "    </tr>\n",
       "    <tr>\n",
       "      <th>health_insurance_public_rate</th>\n",
       "      <td>0.009294</td>\n",
       "    </tr>\n",
       "    <tr>\n",
       "      <th>housing_unit_median_gross_rent</th>\n",
       "      <td>0.008843</td>\n",
       "    </tr>\n",
       "    <tr>\n",
       "      <th>earth_temperature_amplitude</th>\n",
       "      <td>0.008288</td>\n",
       "    </tr>\n",
       "    <tr>\n",
       "      <th>heating_fuel_coal_coke_rate</th>\n",
       "      <td>0.007752</td>\n",
       "    </tr>\n",
       "    <tr>\n",
       "      <th>mortgage_with_rate</th>\n",
       "      <td>0.007111</td>\n",
       "    </tr>\n",
       "    <tr>\n",
       "      <th>occupancy_vacant_rate</th>\n",
       "      <td>0.006248</td>\n",
       "    </tr>\n",
       "    <tr>\n",
       "      <th>air_temperature</th>\n",
       "      <td>0.005481</td>\n",
       "    </tr>\n",
       "    <tr>\n",
       "      <th>age_35_44_rate</th>\n",
       "      <td>0.005360</td>\n",
       "    </tr>\n",
       "    <tr>\n",
       "      <th>race_black_africa_rate</th>\n",
       "      <td>0.005031</td>\n",
       "    </tr>\n",
       "    <tr>\n",
       "      <th>age_18_24_rate</th>\n",
       "      <td>0.004805</td>\n",
       "    </tr>\n",
       "    <tr>\n",
       "      <th>transportation_public_rate</th>\n",
       "      <td>0.004702</td>\n",
       "    </tr>\n",
       "    <tr>\n",
       "      <th>heating_fuel_solar_rate</th>\n",
       "      <td>0.004649</td>\n",
       "    </tr>\n",
       "    <tr>\n",
       "      <th>cooling_degree_days</th>\n",
       "      <td>0.004614</td>\n",
       "    </tr>\n",
       "    <tr>\n",
       "      <th>average_household_size</th>\n",
       "      <td>0.004380</td>\n",
       "    </tr>\n",
       "    <tr>\n",
       "      <th>age_55_64_rate</th>\n",
       "      <td>0.003734</td>\n",
       "    </tr>\n",
       "    <tr>\n",
       "      <th>occupation_arts_rate</th>\n",
       "      <td>0.003398</td>\n",
       "    </tr>\n",
       "    <tr>\n",
       "      <th>...</th>\n",
       "      <td>...</td>\n",
       "    </tr>\n",
       "    <tr>\n",
       "      <th>age_10_14_rate</th>\n",
       "      <td>0.000580</td>\n",
       "    </tr>\n",
       "    <tr>\n",
       "      <th>transportation_home_rate</th>\n",
       "      <td>0.000515</td>\n",
       "    </tr>\n",
       "    <tr>\n",
       "      <th>occupation_manufacturing_rate</th>\n",
       "      <td>0.000478</td>\n",
       "    </tr>\n",
       "    <tr>\n",
       "      <th>travel_time_20_29_rate</th>\n",
       "      <td>0.000366</td>\n",
       "    </tr>\n",
       "    <tr>\n",
       "      <th>travel_time_average</th>\n",
       "      <td>0.000351</td>\n",
       "    </tr>\n",
       "    <tr>\n",
       "      <th>transportation_carpool_rate</th>\n",
       "      <td>0.000320</td>\n",
       "    </tr>\n",
       "    <tr>\n",
       "      <th>age_75_84_rate</th>\n",
       "      <td>0.000312</td>\n",
       "    </tr>\n",
       "    <tr>\n",
       "      <th>poverty_family_below_poverty_level_rate</th>\n",
       "      <td>0.000242</td>\n",
       "    </tr>\n",
       "    <tr>\n",
       "      <th>heating_fuel_none_rate</th>\n",
       "      <td>0.000158</td>\n",
       "    </tr>\n",
       "    <tr>\n",
       "      <th>health_insurance_none_rate</th>\n",
       "      <td>0.000138</td>\n",
       "    </tr>\n",
       "    <tr>\n",
       "      <th>dropout_16_19_inschool_rate</th>\n",
       "      <td>0.000072</td>\n",
       "    </tr>\n",
       "    <tr>\n",
       "      <th>diversity</th>\n",
       "      <td>-0.000008</td>\n",
       "    </tr>\n",
       "    <tr>\n",
       "      <th>travel_time_10_19_rate</th>\n",
       "      <td>-0.000019</td>\n",
       "    </tr>\n",
       "    <tr>\n",
       "      <th>education_master_rate</th>\n",
       "      <td>-0.000104</td>\n",
       "    </tr>\n",
       "    <tr>\n",
       "      <th>education_bachelor_rate</th>\n",
       "      <td>-0.000105</td>\n",
       "    </tr>\n",
       "    <tr>\n",
       "      <th>occupation_agriculture_rate</th>\n",
       "      <td>-0.000106</td>\n",
       "    </tr>\n",
       "    <tr>\n",
       "      <th>education_doctoral_rate</th>\n",
       "      <td>-0.000178</td>\n",
       "    </tr>\n",
       "    <tr>\n",
       "      <th>race_white_rate</th>\n",
       "      <td>-0.000208</td>\n",
       "    </tr>\n",
       "    <tr>\n",
       "      <th>occupation_finance_rate</th>\n",
       "      <td>-0.000219</td>\n",
       "    </tr>\n",
       "    <tr>\n",
       "      <th>occupation_wholesale_rate</th>\n",
       "      <td>-0.000239</td>\n",
       "    </tr>\n",
       "    <tr>\n",
       "      <th>race_asian_rate</th>\n",
       "      <td>-0.000329</td>\n",
       "    </tr>\n",
       "    <tr>\n",
       "      <th>race_indian_alaska_rate</th>\n",
       "      <td>-0.000412</td>\n",
       "    </tr>\n",
       "    <tr>\n",
       "      <th>occupation_information_rate</th>\n",
       "      <td>-0.000531</td>\n",
       "    </tr>\n",
       "    <tr>\n",
       "      <th>occupation_retail_rate</th>\n",
       "      <td>-0.000781</td>\n",
       "    </tr>\n",
       "    <tr>\n",
       "      <th>age_more_than_85_rate</th>\n",
       "      <td>-0.000886</td>\n",
       "    </tr>\n",
       "    <tr>\n",
       "      <th>occupation_construction_rate</th>\n",
       "      <td>-0.000965</td>\n",
       "    </tr>\n",
       "    <tr>\n",
       "      <th>transportation_bicycle_rate</th>\n",
       "      <td>-0.001101</td>\n",
       "    </tr>\n",
       "    <tr>\n",
       "      <th>gini_index</th>\n",
       "      <td>-0.001137</td>\n",
       "    </tr>\n",
       "    <tr>\n",
       "      <th>transportation_motorcycle_rate</th>\n",
       "      <td>-0.001261</td>\n",
       "    </tr>\n",
       "    <tr>\n",
       "      <th>travel_time_60_89_rate</th>\n",
       "      <td>-0.002843</td>\n",
       "    </tr>\n",
       "  </tbody>\n",
       "</table>\n",
       "<p>95 rows × 1 columns</p>\n",
       "</div>"
      ],
      "text/plain": [
       "                                         Importance\n",
       "Feature                                            \n",
       "daily_solar_radiation                      0.415698\n",
       "occupancy_owner_rate                       0.183611\n",
       "frost_days                                 0.103097\n",
       "average_household_income                   0.057242\n",
       "population_density                         0.050066\n",
       "net_metering                               0.034552\n",
       "relative_humidity                          0.033432\n",
       "avg_electricity_retail_rate                0.031258\n",
       "voting_2016_gop_percentage                 0.027230\n",
       "household_type_family_rate                 0.026834\n",
       "voting_2016_dem_percentage                 0.016889\n",
       "sales_tax                                  0.013226\n",
       "housing_unit_median_value                  0.012278\n",
       "heating_fuel_gas_rate                      0.011443\n",
       "health_insurance_public_rate               0.009294\n",
       "housing_unit_median_gross_rent             0.008843\n",
       "earth_temperature_amplitude                0.008288\n",
       "heating_fuel_coal_coke_rate                0.007752\n",
       "mortgage_with_rate                         0.007111\n",
       "occupancy_vacant_rate                      0.006248\n",
       "air_temperature                            0.005481\n",
       "age_35_44_rate                             0.005360\n",
       "race_black_africa_rate                     0.005031\n",
       "age_18_24_rate                             0.004805\n",
       "transportation_public_rate                 0.004702\n",
       "heating_fuel_solar_rate                    0.004649\n",
       "cooling_degree_days                        0.004614\n",
       "average_household_size                     0.004380\n",
       "age_55_64_rate                             0.003734\n",
       "occupation_arts_rate                       0.003398\n",
       "...                                             ...\n",
       "age_10_14_rate                             0.000580\n",
       "transportation_home_rate                   0.000515\n",
       "occupation_manufacturing_rate              0.000478\n",
       "travel_time_20_29_rate                     0.000366\n",
       "travel_time_average                        0.000351\n",
       "transportation_carpool_rate                0.000320\n",
       "age_75_84_rate                             0.000312\n",
       "poverty_family_below_poverty_level_rate    0.000242\n",
       "heating_fuel_none_rate                     0.000158\n",
       "health_insurance_none_rate                 0.000138\n",
       "dropout_16_19_inschool_rate                0.000072\n",
       "diversity                                 -0.000008\n",
       "travel_time_10_19_rate                    -0.000019\n",
       "education_master_rate                     -0.000104\n",
       "education_bachelor_rate                   -0.000105\n",
       "occupation_agriculture_rate               -0.000106\n",
       "education_doctoral_rate                   -0.000178\n",
       "race_white_rate                           -0.000208\n",
       "occupation_finance_rate                   -0.000219\n",
       "occupation_wholesale_rate                 -0.000239\n",
       "race_asian_rate                           -0.000329\n",
       "race_indian_alaska_rate                   -0.000412\n",
       "occupation_information_rate               -0.000531\n",
       "occupation_retail_rate                    -0.000781\n",
       "age_more_than_85_rate                     -0.000886\n",
       "occupation_construction_rate              -0.000965\n",
       "transportation_bicycle_rate               -0.001101\n",
       "gini_index                                -0.001137\n",
       "transportation_motorcycle_rate            -0.001261\n",
       "travel_time_60_89_rate                    -0.002843\n",
       "\n",
       "[95 rows x 1 columns]"
      ]
     },
     "execution_count": 12,
     "metadata": {},
     "output_type": "execute_result"
    }
   ],
   "source": [
    "rfp.importances(regressor,pd.DataFrame(X_test,columns=features),pd.DataFrame(yr_test,columns=['number_of_solar_system_per_household']))"
   ]
  },
  {
   "cell_type": "markdown",
   "metadata": {},
   "source": [
    "## Put it all Together"
   ]
  },
  {
   "cell_type": "code",
   "execution_count": 13,
   "metadata": {},
   "outputs": [
    {
     "data": {
      "text/plain": [
       "array([1, 0, 1, 1, 1, 1, 1, 1, 1, 1, 1, 1, 1, 1, 0, 1, 1, 1, 0, 1, 1, 1, 0,\n",
       "       1, 1, 0, 1, 1, 1, 1, 1, 1, 1, 1, 1, 0, 1, 1, 1, 1, 0, 1, 1, 1, 1, 0,\n",
       "       0, 1, 1, 1, 1, 1, 1, 1, 1, 1, 1, 1, 1, 1, 1, 1, 1, 1, 0, 1, 1, 0, 1,\n",
       "       1, 1, 1, 1, 1, 1, 1, 1, 1, 1, 1, 1, 1, 0, 0, 0, 1, 1, 1, 1, 1, 1, 0,\n",
       "       1, 1, 1, 1, 1, 1, 1, 0], dtype=int64)"
      ]
     },
     "execution_count": 13,
     "metadata": {},
     "output_type": "execute_result"
    }
   ],
   "source": [
    "classifier_preds=classifier.predict(X_test)\n",
    "classifier_preds[0:100]"
   ]
  },
  {
   "cell_type": "code",
   "execution_count": 14,
   "metadata": {},
   "outputs": [
    {
     "data": {
      "text/plain": [
       "array([  6.75949078e-03,   3.19947843e-04,   1.19703680e-03,\n",
       "         5.41423257e-02,   4.53366054e-02,   1.38439401e-03,\n",
       "         4.24520036e-02,   2.32075817e-03,   4.83968723e-03,\n",
       "         1.49067704e-03,   1.68267039e-02,   2.74010629e-03,\n",
       "         2.19242556e-03,   3.73469603e-02,   1.82744641e-03,\n",
       "         1.66336539e-03,   1.16248368e-02,   2.23436218e-03,\n",
       "         4.82393736e-04,   1.56134511e-03,   5.42683597e-04,\n",
       "         1.03012396e-02,   2.88325804e-04,   1.47974684e-02,\n",
       "         4.74117553e-04,   6.13349952e-04,   1.83338134e-03,\n",
       "         1.53345838e-03,   7.94017561e-04,   3.42781855e-03,\n",
       "         2.31390719e-02,   1.38227881e-02,   3.13158397e-02,\n",
       "         1.21147235e-02,   1.15937366e-03,   4.30188501e-04,\n",
       "         1.57198191e-03,   1.27644704e-03,   1.30725609e-03,\n",
       "         1.43828220e-03,   4.58402330e-04,   1.22144615e-02,\n",
       "         1.38823331e-03,   1.85310854e-03,   8.95784846e-04,\n",
       "         2.71424912e-01,   8.33677655e-04,   8.35577076e-03,\n",
       "         6.45436639e-04,   6.19653020e-03,   9.65314146e-04,\n",
       "         3.03268746e-03,   3.80398903e-02,   1.26344097e-03,\n",
       "         8.50973417e-03,   8.90045037e-02,   6.36099217e-03,\n",
       "         1.29441601e-02,   2.27652330e-03,   4.73705921e-02,\n",
       "         2.12687151e-03,   1.03489938e-03,   1.76926295e-03,\n",
       "         9.80724814e-04,   8.51984417e-04,   1.50952608e-02,\n",
       "         9.48022015e-04,   3.08948400e-04,   2.89829887e-03,\n",
       "         1.57140681e-03,   9.40391830e-03,   5.24707896e-03,\n",
       "         3.07682452e-02,   9.62077793e-03,   3.56655652e-03,\n",
       "         5.66097412e-02,   3.41562685e-03,   1.39487279e-02,\n",
       "         2.40873861e-03,   8.32079367e-02,   1.38433411e-01,\n",
       "         7.06036140e-03,   1.58490462e-04,   4.49926364e-04,\n",
       "         7.30772230e-04,   1.96698343e-03,   1.55311940e-03,\n",
       "         1.37580035e-03,   1.42982413e-03,   4.12228846e-03,\n",
       "         9.11825576e-03,   1.73361367e-04,   1.14996574e-02,\n",
       "         3.58386747e-02,   1.57864721e-03,   1.26449362e-03,\n",
       "         1.51816052e-03,   1.96348162e-03,   1.58039065e-02,\n",
       "         3.36189771e-04])"
      ]
     },
     "execution_count": 14,
     "metadata": {},
     "output_type": "execute_result"
    }
   ],
   "source": [
    "regressor_preds=regressor.predict(X_test)\n",
    "regressor_preds[0:100]"
   ]
  },
  {
   "cell_type": "code",
   "execution_count": 15,
   "metadata": {},
   "outputs": [
    {
     "data": {
      "text/plain": [
       "array([ 0.00675949,  0.        ,  0.00119704,  0.05414233,  0.04533661,\n",
       "        0.00138439,  0.042452  ,  0.00232076,  0.00483969,  0.00149068,\n",
       "        0.0168267 ,  0.00274011,  0.00219243,  0.03734696,  0.        ,\n",
       "        0.00166337,  0.01162484,  0.00223436,  0.        ,  0.00156135,\n",
       "        0.00054268,  0.01030124,  0.        ,  0.01479747,  0.00047412,\n",
       "        0.        ,  0.00183338,  0.00153346,  0.00079402,  0.00342782,\n",
       "        0.02313907,  0.01382279,  0.03131584,  0.01211472,  0.00115937,\n",
       "        0.        ,  0.00157198,  0.00127645,  0.00130726,  0.00143828,\n",
       "        0.        ,  0.01221446,  0.00138823,  0.00185311,  0.00089578,\n",
       "        0.        ,  0.        ,  0.00835577,  0.00064544,  0.00619653,\n",
       "        0.00096531,  0.00303269,  0.03803989,  0.00126344,  0.00850973,\n",
       "        0.0890045 ,  0.00636099,  0.01294416,  0.00227652,  0.04737059,\n",
       "        0.00212687,  0.0010349 ,  0.00176926,  0.00098072,  0.        ,\n",
       "        0.01509526,  0.00094802,  0.        ,  0.0028983 ,  0.00157141,\n",
       "        0.00940392,  0.00524708,  0.03076825,  0.00962078,  0.00356656,\n",
       "        0.05660974,  0.00341563,  0.01394873,  0.00240874,  0.08320794,\n",
       "        0.13843341,  0.00706036,  0.        ,  0.        ,  0.        ,\n",
       "        0.00196698,  0.00155312,  0.0013758 ,  0.00142982,  0.00412229,\n",
       "        0.00911826,  0.        ,  0.01149966,  0.03583867,  0.00157865,\n",
       "        0.00126449,  0.00151816,  0.00196348,  0.01580391,  0.        ])"
      ]
     },
     "execution_count": 15,
     "metadata": {},
     "output_type": "execute_result"
    }
   ],
   "source": [
    "final_preds=regressor_preds*classifier_preds\n",
    "final_preds[0:100]"
   ]
  },
  {
   "cell_type": "code",
   "execution_count": 16,
   "metadata": {
    "collapsed": true
   },
   "outputs": [],
   "source": [
    "from sklearn.metrics import r2_score"
   ]
  },
  {
   "cell_type": "code",
   "execution_count": 17,
   "metadata": {},
   "outputs": [
    {
     "data": {
      "text/plain": [
       "(21329,)"
      ]
     },
     "execution_count": 17,
     "metadata": {},
     "output_type": "execute_result"
    }
   ],
   "source": [
    "yr_test.shape"
   ]
  },
  {
   "cell_type": "code",
   "execution_count": 18,
   "metadata": {},
   "outputs": [
    {
     "data": {
      "text/plain": [
       "(21329,)"
      ]
     },
     "execution_count": 18,
     "metadata": {},
     "output_type": "execute_result"
    }
   ],
   "source": [
    "final_preds.shape"
   ]
  },
  {
   "cell_type": "code",
   "execution_count": 19,
   "metadata": {},
   "outputs": [
    {
     "data": {
      "text/plain": [
       "0.4527045793223422"
      ]
     },
     "execution_count": 19,
     "metadata": {},
     "output_type": "execute_result"
    }
   ],
   "source": [
    "r2_score(yr_test,final_preds)"
   ]
  },
  {
   "cell_type": "markdown",
   "metadata": {},
   "source": [
    "## Write Predictions to Output File"
   ]
  },
  {
   "cell_type": "code",
   "execution_count": 22,
   "metadata": {},
   "outputs": [
    {
     "data": {
      "text/plain": [
       "(71095, 95)"
      ]
     },
     "execution_count": 22,
     "metadata": {},
     "output_type": "execute_result"
    }
   ],
   "source": [
    "X.shape"
   ]
  },
  {
   "cell_type": "code",
   "execution_count": 23,
   "metadata": {
    "collapsed": true
   },
   "outputs": [],
   "source": [
    "classifier_preds=classifier.predict(X)\n",
    "regressor_preds=regressor.predict(X)\n",
    "final_preds=regressor_preds*classifier_preds"
   ]
  },
  {
   "cell_type": "code",
   "execution_count": 28,
   "metadata": {},
   "outputs": [
    {
     "data": {
      "text/html": [
       "<div>\n",
       "<style>\n",
       "    .dataframe thead tr:only-child th {\n",
       "        text-align: right;\n",
       "    }\n",
       "\n",
       "    .dataframe thead th {\n",
       "        text-align: left;\n",
       "    }\n",
       "\n",
       "    .dataframe tbody tr th {\n",
       "        vertical-align: top;\n",
       "    }\n",
       "</style>\n",
       "<table border=\"1\" class=\"dataframe\">\n",
       "  <thead>\n",
       "    <tr style=\"text-align: right;\">\n",
       "      <th></th>\n",
       "      <th>average_household_income</th>\n",
       "      <th>gini_index</th>\n",
       "      <th>population_density</th>\n",
       "      <th>education_less_than_high_school_rate</th>\n",
       "      <th>education_high_school_graduate_rate</th>\n",
       "      <th>education_college_rate</th>\n",
       "      <th>education_bachelor_rate</th>\n",
       "      <th>education_master_rate</th>\n",
       "      <th>education_professional_school_rate</th>\n",
       "      <th>education_doctoral_rate</th>\n",
       "      <th>...</th>\n",
       "      <th>feedin_tariff</th>\n",
       "      <th>cooperate_tax</th>\n",
       "      <th>property_tax</th>\n",
       "      <th>sales_tax</th>\n",
       "      <th>rebate</th>\n",
       "      <th>avg_electricity_retail_rate</th>\n",
       "      <th>population</th>\n",
       "      <th>number_of_solar_system_per_household</th>\n",
       "      <th>fips</th>\n",
       "      <th>predicted_solar</th>\n",
       "    </tr>\n",
       "  </thead>\n",
       "  <tbody>\n",
       "    <tr>\n",
       "      <th>0</th>\n",
       "      <td>70352.78987</td>\n",
       "      <td>0.3490</td>\n",
       "      <td>44.52005</td>\n",
       "      <td>0.073879</td>\n",
       "      <td>0.386324</td>\n",
       "      <td>0.371592</td>\n",
       "      <td>0.125110</td>\n",
       "      <td>0.034521</td>\n",
       "      <td>0.005717</td>\n",
       "      <td>0.002858</td>\n",
       "      <td>...</td>\n",
       "      <td>0</td>\n",
       "      <td>0</td>\n",
       "      <td>25</td>\n",
       "      <td>12</td>\n",
       "      <td>0</td>\n",
       "      <td>9.46</td>\n",
       "      <td>6577</td>\n",
       "      <td>0.000000</td>\n",
       "      <td>27145011200</td>\n",
       "      <td>0.000000</td>\n",
       "    </tr>\n",
       "    <tr>\n",
       "      <th>1</th>\n",
       "      <td>61727.08520</td>\n",
       "      <td>0.4074</td>\n",
       "      <td>482.64430</td>\n",
       "      <td>0.062836</td>\n",
       "      <td>0.217096</td>\n",
       "      <td>0.405887</td>\n",
       "      <td>0.190773</td>\n",
       "      <td>0.080668</td>\n",
       "      <td>0.012171</td>\n",
       "      <td>0.030569</td>\n",
       "      <td>...</td>\n",
       "      <td>0</td>\n",
       "      <td>0</td>\n",
       "      <td>25</td>\n",
       "      <td>12</td>\n",
       "      <td>0</td>\n",
       "      <td>9.46</td>\n",
       "      <td>8020</td>\n",
       "      <td>0.006726</td>\n",
       "      <td>27145011301</td>\n",
       "      <td>0.005468</td>\n",
       "    </tr>\n",
       "    <tr>\n",
       "      <th>2</th>\n",
       "      <td>71496.88658</td>\n",
       "      <td>0.3926</td>\n",
       "      <td>186.16730</td>\n",
       "      <td>0.064509</td>\n",
       "      <td>0.343973</td>\n",
       "      <td>0.325670</td>\n",
       "      <td>0.190625</td>\n",
       "      <td>0.061607</td>\n",
       "      <td>0.006696</td>\n",
       "      <td>0.006920</td>\n",
       "      <td>...</td>\n",
       "      <td>0</td>\n",
       "      <td>0</td>\n",
       "      <td>25</td>\n",
       "      <td>12</td>\n",
       "      <td>0</td>\n",
       "      <td>9.46</td>\n",
       "      <td>6971</td>\n",
       "      <td>0.001112</td>\n",
       "      <td>27145011302</td>\n",
       "      <td>0.001137</td>\n",
       "    </tr>\n",
       "    <tr>\n",
       "      <th>3</th>\n",
       "      <td>86840.15275</td>\n",
       "      <td>0.3949</td>\n",
       "      <td>84.13610</td>\n",
       "      <td>0.066840</td>\n",
       "      <td>0.316840</td>\n",
       "      <td>0.322917</td>\n",
       "      <td>0.185185</td>\n",
       "      <td>0.078125</td>\n",
       "      <td>0.010417</td>\n",
       "      <td>0.019676</td>\n",
       "      <td>...</td>\n",
       "      <td>0</td>\n",
       "      <td>0</td>\n",
       "      <td>25</td>\n",
       "      <td>12</td>\n",
       "      <td>0</td>\n",
       "      <td>9.46</td>\n",
       "      <td>6328</td>\n",
       "      <td>0.000000</td>\n",
       "      <td>27145011304</td>\n",
       "      <td>0.000000</td>\n",
       "    </tr>\n",
       "    <tr>\n",
       "      <th>4</th>\n",
       "      <td>89135.31560</td>\n",
       "      <td>0.4463</td>\n",
       "      <td>119.63230</td>\n",
       "      <td>0.048686</td>\n",
       "      <td>0.293309</td>\n",
       "      <td>0.392473</td>\n",
       "      <td>0.195341</td>\n",
       "      <td>0.050777</td>\n",
       "      <td>0.014934</td>\n",
       "      <td>0.004480</td>\n",
       "      <td>...</td>\n",
       "      <td>0</td>\n",
       "      <td>0</td>\n",
       "      <td>25</td>\n",
       "      <td>12</td>\n",
       "      <td>0</td>\n",
       "      <td>9.46</td>\n",
       "      <td>5264</td>\n",
       "      <td>0.002087</td>\n",
       "      <td>27145011400</td>\n",
       "      <td>0.000862</td>\n",
       "    </tr>\n",
       "    <tr>\n",
       "      <th>5</th>\n",
       "      <td>62225.90361</td>\n",
       "      <td>0.3847</td>\n",
       "      <td>43.87035</td>\n",
       "      <td>0.099371</td>\n",
       "      <td>0.425809</td>\n",
       "      <td>0.313624</td>\n",
       "      <td>0.117356</td>\n",
       "      <td>0.031924</td>\n",
       "      <td>0.006520</td>\n",
       "      <td>0.005396</td>\n",
       "      <td>...</td>\n",
       "      <td>0</td>\n",
       "      <td>0</td>\n",
       "      <td>25</td>\n",
       "      <td>12</td>\n",
       "      <td>0</td>\n",
       "      <td>9.46</td>\n",
       "      <td>6531</td>\n",
       "      <td>0.000000</td>\n",
       "      <td>27145011500</td>\n",
       "      <td>0.000000</td>\n",
       "    </tr>\n",
       "    <tr>\n",
       "      <th>6</th>\n",
       "      <td>41068.93617</td>\n",
       "      <td>0.7166</td>\n",
       "      <td>7818.25900</td>\n",
       "      <td>0.059932</td>\n",
       "      <td>0.203767</td>\n",
       "      <td>0.476027</td>\n",
       "      <td>0.083904</td>\n",
       "      <td>0.077055</td>\n",
       "      <td>0.044521</td>\n",
       "      <td>0.054795</td>\n",
       "      <td>...</td>\n",
       "      <td>0</td>\n",
       "      <td>0</td>\n",
       "      <td>25</td>\n",
       "      <td>12</td>\n",
       "      <td>0</td>\n",
       "      <td>9.46</td>\n",
       "      <td>3504</td>\n",
       "      <td>0.004255</td>\n",
       "      <td>27145011600</td>\n",
       "      <td>0.006808</td>\n",
       "    </tr>\n",
       "    <tr>\n",
       "      <th>7</th>\n",
       "      <td>74073.83367</td>\n",
       "      <td>0.4317</td>\n",
       "      <td>36.87569</td>\n",
       "      <td>0.104755</td>\n",
       "      <td>0.432161</td>\n",
       "      <td>0.335137</td>\n",
       "      <td>0.093545</td>\n",
       "      <td>0.020101</td>\n",
       "      <td>0.010437</td>\n",
       "      <td>0.003865</td>\n",
       "      <td>...</td>\n",
       "      <td>0</td>\n",
       "      <td>0</td>\n",
       "      <td>25</td>\n",
       "      <td>12</td>\n",
       "      <td>0</td>\n",
       "      <td>9.46</td>\n",
       "      <td>3874</td>\n",
       "      <td>0.000000</td>\n",
       "      <td>27145010500</td>\n",
       "      <td>0.000000</td>\n",
       "    </tr>\n",
       "    <tr>\n",
       "      <th>8</th>\n",
       "      <td>69412.19243</td>\n",
       "      <td>0.3824</td>\n",
       "      <td>43.64127</td>\n",
       "      <td>0.086355</td>\n",
       "      <td>0.425697</td>\n",
       "      <td>0.348983</td>\n",
       "      <td>0.110459</td>\n",
       "      <td>0.023475</td>\n",
       "      <td>0.003773</td>\n",
       "      <td>0.001258</td>\n",
       "      <td>...</td>\n",
       "      <td>0</td>\n",
       "      <td>0</td>\n",
       "      <td>25</td>\n",
       "      <td>12</td>\n",
       "      <td>0</td>\n",
       "      <td>9.46</td>\n",
       "      <td>7236</td>\n",
       "      <td>0.000000</td>\n",
       "      <td>27145011100</td>\n",
       "      <td>0.000000</td>\n",
       "    </tr>\n",
       "    <tr>\n",
       "      <th>9</th>\n",
       "      <td>82502.40707</td>\n",
       "      <td>0.3588</td>\n",
       "      <td>1080.02700</td>\n",
       "      <td>0.058705</td>\n",
       "      <td>0.210053</td>\n",
       "      <td>0.357549</td>\n",
       "      <td>0.290222</td>\n",
       "      <td>0.045863</td>\n",
       "      <td>0.036507</td>\n",
       "      <td>0.001101</td>\n",
       "      <td>...</td>\n",
       "      <td>0</td>\n",
       "      <td>0</td>\n",
       "      <td>25</td>\n",
       "      <td>12</td>\n",
       "      <td>0</td>\n",
       "      <td>9.46</td>\n",
       "      <td>8504</td>\n",
       "      <td>0.002742</td>\n",
       "      <td>27145010102</td>\n",
       "      <td>0.002343</td>\n",
       "    </tr>\n",
       "  </tbody>\n",
       "</table>\n",
       "<p>10 rows × 99 columns</p>\n",
       "</div>"
      ],
      "text/plain": [
       "   average_household_income  gini_index  population_density  \\\n",
       "0               70352.78987      0.3490            44.52005   \n",
       "1               61727.08520      0.4074           482.64430   \n",
       "2               71496.88658      0.3926           186.16730   \n",
       "3               86840.15275      0.3949            84.13610   \n",
       "4               89135.31560      0.4463           119.63230   \n",
       "5               62225.90361      0.3847            43.87035   \n",
       "6               41068.93617      0.7166          7818.25900   \n",
       "7               74073.83367      0.4317            36.87569   \n",
       "8               69412.19243      0.3824            43.64127   \n",
       "9               82502.40707      0.3588          1080.02700   \n",
       "\n",
       "   education_less_than_high_school_rate  education_high_school_graduate_rate  \\\n",
       "0                              0.073879                             0.386324   \n",
       "1                              0.062836                             0.217096   \n",
       "2                              0.064509                             0.343973   \n",
       "3                              0.066840                             0.316840   \n",
       "4                              0.048686                             0.293309   \n",
       "5                              0.099371                             0.425809   \n",
       "6                              0.059932                             0.203767   \n",
       "7                              0.104755                             0.432161   \n",
       "8                              0.086355                             0.425697   \n",
       "9                              0.058705                             0.210053   \n",
       "\n",
       "   education_college_rate  education_bachelor_rate  education_master_rate  \\\n",
       "0                0.371592                 0.125110               0.034521   \n",
       "1                0.405887                 0.190773               0.080668   \n",
       "2                0.325670                 0.190625               0.061607   \n",
       "3                0.322917                 0.185185               0.078125   \n",
       "4                0.392473                 0.195341               0.050777   \n",
       "5                0.313624                 0.117356               0.031924   \n",
       "6                0.476027                 0.083904               0.077055   \n",
       "7                0.335137                 0.093545               0.020101   \n",
       "8                0.348983                 0.110459               0.023475   \n",
       "9                0.357549                 0.290222               0.045863   \n",
       "\n",
       "   education_professional_school_rate  education_doctoral_rate  \\\n",
       "0                            0.005717                 0.002858   \n",
       "1                            0.012171                 0.030569   \n",
       "2                            0.006696                 0.006920   \n",
       "3                            0.010417                 0.019676   \n",
       "4                            0.014934                 0.004480   \n",
       "5                            0.006520                 0.005396   \n",
       "6                            0.044521                 0.054795   \n",
       "7                            0.010437                 0.003865   \n",
       "8                            0.003773                 0.001258   \n",
       "9                            0.036507                 0.001101   \n",
       "\n",
       "        ...         feedin_tariff  cooperate_tax  property_tax  sales_tax  \\\n",
       "0       ...                     0              0            25         12   \n",
       "1       ...                     0              0            25         12   \n",
       "2       ...                     0              0            25         12   \n",
       "3       ...                     0              0            25         12   \n",
       "4       ...                     0              0            25         12   \n",
       "5       ...                     0              0            25         12   \n",
       "6       ...                     0              0            25         12   \n",
       "7       ...                     0              0            25         12   \n",
       "8       ...                     0              0            25         12   \n",
       "9       ...                     0              0            25         12   \n",
       "\n",
       "   rebate  avg_electricity_retail_rate  population  \\\n",
       "0       0                         9.46        6577   \n",
       "1       0                         9.46        8020   \n",
       "2       0                         9.46        6971   \n",
       "3       0                         9.46        6328   \n",
       "4       0                         9.46        5264   \n",
       "5       0                         9.46        6531   \n",
       "6       0                         9.46        3504   \n",
       "7       0                         9.46        3874   \n",
       "8       0                         9.46        7236   \n",
       "9       0                         9.46        8504   \n",
       "\n",
       "   number_of_solar_system_per_household         fips  predicted_solar  \n",
       "0                              0.000000  27145011200         0.000000  \n",
       "1                              0.006726  27145011301         0.005468  \n",
       "2                              0.001112  27145011302         0.001137  \n",
       "3                              0.000000  27145011304         0.000000  \n",
       "4                              0.002087  27145011400         0.000862  \n",
       "5                              0.000000  27145011500         0.000000  \n",
       "6                              0.004255  27145011600         0.006808  \n",
       "7                              0.000000  27145010500         0.000000  \n",
       "8                              0.000000  27145011100         0.000000  \n",
       "9                              0.002742  27145010102         0.002343  \n",
       "\n",
       "[10 rows x 99 columns]"
      ]
     },
     "execution_count": 28,
     "metadata": {},
     "output_type": "execute_result"
    }
   ],
   "source": [
    "solar_full=solar[list(features)+['population']].replace([np.inf,' '],np.nan)\n",
    "solar_full['number_of_solar_system_per_household']=solar['number_of_solar_system_per_household'].replace(np.inf,np.nan)\n",
    "solar_full['fips']=solar['fips']\n",
    "solar_full=solar_full.loc[(np.isfinite(solar_full['number_of_solar_system_per_household']))\n",
    "                                   & (solar_full['population']>1000)]\n",
    "\n",
    "solar_full=solar_full.assign(predicted_solar=final_preds)\n",
    "solar_full.head(10)"
   ]
  },
  {
   "cell_type": "code",
   "execution_count": 35,
   "metadata": {},
   "outputs": [
    {
     "data": {
      "text/html": [
       "<div>\n",
       "<style>\n",
       "    .dataframe thead tr:only-child th {\n",
       "        text-align: right;\n",
       "    }\n",
       "\n",
       "    .dataframe thead th {\n",
       "        text-align: left;\n",
       "    }\n",
       "\n",
       "    .dataframe tbody tr th {\n",
       "        vertical-align: top;\n",
       "    }\n",
       "</style>\n",
       "<table border=\"1\" class=\"dataframe\">\n",
       "  <thead>\n",
       "    <tr style=\"text-align: right;\">\n",
       "      <th></th>\n",
       "      <th>number_of_solar_system_per_household</th>\n",
       "      <th>average_household_income</th>\n",
       "      <th>gini_index</th>\n",
       "      <th>population_density</th>\n",
       "      <th>education_less_than_high_school_rate</th>\n",
       "      <th>education_high_school_graduate_rate</th>\n",
       "      <th>education_college_rate</th>\n",
       "      <th>education_bachelor_rate</th>\n",
       "      <th>education_master_rate</th>\n",
       "      <th>education_professional_school_rate</th>\n",
       "      <th>...</th>\n",
       "      <th>diversity</th>\n",
       "      <th>net_metering</th>\n",
       "      <th>feedin_tariff</th>\n",
       "      <th>cooperate_tax</th>\n",
       "      <th>property_tax</th>\n",
       "      <th>sales_tax</th>\n",
       "      <th>rebate</th>\n",
       "      <th>avg_electricity_retail_rate</th>\n",
       "      <th>fips</th>\n",
       "      <th>predicted_solar</th>\n",
       "    </tr>\n",
       "  </thead>\n",
       "  <tbody>\n",
       "    <tr>\n",
       "      <th>0</th>\n",
       "      <td>0.000000</td>\n",
       "      <td>70352.78987</td>\n",
       "      <td>0.3490</td>\n",
       "      <td>44.52005</td>\n",
       "      <td>0.073879</td>\n",
       "      <td>0.386324</td>\n",
       "      <td>0.371592</td>\n",
       "      <td>0.125110</td>\n",
       "      <td>0.034521</td>\n",
       "      <td>0.005717</td>\n",
       "      <td>...</td>\n",
       "      <td>0.046960</td>\n",
       "      <td>34</td>\n",
       "      <td>0</td>\n",
       "      <td>0</td>\n",
       "      <td>25</td>\n",
       "      <td>12</td>\n",
       "      <td>0</td>\n",
       "      <td>9.46</td>\n",
       "      <td>27145011200</td>\n",
       "      <td>0.000000</td>\n",
       "    </tr>\n",
       "    <tr>\n",
       "      <th>1</th>\n",
       "      <td>0.006726</td>\n",
       "      <td>61727.08520</td>\n",
       "      <td>0.4074</td>\n",
       "      <td>482.64430</td>\n",
       "      <td>0.062836</td>\n",
       "      <td>0.217096</td>\n",
       "      <td>0.405887</td>\n",
       "      <td>0.190773</td>\n",
       "      <td>0.080668</td>\n",
       "      <td>0.012171</td>\n",
       "      <td>...</td>\n",
       "      <td>0.145934</td>\n",
       "      <td>34</td>\n",
       "      <td>0</td>\n",
       "      <td>0</td>\n",
       "      <td>25</td>\n",
       "      <td>12</td>\n",
       "      <td>0</td>\n",
       "      <td>9.46</td>\n",
       "      <td>27145011301</td>\n",
       "      <td>0.005468</td>\n",
       "    </tr>\n",
       "    <tr>\n",
       "      <th>2</th>\n",
       "      <td>0.001112</td>\n",
       "      <td>71496.88658</td>\n",
       "      <td>0.3926</td>\n",
       "      <td>186.16730</td>\n",
       "      <td>0.064509</td>\n",
       "      <td>0.343973</td>\n",
       "      <td>0.325670</td>\n",
       "      <td>0.190625</td>\n",
       "      <td>0.061607</td>\n",
       "      <td>0.006696</td>\n",
       "      <td>...</td>\n",
       "      <td>0.009150</td>\n",
       "      <td>34</td>\n",
       "      <td>0</td>\n",
       "      <td>0</td>\n",
       "      <td>25</td>\n",
       "      <td>12</td>\n",
       "      <td>0</td>\n",
       "      <td>9.46</td>\n",
       "      <td>27145011302</td>\n",
       "      <td>0.001137</td>\n",
       "    </tr>\n",
       "    <tr>\n",
       "      <th>3</th>\n",
       "      <td>0.000000</td>\n",
       "      <td>86840.15275</td>\n",
       "      <td>0.3949</td>\n",
       "      <td>84.13610</td>\n",
       "      <td>0.066840</td>\n",
       "      <td>0.316840</td>\n",
       "      <td>0.322917</td>\n",
       "      <td>0.185185</td>\n",
       "      <td>0.078125</td>\n",
       "      <td>0.010417</td>\n",
       "      <td>...</td>\n",
       "      <td>0.187334</td>\n",
       "      <td>34</td>\n",
       "      <td>0</td>\n",
       "      <td>0</td>\n",
       "      <td>25</td>\n",
       "      <td>12</td>\n",
       "      <td>0</td>\n",
       "      <td>9.46</td>\n",
       "      <td>27145011304</td>\n",
       "      <td>0.000000</td>\n",
       "    </tr>\n",
       "    <tr>\n",
       "      <th>4</th>\n",
       "      <td>0.002087</td>\n",
       "      <td>89135.31560</td>\n",
       "      <td>0.4463</td>\n",
       "      <td>119.63230</td>\n",
       "      <td>0.048686</td>\n",
       "      <td>0.293309</td>\n",
       "      <td>0.392473</td>\n",
       "      <td>0.195341</td>\n",
       "      <td>0.050777</td>\n",
       "      <td>0.014934</td>\n",
       "      <td>...</td>\n",
       "      <td>0.090766</td>\n",
       "      <td>34</td>\n",
       "      <td>0</td>\n",
       "      <td>0</td>\n",
       "      <td>25</td>\n",
       "      <td>12</td>\n",
       "      <td>0</td>\n",
       "      <td>9.46</td>\n",
       "      <td>27145011400</td>\n",
       "      <td>0.000862</td>\n",
       "    </tr>\n",
       "    <tr>\n",
       "      <th>5</th>\n",
       "      <td>0.000000</td>\n",
       "      <td>62225.90361</td>\n",
       "      <td>0.3847</td>\n",
       "      <td>43.87035</td>\n",
       "      <td>0.099371</td>\n",
       "      <td>0.425809</td>\n",
       "      <td>0.313624</td>\n",
       "      <td>0.117356</td>\n",
       "      <td>0.031924</td>\n",
       "      <td>0.006520</td>\n",
       "      <td>...</td>\n",
       "      <td>0.081981</td>\n",
       "      <td>34</td>\n",
       "      <td>0</td>\n",
       "      <td>0</td>\n",
       "      <td>25</td>\n",
       "      <td>12</td>\n",
       "      <td>0</td>\n",
       "      <td>9.46</td>\n",
       "      <td>27145011500</td>\n",
       "      <td>0.000000</td>\n",
       "    </tr>\n",
       "    <tr>\n",
       "      <th>6</th>\n",
       "      <td>0.004255</td>\n",
       "      <td>41068.93617</td>\n",
       "      <td>0.7166</td>\n",
       "      <td>7818.25900</td>\n",
       "      <td>0.059932</td>\n",
       "      <td>0.203767</td>\n",
       "      <td>0.476027</td>\n",
       "      <td>0.083904</td>\n",
       "      <td>0.077055</td>\n",
       "      <td>0.044521</td>\n",
       "      <td>...</td>\n",
       "      <td>0.470443</td>\n",
       "      <td>34</td>\n",
       "      <td>0</td>\n",
       "      <td>0</td>\n",
       "      <td>25</td>\n",
       "      <td>12</td>\n",
       "      <td>0</td>\n",
       "      <td>9.46</td>\n",
       "      <td>27145011600</td>\n",
       "      <td>0.006808</td>\n",
       "    </tr>\n",
       "    <tr>\n",
       "      <th>7</th>\n",
       "      <td>0.000000</td>\n",
       "      <td>74073.83367</td>\n",
       "      <td>0.4317</td>\n",
       "      <td>36.87569</td>\n",
       "      <td>0.104755</td>\n",
       "      <td>0.432161</td>\n",
       "      <td>0.335137</td>\n",
       "      <td>0.093545</td>\n",
       "      <td>0.020101</td>\n",
       "      <td>0.010437</td>\n",
       "      <td>...</td>\n",
       "      <td>0.008239</td>\n",
       "      <td>34</td>\n",
       "      <td>0</td>\n",
       "      <td>0</td>\n",
       "      <td>25</td>\n",
       "      <td>12</td>\n",
       "      <td>0</td>\n",
       "      <td>9.46</td>\n",
       "      <td>27145010500</td>\n",
       "      <td>0.000000</td>\n",
       "    </tr>\n",
       "    <tr>\n",
       "      <th>8</th>\n",
       "      <td>0.000000</td>\n",
       "      <td>69412.19243</td>\n",
       "      <td>0.3824</td>\n",
       "      <td>43.64127</td>\n",
       "      <td>0.086355</td>\n",
       "      <td>0.425697</td>\n",
       "      <td>0.348983</td>\n",
       "      <td>0.110459</td>\n",
       "      <td>0.023475</td>\n",
       "      <td>0.003773</td>\n",
       "      <td>...</td>\n",
       "      <td>0.029574</td>\n",
       "      <td>34</td>\n",
       "      <td>0</td>\n",
       "      <td>0</td>\n",
       "      <td>25</td>\n",
       "      <td>12</td>\n",
       "      <td>0</td>\n",
       "      <td>9.46</td>\n",
       "      <td>27145011100</td>\n",
       "      <td>0.000000</td>\n",
       "    </tr>\n",
       "    <tr>\n",
       "      <th>9</th>\n",
       "      <td>0.002742</td>\n",
       "      <td>82502.40707</td>\n",
       "      <td>0.3588</td>\n",
       "      <td>1080.02700</td>\n",
       "      <td>0.058705</td>\n",
       "      <td>0.210053</td>\n",
       "      <td>0.357549</td>\n",
       "      <td>0.290222</td>\n",
       "      <td>0.045863</td>\n",
       "      <td>0.036507</td>\n",
       "      <td>...</td>\n",
       "      <td>0.120052</td>\n",
       "      <td>34</td>\n",
       "      <td>0</td>\n",
       "      <td>0</td>\n",
       "      <td>25</td>\n",
       "      <td>12</td>\n",
       "      <td>0</td>\n",
       "      <td>9.46</td>\n",
       "      <td>27145010102</td>\n",
       "      <td>0.002343</td>\n",
       "    </tr>\n",
       "  </tbody>\n",
       "</table>\n",
       "<p>10 rows × 98 columns</p>\n",
       "</div>"
      ],
      "text/plain": [
       "   number_of_solar_system_per_household  average_household_income  gini_index  \\\n",
       "0                              0.000000               70352.78987      0.3490   \n",
       "1                              0.006726               61727.08520      0.4074   \n",
       "2                              0.001112               71496.88658      0.3926   \n",
       "3                              0.000000               86840.15275      0.3949   \n",
       "4                              0.002087               89135.31560      0.4463   \n",
       "5                              0.000000               62225.90361      0.3847   \n",
       "6                              0.004255               41068.93617      0.7166   \n",
       "7                              0.000000               74073.83367      0.4317   \n",
       "8                              0.000000               69412.19243      0.3824   \n",
       "9                              0.002742               82502.40707      0.3588   \n",
       "\n",
       "   population_density  education_less_than_high_school_rate  \\\n",
       "0            44.52005                              0.073879   \n",
       "1           482.64430                              0.062836   \n",
       "2           186.16730                              0.064509   \n",
       "3            84.13610                              0.066840   \n",
       "4           119.63230                              0.048686   \n",
       "5            43.87035                              0.099371   \n",
       "6          7818.25900                              0.059932   \n",
       "7            36.87569                              0.104755   \n",
       "8            43.64127                              0.086355   \n",
       "9          1080.02700                              0.058705   \n",
       "\n",
       "   education_high_school_graduate_rate  education_college_rate  \\\n",
       "0                             0.386324                0.371592   \n",
       "1                             0.217096                0.405887   \n",
       "2                             0.343973                0.325670   \n",
       "3                             0.316840                0.322917   \n",
       "4                             0.293309                0.392473   \n",
       "5                             0.425809                0.313624   \n",
       "6                             0.203767                0.476027   \n",
       "7                             0.432161                0.335137   \n",
       "8                             0.425697                0.348983   \n",
       "9                             0.210053                0.357549   \n",
       "\n",
       "   education_bachelor_rate  education_master_rate  \\\n",
       "0                 0.125110               0.034521   \n",
       "1                 0.190773               0.080668   \n",
       "2                 0.190625               0.061607   \n",
       "3                 0.185185               0.078125   \n",
       "4                 0.195341               0.050777   \n",
       "5                 0.117356               0.031924   \n",
       "6                 0.083904               0.077055   \n",
       "7                 0.093545               0.020101   \n",
       "8                 0.110459               0.023475   \n",
       "9                 0.290222               0.045863   \n",
       "\n",
       "   education_professional_school_rate       ...         diversity  \\\n",
       "0                            0.005717       ...          0.046960   \n",
       "1                            0.012171       ...          0.145934   \n",
       "2                            0.006696       ...          0.009150   \n",
       "3                            0.010417       ...          0.187334   \n",
       "4                            0.014934       ...          0.090766   \n",
       "5                            0.006520       ...          0.081981   \n",
       "6                            0.044521       ...          0.470443   \n",
       "7                            0.010437       ...          0.008239   \n",
       "8                            0.003773       ...          0.029574   \n",
       "9                            0.036507       ...          0.120052   \n",
       "\n",
       "   net_metering  feedin_tariff  cooperate_tax  property_tax  sales_tax  \\\n",
       "0            34              0              0            25         12   \n",
       "1            34              0              0            25         12   \n",
       "2            34              0              0            25         12   \n",
       "3            34              0              0            25         12   \n",
       "4            34              0              0            25         12   \n",
       "5            34              0              0            25         12   \n",
       "6            34              0              0            25         12   \n",
       "7            34              0              0            25         12   \n",
       "8            34              0              0            25         12   \n",
       "9            34              0              0            25         12   \n",
       "\n",
       "   rebate  avg_electricity_retail_rate         fips  predicted_solar  \n",
       "0       0                         9.46  27145011200         0.000000  \n",
       "1       0                         9.46  27145011301         0.005468  \n",
       "2       0                         9.46  27145011302         0.001137  \n",
       "3       0                         9.46  27145011304         0.000000  \n",
       "4       0                         9.46  27145011400         0.000862  \n",
       "5       0                         9.46  27145011500         0.000000  \n",
       "6       0                         9.46  27145011600         0.006808  \n",
       "7       0                         9.46  27145010500         0.000000  \n",
       "8       0                         9.46  27145011100         0.000000  \n",
       "9       0                         9.46  27145010102         0.002343  \n",
       "\n",
       "[10 rows x 98 columns]"
      ]
     },
     "execution_count": 35,
     "metadata": {},
     "output_type": "execute_result"
    }
   ],
   "source": [
    "relevant_fields=['number_of_solar_system_per_household']+list(features)+['fips']\n",
    "final_frame=pd.merge(solar[relevant_fields],solar_full[['fips','predicted_solar']],on=['fips'],how='left')\n",
    "final_frame.head(10)"
   ]
  },
  {
   "cell_type": "code",
   "execution_count": 39,
   "metadata": {},
   "outputs": [
    {
     "data": {
      "text/plain": [
       "0.76795294687616811"
      ]
     },
     "execution_count": 39,
     "metadata": {},
     "output_type": "execute_result"
    }
   ],
   "source": [
    "r2_score(final_frame.loc[np.isfinite(final_frame['predicted_solar'])]['number_of_solar_system_per_household'],final_frame.loc[np.isfinite(final_frame['predicted_solar'])]['predicted_solar'])"
   ]
  },
  {
   "cell_type": "code",
   "execution_count": 40,
   "metadata": {
    "collapsed": true
   },
   "outputs": [],
   "source": [
    "final_frame.to_csv('baseline_model_predictions.csv')"
   ]
  },
  {
   "cell_type": "markdown",
   "metadata": {
    "collapsed": true
   },
   "source": [
    "# Try Other Decision Tree Algorithms"
   ]
  },
  {
   "cell_type": "markdown",
   "metadata": {},
   "source": [
    "### Gradient Boosting Classifier"
   ]
  },
  {
   "cell_type": "code",
   "execution_count": 13,
   "metadata": {
    "collapsed": true
   },
   "outputs": [],
   "source": [
    "from sklearn.ensemble import GradientBoostingClassifier\n",
    "from sklearn.ensemble import GradientBoostingRegressor\n",
    "from sklearn.metrics import r2_score"
   ]
  },
  {
   "cell_type": "code",
   "execution_count": 7,
   "metadata": {},
   "outputs": [
    {
     "data": {
      "text/plain": [
       "GradientBoostingClassifier(criterion='friedman_mse', init=None,\n",
       "              learning_rate=0.1, loss='deviance', max_depth=3,\n",
       "              max_features=None, max_leaf_nodes=None,\n",
       "              min_impurity_decrease=0.0, min_impurity_split=None,\n",
       "              min_samples_leaf=1, min_samples_split=2,\n",
       "              min_weight_fraction_leaf=0.0, n_estimators=100,\n",
       "              presort='auto', random_state=None, subsample=1.0, verbose=0,\n",
       "              warm_start=False)"
      ]
     },
     "execution_count": 7,
     "metadata": {},
     "output_type": "execute_result"
    }
   ],
   "source": [
    "classifier=GradientBoostingClassifier()\n",
    "classifier.fit(X_train,yc_train)"
   ]
  },
  {
   "cell_type": "code",
   "execution_count": 8,
   "metadata": {},
   "outputs": [
    {
     "data": {
      "text/plain": [
       "0.81379470506270324"
      ]
     },
     "execution_count": 8,
     "metadata": {},
     "output_type": "execute_result"
    }
   ],
   "source": [
    "classifier.score(X_test,yc_test)"
   ]
  },
  {
   "cell_type": "code",
   "execution_count": 11,
   "metadata": {},
   "outputs": [
    {
     "data": {
      "text/plain": [
       "GradientBoostingRegressor(alpha=0.9, criterion='friedman_mse', init=None,\n",
       "             learning_rate=0.1, loss='ls', max_depth=3, max_features=None,\n",
       "             max_leaf_nodes=None, min_impurity_decrease=0.0,\n",
       "             min_impurity_split=None, min_samples_leaf=1,\n",
       "             min_samples_split=2, min_weight_fraction_leaf=0.0,\n",
       "             n_estimators=100, presort='auto', random_state=None,\n",
       "             subsample=1.0, verbose=0, warm_start=False)"
      ]
     },
     "execution_count": 11,
     "metadata": {},
     "output_type": "execute_result"
    }
   ],
   "source": [
    "regressor=GradientBoostingRegressor()\n",
    "regressor.fit(X_train,yr_train)"
   ]
  },
  {
   "cell_type": "code",
   "execution_count": 12,
   "metadata": {},
   "outputs": [
    {
     "data": {
      "text/plain": [
       "0.32123964790412141"
      ]
     },
     "execution_count": 12,
     "metadata": {},
     "output_type": "execute_result"
    }
   ],
   "source": [
    "regressor.score(X_test,yr_test)"
   ]
  },
  {
   "cell_type": "code",
   "execution_count": 14,
   "metadata": {},
   "outputs": [
    {
     "data": {
      "text/plain": [
       "0.32472191340330459"
      ]
     },
     "execution_count": 14,
     "metadata": {},
     "output_type": "execute_result"
    }
   ],
   "source": [
    "regressor_preds=regressor.predict(X_test)\n",
    "classifier_preds=classifier.predict(X_test)\n",
    "final_preds=regressor_preds*classifier_preds\n",
    "r2_score(yr_test,final_preds)"
   ]
  },
  {
   "cell_type": "markdown",
   "metadata": {},
   "source": [
    "## XGBoost"
   ]
  },
  {
   "cell_type": "code",
   "execution_count": 15,
   "metadata": {
    "collapsed": true
   },
   "outputs": [],
   "source": [
    "from xgboost import XGBClassifier\n",
    "from xgboost import XGBRegressor\n",
    "from sklearn.metrics import r2_score"
   ]
  },
  {
   "cell_type": "code",
   "execution_count": 16,
   "metadata": {},
   "outputs": [
    {
     "data": {
      "text/plain": [
       "XGBClassifier(base_score=0.5, booster='gbtree', colsample_bylevel=1,\n",
       "       colsample_bytree=1, gamma=0, learning_rate=0.1, max_delta_step=0,\n",
       "       max_depth=3, min_child_weight=1, missing=None, n_estimators=100,\n",
       "       n_jobs=1, nthread=None, objective='binary:logistic', random_state=0,\n",
       "       reg_alpha=0, reg_lambda=1, scale_pos_weight=1, seed=None,\n",
       "       silent=True, subsample=1)"
      ]
     },
     "execution_count": 16,
     "metadata": {},
     "output_type": "execute_result"
    }
   ],
   "source": [
    "classifier=XGBClassifier()\n",
    "classifier.fit(X_train,yc_train)"
   ]
  },
  {
   "cell_type": "code",
   "execution_count": 17,
   "metadata": {},
   "outputs": [
    {
     "data": {
      "text/plain": [
       "0.81216906641895026"
      ]
     },
     "execution_count": 17,
     "metadata": {},
     "output_type": "execute_result"
    }
   ],
   "source": [
    "classifier.score(X_test,yc_test)"
   ]
  },
  {
   "cell_type": "code",
   "execution_count": 18,
   "metadata": {},
   "outputs": [
    {
     "data": {
      "text/plain": [
       "XGBRegressor(base_score=0.5, booster='gbtree', colsample_bylevel=1,\n",
       "       colsample_bytree=1, gamma=0, learning_rate=0.1, max_delta_step=0,\n",
       "       max_depth=3, min_child_weight=1, missing=None, n_estimators=100,\n",
       "       n_jobs=1, nthread=None, objective='reg:linear', random_state=0,\n",
       "       reg_alpha=0, reg_lambda=1, scale_pos_weight=1, seed=None,\n",
       "       silent=True, subsample=1)"
      ]
     },
     "execution_count": 18,
     "metadata": {},
     "output_type": "execute_result"
    }
   ],
   "source": [
    "regressor=XGBRegressor()\n",
    "regressor.fit(X_train,yr_train)"
   ]
  },
  {
   "cell_type": "code",
   "execution_count": 19,
   "metadata": {},
   "outputs": [
    {
     "data": {
      "text/plain": [
       "0.30330564225161372"
      ]
     },
     "execution_count": 19,
     "metadata": {},
     "output_type": "execute_result"
    }
   ],
   "source": [
    "regressor.score(X_test,yr_test)"
   ]
  },
  {
   "cell_type": "code",
   "execution_count": 20,
   "metadata": {},
   "outputs": [
    {
     "data": {
      "text/plain": [
       "0.27814778838778842"
      ]
     },
     "execution_count": 20,
     "metadata": {},
     "output_type": "execute_result"
    }
   ],
   "source": [
    "regressor_preds=regressor.predict(X_test)\n",
    "classifier_preds=classifier.predict(X_test)\n",
    "final_preds=regressor_preds*classifier_preds\n",
    "r2_score(yr_test,final_preds)"
   ]
  },
  {
   "cell_type": "markdown",
   "metadata": {},
   "source": [
    "## Adaboost"
   ]
  },
  {
   "cell_type": "code",
   "execution_count": 21,
   "metadata": {
    "collapsed": true
   },
   "outputs": [],
   "source": [
    "from sklearn.ensemble import AdaBoostClassifier\n",
    "from sklearn.ensemble import AdaBoostRegressor\n",
    "from sklearn.metrics import r2_score"
   ]
  },
  {
   "cell_type": "code",
   "execution_count": 22,
   "metadata": {},
   "outputs": [
    {
     "data": {
      "text/plain": [
       "AdaBoostClassifier(algorithm='SAMME.R', base_estimator=None,\n",
       "          learning_rate=1.0, n_estimators=100, random_state=None)"
      ]
     },
     "execution_count": 22,
     "metadata": {},
     "output_type": "execute_result"
    }
   ],
   "source": [
    "classifier=AdaBoostClassifier(n_estimators=100)\n",
    "classifier.fit(X_train,yc_train)"
   ]
  },
  {
   "cell_type": "code",
   "execution_count": 23,
   "metadata": {},
   "outputs": [
    {
     "data": {
      "text/plain": [
       "0.80780306549001391"
      ]
     },
     "execution_count": 23,
     "metadata": {},
     "output_type": "execute_result"
    }
   ],
   "source": [
    "classifier.score(X_test,yc_test)"
   ]
  },
  {
   "cell_type": "code",
   "execution_count": 24,
   "metadata": {},
   "outputs": [
    {
     "data": {
      "text/plain": [
       "AdaBoostRegressor(base_estimator=None, learning_rate=1.0, loss='linear',\n",
       "         n_estimators=100, random_state=None)"
      ]
     },
     "execution_count": 24,
     "metadata": {},
     "output_type": "execute_result"
    }
   ],
   "source": [
    "regressor=AdaBoostRegressor(n_estimators=100)\n",
    "regressor.fit(X_train,yr_train)"
   ]
  },
  {
   "cell_type": "code",
   "execution_count": 25,
   "metadata": {},
   "outputs": [
    {
     "data": {
      "text/plain": [
       "-35.643734164492642"
      ]
     },
     "execution_count": 25,
     "metadata": {},
     "output_type": "execute_result"
    }
   ],
   "source": [
    "regressor.score(X_test,yr_test)"
   ]
  },
  {
   "cell_type": "code",
   "execution_count": 26,
   "metadata": {},
   "outputs": [
    {
     "data": {
      "text/plain": [
       "-28.201460540731961"
      ]
     },
     "execution_count": 26,
     "metadata": {},
     "output_type": "execute_result"
    }
   ],
   "source": [
    "regressor_preds=regressor.predict(X_test)\n",
    "classifier_preds=classifier.predict(X_test)\n",
    "final_preds=regressor_preds*classifier_preds\n",
    "r2_score(yr_test,final_preds)"
   ]
  },
  {
   "cell_type": "markdown",
   "metadata": {},
   "source": [
    "## Random Forest"
   ]
  },
  {
   "cell_type": "code",
   "execution_count": 27,
   "metadata": {},
   "outputs": [
    {
     "data": {
      "text/plain": [
       "RandomForestClassifier(bootstrap=True, class_weight=None, criterion='gini',\n",
       "            max_depth=None, max_features='auto', max_leaf_nodes=None,\n",
       "            min_impurity_decrease=0.0, min_impurity_split=None,\n",
       "            min_samples_leaf=1, min_samples_split=2,\n",
       "            min_weight_fraction_leaf=0.0, n_estimators=10, n_jobs=-1,\n",
       "            oob_score=False, random_state=None, verbose=0,\n",
       "            warm_start=False)"
      ]
     },
     "execution_count": 27,
     "metadata": {},
     "output_type": "execute_result"
    }
   ],
   "source": [
    "classifier=RandomForestClassifier(n_jobs=-1)\n",
    "classifier.fit(X_train,yc_train)"
   ]
  },
  {
   "cell_type": "code",
   "execution_count": 28,
   "metadata": {},
   "outputs": [
    {
     "data": {
      "text/plain": [
       "0.79131444496052017"
      ]
     },
     "execution_count": 28,
     "metadata": {},
     "output_type": "execute_result"
    }
   ],
   "source": [
    "classifier.score(X_test,yc_test)"
   ]
  },
  {
   "cell_type": "code",
   "execution_count": 29,
   "metadata": {},
   "outputs": [
    {
     "data": {
      "text/plain": [
       "RandomForestRegressor(bootstrap=True, criterion='mse', max_depth=None,\n",
       "           max_features='auto', max_leaf_nodes=None,\n",
       "           min_impurity_decrease=0.0, min_impurity_split=None,\n",
       "           min_samples_leaf=1, min_samples_split=2,\n",
       "           min_weight_fraction_leaf=0.0, n_estimators=10, n_jobs=-1,\n",
       "           oob_score=False, random_state=None, verbose=0, warm_start=False)"
      ]
     },
     "execution_count": 29,
     "metadata": {},
     "output_type": "execute_result"
    }
   ],
   "source": [
    "regressor=RandomForestRegressor(n_jobs=-1)\n",
    "regressor.fit(X_train,yr_train)"
   ]
  },
  {
   "cell_type": "code",
   "execution_count": 30,
   "metadata": {},
   "outputs": [
    {
     "data": {
      "text/plain": [
       "0.36700101017966047"
      ]
     },
     "execution_count": 30,
     "metadata": {},
     "output_type": "execute_result"
    }
   ],
   "source": [
    "regressor.score(X_test,yr_test)"
   ]
  },
  {
   "cell_type": "code",
   "execution_count": 31,
   "metadata": {},
   "outputs": [
    {
     "data": {
      "text/plain": [
       "0.42858626503555475"
      ]
     },
     "execution_count": 31,
     "metadata": {},
     "output_type": "execute_result"
    }
   ],
   "source": [
    "regressor_preds=regressor.predict(X_test)\n",
    "classifier_preds=classifier.predict(X_test)\n",
    "final_preds=regressor_preds*classifier_preds\n",
    "r2_score(yr_test,final_preds)"
   ]
  },
  {
   "cell_type": "markdown",
   "metadata": {
    "collapsed": true
   },
   "source": [
    "# Neural Network"
   ]
  },
  {
   "cell_type": "code",
   "execution_count": 1,
   "metadata": {
    "collapsed": true
   },
   "outputs": [],
   "source": [
    "import tensorflow as tf\n",
    "from IPython.display import display, clear_output \n",
    "import time"
   ]
  },
  {
   "cell_type": "code",
   "execution_count": 32,
   "metadata": {},
   "outputs": [
    {
     "name": "stdout",
     "output_type": "stream",
     "text": [
      "50) RMSE = 53.9115\n"
     ]
    },
    {
     "data": {
      "image/png": "[encoded data removed]",
      "text/plain": [
       "<matplotlib.figure.Figure at 0x20039139ba8>"
      ]
     },
     "metadata": {},
     "output_type": "display_data"
    },
    {
     "data": {
      "image/png": "[encoded data removed]",
      "text/plain": [
       "<matplotlib.figure.Figure at 0x20036ca2e80>"
      ]
     },
     "metadata": {},
     "output_type": "display_data"
    }
   ],
   "source": [
    "# (1) Parameters\n",
    "tf.reset_default_graph()\n",
    "hidden_layer_size=95\n",
    "learning_rate=0.00001\n",
    "batch_size=500\n",
    "num_ex=X_train.shape[0]\n",
    "\n",
    "# placeholder\n",
    "x_=tf.placeholder(tf.float32,shape=[None,95],name='x')\n",
    "y_=tf.placeholder(tf.float32,shape=[None],name='y')\n",
    "is_training_ = tf.placeholder_with_default(True, shape=[], name='is_training')\n",
    "\n",
    "#define model with one bow encoding layer, one hidden layer, and one output layer\n",
    "\n",
    "def model(x_,hidden_layer_size,is_training=True):\n",
    "    l1=tf.layers.dense(inputs=x_,units=hidden_layer_size,activation=tf.nn.relu)\n",
    "    l2=tf.layers.dense(inputs=l1,units=hidden_layer_size,activation=tf.nn.relu)\n",
    "    l3=tf.layers.dense(inputs=l2,units=hidden_layer_size,activation=tf.nn.relu)\n",
    "    output_layer=tf.layers.dense(inputs=l3,units=1,activation=None)\n",
    "    return tf.squeeze(output_layer)\n",
    "\n",
    "#Define training op and optimizer\n",
    "preds=model(x_,hidden_layer_size,is_training_)\n",
    "#cc=tf.losses.mean_squared_error(y_,preds)\n",
    "cc=tf.losses.absolute_difference(y_,preds)\n",
    "gd=tf.train.GradientDescentOptimizer(learning_rate)\n",
    "outputs=tf.identity(preds)\n",
    "\n",
    "step=gd.minimize(cc)\n",
    "\n",
    "#Calculate error\n",
    "acc=tf.metrics.mean_squared_error(y_,preds)[1]\n",
    "\n",
    "\n",
    "\n",
    "#Train the Neural network, report dev/training accuracies\n",
    "with tf.Session() as sess:\n",
    "    sess.run(tf.global_variables_initializer())\n",
    "    sess.run(tf.local_variables_initializer())\n",
    "    cost_vec_avg = []\n",
    "    acc_dev_vec = []\n",
    "    acc_train_vec = []\n",
    "    for i in range(50):\n",
    "        cost_vec = []\n",
    "        for start, end in zip(range(0, num_ex, batch_size), range(batch_size, num_ex, batch_size)):\n",
    "            batch = X_train[start:end], yr_train[start:end]\n",
    "            _, cost = sess.run([step, cc], feed_dict={x_: batch[0], y_: batch[1], is_training_: True})\n",
    "            cost_vec.append(cost)\n",
    "\n",
    "        dev_acc = acc.eval(feed_dict={x_: X_test, y_: yr_test, is_training_: False})\n",
    "        train_acc = acc.eval(feed_dict={x_: X_train,y_: yr_train,is_training_: False})\n",
    "        \n",
    "        cost_vec_avg.append(np.mean(cost_vec))\n",
    "        clear_output(wait=True)\n",
    "        acc_dev_vec.append(dev_acc)\n",
    "        acc_train_vec.append(train_acc)\n",
    "        print('%d) RMSE = %.4f' %(i+1, dev_acc))\n",
    "        \n",
    "    reg_probas = preds.eval(feed_dict={x_: X_test,is_training_: False})\n",
    "    \n",
    "#plot the results\n",
    "plt.plot(cost_vec_avg)  \n",
    "plt.xlabel('Number of Gradient Descent steps')\n",
    "plt.ylabel('Cost function')\n",
    "plt.show()\n",
    "\n",
    "plt.plot(acc_dev_vec)  \n",
    "plt.plot(acc_train_vec)\n",
    "plt.xlabel('Number of Gradient Descent steps')\n",
    "plt.ylabel('Train and Dev RMSE')\n",
    "plt.show()"
   ]
  },
  {
   "cell_type": "code",
   "execution_count": 33,
   "metadata": {},
   "outputs": [
    {
     "data": {
      "text/plain": [
       "(21530,)"
      ]
     },
     "execution_count": 33,
     "metadata": {},
     "output_type": "execute_result"
    }
   ],
   "source": [
    "reg_probas.shape"
   ]
  },
  {
   "cell_type": "code",
   "execution_count": 18,
   "metadata": {
    "collapsed": true
   },
   "outputs": [],
   "source": [
    "from sklearn.metrics import r2_score"
   ]
  },
  {
   "cell_type": "code",
   "execution_count": 34,
   "metadata": {},
   "outputs": [
    {
     "data": {
      "text/plain": [
       "-6215.036731036904"
      ]
     },
     "execution_count": 34,
     "metadata": {},
     "output_type": "execute_result"
    }
   ],
   "source": [
    "r2_score(yr_test,reg_probas)"
   ]
  },
  {
   "cell_type": "code",
   "execution_count": 35,
   "metadata": {},
   "outputs": [
    {
     "data": {
      "text/plain": [
       "array([ 1.6897633e-03,  1.6897633e-03,  1.6897633e-03,  1.6897633e-03,\n",
       "        1.6897633e-03,  1.6897633e-03,  1.6897633e-03,  1.6897633e-03,\n",
       "        1.6897633e-03,  1.6897633e-03,  1.6897633e-03,  1.6897633e-03,\n",
       "        1.6897633e-03,  1.6897633e-03,  1.6897633e-03,  1.6897633e-03,\n",
       "        1.6897633e-03,  1.6897633e-03,  1.6897633e-03,  1.6897633e-03,\n",
       "        1.6897633e-03,  1.6897633e-03,  1.6897633e-03,  1.6897633e-03,\n",
       "        1.6897633e-03,  1.6897633e-03,  1.6897633e-03,  1.6897633e-03,\n",
       "        1.6897633e-03,  1.6897633e-03,  1.6897633e-03,  1.6897633e-03,\n",
       "        1.6897633e-03,  1.6897633e-03,  1.6897633e-03,  1.6897633e-03,\n",
       "        1.6897633e-03,  1.6897633e-03,  1.6897633e-03,  1.6897633e-03,\n",
       "        1.6897633e-03,  1.6897633e-03,  1.6897633e-03,  1.6897633e-03,\n",
       "        1.6897633e-03,  1.6897633e-03,  1.6897633e-03,  1.6897633e-03,\n",
       "        1.6897633e-03,  1.6897633e-03,  1.6897633e-03,  1.6897633e-03,\n",
       "        1.6897633e-03,  1.6897633e-03,  1.6897633e-03,  1.6897633e-03,\n",
       "        1.6897633e-03,  1.6897633e-03,  1.6897633e-03,  1.6897633e-03,\n",
       "        1.6897633e-03,  1.6897633e-03,  1.6897633e-03,  1.6897633e-03,\n",
       "        1.6897633e-03,  1.6897633e-03,  1.6897633e-03,  9.8443025e-01,\n",
       "        1.6897633e-03,  1.6897633e-03,  1.6897633e-03,  1.6897633e-03,\n",
       "        1.6897633e-03,  1.6897633e-03,  1.6897633e-03,  1.6897633e-03,\n",
       "        1.6897633e-03,  1.6897633e-03,  1.6897633e-03,  1.6897633e-03,\n",
       "        1.6897633e-03,  1.6897633e-03,  1.6897633e-03,  1.6897633e-03,\n",
       "        1.6897633e-03,  1.6897633e-03,  1.6897633e-03,  1.6897633e-03,\n",
       "        1.6897633e-03,  1.6897633e-03,  1.6897633e-03,  1.6897633e-03,\n",
       "        1.6897633e-03,  1.6897633e-03,  1.6897633e-03,  1.6897633e-03,\n",
       "        1.6897633e-03,  1.6897633e-03,  1.6897633e-03,  1.6897633e-03,\n",
       "        1.6897633e-03,  1.6897633e-03,  1.6897633e-03,  1.6897633e-03,\n",
       "        1.6897633e-03,  1.6897633e-03,  1.6897633e-03,  1.6897633e-03,\n",
       "        1.6897633e-03,  1.6897633e-03,  1.6897633e-03,  1.6897633e-03,\n",
       "        1.6897633e-03,  1.6897633e-03,  1.6897633e-03,  1.6897633e-03,\n",
       "        1.6897633e-03,  1.6897633e-03,  1.6897633e-03,  1.6897633e-03,\n",
       "        1.6897633e-03,  1.6897633e-03,  1.6897633e-03,  1.6897633e-03,\n",
       "        1.6897633e-03,  1.6897633e-03,  1.6897633e-03,  1.6897633e-03,\n",
       "        1.6897633e-03,  1.6897633e-03,  1.6897633e-03,  1.6897633e-03,\n",
       "        1.6897633e-03,  1.6897633e-03,  1.6897633e-03,  1.6897633e-03,\n",
       "        1.6897633e-03,  1.6897633e-03,  1.6897633e-03,  1.6897633e-03,\n",
       "        1.6897633e-03,  1.6897633e-03,  1.6897633e-03,  1.6897633e-03,\n",
       "        1.6897633e-03,  1.6897633e-03,  1.6897633e-03,  1.6897633e-03,\n",
       "        1.6897633e-03,  1.6897633e-03,  1.6897633e-03,  1.6897633e-03,\n",
       "        1.6897633e-03,  1.6897633e-03,  1.6897633e-03,  1.6897633e-03,\n",
       "        1.6897633e-03,  1.6897633e-03,  1.6897633e-03,  1.6897633e-03,\n",
       "        1.6897633e-03,  1.6897633e-03,  1.6897633e-03,  1.6897633e-03,\n",
       "        1.6897633e-03,  1.6897633e-03,  1.6897633e-03,  1.6897633e-03,\n",
       "        1.6897633e-03,  1.6897633e-03,  1.6897633e-03,  1.6897633e-03,\n",
       "        1.6897633e-03,  1.6897633e-03,  1.6897633e-03,  1.6897633e-03,\n",
       "        1.6897633e-03,  1.6897633e-03,  1.6897633e-03,  1.6897633e-03,\n",
       "        1.6897633e-03,  1.6897633e-03,  1.6897633e-03,  1.6897633e-03,\n",
       "        1.6897633e-03,  1.6897633e-03,  1.6897633e-03,  1.6897633e-03,\n",
       "        1.6897633e-03,  1.6897633e-03,  1.6897633e-03,  1.6897633e-03,\n",
       "        1.6897633e-03,  1.6897633e-03,  1.6897633e-03,  1.6897633e-03,\n",
       "        1.6897633e-03,  1.6897633e-03,  1.6897633e-03,  1.6897633e-03,\n",
       "        1.6897633e-03,  1.6897633e-03,  1.6897633e-03,  1.6897633e-03,\n",
       "        1.6897633e-03,  1.6897633e-03,  1.6897633e-03,  1.6897633e-03,\n",
       "        1.6897633e-03,  1.6897633e-03,  1.6897633e-03,  1.6897633e-03,\n",
       "        1.6897633e-03,  1.6897633e-03,  1.6897633e-03,  1.6897633e-03,\n",
       "        1.6897633e-03,  1.6897633e-03,  1.6897633e-03,  1.6897633e-03,\n",
       "        1.6897633e-03,  1.6897633e-03,  1.6897633e-03,  1.6897633e-03,\n",
       "        1.6897633e-03,  1.6897633e-03,  1.6897633e-03,  1.6897633e-03,\n",
       "        1.6897633e-03,  1.6897633e-03,  1.6897633e-03,  1.6897633e-03,\n",
       "        1.6897633e-03,  1.6897633e-03,  1.6897633e-03,  1.6897633e-03,\n",
       "        1.6897633e-03,  1.6897633e-03,  1.6897633e-03,  1.6897633e-03,\n",
       "        1.6897633e-03,  1.6897633e-03,  1.6897633e-03,  1.6897633e-03,\n",
       "        1.6897633e-03,  1.6897633e-03,  1.6897633e-03,  1.6897633e-03,\n",
       "        1.6897633e-03,  1.6897633e-03,  1.6897633e-03,  1.6897633e-03,\n",
       "        1.6897633e-03,  1.6897633e-03,  1.6897633e-03,  1.6897633e-03,\n",
       "        1.6897633e-03,  1.6897633e-03,  1.6897633e-03,  1.6897633e-03,\n",
       "        1.6897633e-03,  1.6897633e-03,  1.6897633e-03,  1.6897633e-03,\n",
       "        1.6897633e-03,  1.6897633e-03,  1.6897633e-03,  1.6897633e-03,\n",
       "        1.6897633e-03,  1.6897633e-03,  1.6897633e-03,  1.6897633e-03,\n",
       "        1.6897633e-03,  1.6897633e-03,  1.6897633e-03,  1.6897633e-03,\n",
       "        1.6897633e-03,  1.6897633e-03,  1.6897633e-03,  1.6897633e-03,\n",
       "        1.6897633e-03,  3.3778448e+00,  1.6897633e-03,  1.6897633e-03,\n",
       "        1.6897633e-03,  1.6897633e-03,  1.6897633e-03,  1.6897633e-03,\n",
       "        1.6897633e-03,  1.6897633e-03,  1.6897633e-03,  1.6897633e-03,\n",
       "        1.6897633e-03,  1.6897633e-03,  1.6897633e-03,  1.6897633e-03,\n",
       "        1.6897633e-03,  1.6897633e-03,  1.6897633e-03,  1.6897633e-03,\n",
       "        1.6897633e-03,  1.6897633e-03,  1.6897633e-03,  1.6897633e-03,\n",
       "        1.6897633e-03,  1.6897633e-03,  1.6897633e-03,  1.6897633e-03,\n",
       "        1.6897633e-03,  1.6897633e-03,  1.6897633e-03,  1.6897633e-03,\n",
       "        1.6897633e-03,  1.6897633e-03,  1.6897633e-03,  1.6897633e-03,\n",
       "        1.6897633e-03,  1.6897633e-03,  1.6897633e-03,  1.6897633e-03,\n",
       "        1.6897633e-03,  1.6897633e-03,  1.6897633e-03,  1.6897633e-03,\n",
       "        1.6897633e-03,  1.6897633e-03,  1.6897633e-03,  1.6897633e-03,\n",
       "        1.6897633e-03,  1.6897633e-03,  1.6897633e-03,  1.6897633e-03,\n",
       "        1.6897633e-03,  1.6897633e-03,  1.6897633e-03,  1.6897633e-03,\n",
       "        1.6897633e-03,  1.6897633e-03,  1.6897633e-03,  1.6897633e-03,\n",
       "        1.6897633e-03,  1.6897633e-03,  1.6897633e-03,  1.6897633e-03,\n",
       "        1.6897633e-03,  1.6897633e-03,  1.6897633e-03,  1.6897633e-03,\n",
       "        1.6897633e-03,  1.6897633e-03,  1.6897633e-03,  1.6897633e-03,\n",
       "        1.6897633e-03,  1.6897633e-03,  1.6897633e-03,  1.6897633e-03,\n",
       "        1.6897633e-03,  1.6897633e-03,  1.6897633e-03,  1.6897633e-03,\n",
       "        1.6897633e-03,  1.6897633e-03,  1.6897633e-03,  1.6897633e-03,\n",
       "        1.6897633e-03,  1.6897633e-03,  1.6897633e-03,  1.6897633e-03,\n",
       "        1.6897633e-03,  1.6897633e-03,  1.6897633e-03,  1.6897633e-03,\n",
       "        1.6897633e-03,  1.6897633e-03,  1.6897633e-03,  1.6897633e-03,\n",
       "        1.6897633e-03,  1.6897633e-03,  1.6897633e-03,  1.6897633e-03,\n",
       "        1.6897633e-03,  1.6897633e-03,  1.6897633e-03,  1.6897633e-03,\n",
       "        1.6897633e-03,  1.6897633e-03,  1.6897633e-03,  1.6897633e-03,\n",
       "        1.6897633e-03,  1.6897633e-03,  1.6897633e-03,  1.6897633e-03,\n",
       "        1.6897633e-03,  1.6897633e-03,  1.6897633e-03,  1.6897633e-03,\n",
       "        1.6897633e-03,  1.6897633e-03,  1.6897633e-03,  1.6897633e-03,\n",
       "        1.6897633e-03,  1.6897633e-03,  1.6897633e-03,  1.6897633e-03,\n",
       "        1.6897633e-03,  1.6897633e-03,  1.6897633e-03,  1.6897633e-03,\n",
       "        1.6897633e-03,  1.6897633e-03,  1.6897633e-03,  1.6897633e-03,\n",
       "        1.6897633e-03,  1.6897633e-03,  1.6897633e-03,  1.6897633e-03,\n",
       "        1.6897633e-03,  1.6897633e-03,  1.6897633e-03,  1.6897633e-03,\n",
       "        1.6897633e-03,  1.6897633e-03,  1.6897633e-03,  1.6897633e-03,\n",
       "        1.6897633e-03,  1.6897633e-03,  1.6897633e-03,  1.6897633e-03,\n",
       "        1.6897633e-03,  1.6897633e-03,  1.6897633e-03,  1.6897633e-03,\n",
       "        1.6897633e-03,  1.6897633e-03,  1.6897633e-03,  1.6897633e-03,\n",
       "        1.6897633e-03,  1.6897633e-03,  1.6897633e-03,  1.6897633e-03,\n",
       "        1.6897633e-03,  1.6897633e-03,  1.6897633e-03,  1.6897633e-03,\n",
       "        1.6897633e-03,  1.6897633e-03,  1.6897633e-03,  1.6897633e-03,\n",
       "        1.6897633e-03,  1.6897633e-03,  1.6897633e-03,  1.6897633e-03,\n",
       "        1.6897633e-03,  1.6897633e-03,  1.6897633e-03,  1.6897633e-03,\n",
       "        1.6897633e-03,  1.6897633e-03,  1.6897633e-03,  1.6897633e-03,\n",
       "        1.6897633e-03,  1.6897633e-03,  1.6897633e-03,  1.6897633e-03,\n",
       "        1.6897633e-03,  1.6897633e-03,  1.6897633e-03,  1.6897633e-03,\n",
       "        1.6897633e-03,  1.6897633e-03,  1.6897633e-03,  1.6897633e-03,\n",
       "        1.6897633e-03,  1.6897633e-03,  1.6897633e-03,  1.6897633e-03,\n",
       "        1.6897633e-03,  1.6897633e-03,  1.6897633e-03,  1.6897633e-03,\n",
       "        1.6897633e-03,  1.6897633e-03,  1.6897633e-03,  1.6897633e-03,\n",
       "        1.6897633e-03,  1.6897633e-03,  1.6897633e-03,  1.6897633e-03,\n",
       "        1.6897633e-03,  1.6897633e-03,  1.6897633e-03,  1.6897633e-03,\n",
       "        1.6897633e-03,  1.6897633e-03,  1.6897633e-03,  1.6897633e-03,\n",
       "        1.6897633e-03,  1.6897633e-03,  1.6897633e-03,  1.6897633e-03,\n",
       "        1.6897633e-03,  1.6897633e-03,  1.6897633e-03,  1.6897633e-03,\n",
       "        1.6897633e-03,  1.6897633e-03,  1.6897633e-03,  1.6897633e-03,\n",
       "        1.6897633e-03,  1.6897633e-03,  1.6897633e-03,  1.6897633e-03,\n",
       "        1.6897633e-03,  1.6897633e-03,  1.6897633e-03,  1.6897633e-03,\n",
       "        1.6897633e-03,  1.6897633e-03,  1.6897633e-03,  1.6897633e-03,\n",
       "        1.6897633e-03,  1.6897633e-03,  1.6897633e-03,  1.6897633e-03,\n",
       "        1.6897633e-03,  1.6897633e-03,  1.6897633e-03,  1.6897633e-03,\n",
       "        1.6897633e-03,  1.6897633e-03,  1.6897633e-03,  1.6897633e-03,\n",
       "        1.6897633e-03,  1.6897633e-03,  1.6897633e-03,  1.6897633e-03,\n",
       "        1.6897633e-03,  1.6897633e-03,  1.6897633e-03,  1.6897633e-03,\n",
       "        1.6897633e-03,  1.6897633e-03,  1.6897633e-03,  1.6897633e-03,\n",
       "        1.6897633e-03,  1.6897633e-03,  1.6897633e-03,  1.6897633e-03,\n",
       "        1.6897633e-03,  1.6897633e-03,  1.6897633e-03,  1.6897633e-03,\n",
       "        1.6897633e-03,  1.6897633e-03,  1.6897633e-03,  1.6897633e-03,\n",
       "        1.6897633e-03,  1.6897633e-03,  1.6897633e-03,  1.6897633e-03,\n",
       "        1.6897633e-03,  1.6897633e-03,  1.6897633e-03,  1.6897633e-03,\n",
       "        1.6897633e-03,  1.6897633e-03,  1.6897633e-03,  1.6897633e-03,\n",
       "        1.6897633e-03,  1.6897633e-03,  1.6897633e-03,  1.6897633e-03,\n",
       "        1.6897633e-03,  1.6897633e-03,  1.6897633e-03,  1.6897633e-03,\n",
       "        1.6897633e-03,  1.6897633e-03,  1.6897633e-03,  1.6897633e-03,\n",
       "        1.6897633e-03,  1.6897633e-03,  1.6897633e-03,  1.6897633e-03,\n",
       "        1.6897633e-03,  1.6897633e-03,  1.6897633e-03,  1.6897633e-03,\n",
       "        1.6897633e-03,  1.6897633e-03,  1.6897633e-03,  1.6897633e-03,\n",
       "        1.6897633e-03,  1.6897633e-03,  1.6897633e-03,  1.6897633e-03,\n",
       "        1.6897633e-03,  1.6897633e-03,  1.6897633e-03,  1.6897633e-03,\n",
       "        1.6897633e-03,  1.6897633e-03,  1.6897633e-03,  1.6897633e-03,\n",
       "        1.6897633e-03,  1.6897633e-03,  1.6897633e-03,  1.6897633e-03,\n",
       "        1.6897633e-03,  1.6897633e-03,  1.6897633e-03,  1.6897633e-03,\n",
       "        1.6897633e-03,  1.6897633e-03,  1.6897633e-03,  1.6897633e-03,\n",
       "        1.6897633e-03, -8.7867743e-01,  1.6897633e-03,  1.6897633e-03,\n",
       "        1.6897633e-03,  1.6897633e-03,  1.6897633e-03,  1.6897633e-03,\n",
       "        1.6897633e-03,  1.6897633e-03,  1.6897633e-03,  1.6897633e-03,\n",
       "        1.6897633e-03,  1.6897633e-03,  1.6897633e-03,  1.6897633e-03,\n",
       "        1.6897633e-03,  1.6897633e-03,  1.6897633e-03,  1.6897633e-03,\n",
       "        1.6897633e-03,  1.6897633e-03,  1.6897633e-03,  1.6897633e-03,\n",
       "        1.6897633e-03,  1.6897633e-03,  1.6897633e-03,  1.6897633e-03,\n",
       "        1.6897633e-03,  1.6897633e-03,  1.6897633e-03,  1.6897633e-03,\n",
       "        1.6897633e-03,  1.6897633e-03,  1.6897633e-03,  1.6897633e-03,\n",
       "        1.6897633e-03,  1.6897633e-03,  1.6897633e-03,  1.6897633e-03,\n",
       "        1.6897633e-03,  1.6897633e-03,  1.6897633e-03,  1.6897633e-03,\n",
       "        1.6897633e-03,  1.6897633e-03,  1.6897633e-03,  1.6897633e-03,\n",
       "        1.6897633e-03,  1.6897633e-03,  1.6897633e-03,  1.6897633e-03,\n",
       "        1.6897633e-03,  1.6897633e-03,  1.6897633e-03,  1.6897633e-03,\n",
       "        1.6897633e-03,  1.6897633e-03,  1.6897633e-03,  1.6897633e-03,\n",
       "        1.6897633e-03,  1.6897633e-03,  1.6897633e-03,  1.6897633e-03,\n",
       "        1.6897633e-03,  1.6897633e-03,  1.6897633e-03,  1.6897633e-03,\n",
       "        1.6897633e-03,  1.6897633e-03,  1.6897633e-03,  1.6897633e-03,\n",
       "        1.6897633e-03,  1.6897633e-03,  1.6897633e-03,  1.6897633e-03,\n",
       "        1.6897633e-03,  1.6897633e-03,  1.6897633e-03,  1.6897633e-03,\n",
       "        1.6897633e-03,  1.6897633e-03,  1.6897633e-03,  1.6897633e-03,\n",
       "        1.6897633e-03,  1.6897633e-03,  1.6897633e-03,  1.6897633e-03,\n",
       "        1.6897633e-03,  1.6897633e-03,  1.6897633e-03,  1.6897633e-03,\n",
       "        1.6897633e-03,  1.6897633e-03,  1.6897633e-03,  1.6897633e-03,\n",
       "        1.6897633e-03,  1.6897633e-03,  1.6897633e-03,  1.6897633e-03,\n",
       "        1.6897633e-03,  1.6897633e-03,  1.6897633e-03,  1.6897633e-03,\n",
       "        1.6897633e-03,  1.6897633e-03,  1.6897633e-03,  1.6897633e-03,\n",
       "        1.6897633e-03,  1.6897633e-03,  1.6897633e-03,  1.6897633e-03,\n",
       "        1.6897633e-03,  1.6897633e-03,  1.6897633e-03,  1.6897633e-03,\n",
       "        1.6897633e-03,  1.6897633e-03,  1.6897633e-03,  1.6897633e-03,\n",
       "        1.6897633e-03,  1.6897633e-03,  1.6897633e-03,  1.6897633e-03,\n",
       "        1.6897633e-03,  1.6897633e-03,  1.6897633e-03,  1.6897633e-03,\n",
       "        1.6897633e-03,  1.6897633e-03,  1.6897633e-03,  1.6897633e-03,\n",
       "        1.6897633e-03,  1.6897633e-03,  1.6897633e-03,  1.6897633e-03,\n",
       "        1.6897633e-03,  1.6897633e-03,  1.6897633e-03,  1.6897633e-03,\n",
       "        1.6897633e-03,  1.6897633e-03,  1.6897633e-03,  1.6897633e-03,\n",
       "        1.6897633e-03,  1.6897633e-03,  1.6897633e-03,  1.6897633e-03,\n",
       "        1.6897633e-03,  1.6897633e-03,  1.6897633e-03,  1.6897633e-03,\n",
       "        1.6897633e-03,  1.6897633e-03,  1.6897633e-03,  1.6897633e-03,\n",
       "        1.6897633e-03,  1.6897633e-03,  1.6897633e-03,  1.6897633e-03,\n",
       "        1.6897633e-03,  1.6897633e-03,  1.6897633e-03,  1.6897633e-03,\n",
       "        1.6897633e-03,  1.6897633e-03,  1.6897633e-03,  1.6897633e-03,\n",
       "        1.6897633e-03,  1.6897633e-03,  1.6897633e-03,  1.6897633e-03,\n",
       "        1.6897633e-03,  1.6897633e-03,  1.6897633e-03,  1.6897633e-03,\n",
       "        1.6897633e-03,  1.6897633e-03,  1.6897633e-03,  1.6897633e-03,\n",
       "        1.6897633e-03,  1.6897633e-03,  1.6897633e-03,  1.6897633e-03,\n",
       "        1.6897633e-03,  1.6897633e-03,  1.6897633e-03,  1.6897633e-03,\n",
       "        1.6897633e-03,  1.6897633e-03,  1.6897633e-03,  1.6897633e-03,\n",
       "        1.6897633e-03,  1.6897633e-03,  1.6897633e-03,  1.6897633e-03,\n",
       "        1.6897633e-03,  1.6897633e-03,  1.6897633e-03,  1.6897633e-03,\n",
       "        1.6897633e-03,  1.6897633e-03,  1.6897633e-03,  1.6897633e-03,\n",
       "        1.6897633e-03,  1.6897633e-03,  1.6897633e-03,  1.6897633e-03,\n",
       "        1.6897633e-03,  1.6897633e-03,  1.6897633e-03,  1.6897633e-03,\n",
       "        1.6897633e-03,  1.6897633e-03,  1.6897633e-03,  1.6897633e-03,\n",
       "        1.6897633e-03,  1.6897633e-03,  1.6897633e-03,  1.6897633e-03,\n",
       "        1.6897633e-03,  1.6897633e-03,  1.6897633e-03,  1.6897633e-03,\n",
       "        1.6897633e-03,  1.6897633e-03,  1.6897633e-03,  1.6897633e-03,\n",
       "        1.6897633e-03,  1.6897633e-03,  1.6897633e-03,  1.6897633e-03,\n",
       "        1.6897633e-03,  1.6897633e-03,  1.6897633e-03,  1.6897633e-03,\n",
       "        1.6897633e-03,  1.6897633e-03,  1.6897633e-03,  1.6897633e-03,\n",
       "        1.6897633e-03,  1.6897633e-03,  1.6897633e-03,  1.6897633e-03,\n",
       "        1.6897633e-03,  1.6897633e-03,  1.6897633e-03,  1.6897633e-03,\n",
       "        1.6897633e-03,  1.6897633e-03,  1.6897633e-03,  1.6897633e-03,\n",
       "        1.6897633e-03,  1.6897633e-03,  1.6897633e-03,  1.6897633e-03,\n",
       "        1.6897633e-03,  1.6897633e-03,  1.6897633e-03,  1.6897633e-03,\n",
       "        1.6897633e-03,  1.6897633e-03,  1.6897633e-03,  1.6897633e-03,\n",
       "        1.6897633e-03,  1.6897633e-03,  1.6897633e-03,  1.6897633e-03,\n",
       "        1.6897633e-03,  1.6897633e-03,  1.6897633e-03,  1.6897633e-03,\n",
       "        1.6897633e-03,  1.6897633e-03,  1.6897633e-03,  1.6897633e-03,\n",
       "        1.6897633e-03,  1.6897633e-03,  1.6897633e-03,  1.6897633e-03,\n",
       "        1.6897633e-03,  1.6897633e-03,  1.6897633e-03,  1.6897633e-03,\n",
       "        1.6897633e-03,  1.6897633e-03,  1.6897633e-03,  1.6897633e-03,\n",
       "        1.6897633e-03,  1.6897633e-03,  1.6897633e-03,  1.6897633e-03,\n",
       "        1.6897633e-03,  1.6897633e-03,  1.6897633e-03,  1.6897633e-03,\n",
       "        1.6897633e-03,  1.6897633e-03,  1.6897633e-03,  1.6897633e-03,\n",
       "        1.6897633e-03,  1.6897633e-03,  1.6897633e-03,  1.6897633e-03,\n",
       "        1.6897633e-03,  1.6897633e-03,  1.6897633e-03,  1.6897633e-03,\n",
       "        1.6897633e-03,  1.6897633e-03,  1.6897633e-03,  1.6897633e-03,\n",
       "        1.6897633e-03,  1.6897633e-03,  1.6897633e-03,  1.6897633e-03,\n",
       "        1.6897633e-03,  1.6897633e-03,  1.6897633e-03,  1.6897633e-03,\n",
       "        1.6897633e-03,  1.6897633e-03,  1.6897633e-03,  1.6897633e-03,\n",
       "        1.6897633e-03,  1.6897633e-03,  1.6897633e-03,  1.6897633e-03,\n",
       "        1.6897633e-03,  1.6897633e-03,  1.6897633e-03,  1.6897633e-03,\n",
       "        1.6897633e-03,  1.6897633e-03,  1.6897633e-03,  1.6897633e-03,\n",
       "        1.6897633e-03,  1.6897633e-03,  1.6897633e-03,  1.6897633e-03,\n",
       "        1.6897633e-03,  1.6897633e-03,  1.6897633e-03,  1.6897633e-03,\n",
       "        1.6897633e-03,  1.6897633e-03,  1.6897633e-03,  1.6897633e-03,\n",
       "        1.6897633e-03,  1.6897633e-03,  1.6897633e-03,  1.6897633e-03,\n",
       "        1.6897633e-03,  1.6897633e-03,  1.6897633e-03,  1.6897633e-03,\n",
       "        1.6897633e-03,  1.6897633e-03,  1.6897633e-03,  1.6897633e-03,\n",
       "        1.6897633e-03,  1.6897633e-03,  1.6897633e-03,  1.6897633e-03,\n",
       "        1.6897633e-03,  1.6897633e-03,  1.6897633e-03,  1.6897633e-03,\n",
       "        1.6897633e-03,  1.6897633e-03,  1.6897633e-03,  1.6897633e-03,\n",
       "        1.6897633e-03,  1.6897633e-03,  1.6897633e-03,  1.6897633e-03,\n",
       "        1.6897633e-03,  1.6897633e-03,  1.6897633e-03,  1.6897633e-03,\n",
       "        1.6897633e-03,  1.6897633e-03,  1.6897633e-03,  1.6897633e-03],\n",
       "      dtype=float32)"
      ]
     },
     "execution_count": 35,
     "metadata": {},
     "output_type": "execute_result"
    }
   ],
   "source": [
    "reg_probas[0:1000]"
   ]
  },
  {
   "cell_type": "markdown",
   "metadata": {},
   "source": [
    "## Try with Keras"
   ]
  },
  {
   "cell_type": "code",
   "execution_count": 102,
   "metadata": {
    "collapsed": true
   },
   "outputs": [],
   "source": [
    "from keras.callbacks import ModelCheckpoint\n",
    "from keras.models import Sequential\n",
    "from keras.layers import Dense, Activation, Flatten\n",
    "from sklearn.model_selection import train_test_split\n",
    "from sklearn.metrics import mean_absolute_error \n",
    "import keras.optimizers\n",
    "from matplotlib import pyplot as plt\n",
    "import seaborn as sb\n",
    "import matplotlib.pyplot as plt\n",
    "import pandas as pd\n",
    "import numpy as np\n",
    "import warnings \n",
    "warnings.filterwarnings('ignore')\n",
    "warnings.filterwarnings('ignore', category=DeprecationWarning)"
   ]
  },
  {
   "cell_type": "code",
   "execution_count": 127,
   "metadata": {},
   "outputs": [
    {
     "name": "stdout",
     "output_type": "stream",
     "text": [
      "_________________________________________________________________\n",
      "Layer (type)                 Output Shape              Param #   \n",
      "=================================================================\n",
      "dense_87 (Dense)             (None, 95)                9120      \n",
      "_________________________________________________________________\n",
      "dense_88 (Dense)             (None, 95)                9120      \n",
      "_________________________________________________________________\n",
      "dense_89 (Dense)             (None, 95)                9120      \n",
      "_________________________________________________________________\n",
      "dense_90 (Dense)             (None, 95)                9120      \n",
      "_________________________________________________________________\n",
      "dense_91 (Dense)             (None, 95)                9120      \n",
      "_________________________________________________________________\n",
      "dense_92 (Dense)             (None, 1)                 96        \n",
      "=================================================================\n",
      "Total params: 45,696\n",
      "Trainable params: 45,696\n",
      "Non-trainable params: 0\n",
      "_________________________________________________________________\n"
     ]
    }
   ],
   "source": [
    "NN_model = Sequential()\n",
    "adam=keras.optimizers.Adam(lr=0.001, beta_1=0.9, beta_2=0.999, epsilon=None, decay=0.0, amsgrad=False)\n",
    "\n",
    "# The Input Layer :\n",
    "NN_model.add(Dense(95, kernel_initializer='normal',input_dim = X_train.shape[1], activation='relu'))\n",
    "\n",
    "# The Hidden Layers :\n",
    "NN_model.add(Dense(95, kernel_initializer='normal',activation='relu'))\n",
    "NN_model.add(Dense(95, kernel_initializer='normal',activation='relu'))\n",
    "NN_model.add(Dense(95, kernel_initializer='normal',activation='relu'))\n",
    "NN_model.add(Dense(95, kernel_initializer='normal',activation='relu'))\n",
    "\n",
    "# The Output Layer :\n",
    "NN_model.add(Dense(1, kernel_initializer='normal',activation='relu'))\n",
    "\n",
    "# Compile the network :\n",
    "NN_model.compile(loss='mean_absolute_error', optimizer=adam, metrics=['mean_absolute_error'])\n",
    "NN_model.summary()"
   ]
  },
  {
   "cell_type": "code",
   "execution_count": 128,
   "metadata": {},
   "outputs": [
    {
     "name": "stdout",
     "output_type": "stream",
     "text": [
      "Train on 40188 samples, validate on 10048 samples\n",
      "Epoch 1/200\n",
      "40188/40188 [==============================] - 2s 50us/step - loss: 0.0074 - mean_absolute_error: 0.0074 - val_loss: 0.0072 - val_mean_absolute_error: 0.0072\n",
      "Epoch 2/200\n",
      "40188/40188 [==============================] - 1s 21us/step - loss: 0.0062 - mean_absolute_error: 0.0062 - val_loss: 0.0069 - val_mean_absolute_error: 0.0069\n",
      "Epoch 3/200\n",
      "40188/40188 [==============================] - 1s 22us/step - loss: 0.0060 - mean_absolute_error: 0.0060 - val_loss: 0.0068 - val_mean_absolute_error: 0.0068\n",
      "Epoch 4/200\n",
      "40188/40188 [==============================] - 1s 18us/step - loss: 0.0058 - mean_absolute_error: 0.0058 - val_loss: 0.0066 - val_mean_absolute_error: 0.0066\n",
      "Epoch 5/200\n",
      "40188/40188 [==============================] - 1s 18us/step - loss: 0.0056 - mean_absolute_error: 0.0056 - val_loss: 0.0065 - val_mean_absolute_error: 0.0065\n",
      "Epoch 6/200\n",
      "40188/40188 [==============================] - 1s 21us/step - loss: 0.0055 - mean_absolute_error: 0.0055 - val_loss: 0.0065 - val_mean_absolute_error: 0.0065\n",
      "Epoch 7/200\n",
      "40188/40188 [==============================] - 1s 21us/step - loss: 0.0055 - mean_absolute_error: 0.0055 - val_loss: 0.0065 - val_mean_absolute_error: 0.0065\n",
      "Epoch 8/200\n",
      "40188/40188 [==============================] - 1s 19us/step - loss: 0.0052 - mean_absolute_error: 0.0052 - val_loss: 0.0065 - val_mean_absolute_error: 0.0065\n",
      "Epoch 9/200\n",
      "40188/40188 [==============================] - 1s 19us/step - loss: 0.0052 - mean_absolute_error: 0.0052 - val_loss: 0.0065 - val_mean_absolute_error: 0.0065\n",
      "Epoch 10/200\n",
      "40188/40188 [==============================] - 1s 21us/step - loss: 0.0051 - mean_absolute_error: 0.0051 - val_loss: 0.0064 - val_mean_absolute_error: 0.0064\n",
      "Epoch 11/200\n",
      "40188/40188 [==============================] - 1s 19us/step - loss: 0.0051 - mean_absolute_error: 0.0051 - val_loss: 0.0066 - val_mean_absolute_error: 0.0066\n",
      "Epoch 12/200\n",
      "40188/40188 [==============================] - 1s 18us/step - loss: 0.0049 - mean_absolute_error: 0.0049 - val_loss: 0.0064 - val_mean_absolute_error: 0.0064\n",
      "Epoch 13/200\n",
      "40188/40188 [==============================] - 1s 20us/step - loss: 0.0048 - mean_absolute_error: 0.0048 - val_loss: 0.0066 - val_mean_absolute_error: 0.0066\n",
      "Epoch 14/200\n",
      "40188/40188 [==============================] - 1s 22us/step - loss: 0.0049 - mean_absolute_error: 0.0049 - val_loss: 0.0067 - val_mean_absolute_error: 0.0067\n",
      "Epoch 15/200\n",
      "40188/40188 [==============================] - 1s 20us/step - loss: 0.0048 - mean_absolute_error: 0.0048 - val_loss: 0.0065 - val_mean_absolute_error: 0.0065\n",
      "Epoch 16/200\n",
      "40188/40188 [==============================] - 1s 21us/step - loss: 0.0047 - mean_absolute_error: 0.0047 - val_loss: 0.0065 - val_mean_absolute_error: 0.0065\n",
      "Epoch 17/200\n",
      "40188/40188 [==============================] - 1s 19us/step - loss: 0.0046 - mean_absolute_error: 0.0046 - val_loss: 0.0063 - val_mean_absolute_error: 0.0063\n",
      "Epoch 18/200\n",
      "40188/40188 [==============================] - 1s 19us/step - loss: 0.0046 - mean_absolute_error: 0.0046 - val_loss: 0.0068 - val_mean_absolute_error: 0.0068\n",
      "Epoch 19/200\n",
      "40188/40188 [==============================] - 1s 19us/step - loss: 0.0045 - mean_absolute_error: 0.0045 - val_loss: 0.0067 - val_mean_absolute_error: 0.0067\n",
      "Epoch 20/200\n",
      "40188/40188 [==============================] - 1s 18us/step - loss: 0.0044 - mean_absolute_error: 0.0044 - val_loss: 0.0065 - val_mean_absolute_error: 0.0065\n",
      "Epoch 21/200\n",
      "40188/40188 [==============================] - 1s 24us/step - loss: 0.0043 - mean_absolute_error: 0.0043 - val_loss: 0.0063 - val_mean_absolute_error: 0.0063\n",
      "Epoch 22/200\n",
      "40188/40188 [==============================] - 1s 19us/step - loss: 0.0042 - mean_absolute_error: 0.0042 - val_loss: 0.0062 - val_mean_absolute_error: 0.0062\n",
      "Epoch 23/200\n",
      "40188/40188 [==============================] - 1s 19us/step - loss: 0.0041 - mean_absolute_error: 0.0041 - val_loss: 0.0062 - val_mean_absolute_error: 0.0062\n",
      "Epoch 24/200\n",
      "40188/40188 [==============================] - 1s 20us/step - loss: 0.0041 - mean_absolute_error: 0.0041 - val_loss: 0.0064 - val_mean_absolute_error: 0.0064\n",
      "Epoch 25/200\n",
      "40188/40188 [==============================] - 1s 19us/step - loss: 0.0041 - mean_absolute_error: 0.0041 - val_loss: 0.0063 - val_mean_absolute_error: 0.0063\n",
      "Epoch 26/200\n",
      "40188/40188 [==============================] - 1s 19us/step - loss: 0.0040 - mean_absolute_error: 0.0040 - val_loss: 0.0065 - val_mean_absolute_error: 0.0065\n",
      "Epoch 27/200\n",
      "40188/40188 [==============================] - 1s 20us/step - loss: 0.0040 - mean_absolute_error: 0.0040 - val_loss: 0.0064 - val_mean_absolute_error: 0.0064\n",
      "Epoch 28/200\n",
      "40188/40188 [==============================] - 1s 24us/step - loss: 0.0039 - mean_absolute_error: 0.0039 - val_loss: 0.0063 - val_mean_absolute_error: 0.0063\n",
      "Epoch 29/200\n",
      "40188/40188 [==============================] - 1s 19us/step - loss: 0.0038 - mean_absolute_error: 0.0038 - val_loss: 0.0065 - val_mean_absolute_error: 0.0065\n",
      "Epoch 30/200\n",
      "40188/40188 [==============================] - 1s 19us/step - loss: 0.0038 - mean_absolute_error: 0.0038 - val_loss: 0.0063 - val_mean_absolute_error: 0.0063\n",
      "Epoch 31/200\n",
      "40188/40188 [==============================] - 1s 19us/step - loss: 0.0038 - mean_absolute_error: 0.0038 - val_loss: 0.0064 - val_mean_absolute_error: 0.0064\n",
      "Epoch 32/200\n",
      "40188/40188 [==============================] - 1s 19us/step - loss: 0.0037 - mean_absolute_error: 0.0037 - val_loss: 0.0064 - val_mean_absolute_error: 0.0064\n",
      "Epoch 33/200\n",
      "40188/40188 [==============================] - 1s 19us/step - loss: 0.0037 - mean_absolute_error: 0.0037 - val_loss: 0.0064 - val_mean_absolute_error: 0.0064\n",
      "Epoch 34/200\n",
      "40188/40188 [==============================] - 1s 19us/step - loss: 0.0037 - mean_absolute_error: 0.0037 - val_loss: 0.0064 - val_mean_absolute_error: 0.0064\n",
      "Epoch 35/200\n",
      "40188/40188 [==============================] - 1s 22us/step - loss: 0.0036 - mean_absolute_error: 0.0036 - val_loss: 0.0064 - val_mean_absolute_error: 0.0064\n",
      "Epoch 36/200\n",
      "40188/40188 [==============================] - 1s 19us/step - loss: 0.0036 - mean_absolute_error: 0.0036 - val_loss: 0.0065 - val_mean_absolute_error: 0.0065\n",
      "Epoch 37/200\n",
      "40188/40188 [==============================] - 1s 18us/step - loss: 0.0036 - mean_absolute_error: 0.0036 - val_loss: 0.0065 - val_mean_absolute_error: 0.0065\n",
      "Epoch 38/200\n",
      "40188/40188 [==============================] - 1s 19us/step - loss: 0.0035 - mean_absolute_error: 0.0035 - val_loss: 0.0065 - val_mean_absolute_error: 0.0065\n",
      "Epoch 39/200\n",
      "40188/40188 [==============================] - 1s 19us/step - loss: 0.0034 - mean_absolute_error: 0.0034 - val_loss: 0.0065 - val_mean_absolute_error: 0.0065\n",
      "Epoch 40/200\n",
      "40188/40188 [==============================] - 1s 18us/step - loss: 0.0034 - mean_absolute_error: 0.0034 - val_loss: 0.0065 - val_mean_absolute_error: 0.0065\n",
      "Epoch 41/200\n",
      "40188/40188 [==============================] - 1s 18us/step - loss: 0.0034 - mean_absolute_error: 0.0034 - val_loss: 0.0065 - val_mean_absolute_error: 0.0065\n",
      "Epoch 42/200\n",
      "40188/40188 [==============================] - 1s 18us/step - loss: 0.0034 - mean_absolute_error: 0.0034 - val_loss: 0.0064 - val_mean_absolute_error: 0.0064\n",
      "Epoch 43/200\n",
      "40188/40188 [==============================] - 1s 21us/step - loss: 0.0033 - mean_absolute_error: 0.0033 - val_loss: 0.0064 - val_mean_absolute_error: 0.0064\n",
      "Epoch 44/200\n",
      "40188/40188 [==============================] - 1s 17us/step - loss: 0.0033 - mean_absolute_error: 0.0033 - val_loss: 0.0065 - val_mean_absolute_error: 0.0065\n",
      "Epoch 45/200\n",
      "40188/40188 [==============================] - 1s 17us/step - loss: 0.0032 - mean_absolute_error: 0.0032 - val_loss: 0.0065 - val_mean_absolute_error: 0.0065\n",
      "Epoch 46/200\n",
      "40188/40188 [==============================] - 1s 17us/step - loss: 0.0032 - mean_absolute_error: 0.0032 - val_loss: 0.0066 - val_mean_absolute_error: 0.0066\n",
      "Epoch 47/200\n",
      "40188/40188 [==============================] - 1s 17us/step - loss: 0.0031 - mean_absolute_error: 0.0031 - val_loss: 0.0065 - val_mean_absolute_error: 0.0065\n",
      "Epoch 48/200\n",
      "40188/40188 [==============================] - 1s 17us/step - loss: 0.0031 - mean_absolute_error: 0.0031 - val_loss: 0.0067 - val_mean_absolute_error: 0.0067\n",
      "Epoch 49/200\n",
      "40188/40188 [==============================] - 1s 18us/step - loss: 0.0031 - mean_absolute_error: 0.0031 - val_loss: 0.0066 - val_mean_absolute_error: 0.0066\n",
      "Epoch 50/200\n",
      "40188/40188 [==============================] - 1s 19us/step - loss: 0.0031 - mean_absolute_error: 0.0031 - val_loss: 0.0066 - val_mean_absolute_error: 0.0066\n",
      "Epoch 51/200\n",
      "40188/40188 [==============================] - 1s 19us/step - loss: 0.0030 - mean_absolute_error: 0.0030 - val_loss: 0.0064 - val_mean_absolute_error: 0.0064\n",
      "Epoch 52/200\n",
      "40188/40188 [==============================] - 1s 17us/step - loss: 0.0030 - mean_absolute_error: 0.0030 - val_loss: 0.0065 - val_mean_absolute_error: 0.0065\n",
      "Epoch 53/200\n",
      "40188/40188 [==============================] - 1s 17us/step - loss: 0.0030 - mean_absolute_error: 0.0030 - val_loss: 0.0066 - val_mean_absolute_error: 0.0066\n",
      "Epoch 54/200\n",
      "40188/40188 [==============================] - 1s 17us/step - loss: 0.0029 - mean_absolute_error: 0.0029 - val_loss: 0.0065 - val_mean_absolute_error: 0.0065\n",
      "Epoch 55/200\n",
      "40188/40188 [==============================] - 1s 17us/step - loss: 0.0030 - mean_absolute_error: 0.0030 - val_loss: 0.0065 - val_mean_absolute_error: 0.0065\n",
      "Epoch 56/200\n",
      "40188/40188 [==============================] - 1s 17us/step - loss: 0.0030 - mean_absolute_error: 0.0030 - val_loss: 0.0066 - val_mean_absolute_error: 0.0066\n",
      "Epoch 57/200\n",
      "40188/40188 [==============================] - 1s 17us/step - loss: 0.0029 - mean_absolute_error: 0.0029 - val_loss: 0.0066 - val_mean_absolute_error: 0.0066\n",
      "Epoch 58/200\n",
      "40188/40188 [==============================] - 1s 19us/step - loss: 0.0029 - mean_absolute_error: 0.0029 - val_loss: 0.0066 - val_mean_absolute_error: 0.0066\n",
      "Epoch 59/200\n",
      "40188/40188 [==============================] - 1s 19us/step - loss: 0.0028 - mean_absolute_error: 0.0028 - val_loss: 0.0066 - val_mean_absolute_error: 0.0066\n",
      "Epoch 60/200\n",
      "40188/40188 [==============================] - 1s 17us/step - loss: 0.0028 - mean_absolute_error: 0.0028 - val_loss: 0.0066 - val_mean_absolute_error: 0.0066\n",
      "Epoch 61/200\n",
      "40188/40188 [==============================] - 1s 17us/step - loss: 0.0028 - mean_absolute_error: 0.0028 - val_loss: 0.0067 - val_mean_absolute_error: 0.0067\n",
      "Epoch 62/200\n",
      "40188/40188 [==============================] - 1s 17us/step - loss: 0.0028 - mean_absolute_error: 0.0028 - val_loss: 0.0065 - val_mean_absolute_error: 0.0065\n",
      "Epoch 63/200\n",
      "40188/40188 [==============================] - 1s 17us/step - loss: 0.0027 - mean_absolute_error: 0.0027 - val_loss: 0.0067 - val_mean_absolute_error: 0.0067\n",
      "Epoch 64/200\n",
      "40188/40188 [==============================] - 1s 17us/step - loss: 0.0027 - mean_absolute_error: 0.0027 - val_loss: 0.0065 - val_mean_absolute_error: 0.0065\n",
      "Epoch 65/200\n",
      "40188/40188 [==============================] - 1s 17us/step - loss: 0.0028 - mean_absolute_error: 0.0028 - val_loss: 0.0065 - val_mean_absolute_error: 0.0065\n",
      "Epoch 66/200\n",
      "40188/40188 [==============================] - 1s 19us/step - loss: 0.0027 - mean_absolute_error: 0.0027 - val_loss: 0.0066 - val_mean_absolute_error: 0.0066\n",
      "Epoch 67/200\n",
      "40188/40188 [==============================] - 1s 20us/step - loss: 0.0026 - mean_absolute_error: 0.0026 - val_loss: 0.0066 - val_mean_absolute_error: 0.0066\n",
      "Epoch 68/200\n",
      "40188/40188 [==============================] - 1s 18us/step - loss: 0.0026 - mean_absolute_error: 0.0026 - val_loss: 0.0066 - val_mean_absolute_error: 0.0066\n",
      "Epoch 69/200\n",
      "40188/40188 [==============================] - 1s 20us/step - loss: 0.0026 - mean_absolute_error: 0.0026 - val_loss: 0.0065 - val_mean_absolute_error: 0.0065\n",
      "Epoch 70/200\n",
      "40188/40188 [==============================] - 1s 22us/step - loss: 0.0025 - mean_absolute_error: 0.0025 - val_loss: 0.0067 - val_mean_absolute_error: 0.0067\n",
      "Epoch 71/200\n",
      "40188/40188 [==============================] - 1s 21us/step - loss: 0.0026 - mean_absolute_error: 0.0026 - val_loss: 0.0065 - val_mean_absolute_error: 0.0065\n",
      "Epoch 72/200\n",
      "40188/40188 [==============================] - 1s 21us/step - loss: 0.0026 - mean_absolute_error: 0.0026 - val_loss: 0.0066 - val_mean_absolute_error: 0.0066\n",
      "Epoch 73/200\n",
      "40188/40188 [==============================] - 1s 24us/step - loss: 0.0025 - mean_absolute_error: 0.0025 - val_loss: 0.0066 - val_mean_absolute_error: 0.0066\n",
      "Epoch 74/200\n",
      "40188/40188 [==============================] - 1s 22us/step - loss: 0.0024 - mean_absolute_error: 0.0024 - val_loss: 0.0065 - val_mean_absolute_error: 0.0065\n",
      "Epoch 75/200\n",
      "40188/40188 [==============================] - 1s 21us/step - loss: 0.0025 - mean_absolute_error: 0.0025 - val_loss: 0.0066 - val_mean_absolute_error: 0.0066\n",
      "Epoch 76/200\n",
      "40188/40188 [==============================] - 1s 20us/step - loss: 0.0025 - mean_absolute_error: 0.0025 - val_loss: 0.0066 - val_mean_absolute_error: 0.0066\n",
      "Epoch 77/200\n",
      "40188/40188 [==============================] - 1s 21us/step - loss: 0.0024 - mean_absolute_error: 0.0024 - val_loss: 0.0066 - val_mean_absolute_error: 0.0066\n",
      "Epoch 78/200\n",
      "40188/40188 [==============================] - 1s 21us/step - loss: 0.0024 - mean_absolute_error: 0.0024 - val_loss: 0.0068 - val_mean_absolute_error: 0.0068\n",
      "Epoch 79/200\n",
      "40188/40188 [==============================] - 1s 21us/step - loss: 0.0024 - mean_absolute_error: 0.0024 - val_loss: 0.0067 - val_mean_absolute_error: 0.0067\n",
      "Epoch 80/200\n",
      "40188/40188 [==============================] - 1s 25us/step - loss: 0.0024 - mean_absolute_error: 0.0024 - val_loss: 0.0065 - val_mean_absolute_error: 0.0065\n",
      "Epoch 81/200\n",
      "40188/40188 [==============================] - 1s 21us/step - loss: 0.0024 - mean_absolute_error: 0.0024 - val_loss: 0.0066 - val_mean_absolute_error: 0.0066\n",
      "Epoch 82/200\n",
      "40188/40188 [==============================] - 1s 20us/step - loss: 0.0024 - mean_absolute_error: 0.0024 - val_loss: 0.0069 - val_mean_absolute_error: 0.0069\n",
      "Epoch 83/200\n",
      "40188/40188 [==============================] - 1s 20us/step - loss: 0.0024 - mean_absolute_error: 0.0024 - val_loss: 0.0067 - val_mean_absolute_error: 0.0067\n",
      "Epoch 84/200\n",
      "40188/40188 [==============================] - 1s 21us/step - loss: 0.0024 - mean_absolute_error: 0.0024 - val_loss: 0.0067 - val_mean_absolute_error: 0.0067\n",
      "Epoch 85/200\n",
      "40188/40188 [==============================] - 1s 20us/step - loss: 0.0023 - mean_absolute_error: 0.0023 - val_loss: 0.0067 - val_mean_absolute_error: 0.0067\n",
      "Epoch 86/200\n",
      "40188/40188 [==============================] - 1s 21us/step - loss: 0.0023 - mean_absolute_error: 0.0023 - val_loss: 0.0067 - val_mean_absolute_error: 0.0067\n",
      "Epoch 87/200\n",
      "40188/40188 [==============================] - 1s 24us/step - loss: 0.0024 - mean_absolute_error: 0.0024 - val_loss: 0.0066 - val_mean_absolute_error: 0.0066\n",
      "Epoch 88/200\n",
      "40188/40188 [==============================] - 1s 19us/step - loss: 0.0023 - mean_absolute_error: 0.0023 - val_loss: 0.0066 - val_mean_absolute_error: 0.0066\n",
      "Epoch 89/200\n",
      "40188/40188 [==============================] - 1s 21us/step - loss: 0.0023 - mean_absolute_error: 0.0023 - val_loss: 0.0065 - val_mean_absolute_error: 0.0065\n",
      "Epoch 90/200\n",
      "40188/40188 [==============================] - 1s 20us/step - loss: 0.0023 - mean_absolute_error: 0.0023 - val_loss: 0.0067 - val_mean_absolute_error: 0.0067\n",
      "Epoch 91/200\n",
      "40188/40188 [==============================] - 1s 20us/step - loss: 0.0023 - mean_absolute_error: 0.0023 - val_loss: 0.0066 - val_mean_absolute_error: 0.0066\n",
      "Epoch 92/200\n",
      "40188/40188 [==============================] - 1s 21us/step - loss: 0.0023 - mean_absolute_error: 0.0023 - val_loss: 0.0067 - val_mean_absolute_error: 0.0067\n",
      "Epoch 93/200\n",
      "40188/40188 [==============================] - 1s 22us/step - loss: 0.0022 - mean_absolute_error: 0.0022 - val_loss: 0.0068 - val_mean_absolute_error: 0.0068\n",
      "Epoch 94/200\n",
      "40188/40188 [==============================] - 1s 23us/step - loss: 0.0022 - mean_absolute_error: 0.0022 - val_loss: 0.0067 - val_mean_absolute_error: 0.0067\n",
      "Epoch 95/200\n",
      "40188/40188 [==============================] - 1s 20us/step - loss: 0.0022 - mean_absolute_error: 0.0022 - val_loss: 0.0068 - val_mean_absolute_error: 0.0068\n",
      "Epoch 96/200\n",
      "40188/40188 [==============================] - 1s 20us/step - loss: 0.0022 - mean_absolute_error: 0.0022 - val_loss: 0.0066 - val_mean_absolute_error: 0.0066\n",
      "Epoch 97/200\n",
      "40188/40188 [==============================] - 1s 20us/step - loss: 0.0022 - mean_absolute_error: 0.0022 - val_loss: 0.0067 - val_mean_absolute_error: 0.0067\n",
      "Epoch 98/200\n",
      "40188/40188 [==============================] - 1s 20us/step - loss: 0.0023 - mean_absolute_error: 0.0023 - val_loss: 0.0067 - val_mean_absolute_error: 0.0067\n",
      "Epoch 99/200\n",
      "40188/40188 [==============================] - 1s 20us/step - loss: 0.0022 - mean_absolute_error: 0.0022 - val_loss: 0.0067 - val_mean_absolute_error: 0.0067\n",
      "Epoch 100/200\n",
      "40188/40188 [==============================] - 1s 22us/step - loss: 0.0021 - mean_absolute_error: 0.0021 - val_loss: 0.0066 - val_mean_absolute_error: 0.0066\n",
      "Epoch 101/200\n",
      "40188/40188 [==============================] - 1s 19us/step - loss: 0.0022 - mean_absolute_error: 0.0022 - val_loss: 0.0067 - val_mean_absolute_error: 0.0067\n",
      "Epoch 102/200\n",
      "40188/40188 [==============================] - 1s 17us/step - loss: 0.0021 - mean_absolute_error: 0.0021 - val_loss: 0.0067 - val_mean_absolute_error: 0.0067\n",
      "Epoch 103/200\n",
      "40188/40188 [==============================] - 1s 18us/step - loss: 0.0021 - mean_absolute_error: 0.0021 - val_loss: 0.0067 - val_mean_absolute_error: 0.0067\n",
      "Epoch 104/200\n",
      "40188/40188 [==============================] - 1s 17us/step - loss: 0.0021 - mean_absolute_error: 0.0021 - val_loss: 0.0067 - val_mean_absolute_error: 0.0067\n",
      "Epoch 105/200\n",
      "40188/40188 [==============================] - 1s 17us/step - loss: 0.0021 - mean_absolute_error: 0.0021 - val_loss: 0.0068 - val_mean_absolute_error: 0.0068\n",
      "Epoch 106/200\n",
      "40188/40188 [==============================] - 1s 17us/step - loss: 0.0021 - mean_absolute_error: 0.0021 - val_loss: 0.0067 - val_mean_absolute_error: 0.0067\n",
      "Epoch 107/200\n",
      "40188/40188 [==============================] - 1s 17us/step - loss: 0.0021 - mean_absolute_error: 0.0021 - val_loss: 0.0066 - val_mean_absolute_error: 0.0066\n",
      "Epoch 108/200\n",
      "40188/40188 [==============================] - 1s 20us/step - loss: 0.0022 - mean_absolute_error: 0.0022 - val_loss: 0.0066 - val_mean_absolute_error: 0.0066\n",
      "Epoch 109/200\n",
      "40188/40188 [==============================] - 1s 18us/step - loss: 0.0022 - mean_absolute_error: 0.0022 - val_loss: 0.0066 - val_mean_absolute_error: 0.0066\n",
      "Epoch 110/200\n",
      "40188/40188 [==============================] - 1s 17us/step - loss: 0.0020 - mean_absolute_error: 0.0020 - val_loss: 0.0066 - val_mean_absolute_error: 0.0066\n",
      "Epoch 111/200\n",
      "40188/40188 [==============================] - 1s 17us/step - loss: 0.0021 - mean_absolute_error: 0.0021 - val_loss: 0.0067 - val_mean_absolute_error: 0.0067\n",
      "Epoch 112/200\n",
      "40188/40188 [==============================] - 1s 17us/step - loss: 0.0021 - mean_absolute_error: 0.0021 - val_loss: 0.0067 - val_mean_absolute_error: 0.0067\n",
      "Epoch 113/200\n",
      "40188/40188 [==============================] - 1s 17us/step - loss: 0.0021 - mean_absolute_error: 0.0021 - val_loss: 0.0066 - val_mean_absolute_error: 0.0066\n",
      "Epoch 114/200\n",
      "40188/40188 [==============================] - 1s 17us/step - loss: 0.0021 - mean_absolute_error: 0.0021 - val_loss: 0.0067 - val_mean_absolute_error: 0.0067\n",
      "Epoch 115/200\n",
      "40188/40188 [==============================] - 1s 17us/step - loss: 0.0020 - mean_absolute_error: 0.0020 - val_loss: 0.0068 - val_mean_absolute_error: 0.0068\n",
      "Epoch 116/200\n",
      "40188/40188 [==============================] - 1s 20us/step - loss: 0.0021 - mean_absolute_error: 0.0021 - val_loss: 0.0066 - val_mean_absolute_error: 0.0066\n",
      "Epoch 117/200\n",
      "40188/40188 [==============================] - 1s 17us/step - loss: 0.0021 - mean_absolute_error: 0.0021 - val_loss: 0.0067 - val_mean_absolute_error: 0.0067\n",
      "Epoch 118/200\n",
      "40188/40188 [==============================] - 1s 17us/step - loss: 0.0020 - mean_absolute_error: 0.0020 - val_loss: 0.0067 - val_mean_absolute_error: 0.0067\n",
      "Epoch 119/200\n",
      "40188/40188 [==============================] - 1s 18us/step - loss: 0.0020 - mean_absolute_error: 0.0020 - val_loss: 0.0066 - val_mean_absolute_error: 0.0066\n",
      "Epoch 120/200\n",
      "40188/40188 [==============================] - 1s 17us/step - loss: 0.0020 - mean_absolute_error: 0.0020 - val_loss: 0.0067 - val_mean_absolute_error: 0.0067\n",
      "Epoch 121/200\n",
      "40188/40188 [==============================] - 1s 17us/step - loss: 0.0020 - mean_absolute_error: 0.0020 - val_loss: 0.0067 - val_mean_absolute_error: 0.0067\n",
      "Epoch 122/200\n",
      "40188/40188 [==============================] - 1s 17us/step - loss: 0.0020 - mean_absolute_error: 0.0020 - val_loss: 0.0067 - val_mean_absolute_error: 0.0067\n",
      "Epoch 123/200\n",
      "40188/40188 [==============================] - 1s 17us/step - loss: 0.0020 - mean_absolute_error: 0.0020 - val_loss: 0.0066 - val_mean_absolute_error: 0.0066\n",
      "Epoch 124/200\n",
      "40188/40188 [==============================] - 1s 21us/step - loss: 0.0021 - mean_absolute_error: 0.0021 - val_loss: 0.0066 - val_mean_absolute_error: 0.0066\n",
      "Epoch 125/200\n",
      "40188/40188 [==============================] - 1s 17us/step - loss: 0.0019 - mean_absolute_error: 0.0019 - val_loss: 0.0067 - val_mean_absolute_error: 0.0067\n",
      "Epoch 126/200\n",
      "40188/40188 [==============================] - 1s 17us/step - loss: 0.0020 - mean_absolute_error: 0.0020 - val_loss: 0.0066 - val_mean_absolute_error: 0.0066\n",
      "Epoch 127/200\n",
      "40188/40188 [==============================] - 1s 17us/step - loss: 0.0020 - mean_absolute_error: 0.0020 - val_loss: 0.0066 - val_mean_absolute_error: 0.0066\n",
      "Epoch 128/200\n",
      "40188/40188 [==============================] - 1s 17us/step - loss: 0.0019 - mean_absolute_error: 0.0019 - val_loss: 0.0066 - val_mean_absolute_error: 0.0066\n",
      "Epoch 129/200\n",
      "40188/40188 [==============================] - 1s 17us/step - loss: 0.0020 - mean_absolute_error: 0.0020 - val_loss: 0.0066 - val_mean_absolute_error: 0.0066\n",
      "Epoch 130/200\n",
      "40188/40188 [==============================] - 1s 17us/step - loss: 0.0019 - mean_absolute_error: 0.0019 - val_loss: 0.0066 - val_mean_absolute_error: 0.0066\n",
      "Epoch 131/200\n",
      "40188/40188 [==============================] - 1s 17us/step - loss: 0.0019 - mean_absolute_error: 0.0019 - val_loss: 0.0067 - val_mean_absolute_error: 0.0067\n",
      "Epoch 132/200\n",
      "40188/40188 [==============================] - 1s 21us/step - loss: 0.0019 - mean_absolute_error: 0.0019 - val_loss: 0.0067 - val_mean_absolute_error: 0.0067\n",
      "Epoch 133/200\n",
      "40188/40188 [==============================] - 1s 17us/step - loss: 0.0019 - mean_absolute_error: 0.0019 - val_loss: 0.0067 - val_mean_absolute_error: 0.0067\n",
      "Epoch 134/200\n",
      "40188/40188 [==============================] - 1s 18us/step - loss: 0.0019 - mean_absolute_error: 0.0019 - val_loss: 0.0067 - val_mean_absolute_error: 0.0067\n",
      "Epoch 135/200\n",
      "40188/40188 [==============================] - 1s 17us/step - loss: 0.0019 - mean_absolute_error: 0.0019 - val_loss: 0.0067 - val_mean_absolute_error: 0.0067\n",
      "Epoch 136/200\n",
      "40188/40188 [==============================] - 1s 17us/step - loss: 0.0020 - mean_absolute_error: 0.0020 - val_loss: 0.0066 - val_mean_absolute_error: 0.0066\n",
      "Epoch 137/200\n",
      "40188/40188 [==============================] - 1s 18us/step - loss: 0.0019 - mean_absolute_error: 0.0019 - val_loss: 0.0067 - val_mean_absolute_error: 0.0067\n",
      "Epoch 138/200\n",
      "40188/40188 [==============================] - 1s 17us/step - loss: 0.0019 - mean_absolute_error: 0.0019 - val_loss: 0.0066 - val_mean_absolute_error: 0.0066\n",
      "Epoch 139/200\n",
      "40188/40188 [==============================] - 1s 17us/step - loss: 0.0019 - mean_absolute_error: 0.0019 - val_loss: 0.0066 - val_mean_absolute_error: 0.0066\n",
      "Epoch 140/200\n",
      "40188/40188 [==============================] - 1s 21us/step - loss: 0.0019 - mean_absolute_error: 0.0019 - val_loss: 0.0067 - val_mean_absolute_error: 0.0067\n",
      "Epoch 141/200\n",
      "40188/40188 [==============================] - 1s 17us/step - loss: 0.0019 - mean_absolute_error: 0.0019 - val_loss: 0.0066 - val_mean_absolute_error: 0.0066\n",
      "Epoch 142/200\n",
      "40188/40188 [==============================] - 1s 17us/step - loss: 0.0019 - mean_absolute_error: 0.0019 - val_loss: 0.0066 - val_mean_absolute_error: 0.0066\n",
      "Epoch 143/200\n",
      "40188/40188 [==============================] - 1s 18us/step - loss: 0.0018 - mean_absolute_error: 0.0018 - val_loss: 0.0067 - val_mean_absolute_error: 0.0067\n",
      "Epoch 144/200\n",
      "40188/40188 [==============================] - 1s 17us/step - loss: 0.0019 - mean_absolute_error: 0.0019 - val_loss: 0.0068 - val_mean_absolute_error: 0.0068\n",
      "Epoch 145/200\n",
      "40188/40188 [==============================] - 1s 17us/step - loss: 0.0020 - mean_absolute_error: 0.0020 - val_loss: 0.0067 - val_mean_absolute_error: 0.0067\n",
      "Epoch 146/200\n",
      "40188/40188 [==============================] - 1s 17us/step - loss: 0.0019 - mean_absolute_error: 0.0019 - val_loss: 0.0067 - val_mean_absolute_error: 0.0067\n",
      "Epoch 147/200\n",
      "40188/40188 [==============================] - 1s 18us/step - loss: 0.0019 - mean_absolute_error: 0.0019 - val_loss: 0.0066 - val_mean_absolute_error: 0.0066\n",
      "Epoch 148/200\n",
      "40188/40188 [==============================] - 1s 20us/step - loss: 0.0018 - mean_absolute_error: 0.0018 - val_loss: 0.0067 - val_mean_absolute_error: 0.0067\n",
      "Epoch 149/200\n",
      "40188/40188 [==============================] - 1s 18us/step - loss: 0.0018 - mean_absolute_error: 0.0018 - val_loss: 0.0068 - val_mean_absolute_error: 0.0068\n",
      "Epoch 150/200\n",
      "40188/40188 [==============================] - 1s 18us/step - loss: 0.0018 - mean_absolute_error: 0.0018 - val_loss: 0.0067 - val_mean_absolute_error: 0.0067\n",
      "Epoch 151/200\n",
      "40188/40188 [==============================] - 1s 18us/step - loss: 0.0018 - mean_absolute_error: 0.0018 - val_loss: 0.0068 - val_mean_absolute_error: 0.0068\n",
      "Epoch 152/200\n",
      "40188/40188 [==============================] - 1s 17us/step - loss: 0.0019 - mean_absolute_error: 0.0019 - val_loss: 0.0067 - val_mean_absolute_error: 0.0067\n",
      "Epoch 153/200\n",
      "40188/40188 [==============================] - 1s 17us/step - loss: 0.0018 - mean_absolute_error: 0.0018 - val_loss: 0.0068 - val_mean_absolute_error: 0.0068\n",
      "Epoch 154/200\n",
      "40188/40188 [==============================] - 1s 17us/step - loss: 0.0018 - mean_absolute_error: 0.0018 - val_loss: 0.0067 - val_mean_absolute_error: 0.0067\n",
      "Epoch 155/200\n",
      "40188/40188 [==============================] - 1s 19us/step - loss: 0.0018 - mean_absolute_error: 0.0018 - val_loss: 0.0067 - val_mean_absolute_error: 0.0067\n",
      "Epoch 156/200\n",
      "40188/40188 [==============================] - 1s 20us/step - loss: 0.0018 - mean_absolute_error: 0.0018 - val_loss: 0.0068 - val_mean_absolute_error: 0.0068\n",
      "Epoch 157/200\n",
      "40188/40188 [==============================] - 1s 17us/step - loss: 0.0019 - mean_absolute_error: 0.0019 - val_loss: 0.0067 - val_mean_absolute_error: 0.0067\n",
      "Epoch 158/200\n",
      "40188/40188 [==============================] - 1s 18us/step - loss: 0.0018 - mean_absolute_error: 0.0018 - val_loss: 0.0068 - val_mean_absolute_error: 0.0068\n",
      "Epoch 159/200\n",
      "40188/40188 [==============================] - 1s 18us/step - loss: 0.0018 - mean_absolute_error: 0.0018 - val_loss: 0.0067 - val_mean_absolute_error: 0.0067\n",
      "Epoch 160/200\n",
      "40188/40188 [==============================] - 1s 17us/step - loss: 0.0018 - mean_absolute_error: 0.0018 - val_loss: 0.0067 - val_mean_absolute_error: 0.0067\n",
      "Epoch 161/200\n",
      "40188/40188 [==============================] - 1s 17us/step - loss: 0.0018 - mean_absolute_error: 0.0018 - val_loss: 0.0067 - val_mean_absolute_error: 0.0067\n",
      "Epoch 162/200\n",
      "40188/40188 [==============================] - 1s 17us/step - loss: 0.0017 - mean_absolute_error: 0.0017 - val_loss: 0.0067 - val_mean_absolute_error: 0.0067\n",
      "Epoch 163/200\n",
      "40188/40188 [==============================] - 1s 21us/step - loss: 0.0018 - mean_absolute_error: 0.0018 - val_loss: 0.0067 - val_mean_absolute_error: 0.0067\n",
      "Epoch 164/200\n",
      "40188/40188 [==============================] - 1s 18us/step - loss: 0.0019 - mean_absolute_error: 0.0019 - val_loss: 0.0066 - val_mean_absolute_error: 0.0066\n",
      "Epoch 165/200\n",
      "40188/40188 [==============================] - 1s 18us/step - loss: 0.0018 - mean_absolute_error: 0.0018 - val_loss: 0.0068 - val_mean_absolute_error: 0.0068\n",
      "Epoch 166/200\n",
      "40188/40188 [==============================] - 1s 18us/step - loss: 0.0018 - mean_absolute_error: 0.0018 - val_loss: 0.0066 - val_mean_absolute_error: 0.0066\n",
      "Epoch 167/200\n",
      "40188/40188 [==============================] - 1s 17us/step - loss: 0.0017 - mean_absolute_error: 0.0017 - val_loss: 0.0068 - val_mean_absolute_error: 0.0068\n",
      "Epoch 168/200\n",
      "40188/40188 [==============================] - 1s 17us/step - loss: 0.0017 - mean_absolute_error: 0.0017 - val_loss: 0.0067 - val_mean_absolute_error: 0.0067\n",
      "Epoch 169/200\n",
      "40188/40188 [==============================] - 1s 18us/step - loss: 0.0017 - mean_absolute_error: 0.0017 - val_loss: 0.0066 - val_mean_absolute_error: 0.0066\n",
      "Epoch 170/200\n",
      "40188/40188 [==============================] - 1s 17us/step - loss: 0.0018 - mean_absolute_error: 0.0018 - val_loss: 0.0068 - val_mean_absolute_error: 0.0068\n",
      "Epoch 171/200\n",
      "40188/40188 [==============================] - 1s 21us/step - loss: 0.0017 - mean_absolute_error: 0.0017 - val_loss: 0.0067 - val_mean_absolute_error: 0.0067\n",
      "Epoch 172/200\n",
      "40188/40188 [==============================] - 1s 17us/step - loss: 0.0017 - mean_absolute_error: 0.0017 - val_loss: 0.0067 - val_mean_absolute_error: 0.0067\n",
      "Epoch 173/200\n",
      "40188/40188 [==============================] - 1s 17us/step - loss: 0.0017 - mean_absolute_error: 0.0017 - val_loss: 0.0067 - val_mean_absolute_error: 0.0067\n",
      "Epoch 174/200\n",
      "40188/40188 [==============================] - 1s 17us/step - loss: 0.0017 - mean_absolute_error: 0.0017 - val_loss: 0.0068 - val_mean_absolute_error: 0.0068\n",
      "Epoch 175/200\n",
      "40188/40188 [==============================] - 1s 17us/step - loss: 0.0017 - mean_absolute_error: 0.0017 - val_loss: 0.0067 - val_mean_absolute_error: 0.0067\n",
      "Epoch 176/200\n",
      "40188/40188 [==============================] - 1s 18us/step - loss: 0.0017 - mean_absolute_error: 0.0017 - val_loss: 0.0068 - val_mean_absolute_error: 0.0068\n",
      "Epoch 177/200\n",
      "40188/40188 [==============================] - 1s 17us/step - loss: 0.0017 - mean_absolute_error: 0.0017 - val_loss: 0.0067 - val_mean_absolute_error: 0.0067\n",
      "Epoch 178/200\n",
      "40188/40188 [==============================] - 1s 18us/step - loss: 0.0018 - mean_absolute_error: 0.0018 - val_loss: 0.0068 - val_mean_absolute_error: 0.0068\n",
      "Epoch 179/200\n",
      "40188/40188 [==============================] - 1s 21us/step - loss: 0.0017 - mean_absolute_error: 0.0017 - val_loss: 0.0066 - val_mean_absolute_error: 0.0066\n",
      "Epoch 180/200\n",
      "40188/40188 [==============================] - 1s 17us/step - loss: 0.0017 - mean_absolute_error: 0.0017 - val_loss: 0.0067 - val_mean_absolute_error: 0.0067\n",
      "Epoch 181/200\n",
      "40188/40188 [==============================] - 1s 17us/step - loss: 0.0017 - mean_absolute_error: 0.0017 - val_loss: 0.0067 - val_mean_absolute_error: 0.0067\n",
      "Epoch 182/200\n",
      "40188/40188 [==============================] - 1s 17us/step - loss: 0.0016 - mean_absolute_error: 0.0016 - val_loss: 0.0067 - val_mean_absolute_error: 0.0067\n",
      "Epoch 183/200\n",
      "40188/40188 [==============================] - 1s 17us/step - loss: 0.0017 - mean_absolute_error: 0.0017 - val_loss: 0.0069 - val_mean_absolute_error: 0.0069\n",
      "Epoch 184/200\n",
      "40188/40188 [==============================] - 1s 18us/step - loss: 0.0017 - mean_absolute_error: 0.0017 - val_loss: 0.0067 - val_mean_absolute_error: 0.0067\n",
      "Epoch 185/200\n",
      "40188/40188 [==============================] - 1s 18us/step - loss: 0.0016 - mean_absolute_error: 0.0016 - val_loss: 0.0067 - val_mean_absolute_error: 0.0067\n",
      "Epoch 186/200\n",
      "40188/40188 [==============================] - 1s 18us/step - loss: 0.0017 - mean_absolute_error: 0.0017 - val_loss: 0.0067 - val_mean_absolute_error: 0.0067\n",
      "Epoch 187/200\n",
      "40188/40188 [==============================] - 1s 20us/step - loss: 0.0017 - mean_absolute_error: 0.0017 - val_loss: 0.0067 - val_mean_absolute_error: 0.0067\n",
      "Epoch 188/200\n",
      "40188/40188 [==============================] - 1s 17us/step - loss: 0.0016 - mean_absolute_error: 0.0016 - val_loss: 0.0066 - val_mean_absolute_error: 0.0066\n",
      "Epoch 189/200\n",
      "40188/40188 [==============================] - 1s 17us/step - loss: 0.0017 - mean_absolute_error: 0.0017 - val_loss: 0.0067 - val_mean_absolute_error: 0.0067\n",
      "Epoch 190/200\n",
      "40188/40188 [==============================] - 1s 18us/step - loss: 0.0016 - mean_absolute_error: 0.0016 - val_loss: 0.0067 - val_mean_absolute_error: 0.0067\n",
      "Epoch 191/200\n",
      "40188/40188 [==============================] - 1s 17us/step - loss: 0.0017 - mean_absolute_error: 0.0017 - val_loss: 0.0066 - val_mean_absolute_error: 0.0066\n",
      "Epoch 192/200\n",
      "40188/40188 [==============================] - 1s 17us/step - loss: 0.0016 - mean_absolute_error: 0.0016 - val_loss: 0.0069 - val_mean_absolute_error: 0.0069\n",
      "Epoch 193/200\n",
      "40188/40188 [==============================] - 1s 17us/step - loss: 0.0016 - mean_absolute_error: 0.0016 - val_loss: 0.0067 - val_mean_absolute_error: 0.0067\n",
      "Epoch 194/200\n",
      "40188/40188 [==============================] - 1s 19us/step - loss: 0.0017 - mean_absolute_error: 0.0017 - val_loss: 0.0068 - val_mean_absolute_error: 0.0068\n",
      "Epoch 195/200\n",
      "40188/40188 [==============================] - 1s 19us/step - loss: 0.0016 - mean_absolute_error: 0.0016 - val_loss: 0.0067 - val_mean_absolute_error: 0.0067\n",
      "Epoch 196/200\n",
      "40188/40188 [==============================] - 1s 17us/step - loss: 0.0017 - mean_absolute_error: 0.0017 - val_loss: 0.0066 - val_mean_absolute_error: 0.0066\n",
      "Epoch 197/200\n",
      "40188/40188 [==============================] - 1s 17us/step - loss: 0.0016 - mean_absolute_error: 0.0016 - val_loss: 0.0066 - val_mean_absolute_error: 0.0066\n",
      "Epoch 198/200\n",
      "40188/40188 [==============================] - 1s 18us/step - loss: 0.0016 - mean_absolute_error: 0.0016 - val_loss: 0.0067 - val_mean_absolute_error: 0.0067\n",
      "Epoch 199/200\n",
      "40188/40188 [==============================] - 1s 17us/step - loss: 0.0016 - mean_absolute_error: 0.0016 - val_loss: 0.0067 - val_mean_absolute_error: 0.0067\n",
      "Epoch 200/200\n",
      "40188/40188 [==============================] - 1s 17us/step - loss: 0.0016 - mean_absolute_error: 0.0016 - val_loss: 0.0067 - val_mean_absolute_error: 0.0067\n"
     ]
    },
    {
     "data": {
      "text/plain": [
       "<keras.callbacks.History at 0x2006091ab70>"
      ]
     },
     "execution_count": 128,
     "metadata": {},
     "output_type": "execute_result"
    }
   ],
   "source": [
    "NN_model.fit(X_train,yr_train, epochs=50, batch_size=500, validation_split = 0.2)"
   ]
  },
  {
   "cell_type": "code",
   "execution_count": 129,
   "metadata": {
    "collapsed": true
   },
   "outputs": [],
   "source": [
    "predictions=NN_model.predict(X_test)"
   ]
  },
  {
   "cell_type": "code",
   "execution_count": 89,
   "metadata": {},
   "outputs": [
    {
     "data": {
      "text/plain": [
       "(21530, 1)"
      ]
     },
     "execution_count": 89,
     "metadata": {},
     "output_type": "execute_result"
    }
   ],
   "source": [
    "predictions.shape"
   ]
  },
  {
   "cell_type": "code",
   "execution_count": 130,
   "metadata": {},
   "outputs": [
    {
     "data": {
      "text/plain": [
       "0.3864399619257083"
      ]
     },
     "execution_count": 130,
     "metadata": {},
     "output_type": "execute_result"
    }
   ],
   "source": [
    "r2_score(yr_test,predictions)"
   ]
  },
  {
   "cell_type": "code",
   "execution_count": 69,
   "metadata": {},
   "outputs": [
    {
     "name": "stdout",
     "output_type": "stream",
     "text": [
      "average_household_income 73377.03172097725 6910.984848 537130.2158\n",
      "population_density 5340.80700908055 0.0104671 454706.9\n",
      "education_less_than_high_school_rate 0.14013162111252905 0.0 1.0\n",
      "education_high_school_graduate_rate 0.2837610962794401 0.0 1.0\n",
      "education_college_rate 0.29004165060510445 0.0 1.0\n",
      "education_bachelor_rate 0.17727308809286063 0.0 1.0\n",
      "education_master_rate 0.07667837268892831 0.0 1.0\n",
      "education_professional_school_rate 0.019129983086491654 0.0 0.419354839\n",
      "education_doctoral_rate 0.012979688267995025 0.0 0.333333333\n",
      "race_white_rate 0.7347847525537647 0.0 1.0\n",
      "race_black_africa_rate 0.13752712489288565 0.0 1.0\n",
      "race_indian_alaska_rate 0.008512351861175204 0.0 1.0\n",
      "race_asian_rate 0.04517558083593426 0.0 0.913187541\n",
      "race_islander_rate 0.0011590426024962162 0.0 0.151918257\n",
      "race_other_rate 0.04448956522237019 0.0 0.8141263940000001\n",
      "race_two_more_rate 0.028351582030416607 0.0 1.0\n",
      "employ_rate 0.9111001438004104 0.0 1.0\n",
      "poverty_family_below_poverty_level_rate 0.12852677355848383 0.0 1.0\n",
      "heating_fuel_gas_rate 0.5485963724168677 0.0 1.0\n",
      "heating_fuel_electricity_rate 0.3575249828927457 0.0 1.0\n",
      "heating_fuel_fuel_oil_kerosene_rate 0.05579886105740889 0.0 1.0\n",
      "heating_fuel_coal_coke_rate 0.023913549211999265 0.0 1.0\n",
      "heating_fuel_solar_rate 0.0005487580852575838 0.0 0.5\n",
      "heating_fuel_other_rate 0.004973490046182036 0.0 0.42105263200000004\n",
      "heating_fuel_none_rate 0.008643986293554473 0.0 0.7621399179999999\n",
      "average_household_size 2.6540138546062657 1.02 11.0\n",
      "housing_unit_median_value 224004.00796241738 9999.0 2000001.0\n",
      "housing_unit_median_gross_rent 1002.9273230352735 111.0 3501.0\n",
      "elevation 336.1458714865833 1.0 2676.0\n",
      "earth_temperature_amplitude 18.247067640735253 1.67 28.04\n",
      "frost_days 66.0078230750856 0.0 207.0\n",
      "air_temperature 13.401600445896074 1.9 24.7\n",
      "relative_humidity 0.6457855322875705 0.32799999999999996 0.802\n",
      "daily_solar_radiation 4.2417855720996815 3.3 5.65\n",
      "atmospheric_pressure 97.84294728880583 73.8 101.8\n",
      "wind_speed 4.130420415638416 2.8 6.6\n",
      "earth_temperature 13.861505693129164 1.3 26.3\n",
      "heating_degree_days 2386.327772911856 12.0 5897.0\n",
      "cooling_degree_days 2305.623974838761 436.0 5364.0\n",
      "age_18_24_rate 0.09768322575754347 0.0 1.0\n",
      "age_25_34_rate 0.13513066007397131 0.0 1.0\n",
      "age_more_than_85_rate 0.020073772816844568 0.0 1.0\n",
      "age_75_84_rate 0.04529103449267483 0.0 0.468374885\n",
      "age_35_44_rate 0.1255277929334341 0.0 0.5\n",
      "age_45_54_rate 0.13892871084829614 0.0 1.0\n",
      "age_65_74_rate 0.08281087350609102 0.0 1.0\n",
      "age_55_64_rate 0.12807396286615064 0.0 1.0\n",
      "age_10_14_rate 0.06338557144806528 0.0 0.530864198\n",
      "age_15_17_rate 0.03883144599562036 0.0 0.636363636\n",
      "age_5_9_rate 0.06272746540958617 0.0 0.26666666699999997\n",
      "household_type_family_rate 0.6597907025023432 0.0 1.0\n",
      "dropout_16_19_inschool_rate 0.9529080201355826 0.0 1.0\n",
      "occupation_construction_rate 0.06256525768247906 0.0 0.501976285\n",
      "occupation_public_rate 0.04830889799020565 0.0 1.0\n",
      "occupation_information_rate 0.02007437320254389 0.0 0.41666666700000005\n",
      "occupation_finance_rate 0.06241168258768634 0.0 1.0\n",
      "occupation_education_rate 0.23363304778135283 0.0 1.0\n",
      "occupation_administrative_rate 0.10587165861637077 0.0 1.0\n",
      "occupation_manufacturing_rate 0.10531564696281623 0.0 1.0\n",
      "occupation_wholesale_rate 0.0263095788519986 0.0 0.298245614\n",
      "occupation_retail_rate 0.11563491485643715 0.0 1.0\n",
      "occupation_transportation_rate 0.050133443897006275 0.0 1.0\n",
      "occupation_arts_rate 0.0975169508621908 0.0 1.0\n",
      "occupation_agriculture_rate 0.022283205360996206 0.0 0.7007729109999999\n",
      "occupancy_vacant_rate 0.11906147074743195 0.0 0.98100616\n",
      "occupancy_owner_rate 0.5592601108072154 0.0 1.0\n",
      "mortgage_with_rate 0.6340343270641333 0.0 1.0\n",
      "transportation_home_rate 0.04371330511751492 0.0 1.0\n",
      "transportation_car_alone_rate 0.7566341677342735 0.0 1.0\n",
      "transportation_walk_rate 0.030140480255593658 0.0 1.0\n",
      "transportation_carpool_rate 0.09608068561118523 0.0 1.0\n",
      "transportation_motorcycle_rate 0.0019659577145473475 0.0 0.135135135\n",
      "transportation_bicycle_rate 0.006186927948323919 0.0 1.0\n",
      "transportation_public_rate 0.05592991983655152 0.0 1.0\n",
      "travel_time_less_than_10_rate 0.13974564993156147 0.0 1.0\n",
      "travel_time_10_19_rate 0.29746127436850295 0.0 1.0\n",
      "travel_time_20_29_rate 0.2052420340113255 0.0 1.0\n",
      "travel_time_30_39_rate 0.16058023648727965 0.0 1.0\n",
      "travel_time_40_59_rate 0.1119566060558561 0.0 1.0\n",
      "travel_time_60_89_rate 0.05811071456728255 0.0 1.0\n",
      "health_insurance_public_rate 0.33584806472673084 0.0 1.0\n",
      "health_insurance_none_rate 0.1303140696610002 0.0 1.0\n",
      "age_median 38.97198622501815 13.2 83.6\n",
      "travel_time_average 25.64340313719245 4.0 80.0\n",
      "voting_2016_dem_percentage 0.488450754000579 0.036363636 0.9284659190000001\n",
      "voting_2016_gop_percentage 0.4628103037671879 0.041220671 0.9527272729999999\n",
      "number_of_years_of_education 13.477711617052204 8.0 18.61497681\n",
      "diversity 0.30788249222274844 0.0 0.809736178\n",
      "net_metering 14.11049844732861 0.0 35.0\n",
      "feedin_tariff 1.2468747511744567 0.0 11.0\n",
      "cooperate_tax 0.42330201449159965 0.0 16.0\n",
      "property_tax 17.7225893781352 0.0 42.0\n",
      "sales_tax 5.596584122939724 0.0 40.0\n",
      "rebate 2.048889242774106 0.0 14.0\n",
      "avg_electricity_retail_rate 10.765326658170153 7.25 16.65\n"
     ]
    }
   ],
   "source": [
    "variable_means=X_train.mean(axis=0)\n",
    "variable_mins=X_train.min(axis=0)\n",
    "variable_maxes=X_train.max(axis=0)\n",
    "variables=independent_vars.columns\n",
    "for i in range(len(variables)):\n",
    "    print(variables[i],variable_means[i],variable_mins[i],variable_maxes[i])"
   ]
  },
  {
   "cell_type": "code",
   "execution_count": 70,
   "metadata": {},
   "outputs": [
    {
     "name": "stdout",
     "output_type": "stream",
     "text": [
      "average_household_income 73120.01688015685 8256.756757 502289.4495\n",
      "population_density 5445.203062732811 0.1074785 241752.3\n",
      "education_less_than_high_school_rate 0.14075856360557343 0.0 1.0\n",
      "education_high_school_graduate_rate 0.28409967560357596 0.0 1.0\n",
      "education_college_rate 0.2894309809777987 0.0 1.0\n",
      "education_bachelor_rate 0.17719148418457958 0.0 1.0\n",
      "education_master_rate 0.07650058238318586 0.0 1.0\n",
      "education_professional_school_rate 0.019115058357222495 0.0 0.31685678100000003\n",
      "education_doctoral_rate 0.012903654888527604 0.0 0.373831776\n",
      "race_white_rate 0.7310387699991624 0.0 1.0\n",
      "race_black_africa_rate 0.13972865951788227 0.0 1.0\n",
      "race_indian_alaska_rate 0.008503731762981838 0.0 0.9897172240000001\n",
      "race_asian_rate 0.046290460750069845 0.0 0.8943362440000001\n",
      "race_islander_rate 0.001185496734695773 0.0 0.24742268\n",
      "race_other_rate 0.044859284848908436 0.0 1.0\n",
      "race_two_more_rate 0.02839359638625209 0.0 0.422360248\n",
      "employ_rate 0.9108084086107274 0.0 1.0\n",
      "poverty_family_below_poverty_level_rate 0.12947821887677602 0.0 1.0\n",
      "heating_fuel_gas_rate 0.5474881579982329 0.0 1.0\n",
      "heating_fuel_electricity_rate 0.35769541419897827 0.0 1.0\n",
      "heating_fuel_fuel_oil_kerosene_rate 0.0564309313651647 0.0 1.0\n",
      "heating_fuel_coal_coke_rate 0.02419601183483516 0.0 1.0\n",
      "heating_fuel_solar_rate 0.0005520693643752907 0.0 0.104497354\n",
      "heating_fuel_other_rate 0.004952820380585224 0.0 0.43567753\n",
      "heating_fuel_none_rate 0.008684594864886227 0.0 0.7649431609999999\n",
      "average_household_size 2.6559851370181047 1.14 9.75\n",
      "housing_unit_median_value 223448.17083139805 9999.0 2000001.0\n",
      "housing_unit_median_gross_rent 1002.0895494658616 170.0 3501.0\n",
      "elevation 341.67203901532747 1.0 2676.0\n",
      "earth_temperature_amplitude 18.278763585694655 1.67 28.04\n",
      "frost_days 66.24914073385973 0.0 207.0\n",
      "air_temperature 13.397203901532995 2.2 24.7\n",
      "relative_humidity 0.6449715281003278 0.32799999999999996 0.802\n",
      "daily_solar_radiation 4.245119832791532 3.35 5.65\n",
      "atmospheric_pressure 97.78291221550695 73.8 101.8\n",
      "wind_speed 4.129112865768576 2.8 6.6\n",
      "earth_temperature 13.862954017649095 2.2 26.3\n",
      "heating_degree_days 2386.6072457036694 12.0 5818.0\n",
      "cooling_degree_days 2305.7701346957733 436.0 5364.0\n",
      "age_18_24_rate 0.09880179837343264 0.0 0.989946993\n",
      "age_25_34_rate 0.13530305654862954 0.0 0.615384615\n",
      "age_more_than_85_rate 0.019823543156247087 0.0 1.0\n",
      "age_75_84_rate 0.045132524646214686 0.0 1.0\n",
      "age_35_44_rate 0.125598394781421 0.0 0.52173913\n",
      "age_45_54_rate 0.13847638858430075 0.0 0.940594059\n",
      "age_65_74_rate 0.08256950617817035 0.0 1.0\n",
      "age_55_64_rate 0.12779760021114667 0.0 1.0\n",
      "age_10_14_rate 0.06318899940394813 0.0 0.4\n",
      "age_15_17_rate 0.03894571635991645 0.0 0.234297521\n",
      "age_5_9_rate 0.06284841499289409 0.0 0.384615385\n",
      "household_type_family_rate 0.6595105592063621 0.0 1.0\n",
      "dropout_16_19_inschool_rate 0.9531213428878275 0.0 1.0\n",
      "occupation_construction_rate 0.06234580955513259 0.0 0.875\n",
      "occupation_public_rate 0.048074211416534986 0.0 1.0\n",
      "occupation_information_rate 0.020007768714073327 0.0 0.27777777800000003\n",
      "occupation_finance_rate 0.06217256491031129 0.0 1.0\n",
      "occupation_education_rate 0.2334881259909889 0.0 1.0\n",
      "occupation_administrative_rate 0.10567223634463592 0.0 1.0\n",
      "occupation_manufacturing_rate 0.1045819045084532 0.0 1.0\n",
      "occupation_wholesale_rate 0.026253321990199526 0.0 0.526315789\n",
      "occupation_retail_rate 0.11630729031114762 0.0 1.0\n",
      "occupation_transportation_rate 0.05033351625318149 0.0 1.0\n",
      "occupation_arts_rate 0.09839912272489537 0.0 1.0\n",
      "occupation_agriculture_rate 0.02245909992159777 0.0 0.727272727\n",
      "occupancy_vacant_rate 0.11936293686186718 0.0 0.969803724\n",
      "occupancy_owner_rate 0.5572380939663722 0.0 1.0\n",
      "mortgage_with_rate 0.6336951531266656 0.0 1.0\n",
      "transportation_home_rate 0.04390133344224372 0.0 1.0\n",
      "transportation_car_alone_rate 0.7554403557544835 0.0 1.0\n",
      "transportation_walk_rate 0.030793577137622062 0.0 1.0\n",
      "transportation_carpool_rate 0.09620924222807663 0.0 1.0\n",
      "transportation_motorcycle_rate 0.0019536712212726466 0.0 0.17391304300000002\n",
      "transportation_bicycle_rate 0.006072958540966093 0.0 0.581109445\n",
      "transportation_public_rate 0.05620855650566652 0.0 1.0\n",
      "travel_time_less_than_10_rate 0.13928572568105 0.0 1.0\n",
      "travel_time_10_19_rate 0.29631720415587526 0.0 1.0\n",
      "travel_time_20_29_rate 0.20558501495188114 0.0 1.0\n",
      "travel_time_30_39_rate 0.1610204207306545 0.0 1.0\n",
      "travel_time_40_59_rate 0.11248667655020929 0.0 0.526315789\n",
      "travel_time_60_89_rate 0.058420177272642496 0.0 0.857142857\n",
      "health_insurance_public_rate 0.335649348466882 0.0 1.0\n",
      "health_insurance_none_rate 0.13094245860278678 0.0 1.0\n",
      "age_median 38.87746400371575 11.3 82.0\n",
      "travel_time_average 25.682535996284255 5.0 71.0\n",
      "voting_2016_dem_percentage 0.4887555283562546 0.031446541 0.9284659190000001\n",
      "voting_2016_gop_percentage 0.4623425468585218 0.041220671 0.937106918\n",
      "number_of_years_of_education 13.47176555781597 8.0 18.41154971\n",
      "diversity 0.31035772404918954 0.0 0.81244124\n",
      "net_metering 14.113980492336275 0.0 35.0\n",
      "feedin_tariff 1.2339990710636322 0.0 11.0\n",
      "cooperate_tax 0.410822108685555 0.0 16.0\n",
      "property_tax 17.74296330701347 0.0 42.0\n",
      "sales_tax 5.72401300510915 0.0 40.0\n",
      "rebate 2.0278216442173713 0.0 14.0\n",
      "avg_electricity_retail_rate 10.769686019508864 7.25 16.65\n"
     ]
    }
   ],
   "source": [
    "variable_means=X_test.mean(axis=0)\n",
    "variable_mins=X_test.min(axis=0)\n",
    "variable_maxes=X_test.max(axis=0)\n",
    "variables=independent_vars.columns\n",
    "for i in range(len(variables)):\n",
    "    print(variables[i],variable_means[i],variable_mins[i],variable_maxes[i])"
   ]
  },
  {
   "cell_type": "markdown",
   "metadata": {
    "collapsed": true
   },
   "source": [
    "# Scratch for model training script"
   ]
  },
  {
   "cell_type": "code",
   "execution_count": 2,
   "metadata": {
    "collapsed": true
   },
   "outputs": [],
   "source": [
    "max_depths=[15, 20, 30, None]\n",
    "n_estimators=[100,150,200,300]"
   ]
  },
  {
   "cell_type": "code",
   "execution_count": 5,
   "metadata": {},
   "outputs": [
    {
     "data": {
      "text/plain": [
       "256"
      ]
     },
     "execution_count": 5,
     "metadata": {},
     "output_type": "execute_result"
    }
   ],
   "source": [
    "model_params=[(x,y,a,b) for x in max_depths for y in n_estimators for a in max_depths for b in n_estimators]\n",
    "len(model_params)"
   ]
  },
  {
   "cell_type": "code",
   "execution_count": 6,
   "metadata": {},
   "outputs": [
    {
     "data": {
      "text/plain": [
       "[(15, 100),\n",
       " (15, 150),\n",
       " (15, 200),\n",
       " (15, 300),\n",
       " (20, 100),\n",
       " (20, 150),\n",
       " (20, 200),\n",
       " (20, 300),\n",
       " (30, 100),\n",
       " (30, 150),\n",
       " (30, 200),\n",
       " (30, 300),\n",
       " (None, 100),\n",
       " (None, 150),\n",
       " (None, 200),\n",
       " (None, 300)]"
      ]
     },
     "execution_count": 6,
     "metadata": {},
     "output_type": "execute_result"
    }
   ],
   "source": [
    "[(x,y) for x in max_depths for y in n_estimators]"
   ]
  },
  {
   "cell_type": "code",
   "execution_count": 8,
   "metadata": {},
   "outputs": [
    {
     "data": {
      "text/plain": [
       "16745"
      ]
     },
     "execution_count": 8,
     "metadata": {},
     "output_type": "execute_result"
    }
   ],
   "source": [
    "int(50236/3)"
   ]
  },
  {
   "cell_type": "code",
   "execution_count": 16,
   "metadata": {},
   "outputs": [
    {
     "name": "stdout",
     "output_type": "stream",
     "text": [
      "TRAIN: [    7     8     9 ... 71759 71760 71765] TEST: [    0     1     2 ... 71762 71763 71764]\n",
      "TRAIN: [    0     1     2 ... 71763 71764 71765] TEST: [    8    10    11 ... 71753 71755 71760]\n",
      "TRAIN: [    0     1     2 ... 71762 71763 71764] TEST: [    7     9    14 ... 71757 71759 71765]\n"
     ]
    }
   ],
   "source": [
    "from sklearn.model_selection import KFold\n",
    "\n",
    "folds=KFold(n_splits=3, random_state=None, shuffle=True)\n",
    "for train_index, test_index in folds.split(X):\n",
    "    print(\"TRAIN:\", train_index, \"TEST:\", test_index)\n",
    "    X_train, X_test = X[train_index], X[test_index]\n",
    "    y_train, y_test = y[train_index], y[test_index]"
   ]
  },
  {
   "cell_type": "code",
   "execution_count": 20,
   "metadata": {},
   "outputs": [
    {
     "data": {
      "text/plain": [
       "(23922,)"
      ]
     },
     "execution_count": 20,
     "metadata": {},
     "output_type": "execute_result"
    }
   ],
   "source": [
    "test_index.shape"
   ]
  },
  {
   "cell_type": "code",
   "execution_count": 21,
   "metadata": {},
   "outputs": [
    {
     "data": {
      "text/plain": [
       "(71766, 95)"
      ]
     },
     "execution_count": 21,
     "metadata": {},
     "output_type": "execute_result"
    }
   ],
   "source": [
    "X.shape"
   ]
  },
  {
   "cell_type": "code",
   "execution_count": 23,
   "metadata": {},
   "outputs": [
    {
     "data": {
      "text/plain": [
       "(23922, 95)"
      ]
     },
     "execution_count": 23,
     "metadata": {},
     "output_type": "execute_result"
    }
   ],
   "source": [
    "X_test.shape"
   ]
  },
  {
   "cell_type": "code",
   "execution_count": 24,
   "metadata": {
    "collapsed": true
   },
   "outputs": [],
   "source": [
    "X_trains=[]\n",
    "X_tests=[]\n",
    "yr_trains=[]\n",
    "yr_tests=[]\n",
    "yc_trains=[]\n",
    "yc_tests=[]\n",
    "\n",
    "folds=KFold(n_splits=3, random_state=None, shuffle=True)\n",
    "for train_index, test_index in folds.split(X):\n",
    "\n",
    "    X_trains.append(X[train_index])\n",
    "    X_tests.append(X[test_index])\n",
    "    yr_trains.append(yr[train_index])\n",
    "    yc_trains.append(yc[train_index])\n",
    "    yr_tests.append(yr[test_index])\n",
    "    yc_tests.append(yc[test_index])"
   ]
  },
  {
   "cell_type": "code",
   "execution_count": 26,
   "metadata": {},
   "outputs": [
    {
     "data": {
      "text/plain": [
       "array([[7.03527899e+04, 4.45200500e+01, 7.38786280e-02, ...,\n",
       "        1.20000000e+01, 0.00000000e+00, 9.46000000e+00],\n",
       "       [6.17270852e+04, 4.82644300e+02, 6.28361166e-02, ...,\n",
       "        1.20000000e+01, 0.00000000e+00, 9.46000000e+00],\n",
       "       [7.14968866e+04, 1.86167300e+02, 6.45089286e-02, ...,\n",
       "        1.20000000e+01, 0.00000000e+00, 9.46000000e+00],\n",
       "       ...,\n",
       "       [9.01636119e+04, 2.62453900e+01, 2.33635024e-02, ...,\n",
       "        1.10000000e+01, 0.00000000e+00, 9.82000000e+00],\n",
       "       [4.51241530e+04, 1.35395500e+02, 2.05831904e-01, ...,\n",
       "        0.00000000e+00, 0.00000000e+00, 7.86000000e+00],\n",
       "       [5.68179969e+04, 7.75031000e+00, 1.57068063e-01, ...,\n",
       "        0.00000000e+00, 0.00000000e+00, 7.86000000e+00]])"
      ]
     },
     "execution_count": 26,
     "metadata": {},
     "output_type": "execute_result"
    }
   ],
   "source": [
    "X_trains[0]"
   ]
  },
  {
   "cell_type": "code",
   "execution_count": 29,
   "metadata": {},
   "outputs": [
    {
     "data": {
      "text/plain": [
       "(47844, 95)"
      ]
     },
     "execution_count": 29,
     "metadata": {},
     "output_type": "execute_result"
    }
   ],
   "source": [
    "X_trains[1].shape"
   ]
  },
  {
   "cell_type": "code",
   "execution_count": 30,
   "metadata": {},
   "outputs": [
    {
     "data": {
      "text/plain": [
       "(47844,)"
      ]
     },
     "execution_count": 30,
     "metadata": {},
     "output_type": "execute_result"
    }
   ],
   "source": [
    "yr_trains[1].shape"
   ]
  },
  {
   "cell_type": "code",
   "execution_count": 31,
   "metadata": {},
   "outputs": [
    {
     "data": {
      "text/plain": [
       "(47844,)"
      ]
     },
     "execution_count": 31,
     "metadata": {},
     "output_type": "execute_result"
    }
   ],
   "source": [
    "yc_trains[1].shape"
   ]
  },
  {
   "cell_type": "code",
   "execution_count": 34,
   "metadata": {},
   "outputs": [
    {
     "data": {
      "text/plain": [
       "array([0, 1, 1, 0, 1, 0, 1, 0, 0, 1])"
      ]
     },
     "execution_count": 34,
     "metadata": {},
     "output_type": "execute_result"
    }
   ],
   "source": [
    "yc[0:10]"
   ]
  },
  {
   "cell_type": "code",
   "execution_count": 35,
   "metadata": {},
   "outputs": [
    {
     "data": {
      "text/plain": [
       "array([0.        , 0.00672646, 0.00111193, 0.        , 0.00208659,\n",
       "       0.        , 0.00425532, 0.        , 0.        , 0.00274223])"
      ]
     },
     "execution_count": 35,
     "metadata": {},
     "output_type": "execute_result"
    }
   ],
   "source": [
    "yr[0:10]"
   ]
  },
  {
   "cell_type": "code",
   "execution_count": 36,
   "metadata": {},
   "outputs": [
    {
     "data": {
      "text/plain": [
       "array([[7.03527899e+04, 4.45200500e+01, 7.38786280e-02, 3.86323659e-01,\n",
       "        3.71591909e-01, 1.25109938e-01, 3.45206684e-02, 5.71679859e-03,\n",
       "        2.85839930e-03, 9.76128934e-01, 2.88885510e-03, 2.43272009e-03,\n",
       "        4.25726015e-03, 0.00000000e+00, 9.12270032e-04, 1.33799605e-02,\n",
       "        9.63292848e-01, 4.44793302e-02, 6.80648991e-01, 1.77285319e-01,\n",
       "        3.87811634e-02, 7.91452315e-02, 0.00000000e+00, 2.01820340e-02,\n",
       "        3.95726157e-03, 2.58000000e+00, 1.92500000e+05, 8.14000000e+02,\n",
       "        3.58000000e+02, 2.40700000e+01, 1.54000000e+02, 5.40000000e+00,\n",
       "        6.95000000e-01, 3.76000000e+00, 9.74000000e+01, 4.40000000e+00,\n",
       "        5.70000000e+00, 4.81000000e+03, 1.27800000e+03, 7.87593128e-02,\n",
       "        9.50281283e-02, 8.05838528e-03, 4.63737266e-02, 1.09624449e-01,\n",
       "        1.89600122e-01, 8.51452030e-02, 1.57670671e-01, 7.52622776e-02,\n",
       "        4.51573666e-02, 6.47711723e-02, 7.56232687e-01, 1.00000000e+00,\n",
       "        1.13757355e-01, 2.40963855e-02, 1.26085738e-02, 4.48304847e-02,\n",
       "        2.03698515e-01, 5.37965817e-02, 1.77080415e-01, 2.18548613e-02,\n",
       "        1.17960213e-01, 6.36032502e-02, 6.33230597e-02, 5.96805828e-02,\n",
       "        1.37836916e-01, 7.76867963e-01, 6.27580149e-01, 8.83432120e-02,\n",
       "        7.95371154e-01, 1.91927745e-02, 8.63674852e-02, 3.38696020e-03,\n",
       "        2.25797347e-03, 3.66920689e-03, 1.30340557e-01, 2.12693498e-01,\n",
       "        2.13931889e-01, 2.41176471e-01, 8.88544892e-02, 6.78018576e-02,\n",
       "        2.49961942e-01, 7.03303395e-02, 4.39000000e+01, 2.90000000e+01,\n",
       "        3.23795657e-01, 6.02873963e-01, 1.32324099e+01, 4.69600604e-02,\n",
       "        3.40000000e+01, 0.00000000e+00, 0.00000000e+00, 2.50000000e+01,\n",
       "        1.20000000e+01, 0.00000000e+00, 9.46000000e+00],\n",
       "       [6.17270852e+04, 4.82644300e+02, 6.28361166e-02, 2.17095952e-01,\n",
       "        4.05887348e-01, 1.90772714e-01, 8.06679875e-02, 1.21709595e-02,\n",
       "        3.05689216e-02, 9.23316708e-01, 2.55610973e-02, 2.86783042e-03,\n",
       "        2.34413965e-02, 0.00000000e+00, 8.35411471e-03, 1.64588529e-02,\n",
       "        9.53659507e-01, 1.39072848e-01, 8.06726457e-01, 1.69955157e-01,\n",
       "        7.62331839e-03, 8.96860987e-03, 0.00000000e+00, 6.72645740e-03,\n",
       "        0.00000000e+00, 2.75000000e+00, 1.57000000e+05, 7.33000000e+02,\n",
       "        3.58000000e+02, 2.40700000e+01, 1.54000000e+02, 5.40000000e+00,\n",
       "        6.95000000e-01, 3.76000000e+00, 9.74000000e+01, 4.40000000e+00,\n",
       "        5.70000000e+00, 4.81000000e+03, 1.27800000e+03, 3.77182045e-01,\n",
       "        1.08603491e-01, 9.97506234e-03, 3.95261845e-02, 9.58852868e-02,\n",
       "        9.15211970e-02, 3.40399002e-02, 6.09725686e-02, 3.62842893e-02,\n",
       "        2.43142145e-02, 6.17206983e-02, 6.09417040e-01, 9.66867470e-01,\n",
       "        6.69447341e-02, 1.85610010e-02, 1.10531804e-02, 4.65067779e-02,\n",
       "        4.10636079e-01, 3.46193952e-02, 1.03023983e-01, 1.06360792e-02,\n",
       "        1.03232534e-01, 3.25338895e-02, 6.86131387e-02, 4.79666319e-03,\n",
       "        5.34804754e-02, 6.83786078e-01, 6.44320298e-01, 1.35402906e-01,\n",
       "        5.96433289e-01, 9.15896081e-02, 9.53324527e-02, 0.00000000e+00,\n",
       "        0.00000000e+00, 6.45090269e-02, 2.39877769e-01, 4.31372549e-01,\n",
       "        1.75451999e-01, 5.01655208e-02, 2.85204991e-02, 8.40336134e-03,\n",
       "        2.45760599e-01, 4.38902743e-02, 2.19000000e+01, 2.20000000e+01,\n",
       "        3.23795657e-01, 6.02873963e-01, 1.41921879e+01, 1.45934478e-01,\n",
       "        3.40000000e+01, 0.00000000e+00, 0.00000000e+00, 2.50000000e+01,\n",
       "        1.20000000e+01, 0.00000000e+00, 9.46000000e+00],\n",
       "       [7.14968866e+04, 1.86167300e+02, 6.45089286e-02, 3.43973214e-01,\n",
       "        3.25669643e-01, 1.90625000e-01, 6.16071429e-02, 6.69642857e-03,\n",
       "        6.91964286e-03, 9.95409554e-01, 0.00000000e+00, 2.86902883e-04,\n",
       "        0.00000000e+00, 0.00000000e+00, 2.58212595e-03, 1.72141730e-03,\n",
       "        9.59200216e-01, 6.83324834e-02, 7.77613047e-01, 1.63083766e-01,\n",
       "        1.66790215e-02, 2.55744996e-02, 0.00000000e+00, 6.30096368e-03,\n",
       "        1.07487027e-02, 2.55000000e+00, 1.82400000e+05, 6.92000000e+02,\n",
       "        3.58000000e+02, 2.40700000e+01, 1.54000000e+02, 5.40000000e+00,\n",
       "        6.95000000e-01, 3.76000000e+00, 9.74000000e+01, 4.40000000e+00,\n",
       "        5.70000000e+00, 4.81000000e+03, 1.27800000e+03, 7.99024530e-02,\n",
       "        9.38172429e-02, 3.22765744e-02, 5.07818104e-02, 1.20068857e-01,\n",
       "        1.51484722e-01, 7.97590016e-02, 1.14474250e-01, 1.00272558e-01,\n",
       "        5.73805767e-02, 6.57007603e-02, 7.26834692e-01, 9.89604990e-01,\n",
       "        5.09859155e-02, 2.47887324e-02, 4.78873239e-03, 8.19718310e-02,\n",
       "        2.56338028e-01, 8.53521127e-02, 1.97183099e-01, 2.08450704e-02,\n",
       "        1.00845070e-01, 4.61971831e-02, 4.81690141e-02, 3.07042254e-02,\n",
       "        7.25335167e-02, 7.76211757e-01, 6.40389725e-01, 3.34751773e-02,\n",
       "        8.41985816e-01, 3.48936170e-02, 7.68794326e-02, 8.79432624e-03,\n",
       "        0.00000000e+00, 0.00000000e+00, 2.36865277e-01, 2.06926915e-01,\n",
       "        2.62107426e-01, 1.99295568e-01, 4.25594365e-02, 4.13853830e-02,\n",
       "        2.55263540e-01, 3.71714825e-02, 3.96000000e+01, 2.10000000e+01,\n",
       "        3.23795657e-01, 6.02873963e-01, 1.36479911e+01, 9.15010711e-03,\n",
       "        3.40000000e+01, 0.00000000e+00, 0.00000000e+00, 2.50000000e+01,\n",
       "        1.20000000e+01, 0.00000000e+00, 9.46000000e+00],\n",
       "       [8.68401528e+04, 8.41361000e+01, 6.68402778e-02, 3.16840278e-01,\n",
       "        3.22916667e-01, 1.85185185e-01, 7.81250000e-02, 1.04166667e-02,\n",
       "        1.96759259e-02, 8.99652339e-01, 1.09039191e-02, 4.10872314e-03,\n",
       "        2.70227560e-02, 0.00000000e+00, 4.81984829e-02, 1.01137800e-02,\n",
       "        9.49304988e-01, 5.80386925e-02, 6.07201309e-01, 2.41134752e-01,\n",
       "        3.32787780e-02, 1.02564103e-01, 0.00000000e+00, 8.72885979e-03,\n",
       "        7.09219858e-03, 2.57000000e+00, 2.51400000e+05, 6.81000000e+02,\n",
       "        3.58000000e+02, 2.40700000e+01, 1.54000000e+02, 5.40000000e+00,\n",
       "        6.95000000e-01, 3.76000000e+00, 9.74000000e+01, 4.40000000e+00,\n",
       "        5.70000000e+00, 4.81000000e+03, 1.27800000e+03, 2.83659924e-01,\n",
       "        7.52212389e-02, 5.68900126e-03, 4.12452592e-02, 7.56953224e-02,\n",
       "        1.33533502e-01, 7.63274336e-02, 1.38432364e-01, 4.14032870e-02,\n",
       "        3.55562579e-02, 4.83565107e-02, 8.17785052e-01, 9.88485385e-01,\n",
       "        9.56072351e-02, 2.23944875e-02, 1.43554407e-02, 2.98593167e-02,\n",
       "        3.00315820e-01, 6.31639391e-02, 1.44415734e-01, 3.58886018e-02,\n",
       "        8.55584266e-02, 3.93339076e-02, 9.56072351e-02, 3.58886018e-02,\n",
       "        1.76549865e-01, 7.45283019e-01, 6.37733574e-01, 1.35987749e-01,\n",
       "        6.77794793e-01, 7.90199081e-02, 8.66768760e-02, 1.22511485e-03,\n",
       "        1.83767228e-03, 1.43950995e-02, 1.90358029e-01, 3.44913151e-01,\n",
       "        2.51683800e-01, 1.14498405e-01, 6.02623183e-02, 2.16235378e-02,\n",
       "        1.85050569e-01, 5.07269279e-02, 3.09000000e+01, 2.10000000e+01,\n",
       "        3.23795657e-01, 6.02873963e-01, 1.38587963e+01, 1.87334281e-01,\n",
       "        3.40000000e+01, 0.00000000e+00, 0.00000000e+00, 2.50000000e+01,\n",
       "        1.20000000e+01, 0.00000000e+00, 9.46000000e+00],\n",
       "       [8.91353156e+04, 1.19632300e+02, 4.86857826e-02, 2.93309438e-01,\n",
       "        3.92473118e-01, 1.95340502e-01, 5.07765830e-02, 1.49342891e-02,\n",
       "        4.48028674e-03, 9.53077508e-01, 1.72872340e-02, 0.00000000e+00,\n",
       "        6.45896657e-03, 0.00000000e+00, 0.00000000e+00, 2.31762918e-02,\n",
       "        9.49358764e-01, 4.95587237e-02, 6.27021388e-01, 2.59259259e-01,\n",
       "        2.45174752e-02, 5.00782473e-02, 0.00000000e+00, 2.29525300e-02,\n",
       "        1.61711007e-02, 2.74000000e+00, 2.08600000e+05, 8.82000000e+02,\n",
       "        3.58000000e+02, 2.40700000e+01, 1.54000000e+02, 5.40000000e+00,\n",
       "        6.95000000e-01, 3.76000000e+00, 9.74000000e+01, 4.40000000e+00,\n",
       "        5.70000000e+00, 4.81000000e+03, 1.27800000e+03, 9.06155015e-02,\n",
       "        1.42477204e-01, 5.50911854e-03, 2.88753799e-02, 1.20630699e-01,\n",
       "        1.49506079e-01, 6.04103343e-02, 1.28609422e-01, 4.99620061e-02,\n",
       "        3.97036474e-02, 1.03723404e-01, 7.68388106e-01, 9.46564885e-01,\n",
       "        6.82369241e-02, 1.45479737e-02, 1.10841704e-02, 5.64599931e-02,\n",
       "        2.40734326e-01, 1.25389678e-01, 1.58988569e-01, 2.77104260e-02,\n",
       "        1.23311396e-01, 5.85382750e-02, 4.19120194e-02, 2.97887080e-02,\n",
       "        4.34131737e-02, 6.78642715e-01, 6.01470588e-01, 4.25235274e-02,\n",
       "        8.43848031e-01, 1.67305681e-02, 8.81840362e-02, 0.00000000e+00,\n",
       "        0.00000000e+00, 2.43987452e-03, 1.19767019e-01, 3.44375683e-01,\n",
       "        2.94503094e-01, 9.82890426e-02, 4.69603203e-02, 6.58900619e-02,\n",
       "        2.72709960e-01, 2.34241097e-02, 3.45000000e+01, 2.50000000e+01,\n",
       "        3.23795657e-01, 6.02873963e-01, 1.38509558e+01, 9.07655573e-02,\n",
       "        3.40000000e+01, 0.00000000e+00, 0.00000000e+00, 2.50000000e+01,\n",
       "        1.20000000e+01, 0.00000000e+00, 9.46000000e+00],\n",
       "       [6.22259036e+04, 4.38703500e+01, 9.93705036e-02, 4.25809353e-01,\n",
       "        3.13624101e-01, 1.17356115e-01, 3.19244604e-02, 6.51978417e-03,\n",
       "        5.39568345e-03, 9.57740009e-01, 1.27086204e-02, 1.22492727e-03,\n",
       "        0.00000000e+00, 0.00000000e+00, 2.38860818e-02, 4.44036135e-03,\n",
       "        9.72635336e-01, 3.72526193e-02, 6.38177711e-01, 2.85768072e-01,\n",
       "        3.04969880e-02, 2.71084337e-02, 0.00000000e+00, 1.50602410e-03,\n",
       "        1.69427711e-02, 2.42000000e+00, 1.58700000e+05, 5.33000000e+02,\n",
       "        3.76000000e+02, 2.45800000e+01, 1.54000000e+02, 5.40000000e+00,\n",
       "        6.94000000e-01, 3.76000000e+00, 9.72000000e+01, 4.50000000e+00,\n",
       "        5.90000000e+00, 4.82000000e+03, 1.28800000e+03, 6.76772317e-02,\n",
       "        1.23717654e-01, 4.99157863e-02, 6.73709998e-02, 9.96784566e-02,\n",
       "        1.17439902e-01, 6.59929567e-02, 1.56943806e-01, 5.19062931e-02,\n",
       "        3.27668045e-02, 7.82422294e-02, 6.46837349e-01, 9.42857143e-01,\n",
       "        5.29051988e-02, 1.34556575e-02, 6.11620795e-04, 3.63914373e-02,\n",
       "        1.96941896e-01, 5.07645260e-02, 1.55657492e-01, 3.97553517e-02,\n",
       "        1.74617737e-01, 7.40061162e-02, 8.56269113e-02, 8.50152905e-02,\n",
       "        6.64323374e-02, 6.28822496e-01, 6.09837898e-01, 5.71791614e-02,\n",
       "        8.14167726e-01, 5.55908513e-02, 4.89199492e-02, 1.27064803e-03,\n",
       "        7.94155019e-03, 7.62388818e-03, 4.36320755e-01, 2.60107817e-01,\n",
       "        9.90566038e-02, 6.70485175e-02, 7.51347709e-02, 4.21159030e-02,\n",
       "        3.13148521e-01, 9.88074957e-02, 4.13000000e+01, 1.80000000e+01,\n",
       "        3.23795657e-01, 6.02873963e-01, 1.29979766e+01, 8.19808036e-02,\n",
       "        3.40000000e+01, 0.00000000e+00, 0.00000000e+00, 2.50000000e+01,\n",
       "        1.20000000e+01, 0.00000000e+00, 9.46000000e+00],\n",
       "       [4.10689362e+04, 7.81825900e+03, 5.99315068e-02, 2.03767123e-01,\n",
       "        4.76027397e-01, 8.39041096e-02, 7.70547945e-02, 4.45205479e-02,\n",
       "        5.47945205e-02, 7.12614155e-01, 8.56164384e-02, 1.96917808e-02,\n",
       "        8.76141553e-02, 0.00000000e+00, 1.65525114e-02, 7.79109589e-02,\n",
       "        8.58152894e-01, 1.49253731e-01, 4.10638298e-01, 4.72340426e-01,\n",
       "        1.06382979e-02, 6.38297872e-03, 0.00000000e+00, 6.59574468e-02,\n",
       "        3.40425532e-02, 1.78000000e+00, 2.70800000e+05, 5.12000000e+02,\n",
       "        3.58000000e+02, 2.40700000e+01, 1.54000000e+02, 5.40000000e+00,\n",
       "        6.95000000e-01, 3.76000000e+00, 9.74000000e+01, 4.40000000e+00,\n",
       "        5.70000000e+00, 4.81000000e+03, 1.27800000e+03, 8.04509132e-01,\n",
       "        5.22260274e-02, 4.56621005e-03, 1.39840183e-02, 3.13926941e-02,\n",
       "        3.25342466e-02, 1.02739726e-02, 2.16894977e-02, 1.42694064e-03,\n",
       "        1.79794521e-02, 8.84703196e-03, 1.42553191e-01, 9.95920746e-01,\n",
       "        2.21421215e-02, 3.60453141e-03, 1.64778579e-02, 5.66426365e-03,\n",
       "        4.34088568e-01, 4.68589083e-02, 3.03810505e-02, 0.00000000e+00,\n",
       "        1.79711637e-01, 1.02986612e-02, 1.95159629e-01, 8.75386200e-03,\n",
       "        1.59212880e-01, 5.54561717e-02, 7.41935484e-01, 1.52409639e-01,\n",
       "        4.87951807e-01, 2.06626506e-01, 6.92771084e-02, 0.00000000e+00,\n",
       "        3.01204819e-03, 7.46987952e-02, 3.09879176e-01, 4.62686567e-01,\n",
       "        8.67093106e-02, 8.81307747e-02, 2.20326937e-02, 2.62970860e-02,\n",
       "        1.70365927e-01, 4.40911818e-02, 2.00000000e+01, 1.50000000e+01,\n",
       "        3.23795657e-01, 6.02873963e-01, 1.44041096e+01, 4.70442782e-01,\n",
       "        3.40000000e+01, 0.00000000e+00, 0.00000000e+00, 2.50000000e+01,\n",
       "        1.20000000e+01, 0.00000000e+00, 9.46000000e+00],\n",
       "       [7.40738337e+04, 3.68756900e+01, 1.04754542e-01, 4.32160804e-01,\n",
       "        3.35137225e-01, 9.35446463e-02, 2.01005025e-02, 1.04367994e-02,\n",
       "        3.86548125e-03, 9.95869902e-01, 2.58131131e-04, 5.16262261e-04,\n",
       "        1.03252452e-03, 0.00000000e+00, 1.29065565e-03, 1.03252452e-03,\n",
       "        9.75286849e-01, 5.09259259e-02, 5.29411765e-01, 2.58282623e-01,\n",
       "        1.28465179e-01, 7.30223124e-02, 0.00000000e+00, 8.78972279e-03,\n",
       "        2.02839757e-03, 2.61000000e+00, 1.65800000e+05, 7.28000000e+02,\n",
       "        3.58000000e+02, 2.40700000e+01, 1.54000000e+02, 5.40000000e+00,\n",
       "        6.95000000e-01, 3.76000000e+00, 9.74000000e+01, 4.40000000e+00,\n",
       "        5.70000000e+00, 4.81000000e+03, 1.27800000e+03, 7.17604543e-02,\n",
       "        1.25193598e-01, 2.09086216e-02, 6.19514713e-02, 1.03510583e-01,\n",
       "        1.61848219e-01, 7.58905524e-02, 1.18482189e-01, 7.89881260e-02,\n",
       "        5.67888487e-02, 6.29839959e-02, 7.30223124e-01, 1.00000000e+00,\n",
       "        1.00000000e-01, 1.99095023e-02, 1.67420814e-02, 3.71040724e-02,\n",
       "        1.79638009e-01, 3.30316742e-02, 1.27149321e-01, 3.57466063e-02,\n",
       "        1.52941176e-01, 5.33936652e-02, 3.66515837e-02, 1.64253394e-01,\n",
       "        8.64731316e-02, 8.09141445e-01, 5.06870229e-01, 1.12132353e-01,\n",
       "        7.32536765e-01, 7.49080882e-02, 7.16911765e-02, 1.83823529e-03,\n",
       "        1.37867647e-03, 9.19117647e-04, 2.73809524e-01, 3.20910973e-01,\n",
       "        1.35610766e-01, 1.25776398e-01, 8.79917184e-02, 3.10559006e-02,\n",
       "        2.56802280e-01, 4.50894014e-02, 3.93000000e+01, 2.10000000e+01,\n",
       "        3.23795657e-01, 6.02873963e-01, 1.28747584e+01, 8.23900731e-03,\n",
       "        3.40000000e+01, 0.00000000e+00, 0.00000000e+00, 2.50000000e+01,\n",
       "        1.20000000e+01, 0.00000000e+00, 9.46000000e+00],\n",
       "       [6.94121924e+04, 4.36412700e+01, 8.63550618e-02, 4.25696919e-01,\n",
       "        3.48983442e-01, 1.10459023e-01, 2.34751624e-02, 3.77279396e-03,\n",
       "        1.25759799e-03, 9.85074627e-01, 3.45494748e-03, 1.79657269e-03,\n",
       "        8.29187396e-04, 4.14593698e-04, 3.04035379e-03, 5.38971808e-03,\n",
       "        9.63793103e-01, 6.40709709e-02, 6.37164892e-01, 1.96107235e-01,\n",
       "        5.72897539e-02, 8.85053250e-02, 0.00000000e+00, 1.35879545e-02,\n",
       "        7.34484025e-03, 2.65000000e+00, 1.82400000e+05, 6.35000000e+02,\n",
       "        3.58000000e+02, 2.40700000e+01, 1.54000000e+02, 5.40000000e+00,\n",
       "        6.95000000e-01, 3.76000000e+00, 9.74000000e+01, 4.40000000e+00,\n",
       "        5.70000000e+00, 4.81000000e+03, 1.27800000e+03, 7.64234384e-02,\n",
       "        9.64621338e-02, 1.54781647e-02, 5.05804312e-02, 1.25207297e-01,\n",
       "        1.50221117e-01, 8.69264787e-02, 1.34466556e-01, 8.67882808e-02,\n",
       "        5.22388060e-02, 6.41238253e-02, 7.45134043e-01, 9.51871658e-01,\n",
       "        9.55788398e-02, 1.55890621e-02, 1.17556862e-02, 4.06337848e-02,\n",
       "        1.80424227e-01, 5.23894710e-02, 2.31535906e-01, 3.34781498e-02,\n",
       "        1.01201124e-01, 4.01226680e-02, 5.08561206e-02, 9.91566573e-02,\n",
       "        2.41081382e-01, 6.76700111e-01, 5.98846787e-01, 7.91872884e-02,\n",
       "        8.12451159e-01, 2.83928106e-02, 6.82469393e-02, 4.42823652e-03,\n",
       "        1.82339151e-03, 7.81453504e-04, 1.70862801e-01, 2.47524752e-01,\n",
       "        1.87835926e-01, 1.93493635e-01, 1.40028289e-01, 2.51768034e-02,\n",
       "        2.66574394e-01, 5.34256055e-02, 4.04000000e+01, 2.60000000e+01,\n",
       "        3.23795657e-01, 6.02873963e-01, 1.29805072e+01, 2.95736629e-02,\n",
       "        3.40000000e+01, 0.00000000e+00, 0.00000000e+00, 2.50000000e+01,\n",
       "        1.20000000e+01, 0.00000000e+00, 9.46000000e+00],\n",
       "       [8.25024071e+04, 1.08002700e+03, 5.87048248e-02, 2.10053201e-01,\n",
       "        3.57549074e-01, 2.90221978e-01, 4.58631444e-02, 3.65070629e-02,\n",
       "        1.10071547e-03, 9.37206021e-01, 1.63452493e-02, 0.00000000e+00,\n",
       "        3.43367827e-02, 0.00000000e+00, 0.00000000e+00, 1.21119473e-02,\n",
       "        9.81628392e-01, 6.87580576e-03, 7.37050579e-01, 2.23644119e-01,\n",
       "        8.22669104e-03, 5.48446069e-03, 0.00000000e+00, 1.67580743e-02,\n",
       "        8.83607556e-03, 2.59000000e+00, 1.73700000e+05, 1.00600000e+03,\n",
       "        3.58000000e+02, 2.40700000e+01, 1.54000000e+02, 5.40000000e+00,\n",
       "        6.95000000e-01, 3.76000000e+00, 9.74000000e+01, 4.40000000e+00,\n",
       "        5.70000000e+00, 4.81000000e+03, 1.27800000e+03, 5.93838194e-02,\n",
       "        1.88146754e-01, 7.52587018e-03, 3.77469426e-02, 1.53104421e-01,\n",
       "        1.06067733e-01, 6.31467545e-02, 8.52539981e-02, 9.31326435e-02,\n",
       "        3.11618062e-02, 8.54891816e-02, 7.09018891e-01, 1.00000000e+00,\n",
       "        7.27350064e-02, 4.33857933e-02, 2.53083794e-02, 9.54912803e-02,\n",
       "        2.53509145e-01, 8.76222884e-02, 1.10803913e-01, 9.57039558e-03,\n",
       "        1.15695449e-01, 7.44364100e-02, 5.33815398e-02, 5.10421097e-03,\n",
       "        7.96410544e-02, 6.11329220e-01, 7.85779817e-01, 4.94517308e-02,\n",
       "        8.38959364e-01, 2.79509783e-03, 9.26682434e-02, 0.00000000e+00,\n",
       "        7.95527843e-03, 8.17028596e-03, 1.58109025e-01, 5.17982357e-01,\n",
       "        1.38656413e-01, 6.28817010e-02, 5.70006786e-02, 4.13933499e-02,\n",
       "        2.38341969e-01, 6.55911446e-02, 3.23000000e+01, 2.10000000e+01,\n",
       "        3.23795657e-01, 6.02873963e-01, 1.42548156e+01, 1.20051994e-01,\n",
       "        3.40000000e+01, 0.00000000e+00, 0.00000000e+00, 2.50000000e+01,\n",
       "        1.20000000e+01, 0.00000000e+00, 9.46000000e+00]])"
      ]
     },
     "execution_count": 36,
     "metadata": {},
     "output_type": "execute_result"
    }
   ],
   "source": [
    "X[0:10]"
   ]
  },
  {
   "cell_type": "code",
   "execution_count": 41,
   "metadata": {},
   "outputs": [
    {
     "data": {
      "text/plain": [
       "array([6.17270852e+04, 4.82644300e+02, 6.28361166e-02, 2.17095952e-01,\n",
       "       4.05887348e-01, 1.90772714e-01, 8.06679875e-02, 1.21709595e-02,\n",
       "       3.05689216e-02, 9.23316708e-01, 2.55610973e-02, 2.86783042e-03,\n",
       "       2.34413965e-02, 0.00000000e+00, 8.35411471e-03, 1.64588529e-02,\n",
       "       9.53659507e-01, 1.39072848e-01, 8.06726457e-01, 1.69955157e-01,\n",
       "       7.62331839e-03, 8.96860987e-03, 0.00000000e+00, 6.72645740e-03,\n",
       "       0.00000000e+00, 2.75000000e+00, 1.57000000e+05, 7.33000000e+02,\n",
       "       3.58000000e+02, 2.40700000e+01, 1.54000000e+02, 5.40000000e+00,\n",
       "       6.95000000e-01, 3.76000000e+00, 9.74000000e+01, 4.40000000e+00,\n",
       "       5.70000000e+00, 4.81000000e+03, 1.27800000e+03, 3.77182045e-01,\n",
       "       1.08603491e-01, 9.97506234e-03, 3.95261845e-02, 9.58852868e-02,\n",
       "       9.15211970e-02, 3.40399002e-02, 6.09725686e-02, 3.62842893e-02,\n",
       "       2.43142145e-02, 6.17206983e-02, 6.09417040e-01, 9.66867470e-01,\n",
       "       6.69447341e-02, 1.85610010e-02, 1.10531804e-02, 4.65067779e-02,\n",
       "       4.10636079e-01, 3.46193952e-02, 1.03023983e-01, 1.06360792e-02,\n",
       "       1.03232534e-01, 3.25338895e-02, 6.86131387e-02, 4.79666319e-03,\n",
       "       5.34804754e-02, 6.83786078e-01, 6.44320298e-01, 1.35402906e-01,\n",
       "       5.96433289e-01, 9.15896081e-02, 9.53324527e-02, 0.00000000e+00,\n",
       "       0.00000000e+00, 6.45090269e-02, 2.39877769e-01, 4.31372549e-01,\n",
       "       1.75451999e-01, 5.01655208e-02, 2.85204991e-02, 8.40336134e-03,\n",
       "       2.45760599e-01, 4.38902743e-02, 2.19000000e+01, 2.20000000e+01,\n",
       "       3.23795657e-01, 6.02873963e-01, 1.41921879e+01, 1.45934478e-01,\n",
       "       3.40000000e+01, 0.00000000e+00, 0.00000000e+00, 2.50000000e+01,\n",
       "       1.20000000e+01, 0.00000000e+00, 9.46000000e+00])"
      ]
     },
     "execution_count": 41,
     "metadata": {},
     "output_type": "execute_result"
    }
   ],
   "source": [
    "X_trains[0][1]"
   ]
  },
  {
   "cell_type": "code",
   "execution_count": 40,
   "metadata": {},
   "outputs": [
    {
     "data": {
      "text/plain": [
       "0.0067264573991"
      ]
     },
     "execution_count": 40,
     "metadata": {},
     "output_type": "execute_result"
    }
   ],
   "source": [
    "yr_trains[0][1]"
   ]
  },
  {
   "cell_type": "code",
   "execution_count": 42,
   "metadata": {},
   "outputs": [
    {
     "data": {
      "text/plain": [
       "1"
      ]
     },
     "execution_count": 42,
     "metadata": {},
     "output_type": "execute_result"
    }
   ],
   "source": [
    "yc_trains[0][1]"
   ]
  },
  {
   "cell_type": "code",
   "execution_count": 43,
   "metadata": {},
   "outputs": [
    {
     "data": {
      "text/plain": [
       "3"
      ]
     },
     "execution_count": 43,
     "metadata": {},
     "output_type": "execute_result"
    }
   ],
   "source": [
    "len(X_trains)"
   ]
  },
  {
   "cell_type": "code",
   "execution_count": 45,
   "metadata": {
    "collapsed": true
   },
   "outputs": [],
   "source": [
    "import csv\n",
    "\n",
    "with open('solar_forest_gridsearch.csv','wt',newline='') as f:\n",
    "    writer = csv.writer(f, delimiter=',')\n",
    "    writer.writerow(['max_depth_c','n_est_c','max_depth_r','n_est_r','test_acc_1','test_acc_2','test_acc_3',\n",
    "                     'test_f1_1','test_f1_2','test_f1_3','test_r2_1','test_r2_2','test_r2_3','overall_r2_1',\n",
    "                     'overall_r2_2','overall_r2_3'])\n",
    "    \n",
    "    f.close() "
   ]
  },
  {
   "cell_type": "code",
   "execution_count": null,
   "metadata": {
    "collapsed": true
   },
   "outputs": [],
   "source": []
  }
 ],
 "metadata": {
  "kernelspec": {
   "display_name": "Python 3",
   "language": "python",
   "name": "python3"
  },
  "language_info": {
   "codemirror_mode": {
    "name": "ipython",
    "version": 3
   },
   "file_extension": ".py",
   "mimetype": "text/x-python",
   "name": "python",
   "nbconvert_exporter": "python",
   "pygments_lexer": "ipython3",
   "version": "3.6.3"
  }
 },
 "nbformat": 4,
 "nbformat_minor": 2
}
