{
 "cells": [
  {
   "cell_type": "code",
   "execution_count": 2,
   "metadata": {},
   "outputs": [
    {
     "name": "stderr",
     "output_type": "stream",
     "text": [
      "C:\\Users\\noahw\\Anaconda3\\envs\\ipykernel_py3\\lib\\site-packages\\sklearn\\ensemble\\weight_boosting.py:29: DeprecationWarning: numpy.core.umath_tests is an internal NumPy module and should not be imported. It will be removed in a future NumPy release.\n",
      "  from numpy.core.umath_tests import inner1d\n"
     ]
    }
   ],
   "source": [
    "import pandas as pd\n",
    "import numpy as np\n",
    "from sklearn.preprocessing import Imputer\n",
    "from sklearn import preprocessing\n",
    "from sklearn.model_selection import train_test_split\n",
    "from sklearn.ensemble import RandomForestClassifier\n",
    "from sklearn.ensemble import RandomForestRegressor\n",
    "from sklearn.metrics import r2_score\n",
    "import matplotlib.pyplot as plt"
   ]
  },
  {
   "cell_type": "code",
   "execution_count": 16,
   "metadata": {
    "collapsed": true
   },
   "outputs": [],
   "source": [
    "# load full dataset\n",
    "deepsolar_original = pd.read_csv('../deepsolar_tract.csv', index_col=0, encoding='ISO-8859-1')"
   ]
  },
  {
   "cell_type": "markdown",
   "metadata": {},
   "source": [
    "# Pre-Process the Dataset"
   ]
  },
  {
   "cell_type": "code",
   "execution_count": 17,
   "metadata": {
    "collapsed": true
   },
   "outputs": [],
   "source": [
    "deepsolar_curated = deepsolar_original[deepsolar_original['population'] != 0]\n",
    "deepsolar_curated = deepsolar_curated[deepsolar_curated['household_count'] != 0]\n",
    "deepsolar_curated = deepsolar_curated[deepsolar_curated['population'] >= 100]\n",
    "deepsolar_curated = deepsolar_curated[deepsolar_curated['household_count'] >= 100]\n",
    "deepsolar_curated['water_percent'] = deepsolar_curated['water_area']/deepsolar_curated['total_area']\n",
    "deepsolar_curated = deepsolar_curated[deepsolar_curated['water_percent'] < 0.75]\n",
    "#deepsolar_curated.drop(labels='water_percent', axis=1, inplace=True)"
   ]
  },
  {
   "cell_type": "code",
   "execution_count": 18,
   "metadata": {
    "collapsed": true
   },
   "outputs": [],
   "source": [
    "relevant_cols=['average_household_income','county','gini_index','land_area','per_capita_income','population_density','state','total_area','water_area','education_less_than_high_school_rate','education_high_school_graduate_rate','education_college_rate','education_bachelor_rate','education_master_rate','education_professional_school_rate','education_doctoral_rate','race_white_rate','race_black_africa_rate','race_indian_alaska_rate','race_asian_rate','race_islander_rate','race_other_rate','race_two_more_rate','employ_rate','poverty_family_below_poverty_level_rate','heating_fuel_gas_rate','heating_fuel_electricity_rate','heating_fuel_fuel_oil_kerosene_rate','heating_fuel_coal_coke_rate','heating_fuel_solar_rate','heating_fuel_other_rate','heating_fuel_none_rate','median_household_income','electricity_price_residential','electricity_consume_residential','average_household_size','housing_unit_median_value','housing_unit_median_gross_rent','lat','lon','elevation','cooling_design_temperature','earth_temperature_amplitude','frost_days','relative_humidity','daily_solar_radiation','atmospheric_pressure','wind_speed','age_18_24_rate','age_25_34_rate','age_more_than_85_rate','age_75_84_rate','age_35_44_rate','age_45_54_rate','age_65_74_rate','age_55_64_rate','age_10_14_rate','age_15_17_rate','age_5_9_rate','household_type_family_rate','dropout_16_19_inschool_rate','occupation_construction_rate','occupation_public_rate','occupation_information_rate','occupation_finance_rate','occupation_education_rate','occupation_administrative_rate','occupation_manufacturing_rate','occupation_wholesale_rate','occupation_retail_rate','occupation_transportation_rate','occupation_arts_rate','occupation_agriculture_rate','occupancy_vacant_rate','occupancy_owner_rate','mortgage_with_rate','transportation_home_rate','transportation_car_alone_rate','transportation_walk_rate','transportation_carpool_rate','transportation_motorcycle_rate','transportation_bicycle_rate','transportation_public_rate','travel_time_less_than_10_rate','travel_time_10_19_rate','travel_time_20_29_rate','travel_time_30_39_rate','travel_time_40_59_rate','travel_time_60_89_rate','health_insurance_public_rate','health_insurance_none_rate','age_median','travel_time_average','voting_2016_dem_percentage','voting_2016_dem_win','voting_2012_dem_win','number_of_years_of_education','diversity','number_of_solar_system_per_household','incentive_count_residential','incentive_residential_state_level','net_metering','feedin_tariff','cooperate_tax','property_tax','sales_tax','rebate','avg_electricity_retail_rate'\n",
    "]\n",
    "relevant_cols.remove('land_area')\n",
    "relevant_cols.remove('water_area')\n",
    "relevant_cols.remove('total_area')\n",
    "relevant_cols.append('water_percent')\n",
    "#solar_fields=pd.read_csv('../deepsolar fields.csv')\n",
    "#supp_cols=solar_fields.loc[(solar_fields['Mentioned in Supplemental Info']==1)]['Field'].tolist()\n",
    "#all_cols=set(relevant_cols+supp_cols)\n",
    "#deepsolar_curated=deepsolar_curated[all_cols]\n",
    "deepsolar_curated=deepsolar_curated[relevant_cols]"
   ]
  },
  {
   "cell_type": "code",
   "execution_count": 88,
   "metadata": {},
   "outputs": [
    {
     "name": "stdout",
     "output_type": "stream",
     "text": [
      "average_household_income float64\n",
      "county object\n",
      "gini_index float64\n",
      "land_area float64\n",
      "per_capita_income float64\n",
      "population_density float64\n",
      "state object\n",
      "total_area float64\n",
      "water_area float64\n",
      "education_less_than_high_school_rate float64\n",
      "education_high_school_graduate_rate float64\n",
      "education_college_rate float64\n",
      "education_bachelor_rate float64\n",
      "education_master_rate float64\n",
      "education_professional_school_rate float64\n",
      "education_doctoral_rate float64\n",
      "race_white_rate float64\n",
      "race_black_africa_rate float64\n",
      "race_indian_alaska_rate float64\n",
      "race_asian_rate float64\n",
      "race_islander_rate float64\n",
      "race_other_rate float64\n",
      "race_two_more_rate float64\n",
      "employ_rate float64\n",
      "poverty_family_below_poverty_level_rate float64\n",
      "heating_fuel_gas_rate float64\n",
      "heating_fuel_electricity_rate float64\n",
      "heating_fuel_fuel_oil_kerosene_rate float64\n",
      "heating_fuel_coal_coke_rate float64\n",
      "heating_fuel_solar_rate float64\n",
      "heating_fuel_other_rate float64\n",
      "heating_fuel_none_rate float64\n",
      "median_household_income float64\n",
      "electricity_price_residential float64\n",
      "electricity_consume_residential int64\n",
      "average_household_size float64\n",
      "housing_unit_median_value float64\n",
      "housing_unit_median_gross_rent float64\n",
      "lat float64\n",
      "lon float64\n",
      "elevation float64\n",
      "cooling_design_temperature float64\n",
      "earth_temperature_amplitude float64\n",
      "frost_days float64\n",
      "relative_humidity float64\n",
      "daily_solar_radiation float64\n",
      "atmospheric_pressure float64\n",
      "wind_speed float64\n",
      "age_18_24_rate float64\n",
      "age_25_34_rate float64\n",
      "age_more_than_85_rate float64\n",
      "age_75_84_rate float64\n",
      "age_35_44_rate float64\n",
      "age_45_54_rate float64\n",
      "age_65_74_rate float64\n",
      "age_55_64_rate float64\n",
      "age_10_14_rate float64\n",
      "age_15_17_rate float64\n",
      "age_5_9_rate float64\n",
      "household_type_family_rate float64\n",
      "dropout_16_19_inschool_rate float64\n",
      "occupation_construction_rate float64\n",
      "occupation_public_rate float64\n",
      "occupation_information_rate float64\n",
      "occupation_finance_rate float64\n",
      "occupation_education_rate float64\n",
      "occupation_administrative_rate float64\n",
      "occupation_manufacturing_rate float64\n",
      "occupation_wholesale_rate float64\n",
      "occupation_retail_rate float64\n",
      "occupation_transportation_rate float64\n",
      "occupation_arts_rate float64\n",
      "occupation_agriculture_rate float64\n",
      "occupancy_vacant_rate float64\n",
      "occupancy_owner_rate float64\n",
      "mortgage_with_rate float64\n",
      "transportation_home_rate float64\n",
      "transportation_car_alone_rate float64\n",
      "transportation_walk_rate float64\n",
      "transportation_carpool_rate float64\n",
      "transportation_motorcycle_rate float64\n",
      "transportation_bicycle_rate float64\n",
      "transportation_public_rate float64\n",
      "travel_time_less_than_10_rate float64\n",
      "travel_time_10_19_rate float64\n",
      "travel_time_20_29_rate float64\n",
      "travel_time_30_39_rate float64\n",
      "travel_time_40_59_rate float64\n",
      "travel_time_60_89_rate float64\n",
      "health_insurance_public_rate float64\n",
      "health_insurance_none_rate float64\n",
      "age_median float64\n",
      "travel_time_average float64\n",
      "voting_2016_dem_percentage float64\n",
      "voting_2016_dem_win bool\n",
      "voting_2012_dem_win bool\n",
      "number_of_years_of_education float64\n",
      "diversity float64\n",
      "number_of_solar_system_per_household float64\n",
      "incentive_count_residential int64\n",
      "incentive_residential_state_level int64\n",
      "net_metering int64\n",
      "feedin_tariff int64\n",
      "cooperate_tax int64\n",
      "property_tax int64\n",
      "sales_tax int64\n",
      "rebate int64\n",
      "avg_electricity_retail_rate float64\n",
      "water_percent float64\n"
     ]
    }
   ],
   "source": [
    "for i in relevant_cols:\n",
    "    print(i,deepsolar_curated.dtypes[i])"
   ]
  },
  {
   "cell_type": "code",
   "execution_count": 86,
   "metadata": {
    "collapsed": true
   },
   "outputs": [],
   "source": [
    "deepsolar_curated['elevation']. \\\n",
    "    fillna(deepsolar_curated['elevation'].median(), inplace=True)\n",
    "deepsolar_curated['daily_solar_radiation']. \\\n",
    "    fillna(deepsolar_curated['daily_solar_radiation'].median(), inplace=True)\n",
    "deepsolar_curated['lat']. \\\n",
    "    fillna(deepsolar_curated['lat'].median(), inplace=True)\n",
    "deepsolar_curated['lon']. \\\n",
    "    fillna(deepsolar_curated['lon'].median(), inplace=True)\n",
    "deepsolar_curated['cooling_design_temperature']. \\\n",
    "    fillna(deepsolar_curated['cooling_design_temperature'].median(), inplace=True)\n",
    "deepsolar_curated['earth_temperature_amplitude']. \\\n",
    "    fillna(deepsolar_curated['earth_temperature_amplitude'].median(), inplace=True)\n",
    "deepsolar_curated['frost_days']. \\\n",
    "    fillna(deepsolar_curated['frost_days'].median(), inplace=True)\n",
    "deepsolar_curated['relative_humidity']. \\\n",
    "    fillna(deepsolar_curated['relative_humidity'].median(), inplace=True)\n",
    "deepsolar_curated['atmospheric_pressure']. \\\n",
    "    fillna(deepsolar_curated['atmospheric_pressure'].median(), inplace=True)\n",
    "deepsolar_curated['wind_speed']. \\\n",
    "    fillna(deepsolar_curated['wind_speed'].median(), inplace=True)\n",
    "    "
   ]
  },
  {
   "cell_type": "code",
   "execution_count": 87,
   "metadata": {
    "collapsed": true
   },
   "outputs": [],
   "source": [
    "deepsolar_curated['housing_unit_median_gross_rent']. \\\n",
    "    fillna(deepsolar_curated['housing_unit_median_gross_rent'].median(), inplace=True)\n",
    "deepsolar_curated['housing_unit_median_value']. \\\n",
    "    fillna(deepsolar_curated['housing_unit_median_value'].median(), inplace=True)\n",
    "deepsolar_curated['dropout_16_19_inschool_rate']. \\\n",
    "    fillna(deepsolar_curated['dropout_16_19_inschool_rate'].median(), inplace=True)\n",
    "deepsolar_curated['mortgage_with_rate']. \\\n",
    "    fillna(deepsolar_curated['mortgage_with_rate'].median(), inplace=True)\n",
    "deepsolar_curated['median_household_income']. \\\n",
    "    fillna(deepsolar_curated['median_household_income'].median(), inplace=True)\n",
    "deepsolar_curated['travel_time_average']. \\\n",
    "    fillna(deepsolar_curated['travel_time_average'].median(), inplace=True)"
   ]
  },
  {
   "cell_type": "code",
   "execution_count": 19,
   "metadata": {
    "collapsed": true
   },
   "outputs": [],
   "source": [
    "for i in range(len(deepsolar_curated.dtypes)):\n",
    "    if (deepsolar_curated.columns[i] == 'number_of_solar_system_per_household') | (deepsolar_curated.dtypes[i] not in ['float64','int64']):\n",
    "        continue\n",
    "    else:\n",
    "        deepsolar_curated[deepsolar_curated.columns[i]]. \\\n",
    "    fillna(deepsolar_curated[deepsolar_curated.columns[i]].median(), inplace=True)"
   ]
  },
  {
   "cell_type": "markdown",
   "metadata": {},
   "source": [
    "## Alternatively, use county/state medians"
   ]
  },
  {
   "cell_type": "code",
   "execution_count": 6,
   "metadata": {},
   "outputs": [
    {
     "name": "stderr",
     "output_type": "stream",
     "text": [
      "C:\\Users\\noahw\\Anaconda3\\envs\\ipykernel_py3\\lib\\site-packages\\numpy\\lib\\function_base.py:3405: RuntimeWarning: All-NaN slice encountered\n",
      "  r = func(a, **kwargs)\n",
      "C:\\Users\\noahw\\Anaconda3\\envs\\ipykernel_py3\\lib\\site-packages\\numpy\\lib\\function_base.py:3405: RuntimeWarning: All-NaN slice encountered\n",
      "  r = func(a, **kwargs)\n",
      "C:\\Users\\noahw\\Anaconda3\\envs\\ipykernel_py3\\lib\\site-packages\\numpy\\lib\\function_base.py:3405: RuntimeWarning: All-NaN slice encountered\n",
      "  r = func(a, **kwargs)\n",
      "C:\\Users\\noahw\\Anaconda3\\envs\\ipykernel_py3\\lib\\site-packages\\numpy\\lib\\function_base.py:3405: RuntimeWarning: All-NaN slice encountered\n",
      "  r = func(a, **kwargs)\n",
      "C:\\Users\\noahw\\Anaconda3\\envs\\ipykernel_py3\\lib\\site-packages\\numpy\\lib\\function_base.py:3405: RuntimeWarning: All-NaN slice encountered\n",
      "  r = func(a, **kwargs)\n",
      "C:\\Users\\noahw\\Anaconda3\\envs\\ipykernel_py3\\lib\\site-packages\\numpy\\lib\\function_base.py:3405: RuntimeWarning: All-NaN slice encountered\n",
      "  r = func(a, **kwargs)\n",
      "C:\\Users\\noahw\\Anaconda3\\envs\\ipykernel_py3\\lib\\site-packages\\numpy\\lib\\function_base.py:3405: RuntimeWarning: All-NaN slice encountered\n",
      "  r = func(a, **kwargs)\n",
      "C:\\Users\\noahw\\Anaconda3\\envs\\ipykernel_py3\\lib\\site-packages\\numpy\\lib\\function_base.py:3405: RuntimeWarning: All-NaN slice encountered\n",
      "  r = func(a, **kwargs)\n",
      "C:\\Users\\noahw\\Anaconda3\\envs\\ipykernel_py3\\lib\\site-packages\\numpy\\lib\\function_base.py:3405: RuntimeWarning: All-NaN slice encountered\n",
      "  r = func(a, **kwargs)\n",
      "C:\\Users\\noahw\\Anaconda3\\envs\\ipykernel_py3\\lib\\site-packages\\numpy\\lib\\function_base.py:3405: RuntimeWarning: All-NaN slice encountered\n",
      "  r = func(a, **kwargs)\n",
      "C:\\Users\\noahw\\Anaconda3\\envs\\ipykernel_py3\\lib\\site-packages\\numpy\\lib\\function_base.py:3405: RuntimeWarning: All-NaN slice encountered\n",
      "  r = func(a, **kwargs)\n",
      "C:\\Users\\noahw\\Anaconda3\\envs\\ipykernel_py3\\lib\\site-packages\\numpy\\lib\\function_base.py:3405: RuntimeWarning: All-NaN slice encountered\n",
      "  r = func(a, **kwargs)\n"
     ]
    }
   ],
   "source": [
    "for i in range(len(deepsolar_curated.dtypes)):\n",
    "    if (deepsolar_curated.columns[i] == 'number_of_solar_system_per_household') | (deepsolar_curated.dtypes[i] not in ['float64','int64']):\n",
    "        continue\n",
    "    else:\n",
    "        deepsolar_curated[deepsolar_curated.columns[i]]=deepsolar_curated[[deepsolar_curated.columns[i],'county']] \\\n",
    "        .groupby('county').transform(lambda x: x.fillna(x.median()))\n",
    "        deepsolar_curated[deepsolar_curated.columns[i]]=deepsolar_curated[[deepsolar_curated.columns[i],'state']] \\\n",
    "        .groupby('state').transform(lambda x: x.fillna(x.median()))"
   ]
  },
  {
   "cell_type": "code",
   "execution_count": 20,
   "metadata": {
    "collapsed": true
   },
   "outputs": [],
   "source": [
    "# Confirm missing values have all been replaced\n",
    "missing_val_count = deepsolar_curated.isnull().sum().sort_values(ascending=False)\n",
    "for a,b, in missing_val_count.iteritems():\n",
    "    if b>0:\n",
    "        print(\"{:<30}\\t{}\".format(a,b))\n",
    "# No output means there is no missing data"
   ]
  },
  {
   "cell_type": "code",
   "execution_count": 92,
   "metadata": {},
   "outputs": [
    {
     "data": {
      "image/png": "[encoded data removed]",
      "text/plain": [
       "<Figure size 432x288 with 4 Axes>"
      ]
     },
     "metadata": {},
     "output_type": "display_data"
    }
   ],
   "source": [
    "data=deepsolar_curated[['land_area','water_area','total_area','water_percent','number_of_solar_system_per_household']].replace(np.inf,np.nan).dropna()\n",
    "\n",
    "fig,ax=plt.subplots(2,2)\n",
    "ax[0,0].scatter(data['land_area'],data['number_of_solar_system_per_household'])\n",
    "ax[0,1].scatter(data['water_area'],data['number_of_solar_system_per_household'])\n",
    "ax[1,0].scatter(data['total_area'],data['number_of_solar_system_per_household'])\n",
    "ax[1,1].scatter(data['water_percent'],data['number_of_solar_system_per_household'])\n",
    "\n",
    "plt.show()"
   ]
  },
  {
   "cell_type": "markdown",
   "metadata": {},
   "source": [
    "# Build Model"
   ]
  },
  {
   "cell_type": "code",
   "execution_count": 21,
   "metadata": {
    "collapsed": true
   },
   "outputs": [],
   "source": [
    "deepsolar=deepsolar_curated.copy()"
   ]
  },
  {
   "cell_type": "code",
   "execution_count": 22,
   "metadata": {},
   "outputs": [
    {
     "name": "stdout",
     "output_type": "stream",
     "text": [
      "Dataset rows and dimensions: (71305, 111)\n"
     ]
    }
   ],
   "source": [
    "# Encode string features (county and state) into numeric features\n",
    "LE = preprocessing.LabelEncoder()\n",
    "\n",
    "LE.fit(deepsolar['county'])\n",
    "deepsolar['county'] = LE.transform(deepsolar['county'])\n",
    "\n",
    "LE.fit(deepsolar['state'])\n",
    "deepsolar['state'] = LE.transform(deepsolar['state'])\n",
    "\n",
    "print(\"Dataset rows and dimensions:\", deepsolar.shape)"
   ]
  },
  {
   "cell_type": "code",
   "execution_count": 23,
   "metadata": {
    "collapsed": true
   },
   "outputs": [],
   "source": [
    "# create binary outcome variable for stage 1 RF classifier\n",
    "deepsolar['solar_flag']=deepsolar['number_of_solar_system_per_household'].apply(lambda x: int(x>0))"
   ]
  },
  {
   "cell_type": "code",
   "execution_count": 24,
   "metadata": {
    "collapsed": true
   },
   "outputs": [],
   "source": [
    "Y_classifier = deepsolar['solar_flag'].values\n",
    "Y_regressor = deepsolar['number_of_solar_system_per_household'].values"
   ]
  },
  {
   "cell_type": "code",
   "execution_count": 48,
   "metadata": {
    "collapsed": true
   },
   "outputs": [],
   "source": [
    "# Normalize\n",
    "#deepsolar = (deepsolar - deepsolar.mean())/(deepsolar.max() - deepsolar.min())"
   ]
  },
  {
   "cell_type": "code",
   "execution_count": 25,
   "metadata": {
    "collapsed": true
   },
   "outputs": [],
   "source": [
    "X = deepsolar.drop(labels=['solar_flag', 'number_of_solar_system_per_household'], axis=1).values"
   ]
  },
  {
   "cell_type": "code",
   "execution_count": 26,
   "metadata": {},
   "outputs": [
    {
     "name": "stdout",
     "output_type": "stream",
     "text": [
      "Training data shape:               \t(45635, 110)\n",
      "Training outcome variable - classifier:\t(45635,)\n",
      "Training outcome variable - regressor:\t(45635,)\n",
      "Dev data shape:                    \t(11409, 110)\n",
      "Dev outcome variable - classifier: \t(11409,)\n",
      "Dev outcome variable - regressor:  \t(11409,)\n",
      "Test data shape:                   \t(14261, 110)\n",
      "Test outcome variable - classifier:\t(14261,)\n",
      "Test outcome variable - regressor: \t(14261,)\n"
     ]
    }
   ],
   "source": [
    "# set a random seed to keep the split the same \n",
    "np.random.seed(0)\n",
    "\n",
    "# shuffle data\n",
    "shuffle = np.random.permutation(np.arange(X.shape[0]))\n",
    "X = X[shuffle]\n",
    "Y_classifier = Y_classifier[shuffle]\n",
    "Y_regressor = Y_regressor[shuffle]\n",
    "\n",
    "# split data and labels into test set and initial training set\n",
    "n_train = int(0.8*X.shape[0])\n",
    "X_train1 = X[:n_train,:]\n",
    "X_test = X[n_train:,:]\n",
    "Y_classifier_train1 = Y_classifier[:n_train]\n",
    "Y_classifier_test = Y_classifier[n_train:]\n",
    "Y_regressor_train1 = Y_regressor[:n_train]\n",
    "Y_regressor_test = Y_regressor[n_train:]\n",
    "\n",
    "# split training data and labels into training and development sets\n",
    "n_train = int(0.8*X_train1.shape[0])\n",
    "X_train = X_train1[:n_train,:]\n",
    "X_dev = X_train1[n_train:,:]\n",
    "Y_classifier_train = Y_classifier_train1[:n_train]\n",
    "#X_train_r=X_train[Y_classifier_train>0]\n",
    "Y_classifier_dev = Y_classifier_train1[n_train:]\n",
    "Y_regressor_train = Y_regressor_train1[:n_train]\n",
    "#Y_regressor_train_r=Y_regressor_train[Y_classifier_train>0]\n",
    "Y_regressor_dev = Y_regressor_train1[n_train:]\n",
    "\n",
    "print(\"{:<35}\\t{}\".format(\"Training data shape:\", X_train.shape))\n",
    "print(\"{:<35}\\t{}\".format(\"Training outcome variable - classifier:\",Y_classifier_train.shape ))\n",
    "print(\"{:<35}\\t{}\".format(\"Training outcome variable - regressor:\",Y_regressor_train.shape ))\n",
    "print(\"{:<35}\\t{}\".format(\"Dev data shape:\", X_dev.shape))\n",
    "print(\"{:<35}\\t{}\".format(\"Dev outcome variable - classifier:\",Y_classifier_dev.shape ))\n",
    "print(\"{:<35}\\t{}\".format(\"Dev outcome variable - regressor:\",Y_regressor_dev.shape ))\n",
    "print(\"{:<35}\\t{}\".format(\"Test data shape:\", X_test.shape))\n",
    "print(\"{:<35}\\t{}\".format(\"Test outcome variable - classifier:\",Y_classifier_test.shape ))\n",
    "print(\"{:<35}\\t{}\".format(\"Test outcome variable - regressor:\",Y_regressor_test.shape ))"
   ]
  },
  {
   "cell_type": "markdown",
   "metadata": {},
   "source": [
    "## Train Classifier"
   ]
  },
  {
   "cell_type": "code",
   "execution_count": 55,
   "metadata": {},
   "outputs": [
    {
     "data": {
      "text/plain": [
       "RandomForestClassifier(bootstrap=True, class_weight=None, criterion='gini',\n",
       "            max_depth=None, max_features='auto', max_leaf_nodes=None,\n",
       "            min_impurity_decrease=0.0, min_impurity_split=None,\n",
       "            min_samples_leaf=1, min_samples_split=2,\n",
       "            min_weight_fraction_leaf=0.0, n_estimators=50, n_jobs=-1,\n",
       "            oob_score=False, random_state=None, verbose=0,\n",
       "            warm_start=False)"
      ]
     },
     "execution_count": 55,
     "metadata": {},
     "output_type": "execute_result"
    }
   ],
   "source": [
    "RF1_Classifier = RandomForestClassifier(n_estimators=50, max_depth=None,n_jobs=-1)\n",
    "RF1_Classifier.fit(X_train, Y_classifier_train)"
   ]
  },
  {
   "cell_type": "code",
   "execution_count": 56,
   "metadata": {},
   "outputs": [
    {
     "data": {
      "text/plain": [
       "0.804890875624507"
      ]
     },
     "execution_count": 56,
     "metadata": {},
     "output_type": "execute_result"
    }
   ],
   "source": [
    "# Accuracy\n",
    "RF1_Classifier.score(X_dev,Y_classifier_dev)"
   ]
  },
  {
   "cell_type": "markdown",
   "metadata": {},
   "source": [
    "## Top Classifier Importances"
   ]
  },
  {
   "cell_type": "code",
   "execution_count": 57,
   "metadata": {
    "collapsed": true
   },
   "outputs": [],
   "source": [
    "cols=list(deepsolar.columns)\n",
    "cols.remove('solar_flag')\n",
    "cols.remove('number_of_solar_system_per_household')"
   ]
  },
  {
   "cell_type": "code",
   "execution_count": 17,
   "metadata": {},
   "outputs": [
    {
     "name": "stdout",
     "output_type": "stream",
     "text": [
      "('population_density', 0.06132924315389274)\n",
      "('heating_fuel_coal_coke_rate', 0.03089034442922619)\n",
      "('housing_unit_median_value', 0.023599865030469756)\n",
      "('race_asian_rate', 0.018951697736933414)\n",
      "('occupancy_vacant_rate', 0.018885892534355426)\n",
      "('daily_solar_radiation', 0.01795871003447209)\n",
      "('race_white_rate', 0.01668334906857171)\n",
      "('lon', 0.016608333531018503)\n",
      "('mortgage_with_rate', 0.016120496349818512)\n",
      "('education_high_school_graduate_rate', 0.015163749912424411)\n",
      "('housing_unit_median_gross_rent', 0.014363646092850022)\n",
      "('travel_time_less_than_10_rate', 0.0131246987291187)\n",
      "('average_household_income', 0.012612279063199722)\n",
      "('occupation_agriculture_rate', 0.012429144754572484)\n",
      "('education_bachelor_rate', 0.012348042914657922)\n",
      "('relative_humidity', 0.012274779595037281)\n",
      "('education_master_rate', 0.012196489364540106)\n",
      "('transportation_public_rate', 0.01208030014966165)\n",
      "('transportation_car_alone_rate', 0.011970850789146711)\n",
      "('median_household_income', 0.011722047597577294)\n"
     ]
    }
   ],
   "source": [
    "feature_importances=RF1_Classifier.feature_importances_\n",
    "features=cols\n",
    "feature_tuples=[(features[i],feature_importances[i]) for i in range(len(features))]\n",
    "sorted_features=sorted(feature_tuples,reverse=True,key=lambda k: k[1])\n",
    "for i in range(0,20):\n",
    "    print(sorted_features[i])"
   ]
  },
  {
   "cell_type": "markdown",
   "metadata": {},
   "source": [
    "## Train the Regressor"
   ]
  },
  {
   "cell_type": "code",
   "execution_count": 58,
   "metadata": {},
   "outputs": [
    {
     "data": {
      "text/plain": [
       "RandomForestRegressor(bootstrap=True, criterion='mse', max_depth=None,\n",
       "           max_features='auto', max_leaf_nodes=None,\n",
       "           min_impurity_decrease=0.0, min_impurity_split=None,\n",
       "           min_samples_leaf=1, min_samples_split=2,\n",
       "           min_weight_fraction_leaf=0.0, n_estimators=50, n_jobs=-1,\n",
       "           oob_score=False, random_state=None, verbose=0, warm_start=False)"
      ]
     },
     "execution_count": 58,
     "metadata": {},
     "output_type": "execute_result"
    }
   ],
   "source": [
    "RF1_Regressor = RandomForestRegressor(n_estimators=50, max_depth=None,n_jobs=-1)\n",
    "RF1_Regressor.fit(X_train, Y_regressor_train)"
   ]
  },
  {
   "cell_type": "code",
   "execution_count": 59,
   "metadata": {
    "collapsed": true
   },
   "outputs": [],
   "source": [
    "dev_preds=RF1_Regressor.predict(X_dev)"
   ]
  },
  {
   "cell_type": "code",
   "execution_count": 60,
   "metadata": {},
   "outputs": [
    {
     "data": {
      "text/plain": [
       "0.7406784131202631"
      ]
     },
     "execution_count": 60,
     "metadata": {},
     "output_type": "execute_result"
    }
   ],
   "source": [
    "r2_score(Y_regressor_dev,dev_preds)"
   ]
  },
  {
   "cell_type": "markdown",
   "metadata": {},
   "source": [
    "## Regressor Feature Importances"
   ]
  },
  {
   "cell_type": "code",
   "execution_count": 21,
   "metadata": {
    "scrolled": true
   },
   "outputs": [
    {
     "name": "stdout",
     "output_type": "stream",
     "text": [
      "('incentive_count_residential', 0.20507802226757155)\n",
      "('occupancy_owner_rate', 0.13169227435834832)\n",
      "('daily_solar_radiation', 0.059953819261581075)\n",
      "('median_household_income', 0.04108059402655375)\n",
      "('lon', 0.039852557882783975)\n",
      "('education_college_rate', 0.028539709022146913)\n",
      "('population_density', 0.02583358614381313)\n",
      "('lat', 0.0227039087018698)\n",
      "('housing_unit_median_gross_rent', 0.022643370357649628)\n",
      "('voting_2016_dem_percentage', 0.01963549692531311)\n",
      "('household_type_family_rate', 0.017383643609676123)\n",
      "('relative_humidity', 0.01374212571019367)\n",
      "('health_insurance_public_rate', 0.012528569769911376)\n",
      "('occupation_manufacturing_rate', 0.012310786474596097)\n",
      "('housing_unit_median_value', 0.011286832895327514)\n",
      "('sales_tax', 0.011054829877934148)\n",
      "('average_household_income', 0.010422309301073622)\n",
      "('heating_fuel_coal_coke_rate', 0.010197013858241281)\n",
      "('county', 0.008096210091621451)\n",
      "('education_less_than_high_school_rate', 0.00808618877554562)\n",
      "('mortgage_with_rate', 0.007500269928283847)\n",
      "('occupation_public_rate', 0.007443618510992733)\n",
      "('incentive_residential_state_level', 0.007373313272606256)\n",
      "('transportation_car_alone_rate', 0.007244546970121308)\n",
      "('occupation_agriculture_rate', 0.006543140671173831)\n",
      "('occupation_retail_rate', 0.006470053486154508)\n",
      "('heating_fuel_solar_rate', 0.006416058802671446)\n",
      "('age_15_17_rate', 0.006405623794829892)\n",
      "('age_65_74_rate', 0.006219262685105147)\n",
      "('health_insurance_none_rate', 0.00586870785399125)\n",
      "('age_25_34_rate', 0.005781674257502059)\n",
      "('travel_time_40_59_rate', 0.005505006588576971)\n",
      "('occupation_arts_rate', 0.005480322836789577)\n",
      "('travel_time_average', 0.005379721070437747)\n",
      "('travel_time_30_39_rate', 0.005368048121401057)\n",
      "('occupation_finance_rate', 0.005106862135200477)\n",
      "('average_household_size', 0.005044778095553576)\n",
      "('age_5_9_rate', 0.0049407404818839805)\n",
      "('travel_time_less_than_10_rate', 0.0049393108929570335)\n",
      "('travel_time_60_89_rate', 0.00490096273058062)\n",
      "('transportation_home_rate', 0.004757047923936211)\n",
      "('age_10_14_rate', 0.004586117464153505)\n",
      "('cooling_design_temperature', 0.004218070094834505)\n",
      "('occupancy_vacant_rate', 0.0041969761967742365)\n",
      "('elevation', 0.004194299137016243)\n",
      "('heating_fuel_gas_rate', 0.0041527350835892565)\n",
      "('age_55_64_rate', 0.004066935484197812)\n",
      "('travel_time_10_19_rate', 0.0040511398978738565)\n",
      "('occupation_construction_rate', 0.0039792533129393735)\n",
      "('education_high_school_graduate_rate', 0.0038737178070611614)\n",
      "('earth_temperature_amplitude', 0.0038618884191199705)\n",
      "('wind_speed', 0.003829828574822533)\n",
      "('number_of_years_of_education', 0.0037453188906928867)\n",
      "('heating_fuel_electricity_rate', 0.0037278261369145106)\n",
      "('age_45_54_rate', 0.0037182362326361883)\n",
      "('race_white_rate', 0.003544656800089912)\n",
      "('occupation_wholesale_rate', 0.0034354288068166915)\n",
      "('employ_rate', 0.003386786355052357)\n",
      "('age_median', 0.0033861333773358843)\n",
      "('travel_time_20_29_rate', 0.0033846719026355988)\n",
      "('transportation_motorcycle_rate', 0.0033836016251893603)\n",
      "('race_asian_rate', 0.0033741497228190055)\n",
      "('gini_index', 0.0033204307829561752)\n",
      "('occupation_administrative_rate', 0.00331060116471412)\n",
      "('race_indian_alaska_rate', 0.003277504816313499)\n",
      "('age_35_44_rate', 0.003213216550373417)\n",
      "('education_master_rate', 0.0031537150059056385)\n",
      "('race_black_africa_rate', 0.003111271322564629)\n",
      "('age_18_24_rate', 0.0029955909234352764)\n",
      "('race_two_more_rate', 0.0029924775668740567)\n",
      "('occupation_education_rate', 0.0029506385217589414)\n",
      "('heating_fuel_none_rate', 0.0027808243002669757)\n",
      "('occupation_transportation_rate', 0.002749291698745253)\n",
      "('transportation_carpool_rate', 0.002721377293490584)\n",
      "('transportation_public_rate', 0.0026522100410026556)\n",
      "('age_more_than_85_rate', 0.0026179629004100717)\n",
      "('poverty_family_below_poverty_level_rate', 0.0025164695701183825)\n",
      "('water_percent', 0.002446580488153103)\n",
      "('education_doctoral_rate', 0.0024411830063616495)\n",
      "('age_75_84_rate', 0.0024283605414724043)\n",
      "('diversity', 0.0024235123218373806)\n",
      "('electricity_consume_residential', 0.002396085219880668)\n",
      "('education_bachelor_rate', 0.0023088309749849994)\n",
      "('atmospheric_pressure', 0.002264134609034707)\n",
      "('transportation_walk_rate', 0.0021451901283808658)\n",
      "('occupation_information_rate', 0.0020821302958219396)\n",
      "('education_professional_school_rate', 0.0020148232514351264)\n",
      "('per_capita_income', 0.001858135076904821)\n",
      "('race_other_rate', 0.0018361307821826414)\n",
      "('frost_days', 0.0018138828110326722)\n",
      "('dropout_16_19_inschool_rate', 0.0015388155517568095)\n",
      "('cooperate_tax', 0.001306372940977136)\n",
      "('heating_fuel_other_rate', 0.001261058474060694)\n",
      "('transportation_bicycle_rate', 0.0011478769386603538)\n",
      "('heating_fuel_fuel_oil_kerosene_rate', 0.0010585940389790157)\n",
      "('race_islander_rate', 0.0009511973811709911)\n",
      "('state', 0.0007707937657376435)\n",
      "('voting_2016_dem_win', 0.00046381441350482706)\n",
      "('rebate', 0.0004364485962331626)\n",
      "('avg_electricity_retail_rate', 0.0003589566870761115)\n",
      "('net_metering', 0.00030414864384419553)\n",
      "('voting_2012_dem_win', 0.0002818113476421116)\n",
      "('electricity_price_residential', 0.00023940703113025597)\n",
      "('property_tax', 8.21243135257774e-05)\n",
      "('feedin_tariff', 6.732616422175185e-05)\n"
     ]
    }
   ],
   "source": [
    "feature_importances=RF1_Regressor.feature_importances_\n",
    "features=cols\n",
    "feature_tuples=[(features[i],feature_importances[i]) for i in range(len(features))]\n",
    "sorted_features=sorted(feature_tuples,reverse=True,key=lambda k: k[1])\n",
    "for i in range(0,len(features)):\n",
    "    print(sorted_features[i])"
   ]
  },
  {
   "cell_type": "markdown",
   "metadata": {},
   "source": [
    "## Get Final R^2 for Model"
   ]
  },
  {
   "cell_type": "code",
   "execution_count": 61,
   "metadata": {
    "collapsed": true
   },
   "outputs": [],
   "source": [
    "classifier_dev_preds=RF1_Classifier.predict(X_dev)"
   ]
  },
  {
   "cell_type": "code",
   "execution_count": 62,
   "metadata": {
    "collapsed": true
   },
   "outputs": [],
   "source": [
    "final_preds=classifier_dev_preds*dev_preds"
   ]
  },
  {
   "cell_type": "code",
   "execution_count": 63,
   "metadata": {},
   "outputs": [
    {
     "data": {
      "text/plain": [
       "0.7418871890119146"
      ]
     },
     "execution_count": 63,
     "metadata": {},
     "output_type": "execute_result"
    }
   ],
   "source": [
    "r2_score(Y_regressor_dev,final_preds)"
   ]
  },
  {
   "cell_type": "markdown",
   "metadata": {
    "collapsed": true
   },
   "source": [
    "# 10-Fold Validation"
   ]
  },
  {
   "cell_type": "code",
   "execution_count": 27,
   "metadata": {
    "collapsed": true
   },
   "outputs": [],
   "source": [
    "from sklearn.model_selection import KFold"
   ]
  },
  {
   "cell_type": "code",
   "execution_count": 28,
   "metadata": {
    "collapsed": true
   },
   "outputs": [],
   "source": [
    "folds=KFold(n_splits=10, random_state=None, shuffle=True)\n",
    "X_trains=[]\n",
    "X_devs=[]\n",
    "yr_trains=[]\n",
    "yr_devs=[]\n",
    "\n",
    "for train_index, dev_index in folds.split(X_train1):\n",
    "\n",
    "    X_trains.append(X_train1[train_index])\n",
    "    X_devs.append(X_train1[dev_index])\n",
    "    yr_trains.append(Y_regressor_train1[train_index])\n",
    "    yr_devs.append(Y_regressor_train1[dev_index])"
   ]
  },
  {
   "cell_type": "code",
   "execution_count": 29,
   "metadata": {
    "collapsed": true
   },
   "outputs": [],
   "source": [
    "r2s=[]\n",
    "\n",
    "for i in range(len(X_trains)):\n",
    "    RF1_Regressor = RandomForestRegressor(n_estimators=50, max_depth=None,n_jobs=-1)\n",
    "    RF1_Regressor.fit(X_trains[i], yr_trains[i])\n",
    "    dev_preds=RF1_Regressor.predict(X_devs[i])\n",
    "    r2s.append(r2_score(yr_devs[i],dev_preds))"
   ]
  },
  {
   "cell_type": "code",
   "execution_count": 30,
   "metadata": {},
   "outputs": [
    {
     "data": {
      "text/plain": [
       "[0.7280612890887794,\n",
       " 0.5318676143440155,\n",
       " 0.6233163845615196,\n",
       " 0.6252182269206215,\n",
       " 0.7653768850798968,\n",
       " 0.7204879029646166,\n",
       " 0.6865891213837165,\n",
       " 0.6683166784064679,\n",
       " 0.7257684186084457,\n",
       " 0.7284356996153942]"
      ]
     },
     "execution_count": 30,
     "metadata": {},
     "output_type": "execute_result"
    }
   ],
   "source": [
    "r2s"
   ]
  },
  {
   "cell_type": "code",
   "execution_count": 31,
   "metadata": {},
   "outputs": [
    {
     "data": {
      "text/plain": [
       "0.6803438220973475"
      ]
     },
     "execution_count": 31,
     "metadata": {},
     "output_type": "execute_result"
    }
   ],
   "source": [
    "sum(r2s)/len(r2s)"
   ]
  },
  {
   "cell_type": "markdown",
   "metadata": {
    "collapsed": true
   },
   "source": [
    "## Try Again with all features from supplemental Info"
   ]
  },
  {
   "cell_type": "code",
   "execution_count": 10,
   "metadata": {
    "collapsed": true
   },
   "outputs": [],
   "source": [
    "deepsolar_curated = deepsolar_original[deepsolar_original['population'] != 0]\n",
    "deepsolar_curated = deepsolar_curated[deepsolar_curated['household_count'] != 0]\n",
    "deepsolar_curated = deepsolar_curated[deepsolar_curated['population'] >= 100]\n",
    "deepsolar_curated = deepsolar_curated[deepsolar_curated['household_count'] >= 100]\n",
    "deepsolar_curated['water_percent'] = deepsolar_curated['water_area']/deepsolar_curated['total_area']\n",
    "deepsolar_curated = deepsolar_curated[deepsolar_curated['water_percent'] < 0.75]\n",
    "#deepsolar_curated.drop(labels='water_percent', axis=1, inplace=True)"
   ]
  },
  {
   "cell_type": "code",
   "execution_count": 11,
   "metadata": {
    "collapsed": true
   },
   "outputs": [],
   "source": [
    "relevant_cols=['average_household_income','county','gini_index','land_area','per_capita_income','population_density','state','total_area','water_area','education_less_than_high_school_rate','education_high_school_graduate_rate','education_college_rate','education_bachelor_rate','education_master_rate','education_professional_school_rate','education_doctoral_rate','race_white_rate','race_black_africa_rate','race_indian_alaska_rate','race_asian_rate','race_islander_rate','race_other_rate','race_two_more_rate','employ_rate','poverty_family_below_poverty_level_rate','heating_fuel_gas_rate','heating_fuel_electricity_rate','heating_fuel_fuel_oil_kerosene_rate','heating_fuel_coal_coke_rate','heating_fuel_solar_rate','heating_fuel_other_rate','heating_fuel_none_rate','median_household_income','electricity_price_residential','electricity_consume_residential','average_household_size','housing_unit_median_value','housing_unit_median_gross_rent','lat','lon','elevation','cooling_design_temperature','earth_temperature_amplitude','frost_days','relative_humidity','daily_solar_radiation','atmospheric_pressure','wind_speed','age_18_24_rate','age_25_34_rate','age_more_than_85_rate','age_75_84_rate','age_35_44_rate','age_45_54_rate','age_65_74_rate','age_55_64_rate','age_10_14_rate','age_15_17_rate','age_5_9_rate','household_type_family_rate','dropout_16_19_inschool_rate','occupation_construction_rate','occupation_public_rate','occupation_information_rate','occupation_finance_rate','occupation_education_rate','occupation_administrative_rate','occupation_manufacturing_rate','occupation_wholesale_rate','occupation_retail_rate','occupation_transportation_rate','occupation_arts_rate','occupation_agriculture_rate','occupancy_vacant_rate','occupancy_owner_rate','mortgage_with_rate','transportation_home_rate','transportation_car_alone_rate','transportation_walk_rate','transportation_carpool_rate','transportation_motorcycle_rate','transportation_bicycle_rate','transportation_public_rate','travel_time_less_than_10_rate','travel_time_10_19_rate','travel_time_20_29_rate','travel_time_30_39_rate','travel_time_40_59_rate','travel_time_60_89_rate','health_insurance_public_rate','health_insurance_none_rate','age_median','travel_time_average','voting_2016_dem_percentage','voting_2016_dem_win','voting_2012_dem_win','number_of_years_of_education','diversity','number_of_solar_system_per_household','incentive_count_residential','incentive_residential_state_level','net_metering','feedin_tariff','cooperate_tax','property_tax','sales_tax','rebate','avg_electricity_retail_rate'\n",
    "]\n",
    "relevant_cols.remove('land_area')\n",
    "relevant_cols.remove('water_area')\n",
    "relevant_cols.remove('total_area')\n",
    "relevant_cols.append('water_percent')\n",
    "solar_fields=pd.read_csv('../deepsolar fields.csv')\n",
    "supp_cols=solar_fields.loc[(solar_fields['Mentioned in Supplemental Info']==1)]['Field'].tolist()\n",
    "all_cols=set(relevant_cols+supp_cols)\n",
    "deepsolar_curated=deepsolar_curated[all_cols]"
   ]
  },
  {
   "cell_type": "code",
   "execution_count": 13,
   "metadata": {
    "collapsed": true
   },
   "outputs": [],
   "source": [
    "for i in range(len(deepsolar_curated.dtypes)):\n",
    "    if (deepsolar_curated.columns[i] == 'number_of_solar_system_per_household') | (deepsolar_curated.dtypes[i] not in ['float64','int64']):\n",
    "        continue\n",
    "    else:\n",
    "        deepsolar_curated[deepsolar_curated.columns[i]]. \\\n",
    "    fillna(deepsolar_curated[deepsolar_curated.columns[i]].median(), inplace=True)"
   ]
  },
  {
   "cell_type": "code",
   "execution_count": 14,
   "metadata": {
    "collapsed": true
   },
   "outputs": [],
   "source": [
    "# Confirm missing values have all been replaced\n",
    "missing_val_count = deepsolar_curated.isnull().sum().sort_values(ascending=False)\n",
    "for a,b, in missing_val_count.iteritems():\n",
    "    if b>0:\n",
    "        print(\"{:<30}\\t{}\".format(a,b))\n",
    "# No output means there is no missing data"
   ]
  },
  {
   "cell_type": "code",
   "execution_count": 15,
   "metadata": {
    "collapsed": true
   },
   "outputs": [],
   "source": [
    "from sklearn.model_selection import KFold"
   ]
  },
  {
   "cell_type": "code",
   "execution_count": null,
   "metadata": {
    "collapsed": true
   },
   "outputs": [],
   "source": []
  }
 ],
 "metadata": {
  "kernelspec": {
   "display_name": "Python 3",
   "language": "python",
   "name": "python3"
  },
  "language_info": {
   "codemirror_mode": {
    "name": "ipython",
    "version": 3
   },
   "file_extension": ".py",
   "mimetype": "text/x-python",
   "name": "python",
   "nbconvert_exporter": "python",
   "pygments_lexer": "ipython3",
   "version": "3.6.3"
  }
 },
 "nbformat": 4,
 "nbformat_minor": 2
}
