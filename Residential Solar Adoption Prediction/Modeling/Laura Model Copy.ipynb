{
 "cells": [
  {
   "cell_type": "markdown",
   "metadata": {},
   "source": [
    "# Predicting Solar Panel Adoption - Random Forest Models\n",
    "#### UC Berkeley MIDS\n",
    "`Team: Gabriel Hudson, Noah Levy, Laura Williams`"
   ]
  },
  {
   "cell_type": "markdown",
   "metadata": {},
   "source": [
    "Using the dataset defined in the Data Set Up notebook, train two Random Forest sequential models:\n",
    "* Random Forest Classifier to predict presence or absence of solar panels  \n",
    "* Random Forest Regressor to predict solar panel density and analyize most important predictive features."
   ]
  },
  {
   "cell_type": "code",
   "execution_count": 1,
   "metadata": {},
   "outputs": [
    {
     "name": "stderr",
     "output_type": "stream",
     "text": [
      "C:\\Users\\noahw\\Anaconda3\\envs\\ipykernel_py3\\lib\\site-packages\\sklearn\\ensemble\\weight_boosting.py:29: DeprecationWarning: numpy.core.umath_tests is an internal NumPy module and should not be imported. It will be removed in a future NumPy release.\n",
      "  from numpy.core.umath_tests import inner1d\n"
     ]
    }
   ],
   "source": [
    "# imports\n",
    "import pandas as pd\n",
    "import numpy as np\n",
    "import seaborn as sns\n",
    "import matplotlib.pyplot as plt\n",
    "from sklearn.ensemble import RandomForestClassifier\n",
    "from sklearn.ensemble import RandomForestRegressor\n",
    "from sklearn import preprocessing\n",
    "\n",
    "%matplotlib inline"
   ]
  },
  {
   "cell_type": "code",
   "execution_count": 5,
   "metadata": {},
   "outputs": [],
   "source": [
    "# load curated dataset\n",
    "deepsolar = pd.read_csv('../Datasets/deepsolar_LW1.csv', index_col=0)"
   ]
  },
  {
   "cell_type": "code",
   "execution_count": 6,
   "metadata": {},
   "outputs": [
    {
     "name": "stdout",
     "output_type": "stream",
     "text": [
      "Dataset rows and dimensions: (71305, 108)\n"
     ]
    }
   ],
   "source": [
    "print(\"Dataset rows and dimensions:\", deepsolar.shape)"
   ]
  },
  {
   "cell_type": "markdown",
   "metadata": {},
   "source": [
    "## Additional Data Set Up\n",
    "\n",
    "* Convert string variables to numeric\n",
    "* Normalize data"
   ]
  },
  {
   "cell_type": "code",
   "execution_count": 7,
   "metadata": {},
   "outputs": [
    {
     "name": "stdout",
     "output_type": "stream",
     "text": [
      "Dataset rows and dimensions: (71305, 108)\n"
     ]
    }
   ],
   "source": [
    "# Encode string features (county and state) into numeric features\n",
    "LE = preprocessing.LabelEncoder()\n",
    "\n",
    "LE.fit(deepsolar['county'])\n",
    "deepsolar['county'] = LE.transform(deepsolar['county'])\n",
    "\n",
    "LE.fit(deepsolar['state'])\n",
    "deepsolar['state'] = LE.transform(deepsolar['state'])\n",
    "\n",
    "print(\"Dataset rows and dimensions:\", deepsolar.shape)"
   ]
  },
  {
   "cell_type": "code",
   "execution_count": 8,
   "metadata": {
    "collapsed": true
   },
   "outputs": [],
   "source": [
    "# Normalize\n",
    "deepsolar = (deepsolar - deepsolar.mean())/(deepsolar.max() - deepsolar.min())"
   ]
  },
  {
   "cell_type": "markdown",
   "metadata": {},
   "source": [
    "## Pre-process data\n",
    "\n",
    "* Define outcome variables\n",
    "* Split into test/train/dev"
   ]
  },
  {
   "cell_type": "code",
   "execution_count": 9,
   "metadata": {
    "collapsed": true
   },
   "outputs": [],
   "source": [
    "# create binary outcome variable for stage 1 RF classifier\n",
    "deepsolar['solar_flag']=deepsolar['number_of_solar_system_per_household'].apply(lambda x: int(x>0))"
   ]
  },
  {
   "cell_type": "code",
   "execution_count": 10,
   "metadata": {},
   "outputs": [
    {
     "name": "stdout",
     "output_type": "stream",
     "text": [
      "New binary outcome variable for Stage 1 random forest classifier 'solar_flag' has 2 values: 0 and 1\n"
     ]
    }
   ],
   "source": [
    "# Confirm values in new outcome variable\n",
    "print(\"New binary outcome variable for Stage 1 random forest classifier 'solar_flag' has\", \n",
    "      deepsolar['solar_flag'].nunique(), \"values:\", deepsolar[\"solar_flag\"].min(),\n",
    "      \"and\", deepsolar[\"solar_flag\"].max())"
   ]
  },
  {
   "cell_type": "markdown",
   "metadata": {},
   "source": [
    "Random shuffle and split data into test, training and development sets. Test data will not be used until model and dataset has been optimized on the training and development datasets."
   ]
  },
  {
   "cell_type": "code",
   "execution_count": 11,
   "metadata": {},
   "outputs": [
    {
     "name": "stdout",
     "output_type": "stream",
     "text": [
      "Full featureset shape is (71305, 107)\n",
      "Classifier outcome variable shape: (71305,)\n",
      "Regressor outcome variable shape: (71305,)\n"
     ]
    }
   ],
   "source": [
    "# separate outcome variables and features\n",
    "X = deepsolar.drop(labels=['solar_flag', 'number_of_solar_system_per_household'], axis=1).values\n",
    "Y_classifier = deepsolar['solar_flag'].values\n",
    "Y_regressor = deepsolar['number_of_solar_system_per_household'].values\n",
    "print(\"Full featureset shape is\", X.shape)\n",
    "print(\"Classifier outcome variable shape:\", Y_classifier.shape)\n",
    "print(\"Regressor outcome variable shape:\", Y_regressor.shape)"
   ]
  },
  {
   "cell_type": "code",
   "execution_count": 12,
   "metadata": {},
   "outputs": [
    {
     "name": "stdout",
     "output_type": "stream",
     "text": [
      "Training data shape:               \t(45635, 107)\n",
      "Training outcome variable - classifier:\t(45635,)\n",
      "Training outcome variable - regressor:\t(45635,)\n",
      "Dev data shape:                    \t(11409, 107)\n",
      "Dev outcome variable - classifier: \t(11409,)\n",
      "Dev outcome variable - regressor:  \t(11409,)\n",
      "Test data shape:                   \t(14261, 107)\n",
      "Test outcome variable - classifier:\t(14261,)\n",
      "Test outcome variable - regressor: \t(14261,)\n"
     ]
    }
   ],
   "source": [
    "# set a random seed to keep the split the same \n",
    "np.random.seed(0)\n",
    "\n",
    "# shuffle data\n",
    "shuffle = np.random.permutation(np.arange(X.shape[0]))\n",
    "X = X[shuffle]\n",
    "Y_classifier = Y_classifier[shuffle]\n",
    "Y_regressor = Y_regressor[shuffle]\n",
    "\n",
    "# split data and labels into test set and initial training set\n",
    "n_train = int(0.8*X.shape[0])\n",
    "X_train1 = X[:n_train,:]\n",
    "X_test = X[n_train:,:]\n",
    "Y_classifier_train1 = Y_classifier[:n_train]\n",
    "Y_classifier_test = Y_classifier[n_train:]\n",
    "Y_regressor_train1 = Y_regressor[:n_train]\n",
    "Y_regressor_test = Y_regressor[n_train:]\n",
    "\n",
    "# split training data and labels into training and development sets\n",
    "n_train = int(0.8*X_train1.shape[0])\n",
    "X_train = X_train1[:n_train,:]\n",
    "X_dev = X_train1[n_train:,:]\n",
    "Y_classifier_train = Y_classifier_train1[:n_train]\n",
    "Y_classifier_dev = Y_classifier_train1[n_train:]\n",
    "Y_regressor_train = Y_regressor_train1[:n_train]\n",
    "Y_regressor_dev = Y_regressor_train1[n_train:]\n",
    "\n",
    "print(\"{:<35}\\t{}\".format(\"Training data shape:\", X_train.shape))\n",
    "print(\"{:<35}\\t{}\".format(\"Training outcome variable - classifier:\",Y_classifier_train.shape ))\n",
    "print(\"{:<35}\\t{}\".format(\"Training outcome variable - regressor:\",Y_regressor_train.shape ))\n",
    "print(\"{:<35}\\t{}\".format(\"Dev data shape:\", X_dev.shape))\n",
    "print(\"{:<35}\\t{}\".format(\"Dev outcome variable - classifier:\",Y_classifier_dev.shape ))\n",
    "print(\"{:<35}\\t{}\".format(\"Dev outcome variable - regressor:\",Y_regressor_dev.shape ))\n",
    "print(\"{:<35}\\t{}\".format(\"Test data shape:\", X_test.shape))\n",
    "print(\"{:<35}\\t{}\".format(\"Test outcome variable - classifier:\",Y_classifier_test.shape ))\n",
    "print(\"{:<35}\\t{}\".format(\"Test outcome variable - regressor:\",Y_regressor_test.shape ))\n",
    "\n"
   ]
  },
  {
   "cell_type": "markdown",
   "metadata": {},
   "source": [
    "## Train the classifier"
   ]
  },
  {
   "cell_type": "code",
   "execution_count": 13,
   "metadata": {
    "collapsed": true
   },
   "outputs": [],
   "source": [
    "# Use best parameters from Noah's hyperparameter tuning\n",
    "n = 100\n",
    "depth = None\n",
    "features = 'auto'"
   ]
  },
  {
   "cell_type": "code",
   "execution_count": 14,
   "metadata": {},
   "outputs": [
    {
     "data": {
      "text/plain": [
       "RandomForestClassifier(bootstrap=True, class_weight=None, criterion='gini',\n",
       "            max_depth=None, max_features='auto', max_leaf_nodes=None,\n",
       "            min_impurity_decrease=0.0, min_impurity_split=None,\n",
       "            min_samples_leaf=1, min_samples_split=2,\n",
       "            min_weight_fraction_leaf=0.0, n_estimators=100, n_jobs=1,\n",
       "            oob_score=False, random_state=None, verbose=0,\n",
       "            warm_start=False)"
      ]
     },
     "execution_count": 14,
     "metadata": {},
     "output_type": "execute_result"
    }
   ],
   "source": [
    "# Fit model\n",
    "RF1_Classifier = RandomForestClassifier(n_estimators=n, max_depth=depth, max_features=features, n_jobs=1)\n",
    "RF1_Classifier.fit(X_train, Y_classifier_train)"
   ]
  },
  {
   "cell_type": "code",
   "execution_count": 15,
   "metadata": {},
   "outputs": [
    {
     "data": {
      "text/plain": [
       "0.9357524761153475"
      ]
     },
     "execution_count": 15,
     "metadata": {},
     "output_type": "execute_result"
    }
   ],
   "source": [
    "# R squared\n",
    "RF1_Classifier.score(X_dev,Y_classifier_dev)"
   ]
  },
  {
   "cell_type": "code",
   "execution_count": 16,
   "metadata": {},
   "outputs": [
    {
     "data": {
      "text/plain": [
       "RandomForestRegressor(bootstrap=True, criterion='mse', max_depth=None,\n",
       "           max_features='auto', max_leaf_nodes=None,\n",
       "           min_impurity_decrease=0.0, min_impurity_split=None,\n",
       "           min_samples_leaf=1, min_samples_split=2,\n",
       "           min_weight_fraction_leaf=0.0, n_estimators=200, n_jobs=1,\n",
       "           oob_score=False, random_state=None, verbose=0, warm_start=False)"
      ]
     },
     "execution_count": 16,
     "metadata": {},
     "output_type": "execute_result"
    }
   ],
   "source": [
    "RF1_Regressor = RandomForestRegressor(n_estimators=200, max_depth=depth, max_features=features, n_jobs=1)\n",
    "RF1_Regressor.fit(X_train, Y_regressor_train)"
   ]
  },
  {
   "cell_type": "markdown",
   "metadata": {},
   "source": [
    "TO DO: Feature Importances for the Classifier, then train the Regressor"
   ]
  },
  {
   "cell_type": "code",
   "execution_count": 17,
   "metadata": {
    "collapsed": true
   },
   "outputs": [],
   "source": [
    "from sklearn.metrics import r2_score"
   ]
  },
  {
   "cell_type": "code",
   "execution_count": 18,
   "metadata": {
    "collapsed": true
   },
   "outputs": [],
   "source": [
    "dev_preds=RF1_Regressor.predict(X_dev)"
   ]
  },
  {
   "cell_type": "code",
   "execution_count": 20,
   "metadata": {},
   "outputs": [
    {
     "data": {
      "text/plain": [
       "0.7429143031857192"
      ]
     },
     "execution_count": 20,
     "metadata": {},
     "output_type": "execute_result"
    }
   ],
   "source": [
    "r2_score(Y_regressor_dev,dev_preds)"
   ]
  },
  {
   "cell_type": "code",
   "execution_count": 21,
   "metadata": {
    "collapsed": true
   },
   "outputs": [],
   "source": [
    "classifier_dev_preds=RF1_Classifier.predict(X_dev)"
   ]
  },
  {
   "cell_type": "code",
   "execution_count": 23,
   "metadata": {},
   "outputs": [],
   "source": [
    "final_preds=classifier_dev_preds*dev_preds"
   ]
  },
  {
   "cell_type": "code",
   "execution_count": 24,
   "metadata": {},
   "outputs": [
    {
     "data": {
      "text/plain": [
       "0.6536429591647941"
      ]
     },
     "execution_count": 24,
     "metadata": {},
     "output_type": "execute_result"
    }
   ],
   "source": [
    "r2_score(Y_regressor_dev,final_preds)"
   ]
  },
  {
   "cell_type": "code",
   "execution_count": 31,
   "metadata": {},
   "outputs": [],
   "source": [
    "cols=list(deepsolar.columns)\n",
    "cols.remove('solar_flag')\n",
    "cols.remove('number_of_solar_system_per_household')"
   ]
  },
  {
   "cell_type": "code",
   "execution_count": 32,
   "metadata": {},
   "outputs": [
    {
     "name": "stdout",
     "output_type": "stream",
     "text": [
      "('incentive_count_residential', 0.21332830328278793)\n",
      "('occupancy_owner_rate', 0.14036380279260402)\n",
      "('daily_solar_radiation', 0.05367261341707273)\n",
      "('lon', 0.037536929510154415)\n",
      "('median_household_income', 0.034108552340376214)\n",
      "('education_college_rate', 0.025473944660335358)\n",
      "('lat', 0.022155867591383598)\n",
      "('housing_unit_median_gross_rent', 0.021513721200182526)\n",
      "('voting_2016_dem_percentage', 0.020077521259859208)\n",
      "('population_density', 0.019615206129611783)\n",
      "('household_type_family_rate', 0.01639784788315769)\n",
      "('health_insurance_public_rate', 0.014356232235277782)\n",
      "('occupation_manufacturing_rate', 0.011978338144598881)\n",
      "('relative_humidity', 0.011934774179001375)\n",
      "('sales_tax', 0.01077843059119527)\n",
      "('heating_fuel_coal_coke_rate', 0.01062253071391972)\n",
      "('housing_unit_median_value', 0.010365581733798661)\n",
      "('mortgage_with_rate', 0.008484259671878172)\n",
      "('land_area', 0.008447438297597457)\n",
      "('county', 0.007887750244379885)\n"
     ]
    }
   ],
   "source": [
    "feature_importances=RF1_Regressor.feature_importances_\n",
    "features=cols\n",
    "feature_tuples=[(features[i],feature_importances[i]) for i in range(len(features))]\n",
    "sorted_features=sorted(feature_tuples,reverse=True,key=lambda k: k[1])\n",
    "for i in range(0,20):\n",
    "    print(sorted_features[i])"
   ]
  },
  {
   "cell_type": "code",
   "execution_count": 33,
   "metadata": {},
   "outputs": [
    {
     "name": "stdout",
     "output_type": "stream",
     "text": [
      "('lon', 0.050548280741418684)\n",
      "('daily_solar_radiation', 0.04533691096264032)\n",
      "('incentive_count_residential', 0.038754985350315685)\n",
      "('relative_humidity', 0.03841722135125413)\n",
      "('state', 0.038269524191330485)\n",
      "('electricity_consume_residential', 0.026694228003234777)\n",
      "('housing_unit_median_gross_rent', 0.024843467587175577)\n",
      "('electricity_price_residential', 0.023912121529669938)\n",
      "('frost_days', 0.021941800314608333)\n",
      "('occupancy_owner_rate', 0.021927845140966615)\n",
      "('incentive_residential_state_level', 0.019995138444446673)\n",
      "('population_density', 0.019721540480844933)\n",
      "('sales_tax', 0.018670964551530545)\n",
      "('avg_electricity_retail_rate', 0.018266362392956967)\n",
      "('median_household_income', 0.017876865831087538)\n",
      "('land_area', 0.017384474217057987)\n",
      "('elevation', 0.017351488144585897)\n",
      "('lat', 0.01596847484597179)\n",
      "('total_area', 0.015665123591036292)\n",
      "('average_household_income', 0.015062400733989853)\n"
     ]
    }
   ],
   "source": [
    "feature_importances=RF1_Classifier.feature_importances_\n",
    "features=cols\n",
    "feature_tuples=[(features[i],feature_importances[i]) for i in range(len(features))]\n",
    "sorted_features=sorted(feature_tuples,reverse=True,key=lambda k: k[1])\n",
    "for i in range(0,20):\n",
    "    print(sorted_features[i])"
   ]
  },
  {
   "cell_type": "code",
   "execution_count": null,
   "metadata": {
    "collapsed": true
   },
   "outputs": [],
   "source": []
  }
 ],
 "metadata": {
  "kernelspec": {
   "display_name": "Python 3",
   "language": "python",
   "name": "python3"
  },
  "language_info": {
   "codemirror_mode": {
    "name": "ipython",
    "version": 3
   },
   "file_extension": ".py",
   "mimetype": "text/x-python",
   "name": "python",
   "nbconvert_exporter": "python",
   "pygments_lexer": "ipython3",
   "version": "3.6.3"
  }
 },
 "nbformat": 4,
 "nbformat_minor": 2
}
