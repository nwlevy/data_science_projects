{
 "cells": [
  {
   "cell_type": "markdown",
   "metadata": {},
   "source": [
    "# Predicting Solar Panel Adoption - Hyperparameter Tuning for Classifier\n",
    "#### UC Berkeley MIDS\n",
    "`Team: Gabriel Hudson, Noah Levy, Laura Williams`"
   ]
  },
  {
   "cell_type": "markdown",
   "metadata": {},
   "source": [
    "Hypertuning can easily lead to over-fitting to training data.  This notebook uses our final full dataset and tests 3 hyperparameters separately, simultaneously testing for overfitting by comparing predictions from the training data vs. the test data for each hpyerparameter setting.\n",
    "\n",
    "**Summary**   \n",
    "Optimal random forest classifier hyperparameter values for final dataset with 58 features are:  \n",
    "`max_depth=25`  \n",
    "`max_features=0.25`  \n",
    "`n-estimators=150` "
   ]
  },
  {
   "cell_type": "code",
   "execution_count": 1,
   "metadata": {
    "collapsed": true
   },
   "outputs": [],
   "source": [
    "# imports\n",
    "import time\n",
    "import pandas as pd\n",
    "import numpy as np\n",
    "import seaborn as sns\n",
    "import matplotlib.pyplot as plt\n",
    "from sklearn.model_selection import KFold\n",
    "from sklearn.ensemble import RandomForestClassifier\n",
    "from sklearn.metrics import r2_score\n",
    "from sklearn import metrics\n",
    "\n",
    "%matplotlib inline"
   ]
  },
  {
   "cell_type": "code",
   "execution_count": 2,
   "metadata": {
    "collapsed": true
   },
   "outputs": [],
   "source": [
    "# load curated dataset\n",
    "deepsolar = pd.read_csv('../Datasets/SolarPrediction_Final_Dataset.csv', index_col=0)"
   ]
  },
  {
   "cell_type": "code",
   "execution_count": 3,
   "metadata": {},
   "outputs": [
    {
     "name": "stdout",
     "output_type": "stream",
     "text": [
      "Dataset rows and dimensions: (71305, 59)\n"
     ]
    }
   ],
   "source": [
    "print(\"Dataset rows and dimensions:\", deepsolar.shape)"
   ]
  },
  {
   "cell_type": "markdown",
   "metadata": {},
   "source": [
    "## Define outcome variable"
   ]
  },
  {
   "cell_type": "code",
   "execution_count": 4,
   "metadata": {
    "collapsed": true
   },
   "outputs": [],
   "source": [
    "# create binary outcome variable for stage 1 RF classifier\n",
    "deepsolar['solar_flag']=deepsolar['owner_occupied_solar_system_density'].apply(lambda x: int(x>0))\n",
    "outcome_var = 'solar_flag'"
   ]
  },
  {
   "cell_type": "code",
   "execution_count": 5,
   "metadata": {},
   "outputs": [
    {
     "data": {
      "text/plain": [
       "(71305, 59)"
      ]
     },
     "execution_count": 5,
     "metadata": {},
     "output_type": "execute_result"
    }
   ],
   "source": [
    "# remove outcome variable used only for Stage 2 RF regressor\n",
    "deepsolar.drop(labels=['owner_occupied_solar_system_density'], axis=1, inplace=True)\n",
    "deepsolar.shape"
   ]
  },
  {
   "cell_type": "markdown",
   "metadata": {},
   "source": [
    "## For testing only:  create sample data for testing implementation"
   ]
  },
  {
   "cell_type": "code",
   "execution_count": 118,
   "metadata": {},
   "outputs": [
    {
     "name": "stdout",
     "output_type": "stream",
     "text": [
      "Small sample dataset rows and dimensions: (24957, 59)\n"
     ]
    }
   ],
   "source": [
    "deepsolar_sample = deepsolar.sample(frac=.10)\n",
    "print(\"Small sample dataset rows and dimensions:\", deepsolar_sample.shape)"
   ]
  },
  {
   "cell_type": "code",
   "execution_count": 119,
   "metadata": {},
   "outputs": [
    {
     "name": "stdout",
     "output_type": "stream",
     "text": [
      "Sample data featureset shape is (24957, 58)\n",
      "Sample data regressor outcome variable shape: (24957, 58)\n"
     ]
    }
   ],
   "source": [
    "X_sample = deepsolar_sample.drop(labels=[outcome_var], axis=1).values\n",
    "Y_sample = deepsolar_sample[outcome_var].values\n",
    "print(\"Sample data featureset shape is\", X_sample.shape)\n",
    "print(\"Sample data regressor outcome variable shape:\", Y_sample.shape)"
   ]
  },
  {
   "cell_type": "markdown",
   "metadata": {},
   "source": [
    "## Split outcome variable from features in full dataset"
   ]
  },
  {
   "cell_type": "code",
   "execution_count": 8,
   "metadata": {},
   "outputs": [
    {
     "name": "stdout",
     "output_type": "stream",
     "text": [
      "Full featureset shape is (71305, 58)\n",
      "Outcome variable shape: (71305,)\n"
     ]
    }
   ],
   "source": [
    "X = deepsolar.drop(labels=[outcome_var], axis=1).values\n",
    "Y = deepsolar[outcome_var].values\n",
    "print(\"Full featureset shape is\", X.shape)\n",
    "print(\"Outcome variable shape:\", Y.shape)"
   ]
  },
  {
   "cell_type": "markdown",
   "metadata": {},
   "source": [
    "## Define functions for hyperparameter tuning"
   ]
  },
  {
   "cell_type": "code",
   "execution_count": 95,
   "metadata": {
    "collapsed": true
   },
   "outputs": [],
   "source": [
    "def TrainRF(X_train, Y_train, X_test, n, depth, features):\n",
    "    \"\"\"Train a random forest classifier.\n",
    "    \n",
    "    Input: single training and test dataset and test outcome variable dataset, \n",
    "    random forest hyperparameters:\n",
    "    n (the number of random decision trees to create),\n",
    "    max_depth (the depth of the tree), and \n",
    "    max_features (the subset of features the model randomly selects).  \n",
    "    Output: model and predictions on both the training data and the test data\n",
    "    \"\"\"\n",
    "    RF = RandomForestClassifier(n_estimators=n, max_depth=depth, max_features=features, n_jobs=-1)\n",
    "    RF.fit(X_train, Y_train)\n",
    "    preds_test = RF.predict_proba(X_test)\n",
    "    preds_train = RF.predict_proba(X_train)\n",
    "    \n",
    "    return RF, preds_test, preds_train  "
   ]
  },
  {
   "cell_type": "code",
   "execution_count": 96,
   "metadata": {
    "collapsed": true
   },
   "outputs": [],
   "source": [
    "def create_splits(X, Y, n_splits):\n",
    "    \"\"\"Create dataset splits for cross-validated hyperparameter tuning.\n",
    "    \n",
    "    Input: full dataset, split into features(X) and outcome variable(Y), number of splits.\n",
    "    Output: train and test set as lists of splits\n",
    "    \"\"\"\n",
    "    # set up splits\n",
    "    kf = KFold(n_splits=n_splits, shuffle=True, random_state=None)\n",
    "    # initialize variables\n",
    "    X_trains=[]\n",
    "    X_tests=[]\n",
    "    Y_trains=[]\n",
    "    Y_tests=[]\n",
    "    # create lists of data splits\n",
    "    for train_index, test_index in kf.split(X):\n",
    "        X_trains.append(X[train_index])\n",
    "        X_tests.append(X[test_index])\n",
    "        Y_trains.append(Y[train_index])\n",
    "        Y_tests.append(Y[test_index])\n",
    "    return X_trains, X_tests, Y_trains, Y_tests"
   ]
  },
  {
   "cell_type": "code",
   "execution_count": 97,
   "metadata": {
    "collapsed": true
   },
   "outputs": [],
   "source": [
    "def run_max_depth_test_CV(X, Y, n_splits, iterations, n, depth_values, features):\n",
    "    \"\"\"Creates cross-validated dataset, tests hyperparameter options and returns all scores.\n",
    "    \n",
    "    Input: single dataset of features and outcome variable, \n",
    "    number of splits for cross-validation,\n",
    "    number of iterations,\n",
    "    hyperparameter values to test.\n",
    "    Output: scores from the function for all cross-validated splits of the dataset.\n",
    "    \"\"\"\n",
    "    \n",
    "    def find_max_depth(X_train, Y_train, X_test, Y_test, n, depth_values, features):\n",
    "        \"\"\"Helper function:\n",
    "        Find optimal value of max_depth in a random forest model.  \n",
    "\n",
    "        Input: single training, test and outcome variable dataset, \n",
    "        single hyperparameter values for n-estimators and max_features,\n",
    "        list of hyperparameter values for max_depth\n",
    "        Output: r squared and log loss scores on both training and test data\n",
    "        \"\"\"\n",
    "        r2_scores = []\n",
    "        log_losses_train = []\n",
    "        log_losses_test = []\n",
    "        for depth in depth_values:     \n",
    "            # train model\n",
    "            RF, preds_test, preds_train = TrainRF(X_train, Y_train, X_test, n, depth, features)\n",
    "            #calculate R squared on test data\n",
    "            r2_score = RF.score(X_test,Y_test)\n",
    "            r2_scores.append(r2_score)\n",
    "            # calculate log loss on test data AND training data\n",
    "            log_train = metrics.log_loss(Y_train, preds_train)\n",
    "            log_losses_train.append(log_train)\n",
    "            log_test = metrics.log_loss(Y_test, preds_test)\n",
    "            log_losses_test.append(log_test)\n",
    "\n",
    "        return r2_scores, log_losses_train, log_losses_test\n",
    "\n",
    "    # create dataset splits\n",
    "    X_trains, X_tests, Y_trains, Y_tests = create_splits(X, Y, n_splits)\n",
    "    # initialize arrays to hold results\n",
    "    all_depths = np.zeros((n_splits*iterations, (len(depth_values))))\n",
    "    all_r2_scores = np.zeros((n_splits*iterations, (len(depth_values))))\n",
    "    all_log_losses_train = np.zeros((n_splits*iterations, (len(depth_values))))\n",
    "    all_log_losses_test = np.zeros((n_splits*iterations, (len(depth_values))))\n",
    "    # run hyperparameter testing using helper function\n",
    "    for i in range(iterations):\n",
    "        for j in range(n_splits):\n",
    "            r2_scores, log_losses_train, log_losses_test = find_max_depth(X_trains[j], Y_trains[j], \n",
    "                                                                          X_tests[j], Y_tests[j], \n",
    "                                                                          n, depth_values, features)\n",
    "            index = (i*n_splits) + j\n",
    "            all_depths[index] = depth_values\n",
    "            all_r2_scores[index] = r2_scores\n",
    "            all_log_losses_train[index] = log_losses_train\n",
    "            all_log_losses_test[index] = log_losses_test\n",
    "            print(\"Finished iteration\", i+1, \"and data split\", j+1)\n",
    "        \n",
    "    return all_depths, all_r2_scores, all_log_losses_train, all_log_losses_test"
   ]
  },
  {
   "cell_type": "code",
   "execution_count": 98,
   "metadata": {
    "collapsed": true
   },
   "outputs": [],
   "source": [
    "def run_max_features_test_CV(X, Y, n_splits, iterations, n, depth, num_features):\n",
    "    \"\"\"Creates cross-validated dataset, tests hyperparameter options and returns all scores.\n",
    "    \n",
    "    Input: single dataset of features and outcome variable, \n",
    "    number of splits for cross-validation,\n",
    "    number of iterations,\n",
    "    hyperparameter values to test.\n",
    "    Output: scores from the function for all cross-validated splits of the dataset.\n",
    "    \"\"\"\n",
    "    \n",
    "    def find_max_features(X_train, Y_train, X_test, Y_test, n, depth, num_features):\n",
    "        \"\"\"Helper function:\n",
    "        Find optimal value of max_features in a random forest model.  \n",
    "\n",
    "        Input: single training, test and outcome variable dataset, \n",
    "        single hyperparameter values for n-estimators and max_depth\n",
    "        list of hyperparameter values for max_features\n",
    "        Output: r squared and log loss scores on both training and test data  \n",
    "        \"\"\"\n",
    "        r2_scores = []\n",
    "        log_losses_train = []\n",
    "        log_losses_test = []\n",
    "        for f in num_features:    \n",
    "            # train model\n",
    "            RF, preds_test, preds_train = TrainRF(X_train, Y_train, X_test, n, depth, f)\n",
    "            #calculate R squared on test data\n",
    "            r2_score = RF.score(X_test,Y_test)\n",
    "            r2_scores.append(r2_score)\n",
    "            # calculate log loss on test data AND training data\n",
    "            log_train = metrics.log_loss(Y_train, preds_train)\n",
    "            log_losses_train.append(log_train)\n",
    "            log_test = metrics.log_loss(Y_test, preds_test)\n",
    "            log_losses_test.append(log_test)\n",
    "\n",
    "        return r2_scores, log_losses_train, log_losses_test\n",
    "\n",
    "    # create dataset splits\n",
    "    X_trains, X_tests, Y_trains, Y_tests = create_splits(X, Y, n_splits)\n",
    "    # initialize arrays to hold results\n",
    "    all_num_features = np.zeros((n_splits*iterations, (len(num_features))))\n",
    "    all_r2_scores = np.zeros((n_splits*iterations, (len(num_features))))\n",
    "    all_log_losses_train = np.zeros((n_splits*iterations, (len(num_features))))\n",
    "    all_log_losses_test = np.zeros((n_splits*iterations, (len(num_features))))\n",
    "    # run hyperparameter testing using helper function\n",
    "    for i in range(iterations):\n",
    "        for j in range(n_splits):\n",
    "            r2_scores, log_losses_train, log_losses_test = find_max_features(X_trains[j], Y_trains[j], \n",
    "                                                                             X_tests[j], Y_tests[j], \n",
    "                                                                             n, depth, num_features)\n",
    "            index = (i*n_splits) + j\n",
    "            all_num_features[index] = num_features\n",
    "            all_r2_scores[index] = r2_scores\n",
    "            all_log_losses_train[index] = log_losses_train\n",
    "            all_log_losses_test[index] = log_losses_test\n",
    "            print(\"Finished iteration\", i+1, \"and data split\", j+1)\n",
    "        \n",
    "    return all_num_features, all_r2_scores, all_log_losses_train, all_log_losses_test"
   ]
  },
  {
   "cell_type": "code",
   "execution_count": 99,
   "metadata": {
    "collapsed": true
   },
   "outputs": [],
   "source": [
    "def run_n_estimators_test_CV(X, Y, n_splits, iterations, n_values, depth, features):\n",
    "    \"\"\"Creates cross-validated dataset, tests hyperparameter options and returns all scores.\n",
    "    \n",
    "    Input: single dataset of features and outcome variable, \n",
    "    number of splits for cross-validation,\n",
    "    number of iterations,\n",
    "    hyperparameter values to test.\n",
    "    Output: scores from the function for all cross-validated splits of the dataset.\n",
    "    \"\"\"\n",
    "    \n",
    "    def find_n(X_train, Y_train, X_test, Y_test, n_values, depth, features):\n",
    "        \"\"\"Find optimal value of n in a random forest model.  \n",
    "\n",
    "        Input: single training, test and outcome variable dataset,\n",
    "        single hyperparameter values for max_depth and max_features,\n",
    "        list of hyperparameter values for n-estimators\n",
    "        Output: r squared and log loss scores on both training and test data  \n",
    "        \"\"\"\n",
    "        r2_scores = []\n",
    "        log_losses_train = []\n",
    "        log_losses_test = []\n",
    "        for n in n_values:    \n",
    "            # train model\n",
    "            RF, preds_test, preds_train = TrainRF(X_train, Y_train, X_test, n, depth, features)\n",
    "            #calculate R squared on test data \n",
    "            r2_score = RF.score(X_test,Y_test)\n",
    "            r2_scores.append(r2_score)\n",
    "            # calculate log loss on test data AND training data\n",
    "            log_train = metrics.log_loss(Y_train, preds_train)\n",
    "            log_losses_train.append(log_train)\n",
    "            log_test = metrics.log_loss(Y_test, preds_test)\n",
    "            log_losses_test.append(log_test)\n",
    "\n",
    "        return r2_scores, log_losses_train, log_losses_test\n",
    "\n",
    "    # create dataset splits\n",
    "    X_trains, X_tests, Y_trains, Y_tests = create_splits(X, Y, n_splits)\n",
    "    # initialize arrays to hold results\n",
    "    all_n_values = np.zeros((n_splits*iterations, (len(n_values))))\n",
    "    all_r2_scores = np.zeros((n_splits*iterations, (len(n_values))))\n",
    "    all_log_losses_train = np.zeros((n_splits*iterations, (len(n_values))))\n",
    "    all_log_losses_test = np.zeros((n_splits*iterations, (len(n_values))))\n",
    "    # run hyperparameter testing using helper function\n",
    "    for i in range(iterations):\n",
    "        for j in range(n_splits):\n",
    "            r2_scores, log_losses_train, log_losses_test = find_n(X_trains[j], Y_trains[j], \n",
    "                                                                  X_tests[j], Y_tests[j], \n",
    "                                                                  n_values, depth, features)\n",
    "            index = (i*n_splits) + j\n",
    "            all_n_values[index] = n_values\n",
    "            all_r2_scores[index] = r2_scores\n",
    "            all_log_losses_train[index] = log_losses_train\n",
    "            all_log_losses_test[index] = log_losses_test\n",
    "            print(\"Finished iteration\", i+1, \"and data split\", j+1)\n",
    "        \n",
    "    return all_n_values, all_r2_scores, all_log_losses_train, all_log_losses_test"
   ]
  },
  {
   "cell_type": "markdown",
   "metadata": {},
   "source": [
    "## Tune hyper-parameters on full dataset with cross-validation"
   ]
  },
  {
   "cell_type": "markdown",
   "metadata": {},
   "source": [
    "To test on sample data, use the X_sample and Y_sample variables when calling functions instead of the full dataset variables, X and Y."
   ]
  },
  {
   "cell_type": "markdown",
   "metadata": {},
   "source": [
    "**Testing for overfitting**  \n",
    "Generally errors on predictions on the training dataset would be expected to be less than on the test dataset. As the model improves, the ratio of errors on the training set to errors on the test set will grow smaller and may stabilize. However, if the ratio of errors of the training over test set start to increase again after growing smaller, that's an indication that the model is being overfit to the training data. In general, the smallest ratio of training set errors to test set errors is the point of least overfitting."
   ]
  },
  {
   "cell_type": "code",
   "execution_count": 138,
   "metadata": {
    "collapsed": true
   },
   "outputs": [],
   "source": [
    "# set cross-validation splits and iterations\n",
    "n_splits = 3\n",
    "iterations = 2"
   ]
  },
  {
   "cell_type": "markdown",
   "metadata": {},
   "source": [
    "Static values for hyperparameters in each section are determined by optimal values from independently testing those hyperparameters."
   ]
  },
  {
   "cell_type": "markdown",
   "metadata": {},
   "source": [
    "### Test `max_depth`"
   ]
  },
  {
   "cell_type": "code",
   "execution_count": 176,
   "metadata": {},
   "outputs": [
    {
     "name": "stdout",
     "output_type": "stream",
     "text": [
      "Finished iteration 1 and data split 1\n",
      "Finished iteration 1 and data split 2\n",
      "Finished iteration 1 and data split 3\n",
      "Finished iteration 2 and data split 1\n",
      "Finished iteration 2 and data split 2\n",
      "Finished iteration 2 and data split 3\n",
      "Processing time: 46.16 minutes\n"
     ]
    }
   ],
   "source": [
    "# test max_depth with CV\n",
    "n = 150\n",
    "depth_values = [9, 11, 13, 15, 17, 20, 25, 30, 35, 40]\n",
    "features = 0.25\n",
    "start = time.time()\n",
    "all_depths, \\\n",
    "all_r2_scores_d, \\\n",
    "all_log_losses_train_d,  \\\n",
    "all_log_losses_test_d = run_max_depth_test_CV(X, Y, n_splits, iterations, n, depth_values, features)\n",
    "#print(\"Processing time: {} seconds\".format((time.time() - start)))\n",
    "print(\"Processing time: {} minutes\".format(round((time.time() - start)/60, 2)))"
   ]
  },
  {
   "cell_type": "code",
   "execution_count": 207,
   "metadata": {
    "collapsed": true
   },
   "outputs": [],
   "source": [
    "# save results to CSV\n",
    "np.savetxt(\"../Tuning_Results/Classifier/C_depths_n150_f25.csv\", all_depths, delimiter=\",\")\n",
    "np.savetxt(\"../Tuning_Results/Classifier/C_depths_r2_n150_f25.csv\", all_r2_scores_d, delimiter=\",\")\n",
    "np.savetxt(\"../Tuning_Results/Classifier/C_depths_loglosstrain_n150_f25.csv\", all_log_losses_train_d, delimiter=\",\")\n",
    "np.savetxt(\"../Tuning_Results/Classifier/C_depths_loglosstest_n150_f25.csv\", all_log_losses_test_d, delimiter=\",\")"
   ]
  },
  {
   "cell_type": "code",
   "execution_count": 209,
   "metadata": {},
   "outputs": [],
   "source": [
    "# load results from CSV files (for drawing plots without re-doing tuning calculations above)\n",
    "all_depths = np.loadtxt(\"../Tuning_Results/Classifier/C_depths_n150_f25.csv\", delimiter=\",\")\n",
    "all_r2_scores_d = np.loadtxt(\"../Tuning_Results/Classifier/C_depths_r2_n150_f25.csv\", delimiter=\",\")\n",
    "all_log_losses_train_d = np.loadtxt(\"../Tuning_Results/Classifier/C_depths_loglosstrain_n150_f25.csv\", delimiter=\",\")\n",
    "all_log_losses_test_d = np.loadtxt(\"../Tuning_Results/Classifier/C_depths_loglosstest_n150_f25.csv\", delimiter=\",\")\n",
    "depth_values = all_depths[0]"
   ]
  },
  {
   "cell_type": "code",
   "execution_count": 185,
   "metadata": {},
   "outputs": [
    {
     "data": {
      "image/png": "[encoded data removed]",
      "text/plain": [
       "<matplotlib.figure.Figure at 0x122c8b1d0>"
      ]
     },
     "metadata": {},
     "output_type": "display_data"
    }
   ],
   "source": [
    "# Plot R squared results from max depth on training data\n",
    "\n",
    "# Set up data for the plot\n",
    "avg_r2_score_per_depth = np.mean(all_r2_scores_d, axis=0)\n",
    "\n",
    "# Plot max_depth results\n",
    "plt.figure(figsize=(10,5))\n",
    "x = depth_values \n",
    "plt.xticks(x)\n",
    "plt.xlabel(\"Max_depth\")\n",
    "plt.ylabel(\"R squared on test data\")\n",
    "plt.title(\"Random Forest Classifier: Tuning max_depth hyperparameter\")\n",
    "plt.plot(depth_values, avg_r2_score_per_depth, c=\"cornflowerblue\", linewidth=1.0)\n",
    "plt.scatter(all_depths, all_r2_scores_d, c = \"darkblue\", s=10)\n",
    "# Lines for best scores \n",
    "plt.axhline(y=0.8123, linewidth=0.5, color = 'mediumorchid')\n",
    "plt.axhline(y=0.8083, linewidth=0.5, color = 'mediumorchid')\n",
    "plt.show()\n",
    "# plt.savefig(\"Images/<filename>.png\")\n"
   ]
  },
  {
   "cell_type": "code",
   "execution_count": 186,
   "metadata": {},
   "outputs": [
    {
     "data": {
      "image/png": "[encoded data removed]",
      "text/plain": [
       "<matplotlib.figure.Figure at 0x122c78dd8>"
      ]
     },
     "metadata": {},
     "output_type": "display_data"
    }
   ],
   "source": [
    "# Plot log loss results on training data\n",
    "\n",
    "# Set up data for the plot\n",
    "avg_log_loss_per_depth = np.mean(all_log_losses_test_d, axis=0)\n",
    "\n",
    "# Plot max_depth results\n",
    "plt.figure(figsize=(10,5))\n",
    "x = depth_values \n",
    "plt.xticks(x)\n",
    "plt.xlabel(\"Max_depth\")\n",
    "plt.ylabel(\"Log loss on test data\")\n",
    "plt.title(\"Random Forest Classifier: Tuning max_depth hyperparameter\")\n",
    "plt.plot(depth_values, avg_log_loss_per_depth, c=\"cornflowerblue\", linewidth=1.0)\n",
    "plt.scatter(all_depths, all_log_losses_test_d, c = \"darkblue\", s=10)\n",
    "# Lines for best scores \n",
    "plt.axhline(y=.39756, linewidth=0.5, color = 'mediumorchid')\n",
    "plt.axhline(y=.391, linewidth=0.5, color = 'mediumorchid')\n",
    "plt.show()\n",
    "# plt.savefig(\"Images/<filename>.png\")"
   ]
  },
  {
   "cell_type": "code",
   "execution_count": 212,
   "metadata": {},
   "outputs": [
    {
     "name": "stdout",
     "output_type": "stream",
     "text": [
      "[ 0.40761409  0.4008242   0.39696221  0.39525651  0.39421356  0.39393041\n",
      "  0.39433217  0.39496638  0.39781864  0.40010788]\n"
     ]
    }
   ],
   "source": [
    "print(avg_log_loss_per_depth_test)"
   ]
  },
  {
   "cell_type": "code",
   "execution_count": 213,
   "metadata": {},
   "outputs": [
    {
     "name": "stdout",
     "output_type": "stream",
     "text": [
      "[ 0.36710462  0.32228602  0.27206889  0.22596257  0.18836254  0.14950175\n",
      "  0.1208383   0.11216213  0.10969387  0.10922841]\n"
     ]
    }
   ],
   "source": [
    "print(avg_log_loss_per_depth_train)"
   ]
  },
  {
   "cell_type": "code",
   "execution_count": 181,
   "metadata": {},
   "outputs": [
    {
     "data": {
      "image/png": "[encoded data removed]",
      "text/plain": [
       "<matplotlib.figure.Figure at 0x1219fad30>"
      ]
     },
     "metadata": {},
     "output_type": "display_data"
    }
   ],
   "source": [
    "# plot overfitting from log loss scores on training and test sets for max_depth\n",
    "\n",
    "# Set up data for the plot\n",
    "avg_log_loss_per_depth_test = np.mean(all_log_losses_test_d, axis=0)\n",
    "avg_log_loss_per_depth_train = np.mean(all_log_losses_train_d, axis=0)\n",
    "ratios_log_loss_depth = avg_log_loss_per_depth_train/avg_log_loss_per_depth_test\n",
    "\n",
    "\n",
    "# Plot max_depth overfitting results\n",
    "plt.figure(figsize=(10,5), facecolor=\"white\")\n",
    "x = depth_values \n",
    "plt.xticks(x)\n",
    "plt.xlabel(\"Max_depth\")\n",
    "plt.ylabel(\"Ratio training/test\")\n",
    "plt.title(\"Random Forest Classifier: Overfitting when tuning max_depth\")\n",
    "plt.plot(depth_values, ratios_log_loss_depth, c=\"mediumorchid\")\n",
    "plt.show()\n",
    "# plt.savefig(\"Images/<filename>.png\")\n"
   ]
  },
  {
   "cell_type": "markdown",
   "metadata": {},
   "source": [
    "**Results - `max_depth`**   \n",
    "\n",
    "Results with 3-fold cross-validation and 2 iterations:  Use `max_depth=25`\n",
    "\n",
    "The R-squared score on the test data reaches its optimal value by `max_depth=17` and increases by minimally with higher `max_depth` values.\n",
    "\n",
    "The mean squared error on the test data reaches its optimal minimum value with `max_depth=17-25` but increases again with higher `max_depth` values.\n",
    "\n",
    "The overfitting approaches its minimum at `max_depth=25` and does not increase at higher `max_depth` values.\n"
   ]
  },
  {
   "cell_type": "markdown",
   "metadata": {},
   "source": [
    "### Test `max_features`"
   ]
  },
  {
   "cell_type": "code",
   "execution_count": 19,
   "metadata": {},
   "outputs": [
    {
     "data": {
      "text/plain": [
       "0.13130643285972257"
      ]
     },
     "execution_count": 19,
     "metadata": {},
     "output_type": "execute_result"
    }
   ],
   "source": [
    "# calculate square root as percentage of dataset\n",
    "features_sqrt = X.shape[1]**(0.5)\n",
    "sqrt_percent = features_sqrt/X.shape[1]\n",
    "sqrt_percent"
   ]
  },
  {
   "cell_type": "code",
   "execution_count": 20,
   "metadata": {},
   "outputs": [
    {
     "data": {
      "text/plain": [
       "0.070007638112869294"
      ]
     },
     "execution_count": 20,
     "metadata": {},
     "output_type": "execute_result"
    }
   ],
   "source": [
    "# calculate square root as percentage of dataset\n",
    "log2_percent = np.log(X.shape[1])/X.shape[1]\n",
    "log2_percent"
   ]
  },
  {
   "cell_type": "code",
   "execution_count": 163,
   "metadata": {},
   "outputs": [
    {
     "name": "stdout",
     "output_type": "stream",
     "text": [
      "Finished iteration 1 and data split 1\n",
      "Finished iteration 1 and data split 2\n",
      "Finished iteration 1 and data split 3\n",
      "Finished iteration 2 and data split 1\n",
      "Finished iteration 2 and data split 2\n",
      "Finished iteration 2 and data split 3\n",
      "Processing time: 64.98 minutes\n"
     ]
    }
   ],
   "source": [
    "n = 150\n",
    "num_features = [0.05, 0.07, 0.13, 0.15, 0.20, 0.25, 0.30, 0.35, 0.40, 0.45]\n",
    "depth = 25\n",
    "\n",
    "start = time.time()\n",
    "all_num_features, \\\n",
    "all_r2_scores_f, \\\n",
    "all_log_losses_train_f,  \\\n",
    "all_log_losses_test_f  = run_max_features_test_CV(X, Y, \n",
    "                                                  n_splits, iterations, n, depth, num_features)\n",
    "\n",
    "#print(\"Processing time: {} seconds\".format((time.time() - start)))\n",
    "print(\"Processing time: {} minutes\".format(round((time.time() - start)/60, 2)))"
   ]
  },
  {
   "cell_type": "code",
   "execution_count": 215,
   "metadata": {
    "collapsed": true
   },
   "outputs": [],
   "source": [
    "# save results to CSV\n",
    "np.savetxt(\"../Tuning_Results/Classifier/C_features_n150_d25.csv\", all_num_features, delimiter=\",\")\n",
    "np.savetxt(\"../Tuning_Results/Classifier/C_features_r2_n150_d25.csv\", all_r2_scores_f, delimiter=\",\")\n",
    "np.savetxt(\"../Tuning_Results/Classifier/C_features_loglosstrain_n150_d25.csv\", all_log_losses_train_f, delimiter=\",\")\n",
    "np.savetxt(\"../Tuning_Results/Classifier/C_features_loglosstest_n150_d25.csv\", all_log_losses_test_f, delimiter=\",\")"
   ]
  },
  {
   "cell_type": "code",
   "execution_count": 217,
   "metadata": {},
   "outputs": [],
   "source": [
    "# load results from CSV files (for drawing plots without re-doing tuning calculations above)\n",
    "all_num_features = np.loadtxt(\"../Tuning_Results/Classifier/C_features_n150_d25.csv\", delimiter=\",\")\n",
    "all_r2_scores_f = np.loadtxt(\"../Tuning_Results/Classifier/C_features_r2_n150_d25.csv\", delimiter=\",\")\n",
    "all_log_losses_train_f = np.loadtxt(\"../Tuning_Results/Classifier/C_features_loglosstrain_n150_d25.csv\", delimiter=\",\")\n",
    "all_log_losses_test_f = np.loadtxt(\"../Tuning_Results/Classifier/C_features_loglosstest_n150_d25.csv\", delimiter=\",\")\n",
    "depth_values = all_num_features[0]"
   ]
  },
  {
   "cell_type": "code",
   "execution_count": 193,
   "metadata": {},
   "outputs": [
    {
     "data": {
      "image/png": "[encoded data removed]",
      "text/plain": [
       "<matplotlib.figure.Figure at 0x11365d588>"
      ]
     },
     "metadata": {},
     "output_type": "display_data"
    }
   ],
   "source": [
    "# Plot R squared results from max features on training data\n",
    "\n",
    "# Set up data for the plot\n",
    "avg_r2_score_per_feature = np.mean(all_r2_scores_f, axis=0)\n",
    "\n",
    "\n",
    "# Plot max_depth results\n",
    "plt.figure(figsize=(12,5))\n",
    "x = num_features \n",
    "plt.xticks(x)\n",
    "plt.xlabel(\"Max_feature fraction\")\n",
    "plt.ylabel(\"R squared on test data\")\n",
    "plt.title(\"Random Forest Classifier: Tuning max_feature hyperparameter\")\n",
    "plt.plot(num_features, avg_r2_score_per_feature, c=\"cornflowerblue\", linewidth=1.0)\n",
    "plt.scatter(all_num_features, all_r2_scores_f, c = \"darkblue\", s=10)\n",
    "# Lines for best scores \n",
    "plt.axhline(y=0.815, linewidth=0.5, color = 'mediumorchid')\n",
    "plt.axhline(y=0.8092, linewidth=0.5, color = 'mediumorchid')\n",
    "plt.show()\n",
    "# plt.savefig(\"Images/<filename>.png\")"
   ]
  },
  {
   "cell_type": "code",
   "execution_count": 199,
   "metadata": {},
   "outputs": [
    {
     "data": {
      "image/png": "[encoded data removed]",
      "text/plain": [
       "<matplotlib.figure.Figure at 0x108b6ceb8>"
      ]
     },
     "metadata": {},
     "output_type": "display_data"
    }
   ],
   "source": [
    "# Plot log loss results on training data\n",
    "\n",
    "# Set up data for the plot\n",
    "avg_log_loss_per_feature = np.mean(all_log_losses_test_f, axis=0)\n",
    "\n",
    "# Plot max_depth results\n",
    "plt.figure(figsize=(12,5))\n",
    "x = num_features \n",
    "plt.xticks(x)\n",
    "plt.xlabel(\"Max_feature fraction\")\n",
    "plt.ylabel(\"Log loss on test data\")\n",
    "plt.title(\"Random Forest Classifier: Tuning max_feature hyperparameter\")\n",
    "plt.plot(num_features, avg_log_loss_per_feature, c=\"cornflowerblue\", linewidth=1.0)\n",
    "plt.scatter(all_num_features, all_log_losses_test_f, c = \"darkblue\", s=10)\n",
    "# Lines for best scores \n",
    "plt.axhline(y=.3963, linewidth=0.5, color = 'mediumorchid')\n",
    "plt.axhline(y=.3918, linewidth=0.5, color = 'mediumorchid')\n",
    "plt.show()\n",
    "# plt.savefig(\"Images/<filename>.png\")"
   ]
  },
  {
   "cell_type": "code",
   "execution_count": 221,
   "metadata": {},
   "outputs": [
    {
     "name": "stdout",
     "output_type": "stream",
     "text": [
      "[ 0.40624075  0.39963284  0.39615982  0.39595346  0.39496628  0.39423894\n",
      "  0.39420796  0.39417719  0.39416985  0.39402533]\n"
     ]
    }
   ],
   "source": [
    "print(avg_log_loss_per_feature_test)"
   ]
  },
  {
   "cell_type": "code",
   "execution_count": 222,
   "metadata": {},
   "outputs": [
    {
     "name": "stdout",
     "output_type": "stream",
     "text": [
      "[ 0.1300667   0.12369043  0.12135589  0.12158841  0.1207761   0.1207153\n",
      "  0.1209884   0.12117849  0.12148663  0.12144661]\n"
     ]
    }
   ],
   "source": [
    "print(avg_log_loss_per_feature_train)"
   ]
  },
  {
   "cell_type": "code",
   "execution_count": 168,
   "metadata": {},
   "outputs": [
    {
     "data": {
      "image/png": "[encoded data removed]",
      "text/plain": [
       "<matplotlib.figure.Figure at 0x108b9c4a8>"
      ]
     },
     "metadata": {},
     "output_type": "display_data"
    }
   ],
   "source": [
    "# plot overfitting from log loss scores on training and test sets for max_depth\n",
    "\n",
    "# Set up data for the plot\n",
    "avg_log_loss_per_feature_test = np.mean(all_log_losses_test_f, axis=0)\n",
    "avg_log_loss_per_feature_train = np.mean(all_log_losses_train_f, axis=0)\n",
    "ratios_log_loss_features = avg_log_loss_per_feature_train/avg_log_loss_per_feature_test\n",
    "\n",
    "\n",
    "# Plot max_depth overfitting results\n",
    "plt.figure(figsize=(10,5), facecolor=\"white\")\n",
    "x = num_features \n",
    "plt.xticks(x)\n",
    "plt.xlabel(\"Max_feature fraction\")\n",
    "plt.ylabel(\"Ratio training/test\")\n",
    "plt.title(\"Random Forest Classifier: Overfitting when tuning max_feature\")\n",
    "plt.plot(num_features, ratios_log_loss_features, c=\"mediumorchid\")\n",
    "plt.show()\n",
    "# plt.savefig(\"Images/<filename>.png\")"
   ]
  },
  {
   "cell_type": "markdown",
   "metadata": {},
   "source": [
    "**Results - `max_features`**   \n",
    "\n",
    "Results with 3-fold cross-validation and 2 iterations:  Use `max_features=0.25`\n",
    "\n",
    "The R-squared score on the test data reaches its maximum values by `max_features=0.20` and does not change significantly with higher `max_features` values.\n",
    "\n",
    "The mean squared error on the test data reaches its minimum value by `max_features=0.25` and does not change significantly with higher `max_features` values.\n",
    "\n",
    "The overfitting reaches its minimum at `max_features=0.20` and `max_features=0.25`, and begins to increase slightly with higher values of `max_features`."
   ]
  },
  {
   "cell_type": "markdown",
   "metadata": {},
   "source": [
    "### Test `n-estimators`"
   ]
  },
  {
   "cell_type": "code",
   "execution_count": 170,
   "metadata": {},
   "outputs": [
    {
     "name": "stdout",
     "output_type": "stream",
     "text": [
      "Finished iteration 1 and data split 1\n",
      "Finished iteration 1 and data split 2\n",
      "Finished iteration 1 and data split 3\n",
      "Finished iteration 2 and data split 1\n",
      "Finished iteration 2 and data split 2\n",
      "Finished iteration 2 and data split 3\n",
      "Processing time: 62.87 minutes\n"
     ]
    }
   ],
   "source": [
    "# test n_estimators with CV\n",
    "n_values = [50, 100, 150, 200, 250, 300, 350]\n",
    "features = 0.25\n",
    "depth = 25\n",
    "start = time.time()\n",
    "all_n_values, \\\n",
    "all_r2_scores_n,  \\\n",
    "all_log_losses_train_n,  \\\n",
    "all_log_losses_test_n = run_n_estimators_test_CV(X, Y, n_splits, iterations, n_values, depth, features)\n",
    "#print(\"Processing time: {} seconds\".format((time.time() - start)))\n",
    "print(\"Processing time: {} minutes\".format(round((time.time() - start)/60, 2)))"
   ]
  },
  {
   "cell_type": "code",
   "execution_count": 224,
   "metadata": {
    "collapsed": true
   },
   "outputs": [],
   "source": [
    "# save results to CSV\n",
    "np.savetxt(\"../Tuning_Results/Classifier/C_n_f25_d25.csv\", all_n_values, delimiter=\",\")\n",
    "np.savetxt(\"../Tuning_Results/Classifier/C_n_r2_f25_d25.csv\", all_r2_scores_n, delimiter=\",\")\n",
    "np.savetxt(\"../Tuning_Results/Classifier/C_n_loglosstrain_f25_d25.csv\", all_log_losses_train_n, delimiter=\",\")\n",
    "np.savetxt(\"../Tuning_Results/Classifier/C_n_loglosstest_f35_d25.csv\", all_log_losses_test_n, delimiter=\",\")"
   ]
  },
  {
   "cell_type": "code",
   "execution_count": 231,
   "metadata": {
    "collapsed": true
   },
   "outputs": [],
   "source": [
    "# load results from CSV files (for drawing plots without re-doing tuning calculations above)\n",
    "all_n_values = np.loadtxt(\"../Tuning_Results/Classifier/C_n_f25_d25.csv\", delimiter=\",\")\n",
    "all_r2_scores_n = np.loadtxt(\"../Tuning_Results/Classifier/C_n_r2_f25_d25.csv\", delimiter=\",\")\n",
    "all_log_losses_train_n = np.loadtxt(\"../Tuning_Results/Classifier/C_n_loglosstrain_f25_d25.csv\", delimiter=\",\")\n",
    "all_log_losses_test_n = np.loadtxt(\"../Tuning_Results/Classifier/C_n_loglosstest_f35_d25.csv\", delimiter=\",\")\n",
    "n_values = all_n_values[0]"
   ]
  },
  {
   "cell_type": "code",
   "execution_count": 201,
   "metadata": {},
   "outputs": [
    {
     "data": {
      "image/png": "[encoded data removed]",
      "text/plain": [
       "<matplotlib.figure.Figure at 0x108bc1748>"
      ]
     },
     "metadata": {},
     "output_type": "display_data"
    }
   ],
   "source": [
    "# Plot R squared results from max features on training data\n",
    "\n",
    "# Set up data for the plot\n",
    "avg_r2_score_per_n = np.mean(all_r2_scores_n, axis=0)\n",
    "\n",
    "\n",
    "# Plot max_depth results\n",
    "plt.figure(figsize=(10,5))\n",
    "x = n_values \n",
    "plt.xticks(x)\n",
    "plt.xlabel(\"N-estimators\")\n",
    "plt.ylabel(\"R squared on test data\")\n",
    "plt.title(\"Random Forest Classifier: Tuning n-estimators hyperparameter\")\n",
    "plt.plot(n_values, avg_r2_score_per_n, c=\"cornflowerblue\", linewidth=1.0)\n",
    "plt.scatter(all_n_values, all_r2_scores_n, c = \"darkblue\", s=10)\n",
    "# Lines for best scores \n",
    "plt.axhline(y=0.8137, linewidth=0.5, color = 'mediumorchid')\n",
    "plt.axhline(y=0.8085, linewidth=0.5, color = 'mediumorchid')\n",
    "plt.show()\n",
    "# plt.savefig(\"Images/<filename>.png\")"
   ]
  },
  {
   "cell_type": "code",
   "execution_count": 206,
   "metadata": {},
   "outputs": [
    {
     "data": {
      "image/png": "[encoded data removed]",
      "text/plain": [
       "<matplotlib.figure.Figure at 0x114c06780>"
      ]
     },
     "metadata": {},
     "output_type": "display_data"
    }
   ],
   "source": [
    "# Plot log loss results on training data\n",
    "\n",
    "# Set up data for the plot\n",
    "avg_log_loss_per_n = np.mean(all_log_losses_test_n, axis=0)\n",
    "\n",
    "# Plot max_depth results\n",
    "plt.figure(figsize=(10,5))\n",
    "x = n_values \n",
    "plt.xticks(x)\n",
    "plt.xlabel(\"N_estimators\")\n",
    "plt.ylabel(\"Log loss on test data\")\n",
    "plt.title(\"Random Forest Classifier: Tuning n_estimators hyperparameter\")\n",
    "plt.plot(n_values, avg_log_loss_per_n, c=\"cornflowerblue\", linewidth=1.0)\n",
    "plt.scatter(all_n_values, all_log_losses_test_n, c = \"darkblue\", s=10)\n",
    "# Lines for best scores \n",
    "plt.axhline(y=.396, linewidth=0.5, color = 'mediumorchid')\n",
    "plt.axhline(y=0.3905, linewidth=0.5, color = 'mediumorchid')\n",
    "plt.show()\n",
    "# plt.savefig(\"Images/<filename>.png\")"
   ]
  },
  {
   "cell_type": "code",
   "execution_count": 235,
   "metadata": {},
   "outputs": [
    {
     "name": "stdout",
     "output_type": "stream",
     "text": [
      "[ 0.40002413  0.39547202  0.39409903  0.39346234  0.39342264  0.39268518\n",
      "  0.39256413]\n"
     ]
    }
   ],
   "source": [
    "print(avg_log_loss_score_per_n_test)"
   ]
  },
  {
   "cell_type": "code",
   "execution_count": 236,
   "metadata": {},
   "outputs": [
    {
     "name": "stdout",
     "output_type": "stream",
     "text": [
      "[ 0.12166055  0.12132083  0.12106566  0.12092266  0.12077024  0.12048787\n",
      "  0.12055369]\n"
     ]
    }
   ],
   "source": [
    "print(avg_log_loss_score_per_n_train)"
   ]
  },
  {
   "cell_type": "code",
   "execution_count": 175,
   "metadata": {},
   "outputs": [
    {
     "data": {
      "image/png": "[encoded data removed]",
      "text/plain": [
       "<matplotlib.figure.Figure at 0x109733358>"
      ]
     },
     "metadata": {},
     "output_type": "display_data"
    }
   ],
   "source": [
    "# plot overfitting from log loss scores on training and test sets for max_depth\n",
    "\n",
    "# Set up data for the plot\n",
    "avg_log_loss_score_per_n_test = np.mean(all_log_losses_test_n, axis=0)\n",
    "avg_log_loss_score_per_n_train = np.mean(all_log_losses_train_n, axis=0)\n",
    "ratios_log_loss_n = avg_log_loss_score_per_n_train/avg_log_loss_score_per_n_test\n",
    "\n",
    "\n",
    "# Plot max_depth overfitting results\n",
    "plt.figure(figsize=(10,5), facecolor=\"white\")\n",
    "x = n_values \n",
    "plt.xticks(x)\n",
    "plt.xlabel(\"N_esimtators\")\n",
    "plt.ylabel(\"Ratio training/test\")\n",
    "plt.title(\"Random Forest Classifier: Overfitting when tuning n_estimators\")\n",
    "plt.plot(n_values, ratios_log_loss_n, c=\"mediumorchid\")\n",
    "plt.show()\n",
    "# plt.savefig(\"Images/<filename>.png\")"
   ]
  },
  {
   "cell_type": "markdown",
   "metadata": {},
   "source": [
    "**Results - `n_estimators`**   \n",
    "\n",
    "Results with 3-fold cross-validation and 2 iterations:  Use `n_estimators=150`\n",
    "\n",
    "The R-squared score on the test data approahces its optimal value at `n_estimators=100` and continues to incrementally improve with higher values of `n_estimators`.\n",
    "\n",
    "The mean squared error on the test data approaches its optimal value at `n_estimators=150` and continues to incrementally improve with higher values of `n_estimators`.\n",
    "\n",
    "The overfitting appears at first to be increasing as the model improves (instead of initially decreasing or stabilizing as with other hyperparameters.  However, the change in ratio between train and test data log loss with each value of  `n_estimators` is very small (less than 1/2% change) relative the same ratio when testing other hyperparameters (1.5% to 40%, so instead this indicates that there is minimal chage in overfitting between different values of `n_estimators`.\n",
    "\n",
    "Given the increased computational cost of larger values of `n_estimators` and that increases in model improvement becomes smaller over `n_estimators=150`, we'll use  `n_estimators=150` for this classifier model."
   ]
  },
  {
   "cell_type": "markdown",
   "metadata": {},
   "source": [
    "## TESTING on Sample Datasets\n",
    "Testing implementation with single sample size training/test set before setting up cross-validation.\n",
    "\n",
    "Helper functions were indepedent of cross-validation functions when running this testing."
   ]
  },
  {
   "cell_type": "code",
   "execution_count": null,
   "metadata": {
    "collapsed": true
   },
   "outputs": [],
   "source": [
    "# create single test/training set from sample dataset\n",
    "X_train, X_test, Y_train, Y_test = train_test_split(X_sample, Y_sample, \n",
    "                                                    test_size=0.2, random_state=None, shuffle=True)"
   ]
  },
  {
   "cell_type": "code",
   "execution_count": null,
   "metadata": {
    "collapsed": true
   },
   "outputs": [],
   "source": [
    "# test max_depth function\n",
    "n = 50\n",
    "features = 'sqrt'\n",
    "depth_values = [15, 30]\n",
    "start = time.time()\n",
    "r2_scores_train, r2_scores_test, MSEs_train, MSEs_test = find_max_depth(X_train, Y_train, X_test, Y_test, \n",
    "                                                            n, depth_values, features)\n",
    "print(\"Processing time: {} seconds\".format((time.time() - start)))\n",
    "#print(\"Processing time: {} minutes\".format(round((time.time() - start)/60, 2)))"
   ]
  },
  {
   "cell_type": "code",
   "execution_count": null,
   "metadata": {
    "collapsed": true
   },
   "outputs": [],
   "source": [
    "print(r2_scores_train)\n",
    "print(r2_scores_test)\n",
    "print(MSEs_train)\n",
    "print(MSEs_test)"
   ]
  },
  {
   "cell_type": "code",
   "execution_count": null,
   "metadata": {
    "collapsed": true
   },
   "outputs": [],
   "source": [
    "# calculate square root as percentage of dataset\n",
    "features_sqrt = X_train.shape[1]**(0.5)\n",
    "sqrt_percent = features_sqrt/X_train.shape[1]\n",
    "sqrt_percent"
   ]
  },
  {
   "cell_type": "code",
   "execution_count": null,
   "metadata": {
    "collapsed": true
   },
   "outputs": [],
   "source": [
    "# calculate square root as percentage of dataset\n",
    "log2_percent = np.log(X_train.shape[1])/X_train.shape[1]\n",
    "log2_percent"
   ]
  },
  {
   "cell_type": "code",
   "execution_count": null,
   "metadata": {
    "collapsed": true
   },
   "outputs": [],
   "source": [
    "# test max_feature function\n",
    "n = 10\n",
    "num_features = [.10, .20]\n",
    "#num_features = [0.05, 'log2'.10, 'sqrt', .15, .20, .40, .60, .80, None]\n",
    "depth = 10\n",
    "start = time.time()\n",
    "r2_scores_train, r2_scores_test, MSEs_train, MSEs_test = find_max_features(X_train, Y_train, X_test, Y_test, \n",
    "                                                                           n, depth, num_features)\n",
    "print(\"Processing time: {} seconds\".format((time.time() - start)))\n",
    "#print(\"Processing time: {} minutes\".format(round((time.time() - start)/60, 2)))"
   ]
  },
  {
   "cell_type": "code",
   "execution_count": null,
   "metadata": {
    "collapsed": true
   },
   "outputs": [],
   "source": [
    "print(r2_scores_train)\n",
    "print(r2_scores_test)\n",
    "print(MSEs_train)\n",
    "print(MSEs_test)"
   ]
  },
  {
   "cell_type": "code",
   "execution_count": null,
   "metadata": {
    "collapsed": true
   },
   "outputs": [],
   "source": [
    "# test n-estimators function\n",
    "n_values = [10, 20]\n",
    "features = 0.10\n",
    "depth = 10\n",
    "start = time.time()\n",
    "r2_scores_train, r2_scores_test, MSEs_train, MSEs_test = find_n(X_train, Y_train, X_test, Y_test, \n",
    "                                                                n_values, depth, features)\n",
    "print(\"Processing time: {} seconds\".format((time.time() - start)))\n",
    "#print(\"Processing time: {} minutes\".format(round((time.time() - start)/60, 2)))"
   ]
  },
  {
   "cell_type": "code",
   "execution_count": null,
   "metadata": {
    "collapsed": true
   },
   "outputs": [],
   "source": [
    "print(r2_scores_train)\n",
    "print(r2_scores_test)\n",
    "print(MSEs_train)\n",
    "print(MSEs_test)"
   ]
  }
 ],
 "metadata": {
  "kernelspec": {
   "display_name": "Python 3",
   "language": "python",
   "name": "python3"
  },
  "language_info": {
   "codemirror_mode": {
    "name": "ipython",
    "version": 3
   },
   "file_extension": ".py",
   "mimetype": "text/x-python",
   "name": "python",
   "nbconvert_exporter": "python",
   "pygments_lexer": "ipython3",
   "version": "3.6.1"
  }
 },
 "nbformat": 4,
 "nbformat_minor": 2
}
