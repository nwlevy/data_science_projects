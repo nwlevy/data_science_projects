{
 "cells": [
  {
   "cell_type": "code",
   "execution_count": 1,
   "metadata": {
    "collapsed": false
   },
   "outputs": [],
   "source": [
    "import pandas as pd\n",
    "import numpy as np\n",
    "import matplotlib.pyplot as plt"
   ]
  },
  {
   "cell_type": "markdown",
   "metadata": {},
   "source": [
    "# Load the DeepSolar Data and Fields List"
   ]
  },
  {
   "cell_type": "code",
   "execution_count": 2,
   "metadata": {
    "collapsed": false,
    "scrolled": true
   },
   "outputs": [
    {
     "data": {
      "text/html": [
       "<div>\n",
       "<table border=\"1\" class=\"dataframe\">\n",
       "  <thead>\n",
       "    <tr style=\"text-align: right;\">\n",
       "      <th></th>\n",
       "      <th>Field</th>\n",
       "      <th>Description</th>\n",
       "      <th>Unit</th>\n",
       "      <th>Data Type</th>\n",
       "      <th>Formula</th>\n",
       "      <th>Possible Values</th>\n",
       "      <th>Observed Max</th>\n",
       "      <th>Observed Min</th>\n",
       "      <th>Theoretical Min</th>\n",
       "      <th>Theoretical Max</th>\n",
       "      <th>Relevant Feature</th>\n",
       "      <th>Mentioned in Supplemental Info</th>\n",
       "    </tr>\n",
       "  </thead>\n",
       "  <tbody>\n",
       "    <tr>\n",
       "      <th>0</th>\n",
       "      <td>Unnamed: 0</td>\n",
       "      <td>Index</td>\n",
       "      <td>NaN</td>\n",
       "      <td>Numeric</td>\n",
       "      <td>NaN</td>\n",
       "      <td>NaN</td>\n",
       "      <td>72537.000</td>\n",
       "      <td>0</td>\n",
       "      <td>NaN</td>\n",
       "      <td>NaN</td>\n",
       "      <td>0</td>\n",
       "      <td>NaN</td>\n",
       "    </tr>\n",
       "    <tr>\n",
       "      <th>1</th>\n",
       "      <td>tile_count</td>\n",
       "      <td>total number of tiles in census tract</td>\n",
       "      <td>NaN</td>\n",
       "      <td>Numeric</td>\n",
       "      <td>NaN</td>\n",
       "      <td>NaN</td>\n",
       "      <td>4468.000</td>\n",
       "      <td>0</td>\n",
       "      <td>0.0</td>\n",
       "      <td>NaN</td>\n",
       "      <td>0</td>\n",
       "      <td>NaN</td>\n",
       "    </tr>\n",
       "    <tr>\n",
       "      <th>2</th>\n",
       "      <td>solar_system_count</td>\n",
       "      <td>Total number of solar systems in census tract</td>\n",
       "      <td>NaN</td>\n",
       "      <td>Numeric</td>\n",
       "      <td>NaN</td>\n",
       "      <td>NaN</td>\n",
       "      <td>1535.000</td>\n",
       "      <td>0</td>\n",
       "      <td>0.0</td>\n",
       "      <td>NaN</td>\n",
       "      <td>0</td>\n",
       "      <td>NaN</td>\n",
       "    </tr>\n",
       "    <tr>\n",
       "      <th>3</th>\n",
       "      <td>total_panel_area</td>\n",
       "      <td>NaN</td>\n",
       "      <td>NaN</td>\n",
       "      <td>Numeric</td>\n",
       "      <td>NaN</td>\n",
       "      <td>NaN</td>\n",
       "      <td>592031.075</td>\n",
       "      <td>0</td>\n",
       "      <td>0.0</td>\n",
       "      <td>NaN</td>\n",
       "      <td>0</td>\n",
       "      <td>NaN</td>\n",
       "    </tr>\n",
       "    <tr>\n",
       "      <th>4</th>\n",
       "      <td>fips</td>\n",
       "      <td>FIPS identifier for the census tract</td>\n",
       "      <td>NaN</td>\n",
       "      <td>String</td>\n",
       "      <td>NaN</td>\n",
       "      <td>NaN</td>\n",
       "      <td>NaN</td>\n",
       "      <td>NaN</td>\n",
       "      <td>NaN</td>\n",
       "      <td>NaN</td>\n",
       "      <td>0</td>\n",
       "      <td>NaN</td>\n",
       "    </tr>\n",
       "  </tbody>\n",
       "</table>\n",
       "</div>"
      ],
      "text/plain": [
       "                Field                                    Description Unit  \\\n",
       "0          Unnamed: 0                                          Index  NaN   \n",
       "1          tile_count          total number of tiles in census tract  NaN   \n",
       "2  solar_system_count  Total number of solar systems in census tract  NaN   \n",
       "3    total_panel_area                                            NaN  NaN   \n",
       "4                fips           FIPS identifier for the census tract  NaN   \n",
       "\n",
       "  Data Type Formula  Possible Values  Observed Max Observed Min  \\\n",
       "0   Numeric     NaN              NaN     72537.000            0   \n",
       "1   Numeric     NaN              NaN      4468.000            0   \n",
       "2   Numeric     NaN              NaN      1535.000            0   \n",
       "3   Numeric     NaN              NaN    592031.075            0   \n",
       "4    String     NaN              NaN           NaN          NaN   \n",
       "\n",
       "   Theoretical Min Theoretical Max  Relevant Feature  \\\n",
       "0              NaN             NaN                 0   \n",
       "1              0.0             NaN                 0   \n",
       "2              0.0             NaN                 0   \n",
       "3              0.0             NaN                 0   \n",
       "4              NaN             NaN                 0   \n",
       "\n",
       "   Mentioned in Supplemental Info  \n",
       "0                             NaN  \n",
       "1                             NaN  \n",
       "2                             NaN  \n",
       "3                             NaN  \n",
       "4                             NaN  "
      ]
     },
     "execution_count": 2,
     "metadata": {},
     "output_type": "execute_result"
    }
   ],
   "source": [
    "solar=pd.read_csv('../../deepsolar_tract.csv',encoding = \"ISO-8859-1\")\n",
    "solar.head()\n",
    "solar_fields=pd.read_csv('../deepsolar fields.csv')\n",
    "solar_fields.head()"
   ]
  },
  {
   "cell_type": "markdown",
   "metadata": {},
   "source": [
    "# Load/Test PySpark"
   ]
  },
  {
   "cell_type": "code",
   "execution_count": 3,
   "metadata": {
    "collapsed": true
   },
   "outputs": [],
   "source": [
    "from pyspark import SparkContext\n",
    "sc = SparkContext()"
   ]
  },
  {
   "cell_type": "code",
   "execution_count": 4,
   "metadata": {
    "collapsed": false
   },
   "outputs": [
    {
     "name": "stdout",
     "output_type": "stream",
     "text": [
      "Number of random points: 100\n",
      "Mean: [-0.04298605 -0.05369376]\n",
      "stdev: [ 0.56574788  0.61382167]\n"
     ]
    }
   ],
   "source": [
    "import numpy as np\n",
    "\n",
    "TOTAL = 100\n",
    "dots = sc.parallelize([2.0 * np.random.random(2) - 1.0 for i in range(TOTAL)]).cache()\n",
    "print(\"Number of random points:\", dots.count())\n",
    "\n",
    "stats = dots.stats()\n",
    "print('Mean:', stats.mean())\n",
    "print('stdev:', stats.stdev())"
   ]
  },
  {
   "cell_type": "markdown",
   "metadata": {},
   "source": [
    "# Train Model Using Spark ML"
   ]
  },
  {
   "cell_type": "code",
   "execution_count": 5,
   "metadata": {
    "collapsed": false
   },
   "outputs": [],
   "source": [
    "from numpy import allclose\n",
    "from pyspark.ml.linalg import Vectors\n",
    "from pyspark.ml.feature import StringIndexer\n",
    "from pyspark.ml.classification import RandomForestClassifier\n",
    "from pyspark.ml.regression import RandomForestRegressor\n",
    "from pyspark.ml.feature import IndexToString, StringIndexer, VectorIndexer\n",
    "from pyspark.sql.session import SparkSession\n",
    "from pyspark.sql import *\n",
    "from pyspark.sql.types import *\n",
    "spark = SparkSession(sc)\n",
    "from pyspark.ml.linalg import DenseVector\n",
    "from pyspark.ml import Pipeline\n",
    "from pyspark.ml.evaluation import MulticlassClassificationEvaluator\n",
    "from pyspark.ml.evaluation import RegressionEvaluator"
   ]
  },
  {
   "cell_type": "markdown",
   "metadata": {},
   "source": [
    "## Pre-process for Spark ML"
   ]
  },
  {
   "cell_type": "code",
   "execution_count": 7,
   "metadata": {
    "collapsed": false
   },
   "outputs": [],
   "source": [
    "features=solar_fields.loc[(solar_fields['Mentioned in Supplemental Info']==1)]['Field'].tolist()\n",
    "#all_variables=['number_of_solar_system_per_household']features+\n",
    "\n",
    "#Set infinity and blank spaces to NaN in independent variables, set infinite to N/A in dependent variable\n",
    "solar2=solar[features].replace([np.inf,' '],np.nan)\n",
    "solar2['number_of_solar_system_per_household']=solar['number_of_solar_system_per_household'].replace(np.inf,np.nan)\n",
    "\n",
    "#remove census tracts where number of solar systems per household is N/A\n",
    "solar2=solar2.loc[np.isfinite(solar2['number_of_solar_system_per_household'])]\n",
    "#Create binary version of number_of_solar_system_per_household for RF classifier\n",
    "\n",
    "solar2['solar_flag']=solar2['number_of_solar_system_per_household'].apply(lambda x: int(x>0))\n"
   ]
  },
  {
   "cell_type": "markdown",
   "metadata": {},
   "source": [
    "## Write solar2 to csv - cleaner than trying to convert pandas df to pyspark df"
   ]
  },
  {
   "cell_type": "code",
   "execution_count": 16,
   "metadata": {
    "collapsed": true
   },
   "outputs": [],
   "source": [
    "solar2.to_csv('ml_frame.csv',index=False)"
   ]
  },
  {
   "cell_type": "markdown",
   "metadata": {},
   "source": [
    "## Read csv into pyspark df"
   ]
  },
  {
   "cell_type": "code",
   "execution_count": 17,
   "metadata": {
    "collapsed": true
   },
   "outputs": [],
   "source": [
    "df = spark.read.format(\"csv\").option(\"header\", True).option(\"inferSchema\", True).load(\"ml_frame.csv\")"
   ]
  },
  {
   "cell_type": "code",
   "execution_count": 18,
   "metadata": {
    "collapsed": false
   },
   "outputs": [
    {
     "name": "stdout",
     "output_type": "stream",
     "text": [
      "root\n",
      " |-- average_household_income: double (nullable = true)\n",
      " |-- gini_index: double (nullable = true)\n",
      " |-- heating_fuel_coal_coke: integer (nullable = true)\n",
      " |-- heating_fuel_electricity: integer (nullable = true)\n",
      " |-- heating_fuel_fuel_oil_kerosene: integer (nullable = true)\n",
      " |-- heating_fuel_gas: integer (nullable = true)\n",
      " |-- heating_fuel_housing_unit_count: integer (nullable = true)\n",
      " |-- heating_fuel_none: integer (nullable = true)\n",
      " |-- heating_fuel_other: integer (nullable = true)\n",
      " |-- heating_fuel_solar: integer (nullable = true)\n",
      " |-- population_density: double (nullable = true)\n",
      " |-- education_less_than_high_school_rate: double (nullable = true)\n",
      " |-- education_high_school_graduate_rate: double (nullable = true)\n",
      " |-- education_college_rate: double (nullable = true)\n",
      " |-- education_bachelor_rate: double (nullable = true)\n",
      " |-- education_master_rate: double (nullable = true)\n",
      " |-- education_professional_school_rate: double (nullable = true)\n",
      " |-- education_doctoral_rate: double (nullable = true)\n",
      " |-- race_white_rate: double (nullable = true)\n",
      " |-- race_black_africa_rate: double (nullable = true)\n",
      " |-- race_indian_alaska_rate: double (nullable = true)\n",
      " |-- race_asian_rate: double (nullable = true)\n",
      " |-- race_islander_rate: double (nullable = true)\n",
      " |-- race_other_rate: double (nullable = true)\n",
      " |-- race_two_more_rate: double (nullable = true)\n",
      " |-- employ_rate: double (nullable = true)\n",
      " |-- poverty_family_below_poverty_level_rate: double (nullable = true)\n",
      " |-- average_household_size: double (nullable = true)\n",
      " |-- housing_unit_median_value: double (nullable = true)\n",
      " |-- housing_unit_median_gross_rent: double (nullable = true)\n",
      " |-- elevation: double (nullable = true)\n",
      " |-- earth_temperature_amplitude: double (nullable = true)\n",
      " |-- frost_days: double (nullable = true)\n",
      " |-- air_temperature: double (nullable = true)\n",
      " |-- relative_humidity: double (nullable = true)\n",
      " |-- daily_solar_radiation: double (nullable = true)\n",
      " |-- atmospheric_pressure: double (nullable = true)\n",
      " |-- wind_speed: double (nullable = true)\n",
      " |-- earth_temperature: double (nullable = true)\n",
      " |-- heating_degree_days: double (nullable = true)\n",
      " |-- cooling_degree_days: double (nullable = true)\n",
      " |-- age_18_24_rate: double (nullable = true)\n",
      " |-- age_25_34_rate: double (nullable = true)\n",
      " |-- age_more_than_85_rate: double (nullable = true)\n",
      " |-- age_75_84_rate: double (nullable = true)\n",
      " |-- age_35_44_rate: double (nullable = true)\n",
      " |-- age_45_54_rate: double (nullable = true)\n",
      " |-- age_65_74_rate: double (nullable = true)\n",
      " |-- age_55_64_rate: double (nullable = true)\n",
      " |-- age_10_14_rate: double (nullable = true)\n",
      " |-- age_15_17_rate: double (nullable = true)\n",
      " |-- age_5_9_rate: double (nullable = true)\n",
      " |-- household_type_family_rate: double (nullable = true)\n",
      " |-- dropout_16_19_inschool_rate: double (nullable = true)\n",
      " |-- occupation_construction_rate: double (nullable = true)\n",
      " |-- occupation_public_rate: double (nullable = true)\n",
      " |-- occupation_information_rate: double (nullable = true)\n",
      " |-- occupation_finance_rate: double (nullable = true)\n",
      " |-- occupation_education_rate: double (nullable = true)\n",
      " |-- occupation_administrative_rate: double (nullable = true)\n",
      " |-- occupation_manufacturing_rate: double (nullable = true)\n",
      " |-- occupation_wholesale_rate: double (nullable = true)\n",
      " |-- occupation_retail_rate: double (nullable = true)\n",
      " |-- occupation_transportation_rate: double (nullable = true)\n",
      " |-- occupation_arts_rate: double (nullable = true)\n",
      " |-- occupation_agriculture_rate: double (nullable = true)\n",
      " |-- occupancy_vacant_rate: double (nullable = true)\n",
      " |-- occupancy_owner_rate: double (nullable = true)\n",
      " |-- mortgage_with_rate: double (nullable = true)\n",
      " |-- transportation_home_rate: double (nullable = true)\n",
      " |-- transportation_car_alone_rate: double (nullable = true)\n",
      " |-- transportation_walk_rate: double (nullable = true)\n",
      " |-- transportation_carpool_rate: double (nullable = true)\n",
      " |-- transportation_motorcycle_rate: double (nullable = true)\n",
      " |-- transportation_bicycle_rate: double (nullable = true)\n",
      " |-- transportation_public_rate: double (nullable = true)\n",
      " |-- travel_time_less_than_10_rate: double (nullable = true)\n",
      " |-- travel_time_10_19_rate: double (nullable = true)\n",
      " |-- travel_time_20_29_rate: double (nullable = true)\n",
      " |-- travel_time_30_39_rate: double (nullable = true)\n",
      " |-- travel_time_40_59_rate: double (nullable = true)\n",
      " |-- travel_time_60_89_rate: double (nullable = true)\n",
      " |-- health_insurance_public_rate: double (nullable = true)\n",
      " |-- health_insurance_none_rate: double (nullable = true)\n",
      " |-- age_median: double (nullable = true)\n",
      " |-- travel_time_average: double (nullable = true)\n",
      " |-- voting_2016_dem_percentage: double (nullable = true)\n",
      " |-- voting_2016_gop_percentage: double (nullable = true)\n",
      " |-- number_of_years_of_education: double (nullable = true)\n",
      " |-- diversity: double (nullable = true)\n",
      " |-- net_metering: integer (nullable = true)\n",
      " |-- feedin_tariff: integer (nullable = true)\n",
      " |-- cooperate_tax: integer (nullable = true)\n",
      " |-- property_tax: integer (nullable = true)\n",
      " |-- sales_tax: integer (nullable = true)\n",
      " |-- rebate: integer (nullable = true)\n",
      " |-- avg_electricity_retail_rate: double (nullable = true)\n",
      " |-- number_of_solar_system_per_household: double (nullable = true)\n",
      " |-- solar_flag: integer (nullable = true)\n",
      "\n"
     ]
    }
   ],
   "source": [
    "df.printSchema()"
   ]
  },
  {
   "cell_type": "markdown",
   "metadata": {},
   "source": [
    "## Process Spark Df for Random Forest Classifier - Create Train and Test Sets"
   ]
  },
  {
   "cell_type": "code",
   "execution_count": 19,
   "metadata": {
    "collapsed": false
   },
   "outputs": [],
   "source": [
    "cols=df.columns\n",
    "indep_vars=[i for i in cols if i not in ['solar_flag','number_of_solar_system_per_household']]\n",
    "classifier_cols=['solar_flag']+indep_vars\n",
    "regressor_cols=['number_of_solar_system_per_household']+indep_vars"
   ]
  },
  {
   "cell_type": "code",
   "execution_count": 20,
   "metadata": {
    "collapsed": true
   },
   "outputs": [],
   "source": [
    "(trainingData, testData) = df.randomSplit([0.8, 0.2],seed=1234)\n",
    "\n",
    "classifier_train=trainingData.select(classifier_cols).rdd.map(lambda x: (x[0], DenseVector(x[1:])))\n",
    "classifier_test=testData.select(classifier_cols).rdd.map(lambda x: (x[0], DenseVector(x[1:])))\n",
    "\n",
    "regressor_train=trainingData.select(regressor_cols).rdd.map(lambda x: (x[0], DenseVector(x[1:])))\n",
    "regressor_test=testData.select(regressor_cols).rdd.map(lambda x: (x[0], DenseVector(x[1:])))"
   ]
  },
  {
   "cell_type": "code",
   "execution_count": 21,
   "metadata": {
    "collapsed": true
   },
   "outputs": [],
   "source": [
    "classifier_train_df = spark.createDataFrame(classifier_train, [\"label\", \"features\"])\n",
    "classifier_test_df = spark.createDataFrame(classifier_test, [\"label\", \"features\"])\n",
    "\n",
    "\n",
    "regressor_train_df=spark.createDataFrame(regressor_train, [\"label\", \"features\"])\n",
    "regressor_test_df=spark.createDataFrame(regressor_test, [\"label\", \"features\"])"
   ]
  },
  {
   "cell_type": "markdown",
   "metadata": {},
   "source": [
    "### Generate Full classifier and regressor frames as reference for featureIndexer"
   ]
  },
  {
   "cell_type": "code",
   "execution_count": 22,
   "metadata": {
    "collapsed": true
   },
   "outputs": [],
   "source": [
    "classifier_data=df.select(classifier_cols).rdd.map(lambda x: (x[0], DenseVector(x[1:])))\n",
    "regressor_data=df.select(regressor_cols).rdd.map(lambda x: (x[0], DenseVector(x[1:])))\n",
    "\n",
    "classifier_df = spark.createDataFrame(classifier_data, [\"label\", \"features\"])\n",
    "regressor_df=spark.createDataFrame(regressor_data, [\"label\", \"features\"])"
   ]
  },
  {
   "cell_type": "markdown",
   "metadata": {},
   "source": [
    "## Create Model Pipeline - Classifier"
   ]
  },
  {
   "cell_type": "code",
   "execution_count": 23,
   "metadata": {
    "collapsed": false
   },
   "outputs": [],
   "source": [
    "#index the labels and the features for the random forest model\n",
    "labelIndexer = StringIndexer(inputCol=\"label\", outputCol=\"indexedLabel\").fit(classifier_df)\n",
    "featureIndexer =VectorIndexer(inputCol=\"features\", outputCol=\"indexedFeatures\").fit(classifier_df)\n",
    "\n",
    "\n",
    "#define the model and the label converter\n",
    "rf = RandomForestClassifier(labelCol=\"indexedLabel\", featuresCol=\"indexedFeatures\", numTrees=100)\n",
    "labelConverter = IndexToString(inputCol=\"prediction\", outputCol=\"predictedLabel\",\n",
    "                               labels=labelIndexer.labels)\n",
    "\n",
    "#put all the steps together into a pipeline\n",
    "pipeline = Pipeline(stages=[labelIndexer, featureIndexer, rf, labelConverter])\n",
    "\n",
    "#fit the training data\n",
    "model = pipeline.fit(classifier_train_df)\n",
    "\n",
    "#generate predictions on the test data\n",
    "predictions = model.transform(classifier_test_df)"
   ]
  },
  {
   "cell_type": "markdown",
   "metadata": {},
   "source": [
    "## Evaluate Classifier Accuracy"
   ]
  },
  {
   "cell_type": "code",
   "execution_count": 24,
   "metadata": {
    "collapsed": false
   },
   "outputs": [
    {
     "name": "stdout",
     "output_type": "stream",
     "text": [
      "test set accuracy:  0.7894993724724585\n"
     ]
    }
   ],
   "source": [
    "evaluator = MulticlassClassificationEvaluator(\n",
    "    labelCol=\"indexedLabel\", predictionCol=\"prediction\", metricName=\"accuracy\")\n",
    "accuracy = evaluator.evaluate(predictions)\n",
    "print('test set accuracy: ',accuracy)"
   ]
  },
  {
   "cell_type": "markdown",
   "metadata": {},
   "source": [
    "## Get Classifier Feature Importances"
   ]
  },
  {
   "cell_type": "code",
   "execution_count": 25,
   "metadata": {
    "collapsed": false
   },
   "outputs": [
    {
     "data": {
      "text/plain": [
       "[('population_density', 0.15785987050546338),\n",
       " ('race_asian_rate', 0.07311933877696758),\n",
       " ('property_tax', 0.058303934142207206),\n",
       " ('occupancy_vacant_rate', 0.0478366617429207),\n",
       " ('housing_unit_median_gross_rent', 0.042898528563938332),\n",
       " ('relative_humidity', 0.03941090221677257),\n",
       " ('number_of_years_of_education', 0.036149394913741799),\n",
       " ('housing_unit_median_value', 0.035461007572820974),\n",
       " ('education_high_school_graduate_rate', 0.034961937478504686),\n",
       " ('heating_fuel_coal_coke', 0.032808727714627436),\n",
       " ('heating_fuel_housing_unit_count', 0.031608582059085628),\n",
       " ('education_bachelor_rate', 0.029686302116606701),\n",
       " ('daily_solar_radiation', 0.028876156184724722),\n",
       " ('occupation_agriculture_rate', 0.021468553851796142),\n",
       " ('mortgage_with_rate', 0.020707050742682444),\n",
       " ('rebate', 0.018561267257728449),\n",
       " ('transportation_public_rate', 0.018163798987350918),\n",
       " ('sales_tax', 0.015188612517060718),\n",
       " ('heating_fuel_gas', 0.014448301216708039),\n",
       " ('education_master_rate', 0.013950959255079456)]"
      ]
     },
     "execution_count": 25,
     "metadata": {},
     "output_type": "execute_result"
    }
   ],
   "source": [
    "rfModel = model.stages[2]\n",
    "feature_importances=rfModel.featureImportances\n",
    "#print(len(indep_vars))\n",
    "fia=feature_importances.toArray()\n",
    "#print(fia)\n",
    "fi_list=[]\n",
    "for i in range(fia.shape[0]):\n",
    "    fi_list.append((indep_vars[i],fia[i]))\n",
    "sorted_list=sorted(fi_list,reverse=True,key=lambda k: k[1])\n",
    "sorted_list[0:20]"
   ]
  },
  {
   "cell_type": "markdown",
   "metadata": {
    "collapsed": true
   },
   "source": [
    "## Create Model Pipeline - RandomForestRegressor"
   ]
  },
  {
   "cell_type": "code",
   "execution_count": 26,
   "metadata": {
    "collapsed": false
   },
   "outputs": [],
   "source": [
    "#define the feature indexer\n",
    "featureIndexer2 =VectorIndexer(inputCol=\"features\", outputCol=\"indexedFeatures\").fit(regressor_df)\n",
    "\n",
    "\n",
    "#define the model\n",
    "rf2 = RandomForestRegressor(featuresCol=\"indexedFeatures\", numTrees=200)\n",
    "\n",
    "#put all the steps together into a pipeline\n",
    "pipeline2 = Pipeline(stages=[featureIndexer2, rf2])\n",
    "\n",
    "#fit the training data\n",
    "model2 = pipeline2.fit(regressor_train_df)\n",
    "\n",
    "#generate predictions on the test data\n",
    "predictions2 = model2.transform(regressor_test_df)"
   ]
  },
  {
   "cell_type": "code",
   "execution_count": 27,
   "metadata": {
    "collapsed": false
   },
   "outputs": [
    {
     "name": "stdout",
     "output_type": "stream",
     "text": [
      "+--------------------+--------------------+--------------------+--------------------+\n",
      "|               label|            features|     indexedFeatures|          prediction|\n",
      "+--------------------+--------------------+--------------------+--------------------+\n",
      "|       1.33333333333|[NaN,NaN,0.0,0.0,...|[NaN,NaN,0.0,0.0,...|  0.8656985836412305|\n",
      "|                 1.0|[NaN,NaN,0.0,0.0,...|[NaN,NaN,0.0,0.0,...| 0.10170528964910887|\n",
      "| 0.33333333333299997|[NaN,NaN,0.0,0.0,...|[NaN,NaN,0.0,0.0,...| 0.13230157653725272|\n",
      "|       1.23076923077|[NaN,NaN,0.0,0.0,...|[NaN,NaN,0.0,0.0,...|  0.6329449031357716|\n",
      "|      0.166666666667|[NaN,0.0572,0.0,1...|[NaN,0.0572,0.0,1...|0.058312821851019055|\n",
      "|                 0.0|[NaN,0.0890000000...|[NaN,0.0890000000...| 0.09163164591759874|\n",
      "|                 0.0|[NaN,0.168,0.0,0....|[NaN,0.168,0.0,0....| 0.07450030941297642|\n",
      "|      0.111111111111|[NaN,0.2061,0.0,0...|[NaN,0.2061,0.0,0...| 0.08441218001502536|\n",
      "| 0.14285714285700002|[9040.0,0.1867,0....|[9040.0,0.1867,0....| 0.15898583903762237|\n",
      "|    0.00480769230769|[11652.4038462,0....|[11652.4038462,0....|0.006266523517474...|\n",
      "|                 0.0|[11758.4745763,0....|[11758.4745763,0....|0.038290890849941944|\n",
      "|    6.04960677556E-4|[16578.5238958999...|[16578.5238958999...|0.004094935561586739|\n",
      "|    0.00129449838188|[18398.2524272,0....|[18398.2524272,0....|0.003208764125118347|\n",
      "|0.001818181818180...|[18940.9090909,0....|[18940.9090909,0....|0.004020389749742...|\n",
      "|0.001111111111109...|[19023.0555556,0....|[19023.0555556,0....|0.004284099915278844|\n",
      "|    0.00256081946223|[19196.4148528,0....|[19196.4148528,0....|0.014575843856192459|\n",
      "|    6.44745325596E-4|[19924.9516440999...|[19924.9516440999...|0.009207190856923023|\n",
      "|    0.00179856115108|[20127.5179855999...|[20127.5179855999...|0.002034197718137104|\n",
      "|                 0.0|[20340.3508772000...|[20340.3508772000...|0.002241704711455583|\n",
      "|    0.00129701686122|[21437.8728922999...|[21437.8728922999...|0.008110224294990157|\n",
      "|0.001856435643559...|[21589.4801979999...|[21589.4801979999...|0.024621983860707547|\n",
      "|    8.41042893188E-4|[21707.1488646,0....|[21707.1488646,0....|0.012825943380774226|\n",
      "|    0.00135043889264|[21789.061445,0.5...|[21789.061445,0.5...|0.002230131590638486|\n",
      "|                 0.0|[21948.2251082,0....|[21948.2251082,0....|0.001929680457444...|\n",
      "|     0.0170015455951|[22582.4574961,0....|[22582.4574961,0....|0.028100977158930854|\n",
      "|    0.00105708245243|[22694.397463,0.5...|[22694.397463,0.5...|0.002034197718137104|\n",
      "|    0.00169779286927|[22861.7996604,0....|[22861.7996604,0....|0.001993506044935984|\n",
      "|                 0.0|[22940.2203857,0....|[22940.2203857,0....|0.002074364083361761|\n",
      "|                 0.0|[22959.7402597,0....|[22959.7402597,0....|0.002355340494417...|\n",
      "|    0.00153846153846|[23216.3076922999...|[23216.3076922999...|0.013027686433159246|\n",
      "|                0.01|[23292.7272726999...|[23292.7272726999...|0.020320564635762012|\n",
      "|                 0.0|[24295.5592105,0....|[24295.5592105,0....|0.008222419218690661|\n",
      "|    9.31098696462E-4|[24316.0148976,0....|[24316.0148976,0....|0.002050843627765...|\n",
      "|                 0.0|[24590.7393577000...|[24590.7393577000...|0.005723253524301089|\n",
      "|                 0.0|[24692.6807759999...|[24692.6807759999...|0.008435982275341966|\n",
      "|     0.0032502708559|[24694.2578548,0....|[24694.2578548,0....|0.018080389209676077|\n",
      "|    0.00156985871272|[24748.5086342,0....|[24748.5086342,0....|0.001921107368199812|\n",
      "|                 0.0|[24907.9878049000...|[24907.9878049000...| 0.00847668534052773|\n",
      "|                 0.0|[24973.4915925000...|[24973.4915925000...|0.002083863832270353|\n",
      "|                 0.0|[25226.5787647,0....|[25226.5787647,0....|0.010503635796432566|\n",
      "|                 0.0|[25321.8169305,0....|[25321.8169305,0....|0.001993506044935984|\n",
      "|                 0.0|[25831.0259580000...|[25831.0259580000...|0.004481447735171898|\n",
      "|7.440476190479999E-4|[26052.0833333,0....|[26052.0833333,0....|0.007663891255165189|\n",
      "|    9.59692898273E-4|[26181.5738964,0....|[26181.5738964,0....|0.001922351129308...|\n",
      "|                 0.0|[26262.9792583,0....|[26262.9792583,0....|0.005157324948675923|\n",
      "|    7.48502994012E-4|[26323.8023952000...|[26323.8023952000...|0.001921107368199812|\n",
      "|                 0.0|[26500.0,0.4732,0...|[26500.0,0.4732,0...|0.005139668902094044|\n",
      "|                 0.0|[26589.2741062000...|[26589.2741062000...|0.012788825085906324|\n",
      "|                 0.0|[26656.031746,0.4...|[26656.031746,0.4...|0.008306924534135533|\n",
      "|                 0.0|[26660.6102635,0....|[26660.6102635,0....|0.008550735905773618|\n",
      "+--------------------+--------------------+--------------------+--------------------+\n",
      "only showing top 50 rows\n",
      "\n"
     ]
    }
   ],
   "source": [
    "predictions2.show(50)"
   ]
  },
  {
   "cell_type": "markdown",
   "metadata": {},
   "source": [
    "## Assess R^2 for Regression Model"
   ]
  },
  {
   "cell_type": "code",
   "execution_count": 28,
   "metadata": {
    "collapsed": false
   },
   "outputs": [
    {
     "name": "stdout",
     "output_type": "stream",
     "text": [
      "R^2 on test data = 0.30543\n"
     ]
    }
   ],
   "source": [
    "evaluator = RegressionEvaluator(\n",
    "    labelCol=\"label\", predictionCol=\"prediction\", metricName=\"r2\")\n",
    "r2 = evaluator.evaluate(predictions2)\n",
    "print(\"R^2 on test data = %g\" % r2)"
   ]
  },
  {
   "cell_type": "markdown",
   "metadata": {},
   "source": [
    "## Regression Model Feature Importances"
   ]
  },
  {
   "cell_type": "code",
   "execution_count": 29,
   "metadata": {
    "collapsed": false
   },
   "outputs": [
    {
     "data": {
      "text/plain": [
       "[('property_tax', 0.10033256465810428),\n",
       " ('heating_fuel_gas', 0.055154644739344602),\n",
       " ('occupancy_owner_rate', 0.052282131837348922),\n",
       " ('net_metering', 0.050491575044885668),\n",
       " ('voting_2016_gop_percentage', 0.041976757424097733),\n",
       " ('relative_humidity', 0.040971851362740494),\n",
       " ('occupation_manufacturing_rate', 0.039064399644131304),\n",
       " ('voting_2016_dem_percentage', 0.037987050315577177),\n",
       " ('average_household_income', 0.034741546886339833),\n",
       " ('rebate', 0.033927390864932121),\n",
       " ('feedin_tariff', 0.031437251717809339),\n",
       " ('housing_unit_median_gross_rent', 0.025176275499740369),\n",
       " ('population_density', 0.02382833386768245),\n",
       " ('age_more_than_85_rate', 0.018243868561410723),\n",
       " ('heating_fuel_electricity', 0.015726719117490785),\n",
       " ('air_temperature', 0.014858009041496171),\n",
       " ('cooling_degree_days', 0.014851941123538175),\n",
       " ('household_type_family_rate', 0.014701945276339994),\n",
       " ('earth_temperature', 0.013613236428957122),\n",
       " ('occupation_agriculture_rate', 0.013389656965433171)]"
      ]
     },
     "execution_count": 29,
     "metadata": {},
     "output_type": "execute_result"
    }
   ],
   "source": [
    "rfModel2 = model2.stages[1]\n",
    "feature_importances2=rfModel2.featureImportances\n",
    "#print(len(indep_vars))\n",
    "fia2=feature_importances2.toArray()\n",
    "#print(fia)\n",
    "fi_list2=[]\n",
    "for i in range(fia2.shape[0]):\n",
    "    fi_list2.append((indep_vars[i],fia2[i]))\n",
    "sorted_list2=sorted(fi_list2,reverse=True,key=lambda k: k[1])\n",
    "sorted_list2[0:20]"
   ]
  },
  {
   "cell_type": "markdown",
   "metadata": {},
   "source": [
    "## Overall R^2 for SolarForest"
   ]
  },
  {
   "cell_type": "code",
   "execution_count": 30,
   "metadata": {
    "collapsed": false
   },
   "outputs": [],
   "source": [
    "classifier_preds=predictions.select('prediction').collect()\n",
    "classifier_preds_list=[i.prediction for i in classifier_preds]"
   ]
  },
  {
   "cell_type": "code",
   "execution_count": 31,
   "metadata": {
    "collapsed": true
   },
   "outputs": [],
   "source": [
    "regressor_preds=predictions2.select('prediction').collect()\n",
    "regressor_preds_list=[i.prediction for i in regressor_preds]"
   ]
  },
  {
   "cell_type": "code",
   "execution_count": 32,
   "metadata": {
    "collapsed": false
   },
   "outputs": [],
   "source": [
    "def new_preds(classifier,regressor):\n",
    "    new_preds=[]\n",
    "    for i in range(len(classifier)):\n",
    "        if classifier[i]==0:\n",
    "            new_preds.append(0)\n",
    "        else:\n",
    "            new_preds.append(regressor[i])\n",
    "            \n",
    "    return new_preds"
   ]
  },
  {
   "cell_type": "code",
   "execution_count": 33,
   "metadata": {
    "collapsed": false
   },
   "outputs": [],
   "source": [
    "new_predictions_list=new_preds(classifier_preds_list,regressor_preds_list)\n",
    "actual_vals=predictions2.select('label').collect()\n",
    "actual_vals_list=[i.label for i in actual_vals]"
   ]
  },
  {
   "cell_type": "code",
   "execution_count": 34,
   "metadata": {
    "collapsed": false
   },
   "outputs": [],
   "source": [
    "from sklearn.metrics import r2_score"
   ]
  },
  {
   "cell_type": "code",
   "execution_count": 35,
   "metadata": {
    "collapsed": false
   },
   "outputs": [
    {
     "data": {
      "text/plain": [
       "0.008011237456744924"
      ]
     },
     "execution_count": 35,
     "metadata": {},
     "output_type": "execute_result"
    }
   ],
   "source": [
    "r2_score(actual_vals_list,new_predictions_list)"
   ]
  },
  {
   "cell_type": "markdown",
   "metadata": {
    "collapsed": true
   },
   "source": [
    "# Generate List of Actual and Predicted Values for Entire Dataset"
   ]
  },
  {
   "cell_type": "markdown",
   "metadata": {},
   "source": [
    "## Run the Model on the Full Dataset.  Just Use RF Regression for Now"
   ]
  },
  {
   "cell_type": "code",
   "execution_count": 36,
   "metadata": {
    "collapsed": true
   },
   "outputs": [],
   "source": [
    "model_final = pipeline2.fit(regressor_df)"
   ]
  },
  {
   "cell_type": "markdown",
   "metadata": {},
   "source": [
    "## Examine Feature Importances for the whole Dataset"
   ]
  },
  {
   "cell_type": "code",
   "execution_count": 38,
   "metadata": {
    "collapsed": false
   },
   "outputs": [
    {
     "data": {
      "text/plain": [
       "[('property_tax', 0.096026236173719762),\n",
       " ('occupation_manufacturing_rate', 0.069349349958601744),\n",
       " ('occupancy_owner_rate', 0.058916898930618411),\n",
       " ('net_metering', 0.054056804903429873),\n",
       " ('voting_2016_dem_percentage', 0.043146977032435002),\n",
       " ('heating_fuel_gas', 0.042131925774413978),\n",
       " ('relative_humidity', 0.037114361370008342),\n",
       " ('average_household_income', 0.035201182045460577),\n",
       " ('feedin_tariff', 0.03348104711922309),\n",
       " ('rebate', 0.032585525844226179),\n",
       " ('population_density', 0.028959726914829065),\n",
       " ('housing_unit_median_gross_rent', 0.021754373575866459),\n",
       " ('voting_2016_gop_percentage', 0.021620701697655675),\n",
       " ('daily_solar_radiation', 0.018230781365257052),\n",
       " ('cooling_degree_days', 0.014558921556898656),\n",
       " ('heating_degree_days', 0.014425544350508142),\n",
       " ('air_temperature', 0.013671210212765756),\n",
       " ('health_insurance_none_rate', 0.013651241463206006),\n",
       " ('average_household_size', 0.013279138760968026),\n",
       " ('earth_temperature', 0.012607313920744097)]"
      ]
     },
     "execution_count": 38,
     "metadata": {},
     "output_type": "execute_result"
    }
   ],
   "source": [
    "rfModel_final = model_final.stages[1]\n",
    "feature_importances_final=rfModel_final.featureImportances\n",
    "#print(len(indep_vars))\n",
    "fia_final=feature_importances_final.toArray()\n",
    "#print(fia)\n",
    "fi_list_final=[]\n",
    "for i in range(fia_final.shape[0]):\n",
    "    fi_list_final.append((indep_vars[i],fia_final[i]))\n",
    "sorted_list_final=sorted(fi_list_final,reverse=True,key=lambda k: k[1])\n",
    "sorted_list_final[0:20]"
   ]
  },
  {
   "cell_type": "markdown",
   "metadata": {},
   "source": [
    "## Get Predictions for Whole Dataset"
   ]
  },
  {
   "cell_type": "code",
   "execution_count": 41,
   "metadata": {
    "collapsed": false
   },
   "outputs": [],
   "source": [
    "predictions_final = model_final.transform(regressor_df)"
   ]
  },
  {
   "cell_type": "code",
   "execution_count": 42,
   "metadata": {
    "collapsed": false
   },
   "outputs": [
    {
     "name": "stdout",
     "output_type": "stream",
     "text": [
      "+--------------------+--------------------+--------------------+--------------------+\n",
      "|               label|            features|     indexedFeatures|          prediction|\n",
      "+--------------------+--------------------+--------------------+--------------------+\n",
      "|                 0.0|[70352.7898693999...|[70352.7898693999...|0.002132466122110...|\n",
      "|     0.0067264573991|[61727.0852018,0....|[61727.0852018,0....|0.002178753071469...|\n",
      "|0.001111934766490...|[71496.8865827,0....|[71496.8865827,0....|0.002068256883884308|\n",
      "|                 0.0|[86840.1527549999...|[86840.1527549999...|0.003109883510450327|\n",
      "|0.002086593635890...|[89135.3155973000...|[89135.3155973000...|0.002646366771488...|\n",
      "|                 0.0|[62225.9036145,0....|[62225.9036145,0....|0.002052899294023...|\n",
      "|    0.00425531914894|[41068.9361701999...|[41068.9361701999...|0.003449034322424463|\n",
      "|                 0.0|[74073.8336714,0....|[74073.8336714,0....|0.002052899294023...|\n",
      "|                 0.0|[69412.1924348,0....|[69412.1924348,0....|0.002068256883884308|\n",
      "|    0.00274223034735|[82502.4070689,0....|[82502.4070689,0....|0.002285420421555...|\n",
      "|0.003888722704159...|[54605.474125,0.4...|[54605.474125,0.4...|0.002027970595276...|\n",
      "|0.001342281879190...|[51927.9194631,0....|[51927.9194631,0....|0.002160040608768808|\n",
      "|9.208103130760001E-4|[64515.3161449,0....|[64515.3161449,0....|0.002206091028688152|\n",
      "|                 0.0|[89859.9092971,0....|[89859.9092971,0....|0.002573653081910...|\n",
      "|6.958942240780001E-4|[84751.1482255,0....|[84751.1482255,0....|0.002248987345067585|\n",
      "|    7.02740688686E-4|[52843.7807449,0....|[52843.7807449,0....|0.002149661308083...|\n",
      "|6.693440428380001E-4|[60748.3935743000...|[60748.3935743000...|0.002019097988874...|\n",
      "|                 0.0|[67076.2736536,0....|[67076.2736536,0....|0.002019097988874...|\n",
      "|    5.78703703704E-4|[62144.6759259,0....|[62144.6759259,0....|0.002019097988874...|\n",
      "|7.168458781360001E-4|[51899.4982079,0....|[51899.4982079,0....|0.002139255076361...|\n",
      "|7.974481658689999E-4|[42958.7320574,0....|[42958.7320574,0....|0.002060667061666971|\n",
      "|    4.36490615452E-4|[62199.6508075,0....|[62199.6508075,0....| 0.00221857033011622|\n",
      "|0.005817335660270001|[111945.666084999...|[111945.666084999...|0.004166263890924707|\n",
      "|    0.00171379605827|[54067.7806340999...|[54067.7806340999...|0.002027970595276...|\n",
      "|     0.0148992112182|[54656.2664330000...|[54656.2664330000...|0.002246676092391...|\n",
      "|    0.00130491518051|[65836.5376251,0....|[65836.5376251,0....|0.002177969240417...|\n",
      "|     0.0016070711129|[111262.474890000...|[111262.474890000...|0.003006987217484...|\n",
      "|                 0.0|[69716.4955071000...|[69716.4955071000...|0.002052899294023...|\n",
      "|                 0.0|[79436.4279399,0....|[79436.4279399,0....|0.002200287551498...|\n",
      "|    0.00453074433657|[108954.822005999...|[108954.822005999...| 0.00922972962763287|\n",
      "|    0.00128783000644|[122821.44237,0.4...|[122821.44237,0.4...|0.009763695746689519|\n",
      "|0.007419620774939...|[39521.7642209,0....|[39521.7642209,0....|0.011414639097721774|\n",
      "|0.016927083333299998|[48647.3958333,0....|[48647.3958333,0....| 0.02600728957830077|\n",
      "|    0.00103466114847|[129044.956027,0....|[129044.956027,0....|0.007599555829888309|\n",
      "|    0.00677310111272|[43428.7373004000...|[43428.7373004000...|0.004883032698326...|\n",
      "|    0.00531161473088|[89444.9008498999...|[89444.9008498999...|0.008503501693828963|\n",
      "|     0.0336894001643|[112209.285127,0....|[112209.285127,0....|0.009862476908721033|\n",
      "|     0.0105263157895|[92918.5338346,0....|[92918.5338346,0....|0.008876474035536853|\n",
      "|                 0.0|[159672.469375,0....|[159672.469375,0....|0.009845897027861471|\n",
      "|      0.004914004914|[46643.1203931,0....|[46643.1203931,0....|0.009266484807577602|\n",
      "|    0.00435919790759|[41930.0784655999...|[41930.0784655999...|0.005441886203411028|\n",
      "|0.044322225816900006|[108971.821417000...|[108971.821417000...|0.009867085789298933|\n",
      "|     0.0156356220258|[76354.3847723,0....|[76354.3847723,0....|0.006664037753040868|\n",
      "|0.006963042313869...|[56163.6314944000...|[56163.6314944000...|0.005952921828023127|\n",
      "|     0.0198675496689|[90365.3973509999...|[90365.3973509999...| 0.00889933188920476|\n",
      "|     0.0159716060337|[114571.960958,0....|[114571.960958,0....|0.009038604134631941|\n",
      "|               0.005|[53131.25,0.4888,...|[53131.25,0.4888,...| 0.00619679482518019|\n",
      "|     0.0328592447278|[126631.58411,0.3...|[126631.58411,0.3...|0.010646997326002652|\n",
      "|0.023639362286999997|[118554.590434,0....|[118554.590434,0....|0.009403681803737456|\n",
      "|0.002624671916010...|[40974.9343831999...|[40974.9343831999...| 0.00468778815878829|\n",
      "+--------------------+--------------------+--------------------+--------------------+\n",
      "only showing top 50 rows\n",
      "\n"
     ]
    }
   ],
   "source": [
    "predictions_final.show(50)"
   ]
  },
  {
   "cell_type": "code",
   "execution_count": 45,
   "metadata": {
    "collapsed": false
   },
   "outputs": [
    {
     "data": {
      "text/plain": [
       "[0.0021324661221101176,\n",
       " 0.0021787530714694275,\n",
       " 0.002068256883884308,\n",
       " 0.003109883510450327,\n",
       " 0.0026463667714880456,\n",
       " 0.0020528992940237077,\n",
       " 0.003449034322424463,\n",
       " 0.0020528992940237077,\n",
       " 0.002068256883884308,\n",
       " 0.0022854204215557923]"
      ]
     },
     "execution_count": 45,
     "metadata": {},
     "output_type": "execute_result"
    }
   ],
   "source": [
    "final_preds=predictions_final.select('prediction').collect()\n",
    "final_preds_list=[i.prediction for i in final_preds]\n",
    "final_preds_list[0:10]"
   ]
  },
  {
   "cell_type": "code",
   "execution_count": 53,
   "metadata": {
    "collapsed": false
   },
   "outputs": [
    {
     "data": {
      "text/html": [
       "<div>\n",
       "<table border=\"1\" class=\"dataframe\">\n",
       "  <thead>\n",
       "    <tr style=\"text-align: right;\">\n",
       "      <th></th>\n",
       "      <th>average_household_income</th>\n",
       "      <th>gini_index</th>\n",
       "      <th>heating_fuel_coal_coke</th>\n",
       "      <th>heating_fuel_electricity</th>\n",
       "      <th>heating_fuel_fuel_oil_kerosene</th>\n",
       "      <th>heating_fuel_gas</th>\n",
       "      <th>heating_fuel_housing_unit_count</th>\n",
       "      <th>heating_fuel_none</th>\n",
       "      <th>heating_fuel_other</th>\n",
       "      <th>heating_fuel_solar</th>\n",
       "      <th>...</th>\n",
       "      <th>net_metering</th>\n",
       "      <th>feedin_tariff</th>\n",
       "      <th>cooperate_tax</th>\n",
       "      <th>property_tax</th>\n",
       "      <th>sales_tax</th>\n",
       "      <th>rebate</th>\n",
       "      <th>avg_electricity_retail_rate</th>\n",
       "      <th>number_of_solar_system_per_household</th>\n",
       "      <th>fips</th>\n",
       "      <th>predicted_solar</th>\n",
       "    </tr>\n",
       "  </thead>\n",
       "  <tbody>\n",
       "    <tr>\n",
       "      <th>0</th>\n",
       "      <td>70352.789869</td>\n",
       "      <td>0.3490</td>\n",
       "      <td>200</td>\n",
       "      <td>448</td>\n",
       "      <td>98</td>\n",
       "      <td>1720</td>\n",
       "      <td>2527</td>\n",
       "      <td>10</td>\n",
       "      <td>51</td>\n",
       "      <td>0</td>\n",
       "      <td>...</td>\n",
       "      <td>34</td>\n",
       "      <td>0</td>\n",
       "      <td>0</td>\n",
       "      <td>25</td>\n",
       "      <td>12</td>\n",
       "      <td>0</td>\n",
       "      <td>9.46</td>\n",
       "      <td>0.000000</td>\n",
       "      <td>27145011200</td>\n",
       "      <td>0.002132</td>\n",
       "    </tr>\n",
       "    <tr>\n",
       "      <th>1</th>\n",
       "      <td>61727.085202</td>\n",
       "      <td>0.4074</td>\n",
       "      <td>20</td>\n",
       "      <td>379</td>\n",
       "      <td>17</td>\n",
       "      <td>1799</td>\n",
       "      <td>2230</td>\n",
       "      <td>0</td>\n",
       "      <td>15</td>\n",
       "      <td>0</td>\n",
       "      <td>...</td>\n",
       "      <td>34</td>\n",
       "      <td>0</td>\n",
       "      <td>0</td>\n",
       "      <td>25</td>\n",
       "      <td>12</td>\n",
       "      <td>0</td>\n",
       "      <td>9.46</td>\n",
       "      <td>0.006726</td>\n",
       "      <td>27145011301</td>\n",
       "      <td>0.002179</td>\n",
       "    </tr>\n",
       "    <tr>\n",
       "      <th>2</th>\n",
       "      <td>71496.886583</td>\n",
       "      <td>0.3926</td>\n",
       "      <td>69</td>\n",
       "      <td>440</td>\n",
       "      <td>45</td>\n",
       "      <td>2098</td>\n",
       "      <td>2698</td>\n",
       "      <td>29</td>\n",
       "      <td>17</td>\n",
       "      <td>0</td>\n",
       "      <td>...</td>\n",
       "      <td>34</td>\n",
       "      <td>0</td>\n",
       "      <td>0</td>\n",
       "      <td>25</td>\n",
       "      <td>12</td>\n",
       "      <td>0</td>\n",
       "      <td>9.46</td>\n",
       "      <td>0.001112</td>\n",
       "      <td>27145011302</td>\n",
       "      <td>0.002068</td>\n",
       "    </tr>\n",
       "    <tr>\n",
       "      <th>3</th>\n",
       "      <td>86840.152755</td>\n",
       "      <td>0.3949</td>\n",
       "      <td>188</td>\n",
       "      <td>442</td>\n",
       "      <td>61</td>\n",
       "      <td>1113</td>\n",
       "      <td>1833</td>\n",
       "      <td>13</td>\n",
       "      <td>16</td>\n",
       "      <td>0</td>\n",
       "      <td>...</td>\n",
       "      <td>34</td>\n",
       "      <td>0</td>\n",
       "      <td>0</td>\n",
       "      <td>25</td>\n",
       "      <td>12</td>\n",
       "      <td>0</td>\n",
       "      <td>9.46</td>\n",
       "      <td>0.000000</td>\n",
       "      <td>27145011304</td>\n",
       "      <td>0.003110</td>\n",
       "    </tr>\n",
       "    <tr>\n",
       "      <th>4</th>\n",
       "      <td>89135.315597</td>\n",
       "      <td>0.4463</td>\n",
       "      <td>96</td>\n",
       "      <td>497</td>\n",
       "      <td>47</td>\n",
       "      <td>1202</td>\n",
       "      <td>1917</td>\n",
       "      <td>31</td>\n",
       "      <td>44</td>\n",
       "      <td>0</td>\n",
       "      <td>...</td>\n",
       "      <td>34</td>\n",
       "      <td>0</td>\n",
       "      <td>0</td>\n",
       "      <td>25</td>\n",
       "      <td>12</td>\n",
       "      <td>0</td>\n",
       "      <td>9.46</td>\n",
       "      <td>0.002087</td>\n",
       "      <td>27145011400</td>\n",
       "      <td>0.002646</td>\n",
       "    </tr>\n",
       "    <tr>\n",
       "      <th>5</th>\n",
       "      <td>62225.903614</td>\n",
       "      <td>0.3847</td>\n",
       "      <td>72</td>\n",
       "      <td>759</td>\n",
       "      <td>81</td>\n",
       "      <td>1695</td>\n",
       "      <td>2656</td>\n",
       "      <td>45</td>\n",
       "      <td>4</td>\n",
       "      <td>0</td>\n",
       "      <td>...</td>\n",
       "      <td>34</td>\n",
       "      <td>0</td>\n",
       "      <td>0</td>\n",
       "      <td>25</td>\n",
       "      <td>12</td>\n",
       "      <td>0</td>\n",
       "      <td>9.46</td>\n",
       "      <td>0.000000</td>\n",
       "      <td>27145011500</td>\n",
       "      <td>0.002053</td>\n",
       "    </tr>\n",
       "    <tr>\n",
       "      <th>6</th>\n",
       "      <td>41068.936170</td>\n",
       "      <td>0.7166</td>\n",
       "      <td>3</td>\n",
       "      <td>222</td>\n",
       "      <td>5</td>\n",
       "      <td>193</td>\n",
       "      <td>470</td>\n",
       "      <td>16</td>\n",
       "      <td>31</td>\n",
       "      <td>0</td>\n",
       "      <td>...</td>\n",
       "      <td>34</td>\n",
       "      <td>0</td>\n",
       "      <td>0</td>\n",
       "      <td>25</td>\n",
       "      <td>12</td>\n",
       "      <td>0</td>\n",
       "      <td>9.46</td>\n",
       "      <td>0.004255</td>\n",
       "      <td>27145011600</td>\n",
       "      <td>0.003449</td>\n",
       "    </tr>\n",
       "    <tr>\n",
       "      <th>7</th>\n",
       "      <td>74073.833671</td>\n",
       "      <td>0.4317</td>\n",
       "      <td>108</td>\n",
       "      <td>382</td>\n",
       "      <td>190</td>\n",
       "      <td>783</td>\n",
       "      <td>1479</td>\n",
       "      <td>3</td>\n",
       "      <td>13</td>\n",
       "      <td>0</td>\n",
       "      <td>...</td>\n",
       "      <td>34</td>\n",
       "      <td>0</td>\n",
       "      <td>0</td>\n",
       "      <td>25</td>\n",
       "      <td>12</td>\n",
       "      <td>0</td>\n",
       "      <td>9.46</td>\n",
       "      <td>0.000000</td>\n",
       "      <td>27145010500</td>\n",
       "      <td>0.002053</td>\n",
       "    </tr>\n",
       "    <tr>\n",
       "      <th>8</th>\n",
       "      <td>69412.192435</td>\n",
       "      <td>0.3824</td>\n",
       "      <td>241</td>\n",
       "      <td>534</td>\n",
       "      <td>156</td>\n",
       "      <td>1735</td>\n",
       "      <td>2723</td>\n",
       "      <td>20</td>\n",
       "      <td>37</td>\n",
       "      <td>0</td>\n",
       "      <td>...</td>\n",
       "      <td>34</td>\n",
       "      <td>0</td>\n",
       "      <td>0</td>\n",
       "      <td>25</td>\n",
       "      <td>12</td>\n",
       "      <td>0</td>\n",
       "      <td>9.46</td>\n",
       "      <td>0.000000</td>\n",
       "      <td>27145011100</td>\n",
       "      <td>0.002068</td>\n",
       "    </tr>\n",
       "    <tr>\n",
       "      <th>9</th>\n",
       "      <td>82502.407069</td>\n",
       "      <td>0.3588</td>\n",
       "      <td>18</td>\n",
       "      <td>734</td>\n",
       "      <td>27</td>\n",
       "      <td>2419</td>\n",
       "      <td>3282</td>\n",
       "      <td>29</td>\n",
       "      <td>55</td>\n",
       "      <td>0</td>\n",
       "      <td>...</td>\n",
       "      <td>34</td>\n",
       "      <td>0</td>\n",
       "      <td>0</td>\n",
       "      <td>25</td>\n",
       "      <td>12</td>\n",
       "      <td>0</td>\n",
       "      <td>9.46</td>\n",
       "      <td>0.002742</td>\n",
       "      <td>27145010102</td>\n",
       "      <td>0.002285</td>\n",
       "    </tr>\n",
       "  </tbody>\n",
       "</table>\n",
       "<p>10 rows × 100 columns</p>\n",
       "</div>"
      ],
      "text/plain": [
       "   average_household_income  gini_index  heating_fuel_coal_coke  \\\n",
       "0              70352.789869      0.3490                     200   \n",
       "1              61727.085202      0.4074                      20   \n",
       "2              71496.886583      0.3926                      69   \n",
       "3              86840.152755      0.3949                     188   \n",
       "4              89135.315597      0.4463                      96   \n",
       "5              62225.903614      0.3847                      72   \n",
       "6              41068.936170      0.7166                       3   \n",
       "7              74073.833671      0.4317                     108   \n",
       "8              69412.192435      0.3824                     241   \n",
       "9              82502.407069      0.3588                      18   \n",
       "\n",
       "   heating_fuel_electricity  heating_fuel_fuel_oil_kerosene  heating_fuel_gas  \\\n",
       "0                       448                              98              1720   \n",
       "1                       379                              17              1799   \n",
       "2                       440                              45              2098   \n",
       "3                       442                              61              1113   \n",
       "4                       497                              47              1202   \n",
       "5                       759                              81              1695   \n",
       "6                       222                               5               193   \n",
       "7                       382                             190               783   \n",
       "8                       534                             156              1735   \n",
       "9                       734                              27              2419   \n",
       "\n",
       "   heating_fuel_housing_unit_count  heating_fuel_none  heating_fuel_other  \\\n",
       "0                             2527                 10                  51   \n",
       "1                             2230                  0                  15   \n",
       "2                             2698                 29                  17   \n",
       "3                             1833                 13                  16   \n",
       "4                             1917                 31                  44   \n",
       "5                             2656                 45                   4   \n",
       "6                              470                 16                  31   \n",
       "7                             1479                  3                  13   \n",
       "8                             2723                 20                  37   \n",
       "9                             3282                 29                  55   \n",
       "\n",
       "   heating_fuel_solar       ...         net_metering  feedin_tariff  \\\n",
       "0                   0       ...                   34              0   \n",
       "1                   0       ...                   34              0   \n",
       "2                   0       ...                   34              0   \n",
       "3                   0       ...                   34              0   \n",
       "4                   0       ...                   34              0   \n",
       "5                   0       ...                   34              0   \n",
       "6                   0       ...                   34              0   \n",
       "7                   0       ...                   34              0   \n",
       "8                   0       ...                   34              0   \n",
       "9                   0       ...                   34              0   \n",
       "\n",
       "   cooperate_tax  property_tax  sales_tax  rebate  \\\n",
       "0              0            25         12       0   \n",
       "1              0            25         12       0   \n",
       "2              0            25         12       0   \n",
       "3              0            25         12       0   \n",
       "4              0            25         12       0   \n",
       "5              0            25         12       0   \n",
       "6              0            25         12       0   \n",
       "7              0            25         12       0   \n",
       "8              0            25         12       0   \n",
       "9              0            25         12       0   \n",
       "\n",
       "   avg_electricity_retail_rate  number_of_solar_system_per_household  \\\n",
       "0                         9.46                              0.000000   \n",
       "1                         9.46                              0.006726   \n",
       "2                         9.46                              0.001112   \n",
       "3                         9.46                              0.000000   \n",
       "4                         9.46                              0.002087   \n",
       "5                         9.46                              0.000000   \n",
       "6                         9.46                              0.004255   \n",
       "7                         9.46                              0.000000   \n",
       "8                         9.46                              0.000000   \n",
       "9                         9.46                              0.002742   \n",
       "\n",
       "          fips  predicted_solar  \n",
       "0  27145011200         0.002132  \n",
       "1  27145011301         0.002179  \n",
       "2  27145011302         0.002068  \n",
       "3  27145011304         0.003110  \n",
       "4  27145011400         0.002646  \n",
       "5  27145011500         0.002053  \n",
       "6  27145011600         0.003449  \n",
       "7  27145010500         0.002053  \n",
       "8  27145011100         0.002068  \n",
       "9  27145010102         0.002285  \n",
       "\n",
       "[10 rows x 100 columns]"
      ]
     },
     "execution_count": 53,
     "metadata": {},
     "output_type": "execute_result"
    }
   ],
   "source": [
    "#Set infinity and blank spaces to NaN in independent variables, set infinite to N/A in dependent variable\n",
    "solar_full=solar[features].replace([np.inf,' '],np.nan)\n",
    "solar_full['number_of_solar_system_per_household']=solar['number_of_solar_system_per_household'].replace(np.inf,np.nan)\n",
    "solar_full['fips']=solar['fips']\n",
    "solar_full=solar_full.loc[np.isfinite(solar_full['number_of_solar_system_per_household'])]\n",
    "solar_full=solar_full.assign(predicted_solar=final_preds_list)\n",
    "solar_full.head(10)"
   ]
  },
  {
   "cell_type": "code",
   "execution_count": 56,
   "metadata": {
    "collapsed": false
   },
   "outputs": [
    {
     "data": {
      "text/html": [
       "<div>\n",
       "<table border=\"1\" class=\"dataframe\">\n",
       "  <thead>\n",
       "    <tr style=\"text-align: right;\">\n",
       "      <th></th>\n",
       "      <th>number_of_solar_system_per_household</th>\n",
       "      <th>average_household_income</th>\n",
       "      <th>gini_index</th>\n",
       "      <th>heating_fuel_coal_coke</th>\n",
       "      <th>heating_fuel_electricity</th>\n",
       "      <th>heating_fuel_fuel_oil_kerosene</th>\n",
       "      <th>heating_fuel_gas</th>\n",
       "      <th>heating_fuel_housing_unit_count</th>\n",
       "      <th>heating_fuel_none</th>\n",
       "      <th>heating_fuel_other</th>\n",
       "      <th>...</th>\n",
       "      <th>diversity</th>\n",
       "      <th>net_metering</th>\n",
       "      <th>feedin_tariff</th>\n",
       "      <th>cooperate_tax</th>\n",
       "      <th>property_tax</th>\n",
       "      <th>sales_tax</th>\n",
       "      <th>rebate</th>\n",
       "      <th>avg_electricity_retail_rate</th>\n",
       "      <th>fips</th>\n",
       "      <th>predicted_solar</th>\n",
       "    </tr>\n",
       "  </thead>\n",
       "  <tbody>\n",
       "    <tr>\n",
       "      <th>0</th>\n",
       "      <td>0.000000</td>\n",
       "      <td>70352.789869</td>\n",
       "      <td>0.3490</td>\n",
       "      <td>200</td>\n",
       "      <td>448</td>\n",
       "      <td>98</td>\n",
       "      <td>1720</td>\n",
       "      <td>2527</td>\n",
       "      <td>10</td>\n",
       "      <td>51</td>\n",
       "      <td>...</td>\n",
       "      <td>0.046960</td>\n",
       "      <td>34</td>\n",
       "      <td>0</td>\n",
       "      <td>0</td>\n",
       "      <td>25</td>\n",
       "      <td>12</td>\n",
       "      <td>0</td>\n",
       "      <td>9.46</td>\n",
       "      <td>27145011200</td>\n",
       "      <td>0.002132</td>\n",
       "    </tr>\n",
       "    <tr>\n",
       "      <th>1</th>\n",
       "      <td>0.006726</td>\n",
       "      <td>61727.085202</td>\n",
       "      <td>0.4074</td>\n",
       "      <td>20</td>\n",
       "      <td>379</td>\n",
       "      <td>17</td>\n",
       "      <td>1799</td>\n",
       "      <td>2230</td>\n",
       "      <td>0</td>\n",
       "      <td>15</td>\n",
       "      <td>...</td>\n",
       "      <td>0.145934</td>\n",
       "      <td>34</td>\n",
       "      <td>0</td>\n",
       "      <td>0</td>\n",
       "      <td>25</td>\n",
       "      <td>12</td>\n",
       "      <td>0</td>\n",
       "      <td>9.46</td>\n",
       "      <td>27145011301</td>\n",
       "      <td>0.002179</td>\n",
       "    </tr>\n",
       "    <tr>\n",
       "      <th>2</th>\n",
       "      <td>0.001112</td>\n",
       "      <td>71496.886583</td>\n",
       "      <td>0.3926</td>\n",
       "      <td>69</td>\n",
       "      <td>440</td>\n",
       "      <td>45</td>\n",
       "      <td>2098</td>\n",
       "      <td>2698</td>\n",
       "      <td>29</td>\n",
       "      <td>17</td>\n",
       "      <td>...</td>\n",
       "      <td>0.009150</td>\n",
       "      <td>34</td>\n",
       "      <td>0</td>\n",
       "      <td>0</td>\n",
       "      <td>25</td>\n",
       "      <td>12</td>\n",
       "      <td>0</td>\n",
       "      <td>9.46</td>\n",
       "      <td>27145011302</td>\n",
       "      <td>0.002068</td>\n",
       "    </tr>\n",
       "    <tr>\n",
       "      <th>3</th>\n",
       "      <td>0.000000</td>\n",
       "      <td>86840.152755</td>\n",
       "      <td>0.3949</td>\n",
       "      <td>188</td>\n",
       "      <td>442</td>\n",
       "      <td>61</td>\n",
       "      <td>1113</td>\n",
       "      <td>1833</td>\n",
       "      <td>13</td>\n",
       "      <td>16</td>\n",
       "      <td>...</td>\n",
       "      <td>0.187334</td>\n",
       "      <td>34</td>\n",
       "      <td>0</td>\n",
       "      <td>0</td>\n",
       "      <td>25</td>\n",
       "      <td>12</td>\n",
       "      <td>0</td>\n",
       "      <td>9.46</td>\n",
       "      <td>27145011304</td>\n",
       "      <td>0.003110</td>\n",
       "    </tr>\n",
       "    <tr>\n",
       "      <th>4</th>\n",
       "      <td>0.002087</td>\n",
       "      <td>89135.315597</td>\n",
       "      <td>0.4463</td>\n",
       "      <td>96</td>\n",
       "      <td>497</td>\n",
       "      <td>47</td>\n",
       "      <td>1202</td>\n",
       "      <td>1917</td>\n",
       "      <td>31</td>\n",
       "      <td>44</td>\n",
       "      <td>...</td>\n",
       "      <td>0.090766</td>\n",
       "      <td>34</td>\n",
       "      <td>0</td>\n",
       "      <td>0</td>\n",
       "      <td>25</td>\n",
       "      <td>12</td>\n",
       "      <td>0</td>\n",
       "      <td>9.46</td>\n",
       "      <td>27145011400</td>\n",
       "      <td>0.002646</td>\n",
       "    </tr>\n",
       "    <tr>\n",
       "      <th>5</th>\n",
       "      <td>0.000000</td>\n",
       "      <td>62225.903614</td>\n",
       "      <td>0.3847</td>\n",
       "      <td>72</td>\n",
       "      <td>759</td>\n",
       "      <td>81</td>\n",
       "      <td>1695</td>\n",
       "      <td>2656</td>\n",
       "      <td>45</td>\n",
       "      <td>4</td>\n",
       "      <td>...</td>\n",
       "      <td>0.081981</td>\n",
       "      <td>34</td>\n",
       "      <td>0</td>\n",
       "      <td>0</td>\n",
       "      <td>25</td>\n",
       "      <td>12</td>\n",
       "      <td>0</td>\n",
       "      <td>9.46</td>\n",
       "      <td>27145011500</td>\n",
       "      <td>0.002053</td>\n",
       "    </tr>\n",
       "    <tr>\n",
       "      <th>6</th>\n",
       "      <td>0.004255</td>\n",
       "      <td>41068.936170</td>\n",
       "      <td>0.7166</td>\n",
       "      <td>3</td>\n",
       "      <td>222</td>\n",
       "      <td>5</td>\n",
       "      <td>193</td>\n",
       "      <td>470</td>\n",
       "      <td>16</td>\n",
       "      <td>31</td>\n",
       "      <td>...</td>\n",
       "      <td>0.470443</td>\n",
       "      <td>34</td>\n",
       "      <td>0</td>\n",
       "      <td>0</td>\n",
       "      <td>25</td>\n",
       "      <td>12</td>\n",
       "      <td>0</td>\n",
       "      <td>9.46</td>\n",
       "      <td>27145011600</td>\n",
       "      <td>0.003449</td>\n",
       "    </tr>\n",
       "    <tr>\n",
       "      <th>7</th>\n",
       "      <td>0.000000</td>\n",
       "      <td>74073.833671</td>\n",
       "      <td>0.4317</td>\n",
       "      <td>108</td>\n",
       "      <td>382</td>\n",
       "      <td>190</td>\n",
       "      <td>783</td>\n",
       "      <td>1479</td>\n",
       "      <td>3</td>\n",
       "      <td>13</td>\n",
       "      <td>...</td>\n",
       "      <td>0.008239</td>\n",
       "      <td>34</td>\n",
       "      <td>0</td>\n",
       "      <td>0</td>\n",
       "      <td>25</td>\n",
       "      <td>12</td>\n",
       "      <td>0</td>\n",
       "      <td>9.46</td>\n",
       "      <td>27145010500</td>\n",
       "      <td>0.002053</td>\n",
       "    </tr>\n",
       "    <tr>\n",
       "      <th>8</th>\n",
       "      <td>0.000000</td>\n",
       "      <td>69412.192435</td>\n",
       "      <td>0.3824</td>\n",
       "      <td>241</td>\n",
       "      <td>534</td>\n",
       "      <td>156</td>\n",
       "      <td>1735</td>\n",
       "      <td>2723</td>\n",
       "      <td>20</td>\n",
       "      <td>37</td>\n",
       "      <td>...</td>\n",
       "      <td>0.029574</td>\n",
       "      <td>34</td>\n",
       "      <td>0</td>\n",
       "      <td>0</td>\n",
       "      <td>25</td>\n",
       "      <td>12</td>\n",
       "      <td>0</td>\n",
       "      <td>9.46</td>\n",
       "      <td>27145011100</td>\n",
       "      <td>0.002068</td>\n",
       "    </tr>\n",
       "    <tr>\n",
       "      <th>9</th>\n",
       "      <td>0.002742</td>\n",
       "      <td>82502.407069</td>\n",
       "      <td>0.3588</td>\n",
       "      <td>18</td>\n",
       "      <td>734</td>\n",
       "      <td>27</td>\n",
       "      <td>2419</td>\n",
       "      <td>3282</td>\n",
       "      <td>29</td>\n",
       "      <td>55</td>\n",
       "      <td>...</td>\n",
       "      <td>0.120052</td>\n",
       "      <td>34</td>\n",
       "      <td>0</td>\n",
       "      <td>0</td>\n",
       "      <td>25</td>\n",
       "      <td>12</td>\n",
       "      <td>0</td>\n",
       "      <td>9.46</td>\n",
       "      <td>27145010102</td>\n",
       "      <td>0.002285</td>\n",
       "    </tr>\n",
       "  </tbody>\n",
       "</table>\n",
       "<p>10 rows × 100 columns</p>\n",
       "</div>"
      ],
      "text/plain": [
       "   number_of_solar_system_per_household  average_household_income  gini_index  \\\n",
       "0                              0.000000              70352.789869      0.3490   \n",
       "1                              0.006726              61727.085202      0.4074   \n",
       "2                              0.001112              71496.886583      0.3926   \n",
       "3                              0.000000              86840.152755      0.3949   \n",
       "4                              0.002087              89135.315597      0.4463   \n",
       "5                              0.000000              62225.903614      0.3847   \n",
       "6                              0.004255              41068.936170      0.7166   \n",
       "7                              0.000000              74073.833671      0.4317   \n",
       "8                              0.000000              69412.192435      0.3824   \n",
       "9                              0.002742              82502.407069      0.3588   \n",
       "\n",
       "   heating_fuel_coal_coke  heating_fuel_electricity  \\\n",
       "0                     200                       448   \n",
       "1                      20                       379   \n",
       "2                      69                       440   \n",
       "3                     188                       442   \n",
       "4                      96                       497   \n",
       "5                      72                       759   \n",
       "6                       3                       222   \n",
       "7                     108                       382   \n",
       "8                     241                       534   \n",
       "9                      18                       734   \n",
       "\n",
       "   heating_fuel_fuel_oil_kerosene  heating_fuel_gas  \\\n",
       "0                              98              1720   \n",
       "1                              17              1799   \n",
       "2                              45              2098   \n",
       "3                              61              1113   \n",
       "4                              47              1202   \n",
       "5                              81              1695   \n",
       "6                               5               193   \n",
       "7                             190               783   \n",
       "8                             156              1735   \n",
       "9                              27              2419   \n",
       "\n",
       "   heating_fuel_housing_unit_count  heating_fuel_none  heating_fuel_other  \\\n",
       "0                             2527                 10                  51   \n",
       "1                             2230                  0                  15   \n",
       "2                             2698                 29                  17   \n",
       "3                             1833                 13                  16   \n",
       "4                             1917                 31                  44   \n",
       "5                             2656                 45                   4   \n",
       "6                              470                 16                  31   \n",
       "7                             1479                  3                  13   \n",
       "8                             2723                 20                  37   \n",
       "9                             3282                 29                  55   \n",
       "\n",
       "        ...         diversity  net_metering  feedin_tariff  cooperate_tax  \\\n",
       "0       ...          0.046960            34              0              0   \n",
       "1       ...          0.145934            34              0              0   \n",
       "2       ...          0.009150            34              0              0   \n",
       "3       ...          0.187334            34              0              0   \n",
       "4       ...          0.090766            34              0              0   \n",
       "5       ...          0.081981            34              0              0   \n",
       "6       ...          0.470443            34              0              0   \n",
       "7       ...          0.008239            34              0              0   \n",
       "8       ...          0.029574            34              0              0   \n",
       "9       ...          0.120052            34              0              0   \n",
       "\n",
       "   property_tax  sales_tax  rebate  avg_electricity_retail_rate         fips  \\\n",
       "0            25         12       0                         9.46  27145011200   \n",
       "1            25         12       0                         9.46  27145011301   \n",
       "2            25         12       0                         9.46  27145011302   \n",
       "3            25         12       0                         9.46  27145011304   \n",
       "4            25         12       0                         9.46  27145011400   \n",
       "5            25         12       0                         9.46  27145011500   \n",
       "6            25         12       0                         9.46  27145011600   \n",
       "7            25         12       0                         9.46  27145010500   \n",
       "8            25         12       0                         9.46  27145011100   \n",
       "9            25         12       0                         9.46  27145010102   \n",
       "\n",
       "   predicted_solar  \n",
       "0         0.002132  \n",
       "1         0.002179  \n",
       "2         0.002068  \n",
       "3         0.003110  \n",
       "4         0.002646  \n",
       "5         0.002053  \n",
       "6         0.003449  \n",
       "7         0.002053  \n",
       "8         0.002068  \n",
       "9         0.002285  \n",
       "\n",
       "[10 rows x 100 columns]"
      ]
     },
     "execution_count": 56,
     "metadata": {},
     "output_type": "execute_result"
    }
   ],
   "source": [
    "relevant_fields=['number_of_solar_system_per_household']+features+['fips']\n",
    "final_frame=pd.merge(solar[relevant_fields],solar_full[['fips','predicted_solar']],on=['fips'],how='left')\n",
    "final_frame.head(10)"
   ]
  },
  {
   "cell_type": "code",
   "execution_count": 58,
   "metadata": {
    "collapsed": false
   },
   "outputs": [],
   "source": [
    "final_frame.to_csv('baseline_model_predictions.csv')"
   ]
  },
  {
   "cell_type": "code",
   "execution_count": null,
   "metadata": {
    "collapsed": true
   },
   "outputs": [],
   "source": []
  }
 ],
 "metadata": {
  "anaconda-cloud": {},
  "kernelspec": {
   "display_name": "Python [Root]",
   "language": "python",
   "name": "Python [Root]"
  },
  "language_info": {
   "codemirror_mode": {
    "name": "ipython",
    "version": 3
   },
   "file_extension": ".py",
   "mimetype": "text/x-python",
   "name": "python",
   "nbconvert_exporter": "python",
   "pygments_lexer": "ipython3",
   "version": "3.5.2"
  }
 },
 "nbformat": 4,
 "nbformat_minor": 0
}
