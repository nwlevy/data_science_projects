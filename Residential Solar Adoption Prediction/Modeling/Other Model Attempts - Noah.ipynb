{
 "cells": [
  {
   "cell_type": "markdown",
   "metadata": {},
   "source": [
    "# Neural Network"
   ]
  },
  {
   "cell_type": "code",
   "execution_count": 35,
   "metadata": {},
   "outputs": [],
   "source": [
    "from keras.callbacks import ModelCheckpoint\n",
    "from keras.models import Sequential\n",
    "from keras.layers import Dense, Activation, Flatten\n",
    "from sklearn.model_selection import train_test_split\n",
    "from sklearn.metrics import mean_absolute_error \n",
    "import keras.optimizers\n",
    "from matplotlib import pyplot as plt\n",
    "import seaborn as sb\n",
    "import matplotlib.pyplot as plt\n",
    "import pandas as pd\n",
    "import numpy as np\n",
    "from sklearn.metrics import r2_score\n",
    "import warnings \n",
    "from sklearn.model_selection import KFold\n",
    "warnings.filterwarnings('ignore')\n",
    "warnings.filterwarnings('ignore', category=DeprecationWarning)"
   ]
  },
  {
   "cell_type": "markdown",
   "metadata": {},
   "source": [
    "### Read the Data"
   ]
  },
  {
   "cell_type": "code",
   "execution_count": 9,
   "metadata": {
    "collapsed": true
   },
   "outputs": [],
   "source": [
    "deepsolar_curated=pd.read_csv('../SharedDatasets/deepsolar_LW2.csv',encoding = \"ISO-8859-1\",index_col=0)"
   ]
  },
  {
   "cell_type": "code",
   "execution_count": 10,
   "metadata": {},
   "outputs": [
    {
     "data": {
      "text/plain": [
       "(71305, 60)"
      ]
     },
     "execution_count": 10,
     "metadata": {},
     "output_type": "execute_result"
    }
   ],
   "source": [
    "deepsolar_curated.shape"
   ]
  },
  {
   "cell_type": "code",
   "execution_count": 11,
   "metadata": {},
   "outputs": [
    {
     "data": {
      "text/plain": [
       "Index(['population_density', 'education_less_than_high_school_rate',\n",
       "       'education_high_school_graduate_rate', 'education_college_rate',\n",
       "       'education_bachelor_rate', 'education_master_rate', 'race_white_rate',\n",
       "       'race_black_africa_rate', 'race_other_rate', 'race_two_more_rate',\n",
       "       'poverty_family_below_poverty_level_rate', 'heating_fuel_gas_rate',\n",
       "       'heating_fuel_electricity_rate', 'heating_fuel_fuel_oil_kerosene_rate',\n",
       "       'heating_fuel_coal_coke_rate', 'heating_fuel_solar_rate',\n",
       "       'heating_fuel_none_rate', 'median_household_income',\n",
       "       'electricity_consume_residential', 'average_household_size',\n",
       "       'housing_unit_median_gross_rent', 'lat', 'lon', 'frost_days',\n",
       "       'relative_humidity', 'daily_solar_radiation', 'wind_speed',\n",
       "       'age_18_24_rate', 'age_35_44_rate', 'age_45_54_rate', 'age_65_74_rate',\n",
       "       'age_55_64_rate', 'household_type_family_rate',\n",
       "       'occupation_information_rate', 'occupation_education_rate',\n",
       "       'occupation_wholesale_rate', 'occupation_transportation_rate',\n",
       "       'occupation_arts_rate', 'occupancy_vacant_rate', 'occupancy_owner_rate',\n",
       "       'mortgage_with_rate', 'transportation_carpool_rate',\n",
       "       'transportation_public_rate', 'travel_time_10_19_rate',\n",
       "       'travel_time_30_39_rate', 'travel_time_40_59_rate',\n",
       "       'travel_time_60_89_rate', 'health_insurance_none_rate',\n",
       "       'voting_2016_dem_percentage', 'voting_2012_dem_win',\n",
       "       'incentive_count_residential', 'incentive_residential_state_level',\n",
       "       'net_metering', 'feedin_tariff', 'cooperate_tax', 'property_tax',\n",
       "       'sales_tax', 'rebate', 'avg_electricity_retail_rate',\n",
       "       'number_of_solar_system_per_household'],\n",
       "      dtype='object')"
      ]
     },
     "execution_count": 11,
     "metadata": {},
     "output_type": "execute_result"
    }
   ],
   "source": [
    "deepsolar_curated.columns"
   ]
  },
  {
   "cell_type": "markdown",
   "metadata": {},
   "source": [
    "## Split into Training/Test/Validation Sets"
   ]
  },
  {
   "cell_type": "code",
   "execution_count": 20,
   "metadata": {},
   "outputs": [
    {
     "name": "stdout",
     "output_type": "stream",
     "text": [
      "Training data shape:               \t(45635, 59)\n",
      "Training outcome variable - classifier:\t(45635,)\n",
      "Training outcome variable - regressor:\t(45635,)\n",
      "Dev data shape:                    \t(11409, 59)\n",
      "Dev outcome variable - classifier: \t(11409,)\n",
      "Dev outcome variable - regressor:  \t(11409,)\n",
      "Test data shape:                   \t(14261, 59)\n",
      "Test outcome variable - classifier:\t(14261,)\n",
      "Test outcome variable - regressor: \t(14261,)\n"
     ]
    }
   ],
   "source": [
    "# Build Model\n",
    "deepsolar=deepsolar_curated.copy()\n",
    "deepsolar['solar_flag']=deepsolar['number_of_solar_system_per_household'].apply(lambda x: int(x>0))\n",
    "Y_classifier = deepsolar['solar_flag'].values\n",
    "Y_regressor = deepsolar['number_of_solar_system_per_household'].values\n",
    "X = deepsolar.drop(labels=['solar_flag', 'number_of_solar_system_per_household'], axis=1).values\n",
    "# set a random seed to keep the split the same \n",
    "np.random.seed(0)\n",
    "\n",
    "# shuffle data\n",
    "shuffle = np.random.permutation(np.arange(X.shape[0]))\n",
    "X = X[shuffle]\n",
    "Y_classifier = Y_classifier[shuffle]\n",
    "Y_regressor = Y_regressor[shuffle]\n",
    "\n",
    "# split data and labels into test set and initial training set\n",
    "n_train = int(0.8*X.shape[0])\n",
    "X_train1 = X[:n_train,:]\n",
    "X_test = X[n_train:,:]\n",
    "Y_classifier_train1 = Y_classifier[:n_train]\n",
    "Y_classifier_test = Y_classifier[n_train:]\n",
    "Y_regressor_train1 = Y_regressor[:n_train]\n",
    "Y_regressor_test = Y_regressor[n_train:]\n",
    "\n",
    "# split training data and labels into training and development sets\n",
    "n_train = int(0.8*X_train1.shape[0])\n",
    "X_train = X_train1[:n_train,:]\n",
    "X_dev = X_train1[n_train:,:]\n",
    "Y_classifier_train = Y_classifier_train1[:n_train]\n",
    "#X_train_r=X_train[Y_classifier_train>0]\n",
    "Y_classifier_dev = Y_classifier_train1[n_train:]\n",
    "Y_regressor_train = Y_regressor_train1[:n_train]\n",
    "#Y_regressor_train_r=Y_regressor_train[Y_classifier_train>0]\n",
    "Y_regressor_dev = Y_regressor_train1[n_train:]\n",
    "\n",
    "print(\"{:<35}\\t{}\".format(\"Training data shape:\", X_train.shape))\n",
    "print(\"{:<35}\\t{}\".format(\"Training outcome variable - classifier:\",Y_classifier_train.shape ))\n",
    "print(\"{:<35}\\t{}\".format(\"Training outcome variable - regressor:\",Y_regressor_train.shape ))\n",
    "print(\"{:<35}\\t{}\".format(\"Dev data shape:\", X_dev.shape))\n",
    "print(\"{:<35}\\t{}\".format(\"Dev outcome variable - classifier:\",Y_classifier_dev.shape ))\n",
    "print(\"{:<35}\\t{}\".format(\"Dev outcome variable - regressor:\",Y_regressor_dev.shape ))\n",
    "print(\"{:<35}\\t{}\".format(\"Test data shape:\", X_test.shape))\n",
    "print(\"{:<35}\\t{}\".format(\"Test outcome variable - classifier:\",Y_classifier_test.shape ))\n",
    "print(\"{:<35}\\t{}\".format(\"Test outcome variable - regressor:\",Y_regressor_test.shape ))"
   ]
  },
  {
   "cell_type": "markdown",
   "metadata": {},
   "source": [
    "### Build/Train the Model"
   ]
  },
  {
   "cell_type": "code",
   "execution_count": 44,
   "metadata": {},
   "outputs": [
    {
     "name": "stdout",
     "output_type": "stream",
     "text": [
      "_________________________________________________________________\n",
      "Layer (type)                 Output Shape              Param #   \n",
      "=================================================================\n",
      "dense_80 (Dense)             (None, 59)                3540      \n",
      "_________________________________________________________________\n",
      "dense_81 (Dense)             (None, 59)                3540      \n",
      "_________________________________________________________________\n",
      "dense_82 (Dense)             (None, 59)                3540      \n",
      "_________________________________________________________________\n",
      "dense_83 (Dense)             (None, 59)                3540      \n",
      "_________________________________________________________________\n",
      "dense_84 (Dense)             (None, 1)                 60        \n",
      "=================================================================\n",
      "Total params: 14,220\n",
      "Trainable params: 14,220\n",
      "Non-trainable params: 0\n",
      "_________________________________________________________________\n"
     ]
    }
   ],
   "source": [
    "NN_model = Sequential()\n",
    "#adam=keras.optimizers.Adam(lr=0.001, beta_1=0.9, beta_2=0.999, epsilon=None, decay=0.0, amsgrad=False)\n",
    "\n",
    "# The Input Layer :\n",
    "NN_model.add(Dense(59, kernel_initializer='normal',input_dim = X_train.shape[1], activation='relu'))\n",
    "\n",
    "# The Hidden Layers :\n",
    "NN_model.add(Dense(59, kernel_initializer='normal',activation='relu'))\n",
    "NN_model.add(Dense(59, kernel_initializer='normal',activation='relu'))\n",
    "NN_model.add(Dense(59, kernel_initializer='normal',activation='relu'))\n",
    "#NN_model.add(Dense(59, kernel_initializer='normal',activation='relu'))\n",
    "#NN_model.add(Dense(59, kernel_initializer='normal',activation='relu'))\n",
    "\n",
    "# The Output Layer :\n",
    "NN_model.add(Dense(1, kernel_initializer='normal',activation='relu'))\n",
    "\n",
    "# Compile the network :\n",
    "NN_model.compile(loss='mean_absolute_error', optimizer='adam', metrics=['mean_absolute_error'])\n",
    "NN_model.summary()"
   ]
  },
  {
   "cell_type": "code",
   "execution_count": 45,
   "metadata": {},
   "outputs": [
    {
     "name": "stdout",
     "output_type": "stream",
     "text": [
      "Train on 45635 samples, validate on 11409 samples\n",
      "Epoch 1/50\n",
      "45635/45635 [==============================] - 2s 38us/step - loss: 0.0075 - mean_absolute_error: 0.0075 - val_loss: 0.0060 - val_mean_absolute_error: 0.0060\n",
      "Epoch 2/50\n",
      "45635/45635 [==============================] - 1s 12us/step - loss: 0.0060 - mean_absolute_error: 0.0060 - val_loss: 0.0057 - val_mean_absolute_error: 0.0057\n",
      "Epoch 3/50\n",
      "45635/45635 [==============================] - 1s 12us/step - loss: 0.0058 - mean_absolute_error: 0.0058 - val_loss: 0.0054 - val_mean_absolute_error: 0.0054\n",
      "Epoch 4/50\n",
      "45635/45635 [==============================] - 1s 12us/step - loss: 0.0056 - mean_absolute_error: 0.0056 - val_loss: 0.0053 - val_mean_absolute_error: 0.0053\n",
      "Epoch 5/50\n",
      "45635/45635 [==============================] - 1s 12us/step - loss: 0.0055 - mean_absolute_error: 0.0055 - val_loss: 0.0052 - val_mean_absolute_error: 0.0052\n",
      "Epoch 6/50\n",
      "45635/45635 [==============================] - 1s 11us/step - loss: 0.0053 - mean_absolute_error: 0.0053 - val_loss: 0.0053 - val_mean_absolute_error: 0.0053\n",
      "Epoch 7/50\n",
      "45635/45635 [==============================] - 1s 11us/step - loss: 0.0054 - mean_absolute_error: 0.0054 - val_loss: 0.0051 - val_mean_absolute_error: 0.0051\n",
      "Epoch 8/50\n",
      "45635/45635 [==============================] - 1s 12us/step - loss: 0.0052 - mean_absolute_error: 0.0052 - val_loss: 0.0051 - val_mean_absolute_error: 0.0051\n",
      "Epoch 9/50\n",
      "45635/45635 [==============================] - 1s 13us/step - loss: 0.0052 - mean_absolute_error: 0.0052 - val_loss: 0.0050 - val_mean_absolute_error: 0.0050\n",
      "Epoch 10/50\n",
      "45635/45635 [==============================] - 1s 11us/step - loss: 0.0051 - mean_absolute_error: 0.0051 - val_loss: 0.0050 - val_mean_absolute_error: 0.0050\n",
      "Epoch 11/50\n",
      "45635/45635 [==============================] - 1s 12us/step - loss: 0.0051 - mean_absolute_error: 0.0051 - val_loss: 0.0049 - val_mean_absolute_error: 0.0049\n",
      "Epoch 12/50\n",
      "45635/45635 [==============================] - 1s 14us/step - loss: 0.0050 - mean_absolute_error: 0.0050 - val_loss: 0.0051 - val_mean_absolute_error: 0.0051\n",
      "Epoch 13/50\n",
      "45635/45635 [==============================] - 1s 11us/step - loss: 0.0049 - mean_absolute_error: 0.0049 - val_loss: 0.0049 - val_mean_absolute_error: 0.0049\n",
      "Epoch 14/50\n",
      "45635/45635 [==============================] - 1s 13us/step - loss: 0.0050 - mean_absolute_error: 0.0050 - val_loss: 0.0049 - val_mean_absolute_error: 0.0049\n",
      "Epoch 15/50\n",
      "45635/45635 [==============================] - 1s 12us/step - loss: 0.0049 - mean_absolute_error: 0.0049 - val_loss: 0.0051 - val_mean_absolute_error: 0.0051\n",
      "Epoch 16/50\n",
      "45635/45635 [==============================] - 1s 12us/step - loss: 0.0049 - mean_absolute_error: 0.0049 - val_loss: 0.0048 - val_mean_absolute_error: 0.0048\n",
      "Epoch 17/50\n",
      "45635/45635 [==============================] - 1s 12us/step - loss: 0.0048 - mean_absolute_error: 0.0048 - val_loss: 0.0048 - val_mean_absolute_error: 0.0048\n",
      "Epoch 18/50\n",
      "45635/45635 [==============================] - 1s 12us/step - loss: 0.0048 - mean_absolute_error: 0.0048 - val_loss: 0.0048 - val_mean_absolute_error: 0.0048\n",
      "Epoch 19/50\n",
      "45635/45635 [==============================] - 1s 13us/step - loss: 0.0048 - mean_absolute_error: 0.0048 - val_loss: 0.0048 - val_mean_absolute_error: 0.0048\n",
      "Epoch 20/50\n",
      "45635/45635 [==============================] - 1s 11us/step - loss: 0.0047 - mean_absolute_error: 0.0047 - val_loss: 0.0048 - val_mean_absolute_error: 0.0048\n",
      "Epoch 21/50\n",
      "45635/45635 [==============================] - 1s 12us/step - loss: 0.0047 - mean_absolute_error: 0.0047 - val_loss: 0.0047 - val_mean_absolute_error: 0.0047\n",
      "Epoch 22/50\n",
      "45635/45635 [==============================] - 1s 12us/step - loss: 0.0047 - mean_absolute_error: 0.0047 - val_loss: 0.0049 - val_mean_absolute_error: 0.0049\n",
      "Epoch 23/50\n",
      "45635/45635 [==============================] - 1s 13us/step - loss: 0.0046 - mean_absolute_error: 0.0046 - val_loss: 0.0048 - val_mean_absolute_error: 0.0048\n",
      "Epoch 24/50\n",
      "45635/45635 [==============================] - 1s 13us/step - loss: 0.0046 - mean_absolute_error: 0.0046 - val_loss: 0.0048 - val_mean_absolute_error: 0.0048\n",
      "Epoch 25/50\n",
      "45635/45635 [==============================] - 1s 11us/step - loss: 0.0046 - mean_absolute_error: 0.0046 - val_loss: 0.0047 - val_mean_absolute_error: 0.0047\n",
      "Epoch 26/50\n",
      "45635/45635 [==============================] - 1s 11us/step - loss: 0.0046 - mean_absolute_error: 0.0046 - val_loss: 0.0053 - val_mean_absolute_error: 0.0053\n",
      "Epoch 27/50\n",
      "45635/45635 [==============================] - 1s 12us/step - loss: 0.0046 - mean_absolute_error: 0.0046 - val_loss: 0.0047 - val_mean_absolute_error: 0.0047\n",
      "Epoch 28/50\n",
      "45635/45635 [==============================] - 1s 12us/step - loss: 0.0045 - mean_absolute_error: 0.0045 - val_loss: 0.0048 - val_mean_absolute_error: 0.0048\n",
      "Epoch 29/50\n",
      "45635/45635 [==============================] - 1s 12us/step - loss: 0.0045 - mean_absolute_error: 0.0045 - val_loss: 0.0048 - val_mean_absolute_error: 0.0048\n",
      "Epoch 30/50\n",
      "45635/45635 [==============================] - 1s 11us/step - loss: 0.0045 - mean_absolute_error: 0.0045 - val_loss: 0.0047 - val_mean_absolute_error: 0.0047\n",
      "Epoch 31/50\n",
      "45635/45635 [==============================] - 1s 13us/step - loss: 0.0044 - mean_absolute_error: 0.0044 - val_loss: 0.0047 - val_mean_absolute_error: 0.0047\n",
      "Epoch 32/50\n",
      "45635/45635 [==============================] - 1s 12us/step - loss: 0.0045 - mean_absolute_error: 0.0045 - val_loss: 0.0048 - val_mean_absolute_error: 0.0048\n",
      "Epoch 33/50\n",
      "45635/45635 [==============================] - 1s 12us/step - loss: 0.0044 - mean_absolute_error: 0.0044 - val_loss: 0.0047 - val_mean_absolute_error: 0.0047\n",
      "Epoch 34/50\n",
      "45635/45635 [==============================] - 1s 12us/step - loss: 0.0045 - mean_absolute_error: 0.0045 - val_loss: 0.0048 - val_mean_absolute_error: 0.0048\n",
      "Epoch 35/50\n",
      "45635/45635 [==============================] - 1s 12us/step - loss: 0.0044 - mean_absolute_error: 0.0044 - val_loss: 0.0049 - val_mean_absolute_error: 0.0049\n",
      "Epoch 36/50\n",
      "45635/45635 [==============================] - 1s 11us/step - loss: 0.0044 - mean_absolute_error: 0.0044 - val_loss: 0.0047 - val_mean_absolute_error: 0.0047\n",
      "Epoch 37/50\n",
      "45635/45635 [==============================] - 1s 11us/step - loss: 0.0043 - mean_absolute_error: 0.0043 - val_loss: 0.0048 - val_mean_absolute_error: 0.0048\n",
      "Epoch 38/50\n",
      "45635/45635 [==============================] - 1s 13us/step - loss: 0.0043 - mean_absolute_error: 0.0043 - val_loss: 0.0046 - val_mean_absolute_error: 0.0046\n",
      "Epoch 39/50\n",
      "45635/45635 [==============================] - 1s 12us/step - loss: 0.0043 - mean_absolute_error: 0.0043 - val_loss: 0.0047 - val_mean_absolute_error: 0.0047\n",
      "Epoch 40/50\n",
      "45635/45635 [==============================] - 1s 12us/step - loss: 0.0043 - mean_absolute_error: 0.0043 - val_loss: 0.0048 - val_mean_absolute_error: 0.0048\n",
      "Epoch 41/50\n",
      "45635/45635 [==============================] - 1s 13us/step - loss: 0.0043 - mean_absolute_error: 0.0043 - val_loss: 0.0046 - val_mean_absolute_error: 0.0046\n",
      "Epoch 42/50\n",
      "45635/45635 [==============================] - 1s 13us/step - loss: 0.0042 - mean_absolute_error: 0.0042 - val_loss: 0.0047 - val_mean_absolute_error: 0.0047\n",
      "Epoch 43/50\n",
      "45635/45635 [==============================] - 1s 12us/step - loss: 0.0043 - mean_absolute_error: 0.0043 - val_loss: 0.0047 - val_mean_absolute_error: 0.0047\n",
      "Epoch 44/50\n",
      "45635/45635 [==============================] - 1s 12us/step - loss: 0.0042 - mean_absolute_error: 0.0042 - val_loss: 0.0048 - val_mean_absolute_error: 0.0048\n",
      "Epoch 45/50\n",
      "45635/45635 [==============================] - 1s 12us/step - loss: 0.0042 - mean_absolute_error: 0.0042 - val_loss: 0.0048 - val_mean_absolute_error: 0.0048\n",
      "Epoch 46/50\n",
      "45635/45635 [==============================] - 1s 14us/step - loss: 0.0042 - mean_absolute_error: 0.0042 - val_loss: 0.0048 - val_mean_absolute_error: 0.0048\n",
      "Epoch 47/50\n",
      "45635/45635 [==============================] - 1s 12us/step - loss: 0.0042 - mean_absolute_error: 0.0042 - val_loss: 0.0047 - val_mean_absolute_error: 0.0047\n",
      "Epoch 48/50\n",
      "45635/45635 [==============================] - 1s 12us/step - loss: 0.0042 - mean_absolute_error: 0.0042 - val_loss: 0.0047 - val_mean_absolute_error: 0.0047\n"
     ]
    },
    {
     "name": "stdout",
     "output_type": "stream",
     "text": [
      "Epoch 49/50\n",
      "45635/45635 [==============================] - 1s 12us/step - loss: 0.0042 - mean_absolute_error: 0.0042 - val_loss: 0.0047 - val_mean_absolute_error: 0.0047\n",
      "Epoch 50/50\n",
      "45635/45635 [==============================] - 1s 11us/step - loss: 0.0041 - mean_absolute_error: 0.0041 - val_loss: 0.0048 - val_mean_absolute_error: 0.0048\n"
     ]
    },
    {
     "data": {
      "text/plain": [
       "<keras.callbacks.History at 0x1c371e86d30>"
      ]
     },
     "execution_count": 45,
     "metadata": {},
     "output_type": "execute_result"
    }
   ],
   "source": [
    "NN_model.fit(X_train1,Y_regressor_train1, epochs=50, batch_size=500, validation_split = 0.2)"
   ]
  },
  {
   "cell_type": "markdown",
   "metadata": {},
   "source": [
    "### Assess Predictions on Test Set"
   ]
  },
  {
   "cell_type": "code",
   "execution_count": 46,
   "metadata": {
    "collapsed": true
   },
   "outputs": [],
   "source": [
    "predictions=NN_model.predict(X_test)"
   ]
  },
  {
   "cell_type": "code",
   "execution_count": 47,
   "metadata": {},
   "outputs": [
    {
     "data": {
      "text/plain": [
       "0.714563644739935"
      ]
     },
     "execution_count": 47,
     "metadata": {},
     "output_type": "execute_result"
    }
   ],
   "source": [
    "r2_score(Y_regressor_test,predictions)"
   ]
  },
  {
   "cell_type": "markdown",
   "metadata": {},
   "source": [
    "### Try 10-Fold Validation"
   ]
  },
  {
   "cell_type": "code",
   "execution_count": 72,
   "metadata": {
    "collapsed": true
   },
   "outputs": [],
   "source": [
    "folds=KFold(n_splits=3, random_state=None, shuffle=True)\n",
    "X_trains=[]\n",
    "X_devs=[]\n",
    "yr_trains=[]\n",
    "yr_devs=[]\n",
    "\n",
    "for train_index, dev_index in folds.split(X_train1):\n",
    "\n",
    "    X_trains.append(X_train1[train_index])\n",
    "    X_devs.append(X_train1[dev_index])\n",
    "    yr_trains.append(Y_regressor_train1[train_index])\n",
    "    yr_devs.append(Y_regressor_train1[dev_index])\n",
    "    \n",
    "r2s=[]\n",
    "\n",
    "layer_size=59\n",
    "\n",
    "for i in range(len(X_trains)):\n",
    "    NN_model = Sequential()\n",
    "    NN_model.add(Dense(layer_size, kernel_initializer='normal',input_dim = X_train.shape[1], activation='relu'))\n",
    "    NN_model.add(Dense(layer_size, kernel_initializer='normal',activation='relu'))\n",
    "    NN_model.add(Dense(layer_size, kernel_initializer='normal',activation='relu'))\n",
    "    NN_model.add(Dense(layer_size, kernel_initializer='normal',activation='relu'))\n",
    "    NN_model.add(Dense(layer_size, kernel_initializer='normal',activation='relu'))\n",
    "    #NN_model.add(Dense(layer_size, kernel_initializer='normal',activation='relu'))\n",
    "    NN_model.add(Dense(1, kernel_initializer='normal',activation='relu'))\n",
    "    NN_model.compile(loss='mean_absolute_error', optimizer='adam', metrics=['mean_absolute_error'])\n",
    "    NN_model.fit(X_trains[i],yr_trains[i], epochs=50, batch_size=500,verbose=0)\n",
    "    dev_preds=NN_model.predict(X_devs[i])\n",
    "    r2s.append(r2_score(yr_devs[i],dev_preds))\n",
    "    \n",
    "    \n",
    "    "
   ]
  },
  {
   "cell_type": "code",
   "execution_count": 73,
   "metadata": {},
   "outputs": [
    {
     "data": {
      "text/plain": [
       "[0.6413270510948, 0.6930624220808366, -0.153651698498932]"
      ]
     },
     "execution_count": 73,
     "metadata": {},
     "output_type": "execute_result"
    }
   ],
   "source": [
    "r2s"
   ]
  },
  {
   "cell_type": "code",
   "execution_count": 68,
   "metadata": {},
   "outputs": [
    {
     "data": {
      "text/plain": [
       "0.6652407181487541"
      ]
     },
     "execution_count": 68,
     "metadata": {},
     "output_type": "execute_result"
    }
   ],
   "source": [
    "np.mean(r2s)"
   ]
  },
  {
   "cell_type": "code",
   "execution_count": null,
   "metadata": {
    "collapsed": true
   },
   "outputs": [],
   "source": []
  }
 ],
 "metadata": {
  "kernelspec": {
   "display_name": "tensorflow",
   "language": "python",
   "name": "tensorflow"
  },
  "language_info": {
   "codemirror_mode": {
    "name": "ipython",
    "version": 3
   },
   "file_extension": ".py",
   "mimetype": "text/x-python",
   "name": "python",
   "nbconvert_exporter": "python",
   "pygments_lexer": "ipython3",
   "version": "3.6.3"
  }
 },
 "nbformat": 4,
 "nbformat_minor": 2
}
