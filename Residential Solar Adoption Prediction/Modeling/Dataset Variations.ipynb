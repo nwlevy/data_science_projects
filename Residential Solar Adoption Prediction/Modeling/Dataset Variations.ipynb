{
 "cells": [
  {
   "cell_type": "markdown",
   "metadata": {},
   "source": [
    "# Predicting Solar Panel Adoption - Dataset Variations\n",
    "#### UC Berkeley MIDS\n",
    "`Team: Gabriel Hudson, Noah Levy, Laura Williams`"
   ]
  },
  {
   "cell_type": "markdown",
   "metadata": {},
   "source": [
    "This notebook includes only the code used to create two dataset variations used to train models to compare to our final model.  For more information about the final dataset, see the \"Data Set Up - Laura\" notebook and the \"Feature Selection with L1 Regularization\" notebook.\n",
    "\n",
    "This notebook starts with a public dataset from Stanford's DeepSolar team, available here:  \n",
    "http://web.stanford.edu/group/deepsolar/home  \n",
    "\n",
    "The two dataset variations created in this notebook are:  \n",
    "1) A dataset with the original outcome variable used by the DeepSolar team\n",
    "2) A dataset with our modified outcome variable but with latitude and longitude removed"
   ]
  },
  {
   "cell_type": "code",
   "execution_count": 1,
   "metadata": {
    "collapsed": true
   },
   "outputs": [],
   "source": [
    "# imports\n",
    "import pandas as pd\n",
    "import numpy as np\n",
    "from sklearn import preprocessing"
   ]
  },
  {
   "cell_type": "markdown",
   "metadata": {},
   "source": [
    "## Load dataset"
   ]
  },
  {
   "cell_type": "code",
   "execution_count": 2,
   "metadata": {
    "collapsed": true
   },
   "outputs": [],
   "source": [
    "# load full dataset, using FIPS number as index\n",
    "deepsolar_original = pd.read_csv('../deepsolar_tract.csv', index_col=4, encoding='ISO-8859-1')\n",
    "# remove unused indexing variable at position 0\n",
    "deepsolar_original.drop(labels='Unnamed: 0', axis=1, inplace=True)"
   ]
  },
  {
   "cell_type": "code",
   "execution_count": 3,
   "metadata": {},
   "outputs": [
    {
     "name": "stdout",
     "output_type": "stream",
     "text": [
      "Dataset rows and dimensions after indexing: (72537, 167)\n"
     ]
    }
   ],
   "source": [
    "# print dataset shape\n",
    "original_shape = deepsolar_original.shape\n",
    "print(\"Dataset rows and dimensions after indexing:\", original_shape)"
   ]
  },
  {
   "cell_type": "markdown",
   "metadata": {},
   "source": [
    "## Remove datapoints"
   ]
  },
  {
   "cell_type": "code",
   "execution_count": 4,
   "metadata": {},
   "outputs": [
    {
     "name": "stdout",
     "output_type": "stream",
     "text": [
      "Dataset shape after removing population counts of less than or equal to 100: (71828, 167)\n"
     ]
    }
   ],
   "source": [
    "# remove census tracts with population under 100 from the dataset\n",
    "deepsolar_curated = deepsolar_original[deepsolar_original['population'] >= 100]\n",
    "print(\"Dataset shape after removing population counts of less than or equal to 100:\", \\\n",
    "      deepsolar_curated.shape)"
   ]
  },
  {
   "cell_type": "code",
   "execution_count": 5,
   "metadata": {},
   "outputs": [
    {
     "name": "stdout",
     "output_type": "stream",
     "text": [
      "Dataset shape after removing household counts less than or equal to 100: (71482, 167)\n"
     ]
    }
   ],
   "source": [
    "# remove census tracts with household count under 100 from the dataset\n",
    "deepsolar_curated = deepsolar_curated[deepsolar_curated['household_count'] >= 100]\n",
    "print(\"Dataset shape after removing household counts less than or equal to 100:\", \\\n",
    "      deepsolar_curated.shape)"
   ]
  },
  {
   "cell_type": "code",
   "execution_count": 6,
   "metadata": {
    "collapsed": true
   },
   "outputs": [],
   "source": [
    "# Create variable to calculate water percentage of each census tract\n",
    "deepsolar_curated['water_percent'] = deepsolar_curated['water_area']/deepsolar_curated['total_area']"
   ]
  },
  {
   "cell_type": "code",
   "execution_count": 7,
   "metadata": {},
   "outputs": [
    {
     "name": "stdout",
     "output_type": "stream",
     "text": [
      "Dataset shape after removing census tracts more than 75% water: (71305, 168)\n"
     ]
    }
   ],
   "source": [
    "# remove census tracts more than 75% water from the dataset\n",
    "deepsolar_curated = deepsolar_curated[deepsolar_curated['water_percent'] < 0.75]\n",
    "print(\"Dataset shape after removing census tracts more than 75% water:\", \\\n",
    "      deepsolar_curated.shape)"
   ]
  },
  {
   "cell_type": "code",
   "execution_count": 8,
   "metadata": {},
   "outputs": [
    {
     "data": {
      "text/plain": [
       "(71305, 165)"
      ]
     },
     "execution_count": 8,
     "metadata": {},
     "output_type": "execute_result"
    }
   ],
   "source": [
    "# remove the three area variables that contribute to the water_percent variable\n",
    "deepsolar_curated.drop(labels='land_area', axis=1, inplace=True)\n",
    "deepsolar_curated.drop(labels='water_area', axis=1, inplace=True)\n",
    "deepsolar_curated.drop(labels='total_area', axis=1, inplace=True)\n",
    "deepsolar_curated.shape"
   ]
  },
  {
   "cell_type": "code",
   "execution_count": 9,
   "metadata": {},
   "outputs": [
    {
     "name": "stdout",
     "output_type": "stream",
     "text": [
      "Percentage of datapoints remaining in the curated dataset compared to the original is: 98.3%\n"
     ]
    }
   ],
   "source": [
    "print(\"Percentage of datapoints remaining in the curated dataset compared to the original is: \"+ \\\n",
    "       str(round((deepsolar_curated.shape[0]/deepsolar_original.shape[0])*100, 2)) + \"%\")"
   ]
  },
  {
   "cell_type": "markdown",
   "metadata": {},
   "source": [
    "## Define outcome variable"
   ]
  },
  {
   "cell_type": "code",
   "execution_count": 10,
   "metadata": {
    "collapsed": true
   },
   "outputs": [],
   "source": [
    "# multiple owner occupied rate times current outcome variable\n",
    "deepsolar_curated['owner_occupied_solar_system_density'] = deepsolar_curated['occupancy_owner_rate']* \\\n",
    "                                                           deepsolar_curated['number_of_solar_system_per_household']\n",
    "outcome_var = 'owner_occupied_solar_system_density'"
   ]
  },
  {
   "cell_type": "code",
   "execution_count": 11,
   "metadata": {},
   "outputs": [
    {
     "data": {
      "text/plain": [
       "(71305, 164)"
      ]
     },
     "execution_count": 11,
     "metadata": {},
     "output_type": "execute_result"
    }
   ],
   "source": [
    "# remove the previously used outcome variable and the occupancy owner rate variable\n",
    "deepsolar_curated.drop(labels=['occupancy_owner_rate', 'number_of_solar_system_per_household'], \n",
    "                       axis=1, inplace=True)\n",
    "deepsolar_curated.shape"
   ]
  },
  {
   "cell_type": "markdown",
   "metadata": {},
   "source": [
    "For one dataset variation, we're using the original outcome variable used by DeepSolar."
   ]
  },
  {
   "cell_type": "code",
   "execution_count": 10,
   "metadata": {
    "collapsed": true
   },
   "outputs": [],
   "source": [
    "# VARIATION\n",
    "# outcome_var = 'number_of_solar_system_per_household'"
   ]
  },
  {
   "cell_type": "markdown",
   "metadata": {},
   "source": [
    "## Remove variables"
   ]
  },
  {
   "cell_type": "code",
   "execution_count": 12,
   "metadata": {
    "collapsed": true
   },
   "outputs": [],
   "source": [
    "# extract variable names from header\n",
    "deepsolar_header = pd.read_csv('../deepsolar_tract.csv', encoding='ISO-8859-1', nrows=0.).columns.tolist()"
   ]
  },
  {
   "cell_type": "code",
   "execution_count": 13,
   "metadata": {
    "collapsed": true
   },
   "outputs": [],
   "source": [
    "# load all variables into a dictionary for curating a variable list\n",
    "variables_dict = {}\n",
    "for var in deepsolar_header:\n",
    "    variables_dict[var] = 1"
   ]
  },
  {
   "cell_type": "markdown",
   "metadata": {},
   "source": [
    "### Remove outcome variables"
   ]
  },
  {
   "cell_type": "code",
   "execution_count": 14,
   "metadata": {
    "collapsed": true
   },
   "outputs": [],
   "source": [
    "variables_dict['tile_count'] = 'Unused outcome variable: number of image tiles containing solar power system'\n",
    "variables_dict['solar_system_count'] = 'Unused outcome variable: number of solar power systems (after merging)'\n",
    "variables_dict['total_panel_area'] = 'Unused outcome variable: total area of solar panels (m^2)'\n",
    "variables_dict['solar_panel_area_divided_by_area'] = 'Unused outcome variable: \\\n",
    "    solar panel area divided by total area (m^2/mile^2)'\n",
    "variables_dict['solar_panel_area_per_capita'] = 'Unused outcome variable: \\\n",
    "    solar panel area per capita (m^2/capita)'\n",
    "variables_dict['tile_count_residential'] = 'number of image tiles containing residential solar power system'\n",
    "variables_dict['tile_count_nonresidential'] = 'Unused outcome variable: \\\n",
    "    number of image tiles containing non-residential solar power system'\n",
    "variables_dict['solar_system_count_residential'] = 'Unused outcome variable: \\\n",
    "    number of residential solar power systems (after merging)'\n",
    "variables_dict['solar_system_count_nonresidential'] = 'Unused outcome variable: \\\n",
    "    number of non-residential solar power systems (after merging)'\n",
    "variables_dict['total_panel_area_residential'] = 'Unused outcome variable: \\\n",
    "    total area of residential solar panels (m^2)'\n",
    "variables_dict['total_panel_area_nonresidential'] = 'Unused outcome variable: \\\n",
    "    total area of non-residential solar panels (m^2)'"
   ]
  },
  {
   "cell_type": "markdown",
   "metadata": {},
   "source": [
    "### Remove variables that were used to calculate other variables"
   ]
  },
  {
   "cell_type": "code",
   "execution_count": 15,
   "metadata": {
    "collapsed": true
   },
   "outputs": [],
   "source": [
    "variables_dict['education_population'] = 'Used for calculating eduation proportions'\n",
    "variables_dict['heating_fuel_housing_unit_count'] = 'Used for calculating heating proportions'\n",
    "variables_dict['population'] = 'Used for calculating population density'\n",
    "variables_dict['poverty_family_count'] = 'Used for calculating poverty level rate'\n",
    "variables_dict['household_count'] = 'Used for calculating other household proportions'\n",
    "variables_dict['housing_unit_count'] = 'Used for calculating other housing unit proportions'\n",
    "variables_dict['housing_unit_occupied_count'] = 'Used for calculating other occupancy rates'"
   ]
  },
  {
   "cell_type": "markdown",
   "metadata": {},
   "source": [
    "### Remove count variables"
   ]
  },
  {
   "cell_type": "code",
   "execution_count": 16,
   "metadata": {
    "collapsed": true
   },
   "outputs": [],
   "source": [
    "variables_dict['race_asian'] = 'Proportion recorded in another variable: race_asian_rate'\n",
    "variables_dict['race_black_africa'] = 'Proportion recorded in another variable: race_black_africa_rate'\n",
    "variables_dict['race_indian_alaska'] = 'Proportion recorded in another variable: race_indian_alaska_rate'\n",
    "variables_dict['race_islander'] = 'Proportion recorded in another variable: race_islander_rate'\n",
    "variables_dict['race_other'] = 'Proportion recorded in another variable: race_other_rate'\n",
    "variables_dict['race_two_more'] = 'Proportion recorded in another variable: race_two_more_rate'\n",
    "variables_dict['race_white'] = 'Proportion recorded in another variable: race_white_rate'\n",
    "variables_dict['unemployed'] = 'Proportion recorded in another variable: employ_rate'\n",
    "variables_dict['poverty_family_below_poverty_level'] = 'Proportion recorded in another variable: \\\n",
    "    poverty_family_below_poverty_level_rate'\n",
    "variables_dict['heating_fuel_none'] = 'Proportion recorded in another variable: heating_fuel_none_rate'\n",
    "variables_dict['heating_fuel_other'] = 'Proportion recorded in another variable: heating_fuel_other_rate'\n",
    "variables_dict['heating_fuel_solar'] = 'Proportion recorded in another variable: heating_fuel_solar_rate'\n",
    "variables_dict['education_professional_school'] = 'Proportion recorded in another variable: \\\n",
    "    education_professional_school_rate'\n",
    "variables_dict['employed'] = 'Proportion recorded in another variable: employ_rate'\n",
    "variables_dict['heating_fuel_coal_coke'] = 'Proportion recorded in another variable: heating_fuel_coal_coke_rate'\n",
    "variables_dict['heating_fuel_electricity'] = 'Proportion recorded in another variable: heating_fuel_electricity_rate'\n",
    "variables_dict['heating_fuel_fuel_oil_kerosene'] = 'Proportion recorded in another variable: \\\n",
    "    heating_fuel_fuel_oil_kerosene_rate'\n",
    "variables_dict['heating_fuel_gas'] = 'Proportion recorded in another variable: heating_fuel_gas_rate'\n",
    "variables_dict['education_bachelor'] = 'Proportion recorded in another variable: education_bachelor_rate'\n",
    "variables_dict['education_college'] = 'Proportion recorded in another variable: education_college_rate'\n",
    "variables_dict['education_doctoral'] = 'Proportion recorded in another variable: education_doctoral_rate'\n",
    "variables_dict['education_high_school_graduate'] = 'Proportion recorded in another variable: \\\n",
    "    education_high_school_graduate_rate'\n",
    "variables_dict['education_less_than_high_school'] = 'Proportion recorded in another variable: \\\n",
    "    education_less_than_high_school_rate'\n",
    "variables_dict['education_master'] = 'Proportion recorded in another variable: education_master_rate'"
   ]
  },
  {
   "cell_type": "markdown",
   "metadata": {},
   "source": [
    "### Remove variables highly correlated with another variable"
   ]
  },
  {
   "cell_type": "code",
   "execution_count": 17,
   "metadata": {
    "collapsed": true
   },
   "outputs": [],
   "source": [
    "variables_dict['earth_temperature'] = 'Positively correlated with lat'\n",
    "variables_dict['heating_degree_days'] = 'Positively correlated with lat'\n",
    "variables_dict['cooling_degree_days'] = 'Positively correlated with lat'\n",
    "# VARIATION\n",
    "# retain air_temperature when removing latitude\n",
    "#variables_dict['air_temperature'] = 'Positively correalted with lat'\n",
    "variables_dict['heating_design_temperature'] = 'Positively correlated with variables highly correlated with lat'\n",
    "variables_dict['voting_2012_dem_percentage'] = 'Positively correlated with voting_2016_dem_percentage'\n",
    "variables_dict['voting_2012_gop_percentage'] = 'Positively correlated with voting_2016_gop_percentage'\n",
    "variables_dict['voting_2016_gop_percentage'] = 'Negatively correalted with voting_2016_dem_percentage'"
   ]
  },
  {
   "cell_type": "markdown",
   "metadata": {},
   "source": [
    "### Remove electricity price, electricity consumption and incentive variables that are not explicitly residential"
   ]
  },
  {
   "cell_type": "code",
   "execution_count": 18,
   "metadata": {
    "collapsed": true
   },
   "outputs": [],
   "source": [
    "variables_dict['electricity_price_commercial'] = \"Retaining electricity_price_residential in dataset\"\n",
    "variables_dict['electricity_price_industrial'] = \"Retaining electricity_price_residential in dataset\"\n",
    "variables_dict['electricity_price_transportation'] = \"Retaining electricity_price_residential in dataset\"\n",
    "variables_dict['electricity_price_overall'] = \"Retaining electricity_price_residential in dataset\"\n",
    "variables_dict['electricity_consume_commercial'] = \"Retaining electricity_consume_residential in dataset\"\n",
    "variables_dict['electricity_consume_industrial'] = \"Retaining electricity_consume_residential in dataset\"\n",
    "variables_dict['electricity_consume_total'] = \"Retaining electricity_consume_residential in dataset\"\n",
    "variables_dict['incentive_count_nonresidential'] = \"Retaining incentive_count_residential in dataset\"\n",
    "variables_dict['incentive_nonresidential_state_level'] = \"Retaining incentive_residential_state_level in dataset\""
   ]
  },
  {
   "cell_type": "code",
   "execution_count": 19,
   "metadata": {},
   "outputs": [
    {
     "name": "stdout",
     "output_type": "stream",
     "text": [
      "Number of variables to be dropped: 58 \n",
      "\n",
      "After dropping variables, dataset should have 106 variables\n"
     ]
    }
   ],
   "source": [
    "# Convert variable dictionary to list\n",
    "drop_variables = []\n",
    "for key,val in variables_dict.items():\n",
    "    if val!=1:\n",
    "        drop_variables.append(key)\n",
    "dropped_var_number = len(drop_variables)\n",
    "print(\"Number of variables to be dropped:\", dropped_var_number, \"\\n\")\n",
    "print(\"After dropping variables, dataset should have\", original_shape[1]-3-dropped_var_number, \"variables\")"
   ]
  },
  {
   "cell_type": "code",
   "execution_count": 20,
   "metadata": {},
   "outputs": [
    {
     "name": "stdout",
     "output_type": "stream",
     "text": [
      "(71305, 106)\n"
     ]
    }
   ],
   "source": [
    "deepsolar_curated.drop(labels=drop_variables, axis=1, inplace=True)\n",
    "print(deepsolar_curated.shape)"
   ]
  },
  {
   "cell_type": "markdown",
   "metadata": {},
   "source": [
    "## Impute missing values"
   ]
  },
  {
   "cell_type": "code",
   "execution_count": 21,
   "metadata": {
    "collapsed": true
   },
   "outputs": [],
   "source": [
    "# remove air_temperature when removed above\n",
    "deepsolar_curated[['elevation', \n",
    "                  'daily_solar_radiation', \n",
    "                  'lat', \n",
    "                  'lon', \n",
    "                  'air_temperature',  # VARIATION\n",
    "                  'cooling_design_temperature',\n",
    "                  'earth_temperature_amplitude', \n",
    "                  'frost_days', \n",
    "                  'relative_humidity', \n",
    "                  'atmospheric_pressure', \n",
    "                  'wind_speed',\n",
    "                  'housing_unit_median_gross_rent',\n",
    "                  'housing_unit_median_value',\n",
    "                  'dropout_16_19_inschool_rate',\n",
    "                  'mortgage_with_rate',\n",
    "                  'median_household_income',\n",
    "                  'travel_time_average']] = deepsolar_curated.groupby(['state', 'county']) \\\n",
    "                                                              ['elevation',\n",
    "                                                               'daily_solar_radiation', \n",
    "                                                               'lat', \n",
    "                                                               'lon', \n",
    "                                                               'air_temperature', # VARIATION\n",
    "                                                               'cooling_design_temperature',\n",
    "                                                               'earth_temperature_amplitude', \n",
    "                                                               'frost_days', \n",
    "                                                               'relative_humidity', \n",
    "                                                               'atmospheric_pressure', \n",
    "                                                               'wind_speed',\n",
    "                                                               'housing_unit_median_gross_rent',\n",
    "                                                               'housing_unit_median_value',\n",
    "                                                               'dropout_16_19_inschool_rate',\n",
    "                                                               'mortgage_with_rate',\n",
    "                                                               'median_household_income',\n",
    "                                                               'travel_time_average'\n",
    "                                                                ] \\\n",
    "                                                               .transform(lambda x: x.fillna(x.median()))"
   ]
  },
  {
   "cell_type": "code",
   "execution_count": 22,
   "metadata": {},
   "outputs": [
    {
     "name": "stdout",
     "output_type": "stream",
     "text": [
      "earth_temperature_amplitude   \t11\n",
      "atmospheric_pressure          \t11\n",
      "lon                           \t11\n",
      "elevation                     \t11\n",
      "cooling_design_temperature    \t11\n",
      "frost_days                    \t11\n",
      "air_temperature               \t11\n",
      "relative_humidity             \t11\n",
      "daily_solar_radiation         \t11\n",
      "wind_speed                    \t11\n",
      "lat                           \t11\n",
      "housing_unit_median_gross_rent\t1\n",
      "housing_unit_median_value     \t1\n"
     ]
    }
   ],
   "source": [
    "# Confirm missing values have all been replaced\n",
    "missing_val_count = deepsolar_curated.isnull().sum().sort_values(ascending=False)\n",
    "for a,b, in missing_val_count.iteritems():\n",
    "    if b>0:\n",
    "        print(\"{:<30}\\t{}\".format(a,b))\n",
    "# No output means there is no remaining missing data"
   ]
  },
  {
   "cell_type": "markdown",
   "metadata": {},
   "source": [
    "Imputing values by county and state leaves a small remaining count of missing values. The national median is used to replace those remaining missing values."
   ]
  },
  {
   "cell_type": "code",
   "execution_count": 23,
   "metadata": {
    "collapsed": true
   },
   "outputs": [],
   "source": [
    "# fill in missing lat/lon and weather data with national medians\n",
    "# remove air_temperature if removed above\n",
    "deepsolar_curated['elevation']. \\\n",
    "    fillna(deepsolar_curated['elevation'].median(), inplace=True)\n",
    "deepsolar_curated['daily_solar_radiation']. \\\n",
    "    fillna(deepsolar_curated['daily_solar_radiation'].median(), inplace=True)\n",
    "deepsolar_curated['lat']. \\\n",
    "    fillna(deepsolar_curated['lat'].median(), inplace=True)\n",
    "deepsolar_curated['lon']. \\\n",
    "    fillna(deepsolar_curated['lon'].median(), inplace=True)\n",
    "# VARIATION\n",
    "deepsolar_curated['air_temperature']. \\\n",
    "    fillna(deepsolar_curated['air_temperature'].median(), inplace=True)\n",
    "deepsolar_curated['cooling_design_temperature']. \\\n",
    "    fillna(deepsolar_curated['cooling_design_temperature'].median(), inplace=True)\n",
    "deepsolar_curated['earth_temperature_amplitude']. \\\n",
    "    fillna(deepsolar_curated['earth_temperature_amplitude'].median(), inplace=True)\n",
    "deepsolar_curated['frost_days']. \\\n",
    "    fillna(deepsolar_curated['frost_days'].median(), inplace=True)\n",
    "deepsolar_curated['relative_humidity']. \\\n",
    "    fillna(deepsolar_curated['relative_humidity'].median(), inplace=True)\n",
    "deepsolar_curated['atmospheric_pressure']. \\\n",
    "    fillna(deepsolar_curated['atmospheric_pressure'].median(), inplace=True)\n",
    "deepsolar_curated['wind_speed']. \\\n",
    "    fillna(deepsolar_curated['wind_speed'].median(), inplace=True)\n",
    "deepsolar_curated['housing_unit_median_gross_rent']. \\\n",
    "    fillna(deepsolar_curated['housing_unit_median_gross_rent'].median(), inplace=True)\n",
    "deepsolar_curated['housing_unit_median_value']. \\\n",
    "    fillna(deepsolar_curated['housing_unit_median_value'].median(), inplace=True)\n",
    "deepsolar_curated['dropout_16_19_inschool_rate']. \\\n",
    "    fillna(deepsolar_curated['dropout_16_19_inschool_rate'].median(), inplace=True)\n",
    "deepsolar_curated['mortgage_with_rate']. \\\n",
    "    fillna(deepsolar_curated['mortgage_with_rate'].median(), inplace=True)\n",
    "deepsolar_curated['median_household_income']. \\\n",
    "    fillna(deepsolar_curated['median_household_income'].median(), inplace=True)\n",
    "deepsolar_curated['travel_time_average']. \\\n",
    "    fillna(deepsolar_curated['travel_time_average'].median(), inplace=True)"
   ]
  },
  {
   "cell_type": "code",
   "execution_count": 24,
   "metadata": {
    "collapsed": true
   },
   "outputs": [],
   "source": [
    "# Confirm missing values have all been replaced\n",
    "missing_val_count = deepsolar_curated.isnull().sum().sort_values(ascending=False)\n",
    "for a,b, in missing_val_count.iteritems():\n",
    "    if b>0:\n",
    "        print(\"{:<30}\\t{}\".format(a,b))\n",
    "# No output means there is no remaining missing data"
   ]
  },
  {
   "cell_type": "markdown",
   "metadata": {},
   "source": [
    "## Convert string variables (county and state) to numeric values"
   ]
  },
  {
   "cell_type": "code",
   "execution_count": 25,
   "metadata": {},
   "outputs": [
    {
     "name": "stdout",
     "output_type": "stream",
     "text": [
      "Confirm dataset shape has not changed after inspecting and modifying values: (71305, 106)\n"
     ]
    }
   ],
   "source": [
    "# Encode string features (county and state) into numeric features\n",
    "LE = preprocessing.LabelEncoder()\n",
    "\n",
    "LE.fit(deepsolar_curated['county'])\n",
    "deepsolar_curated['county'] = LE.transform(deepsolar_curated['county'])\n",
    "\n",
    "LE.fit(deepsolar_curated['state'])\n",
    "deepsolar_curated['state'] = LE.transform(deepsolar_curated['state'])\n",
    "\n",
    "print(\"Confirm dataset shape has not changed after inspecting and modifying values:\", deepsolar_curated.shape)"
   ]
  },
  {
   "cell_type": "markdown",
   "metadata": {},
   "source": [
    "## Normalize variables"
   ]
  },
  {
   "cell_type": "code",
   "execution_count": 26,
   "metadata": {},
   "outputs": [
    {
     "name": "stdout",
     "output_type": "stream",
     "text": [
      "Dataset shape after removing variables: (71305, 105)\n",
      "Dataset shape after adding variables back in: (71305, 106)\n"
     ]
    }
   ],
   "source": [
    "# normalize all variables except outcome variable\n",
    "# remove outcome variable so that only features are normalized\n",
    "deepsolar_final = deepsolar_curated.drop(labels=outcome_var, axis=1)\n",
    "print(\"Dataset shape after removing variables:\", deepsolar_final.shape)\n",
    "# normalize\n",
    "deepsolar_final = (deepsolar_final - deepsolar_final.mean())/(deepsolar_final.max() - deepsolar_final.min())\n",
    "# Add outcome variable back in from un-normalized dataset\n",
    "deepsolar_final[outcome_var] = deepsolar_curated[outcome_var]\n",
    "print(\"Dataset shape after adding variables back in:\", deepsolar_final.shape)"
   ]
  },
  {
   "cell_type": "markdown",
   "metadata": {},
   "source": [
    "## Remove geographic variables"
   ]
  },
  {
   "cell_type": "code",
   "execution_count": 27,
   "metadata": {},
   "outputs": [
    {
     "name": "stdout",
     "output_type": "stream",
     "text": [
      "(71305, 104)\n"
     ]
    }
   ],
   "source": [
    "# remove county and state variables\n",
    "geographic_vars = ['county', 'state']\n",
    "deepsolar_final.drop(labels=geographic_vars, axis=1, inplace=True)\n",
    "print(deepsolar_final.shape)"
   ]
  },
  {
   "cell_type": "markdown",
   "metadata": {},
   "source": [
    "## Remove variables based on L1 regularization linear model"
   ]
  },
  {
   "cell_type": "code",
   "execution_count": 28,
   "metadata": {},
   "outputs": [
    {
     "name": "stdout",
     "output_type": "stream",
     "text": [
      "(71305, 60)\n"
     ]
    }
   ],
   "source": [
    "feature_drop_list = ['average_household_income', 'gini_index', 'education_less_than_high_school_rate', \n",
    "                     'education_professional_school_rate', 'education_doctoral_rate', 'race_indian_alaska_rate', \n",
    "                     'race_islander_rate', 'employ_rate', 'heating_fuel_other_rate', 'electricity_price_residential', \n",
    "                     'housing_unit_median_value', 'elevation', 'cooling_design_temperature', 'atmospheric_pressure', \n",
    "                     'age_more_than_85_rate', 'age_45_54_rate', 'age_55_64_rate', 'age_15_17_rate', \n",
    "                     'occupation_public_rate', 'occupation_agriculture_rate', 'transportation_home_rate', \n",
    "                     'transportation_car_alone_rate', 'transportation_walk_rate', 'transportation_motorcycle_rate', \n",
    "                     'transportation_bicycle_rate', 'travel_time_less_than_10_rate', 'travel_time_40_59_rate', \n",
    "                     'health_insurance_public_rate', 'travel_time_average', 'number_of_years_of_education', \n",
    "                     'diversity', 'race_asian_rate', 'age_75_84_rate', 'age_10_14_rate', 'age_5_9_rate', \n",
    "                     'occupation_finance_rate', 'travel_time_30_39_rate', 'travel_time_60_89_rate', \n",
    "                     'voting_2016_dem_win', 'voting_2012_dem_win', 'race_white_rate', 'age_18_24_rate', \n",
    "                     'dropout_16_19_inschool_rate', 'occupation_manufacturing_rate']\n",
    "\n",
    "deepsolar_final.drop(labels=feature_drop_list, axis=1, inplace=True)\n",
    "print(deepsolar_final.shape)"
   ]
  },
  {
   "cell_type": "markdown",
   "metadata": {},
   "source": [
    "### Remove latitude and longitude to assess value of those variables to the model"
   ]
  },
  {
   "cell_type": "code",
   "execution_count": 29,
   "metadata": {},
   "outputs": [
    {
     "name": "stdout",
     "output_type": "stream",
     "text": [
      "(71305, 58)\n"
     ]
    }
   ],
   "source": [
    "# VARIATION\n",
    "deepsolar_final.drop(labels=['lat', 'lon'], axis=1, inplace=True)\n",
    "print(deepsolar_final.shape)"
   ]
  },
  {
   "cell_type": "markdown",
   "metadata": {},
   "source": [
    "## Print variables and save final dataset"
   ]
  },
  {
   "cell_type": "code",
   "execution_count": 30,
   "metadata": {},
   "outputs": [
    {
     "name": "stdout",
     "output_type": "stream",
     "text": [
      "There are 58 variables in the dataset:\n",
      "per_capita_income\n",
      "population_density\n",
      "education_high_school_graduate_rate\n",
      "education_college_rate\n",
      "education_bachelor_rate\n",
      "education_master_rate\n",
      "race_black_africa_rate\n",
      "race_other_rate\n",
      "race_two_more_rate\n",
      "poverty_family_below_poverty_level_rate\n",
      "heating_fuel_gas_rate\n",
      "heating_fuel_electricity_rate\n",
      "heating_fuel_fuel_oil_kerosene_rate\n",
      "heating_fuel_coal_coke_rate\n",
      "heating_fuel_solar_rate\n",
      "heating_fuel_none_rate\n",
      "median_household_income\n",
      "electricity_consume_residential\n",
      "average_household_size\n",
      "housing_unit_median_gross_rent\n",
      "earth_temperature_amplitude\n",
      "frost_days\n",
      "air_temperature\n",
      "relative_humidity\n",
      "daily_solar_radiation\n",
      "wind_speed\n",
      "age_25_34_rate\n",
      "age_35_44_rate\n",
      "age_65_74_rate\n",
      "household_type_family_rate\n",
      "occupation_construction_rate\n",
      "occupation_information_rate\n",
      "occupation_education_rate\n",
      "occupation_administrative_rate\n",
      "occupation_wholesale_rate\n",
      "occupation_retail_rate\n",
      "occupation_transportation_rate\n",
      "occupation_arts_rate\n",
      "occupancy_vacant_rate\n",
      "mortgage_with_rate\n",
      "transportation_carpool_rate\n",
      "transportation_public_rate\n",
      "travel_time_10_19_rate\n",
      "travel_time_20_29_rate\n",
      "health_insurance_none_rate\n",
      "age_median\n",
      "voting_2016_dem_percentage\n",
      "incentive_count_residential\n",
      "incentive_residential_state_level\n",
      "net_metering\n",
      "feedin_tariff\n",
      "cooperate_tax\n",
      "property_tax\n",
      "sales_tax\n",
      "rebate\n",
      "avg_electricity_retail_rate\n",
      "water_percent\n",
      "owner_occupied_solar_system_density\n"
     ]
    }
   ],
   "source": [
    "print(\"There are\", len(deepsolar_final.columns.values), \"variables in the dataset:\")\n",
    "for i in deepsolar_final.columns.values:\n",
    "    print(i)"
   ]
  },
  {
   "cell_type": "code",
   "execution_count": 31,
   "metadata": {
    "collapsed": true
   },
   "outputs": [],
   "source": [
    "# deepsolar_final.to_csv('../Datasets/SolarPrediction_Final_Dataset.csv')"
   ]
  },
  {
   "cell_type": "code",
   "execution_count": 29,
   "metadata": {
    "collapsed": true
   },
   "outputs": [],
   "source": [
    "# VARIATION\n",
    "# save dataset with original outcome varable\n",
    "deepsolar_final.to_csv('../Datasets/Final_OldOutcomeVar.csv')"
   ]
  },
  {
   "cell_type": "code",
   "execution_count": 32,
   "metadata": {
    "collapsed": true
   },
   "outputs": [],
   "source": [
    "# VARIATION\n",
    "# save dataset with latitude and longitude removed\n",
    "deepsolar_final.to_csv('../Datasets/Final_NoLatLon.csv')"
   ]
  },
  {
   "cell_type": "code",
   "execution_count": null,
   "metadata": {
    "collapsed": true
   },
   "outputs": [],
   "source": []
  }
 ],
 "metadata": {
  "kernelspec": {
   "display_name": "Python 3",
   "language": "python",
   "name": "python3"
  },
  "language_info": {
   "codemirror_mode": {
    "name": "ipython",
    "version": 3
   },
   "file_extension": ".py",
   "mimetype": "text/x-python",
   "name": "python",
   "nbconvert_exporter": "python",
   "pygments_lexer": "ipython3",
   "version": "3.6.1"
  }
 },
 "nbformat": 4,
 "nbformat_minor": 2
}
